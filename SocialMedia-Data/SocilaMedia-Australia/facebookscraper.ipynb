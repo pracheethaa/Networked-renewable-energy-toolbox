{
 "cells": [
  {
   "cell_type": "code",
   "execution_count": 7,
   "id": "fd017e31-6233-4f17-890f-a4c1eb42daae",
   "metadata": {},
   "outputs": [
    {
     "name": "stdin",
     "output_type": "stream",
     "text": [
      "Press Enter after solving the CAPTCHA... \n"
     ]
    },
    {
     "name": "stdout",
     "output_type": "stream",
     "text": [
      "Post 1: Refurbishing our coal plants to extend their working life, scrapping the renewable energy target and ramping up gas exploration is the simplest solution to Australia's power demands in the immediate years to come, writes SkyNews.com.au contributor Gideon Rozner.\n"
     ]
    },
    {
     "name": "stdin",
     "output_type": "stream",
     "text": [
      "Press Enter after opening the comments for the post... \n"
     ]
    },
    {
     "name": "stdout",
     "output_type": "stream",
     "text": [
      "Comments collected. You can now close the comments section.\n",
      "Comments:\n",
      "Now that is common sense and a logical choice..But unfortunately with an ALP government who worships the climate change cult religion there is absolutely NO hope of any common sense or logical thinking.\n",
      "We are so far from Renewable reliance, when Wind Turbines have to be \"Switched Off\" when the wind is too strong, and the Solar Energy Storage, is not able to sustain the Load for any significant time frame when the sun goes down.. Lets go Nuclear. It might cost more to build, but the Infrastructure is already in place, and it is Completely Clean and Reliable.!!!\n",
      "Germany who followed the climate change agenda to the letter are in an energy crisis. They are refurbishing  coal fired energy plant's considering continuing with nuclear plants!! renewables are not reliable and do not provide base load power.  Australia needs to take note .and stop implementing this climate change madness!!\n",
      "You can not shut one source of power until the other one is up and running and affordable prices for everyday families. It okay for the wealthy they won’t be affected and as for climate change if they think that we can change the weather  they are living in a dream ,as long asChina and India  do nothing the rest of the world are wasting their  time and causing suffering to their people \n",
      "Maybe when there are continuous black outs in Victoria and people are faced with continuing cost of power some of these lefty politicians will see the error of their ways.\n",
      "No hope with the climate change cult worshippers we have now. When the country has no power and is destitute, they’ll just blame the previous government/ China/ Russia. We need to build new coal fired power stations, stop selling all our coal cheap overseas then invest in nuclear power.\n",
      "The quickest simplest solution yes, but a long term reliable solution is nuclear.\n",
      "100% correct. But with crazies in power, this will never happen. In fact, the ideological fools have now started on coal mines by banning a Clive Palmer project.\n",
      "No, I think nuclear energy/ fusion is the most clean, efficient way forward. Nuclear energy needs to be part of the solution with Gas and clean coal. Solar and wind are not self sustainable, and unreliable for mass energy production, without impacting the environment.\n",
      "So very true and easy.. Albo is brain washed by climate change so I can not see him doing the one thing that will help us all to have more reliable cheaper power ..\n",
      "We are in for the biggest 'i told you so'! the world has ever seen. Get back in three years snowflakes.\n",
      "And can we expect a common sense and logical response from the Federal Government? And the answer to that is NO. Maybe the electorate will change their tune with increasing cost of utility bills and black outs occurring because the grid cannot cope with demand.\n",
      "Listening to the Greens, Teals...our community is best served & will be globally the most virtuous by 100% importing wind turbines, solar panels, electric vehicles,  de-stocking our farms & reforesting them.  As a trial can ALL Green & Teals seats & it's people go first.  Nice to see how it's done.\n",
      "Yep.  Watch the energy prices go up now under this government. Renewables are the most expensive form of energy.  Just because it comes from wind and solar doesn’t mean it’s free.  ESpecially When the wind stops and the sun goes  down or it’s cloudy. And It needs  to be stored then supplied. Nuclear will be the best way in the future as the population grows like most countries in the world.  It’s inevitable.\n",
      "The small nuclear modular power plants are the future but we will need coal and gas until they are built. Wind and solar have proven themselves expensive and unreliable\n",
      "It’s the only way to save the economy, and keep pace with expanding economies like China and India who are exempt from environmental protocols.\n",
      "Nooooo. Let’s continue to sell our highest quality coal to China\n",
      "Australia has been without strong leadership for many years\n",
      "Absolutely. Paying for renewables which will die before they are paid for is economic suicide. But it’s ok, we the consumer has been conned into thinking we are saving the planet and not paying bills. Forget about the initial investment.\n",
      "if we are banning the use of gas and coal in Australia then we should ban its export.\n",
      "Yes, and we must also begin work on nuclear power plants, as part of an energy mix.\n",
      "Newsflash…2030. The Australian Labor Government has just released its new energy policy. It advises all Australians, if they want to keep warm, to rub two sticks together. This will generate heat in the traditional (and culturally correct) aboriginal way, and hopefully a small flame will be the result of this rigorous activity. However, a press release from the Greens will announce they will oppose this directive, as the use of natural wood and the resulting CO2 emissions directly contradicts its environmental policies. Sky News has replied with Andrew Bolt claiming the removal of every tree in Australia several years ago to build billions of hectares of solar panels means no one has two sticks to rub together. This highlights, Bolt stated, the ineffectiveness of the Labor Government, while the opposition suggests we start importing sticks from China to help the growing number of ‘silent Australians’ warm themselves over the coming winter.\n",
      "Completely agree 100% and this is going to be the downfall of the labour government with these green net zero policies that will cripple this country and then they will soon realise what they've done was wrong and the people will soon realise how stupid they have been to vote for this government\n",
      "Yet, we are sitting on one of the worlds largest uranium deposits & could easily be experiencing some of the most reliable, clean, cheap, power for ALL our needs!!!DUHHH!!! Why???\n",
      "Oh dear. They really have it bad.  Too bad that the majority of Australians are moving on.  At this rate sky news will become irrelevant before fossil fuels become redundant. Wont be too much longer now.\n",
      "Gideon, blind Freddy could could see this too. Seemingly none of the intelligent elite gave consideration to a sensible transition phase(s), so star struck are they by renewables and target dates they forgot the rest. Bowen will handle his current portfolio in the same manner he handled the migration portfolio - both will be a disaster.\n",
      "Agree with the author. We also have to start with building Nuclear  Power stations NOW . Use what we need sell the excess coal and gas\n",
      "Governments do NOT understand the meaning of COMMON SENCE along with so many in the world today\n",
      "The goal is to crash economies using green energy as an excuse.   To many fell for it.\n",
      "Anyone that voted for independents don't complain you have got what you asked for.\n",
      "yep instead of sending it all to China\n",
      "The first priority should have been energy security but apparently we don’t have a problem with that according to Albo and Bowen.  Why else would have they put renewables as the priority;  doesn’t seem to matter that other parts of the world are having energy security problems (some not caused by renewables).  Affordability of energy would be next;  Albo you’ve said you want thing built here.  Ain’t going to happen whilst we have availability of energy and price becoming big issues.  Thick as ten brick.\n",
      "We are being fed misinformation.  Coal is a resource we need at present because our energy system is in chaos.  While there are Wars and potential political conflicts we need to increase our energy output so as manufacturing can produce what we used to import.\n",
      "Green lunatics will bankrupt the country.\n",
      "We wouldn't have a crisis if it wasn't for the renewable mania!\n",
      "The article is largely correct, but omits the very important nuclear energy option.\n",
      "I am waiting for the whole green renewable idea to crash and burn.They may all wake up to the lies,  the green have been feeding us to line their own pockets We are now at a point that the only thing that will wake people up is power outages,  food shortages,  and mortgages that are out of control.\n",
      "This is the way to go . People need to live and it is about \" balance\". This carbon emmissions has become a joke for countries that need to basically live & survive!.                   This is cutting off their nose to spite their face!\". Mean while  the major countries that are the biggest polluters  carry  on living their way of life , with barely a change of their lifestyle?. These countries  should be doing more of their share  for \" Mother earth\".  Do we see them cutting  back ?.\" NO \" . Countries governments  that are pushing this agenda are \" ideoligists and theorists\", they are \" virtual signaling\" & do not live in the real world. They live in their rich bubble , they look after themselves because they can afford it. Realistically , the average lowly subjects will  struggle continuously all their lives unless there  is a \"balance \" across the board , the world. Countries need to take care of their \"OWN \". UN needs to  stop dictating directions &  distributing the problems throughout the world especially after this widely spread \" Pandemic environment\"  .   This , all in the name of 'climate change\"?. There needs  to be a better way for humans to live.\n",
      "Build new coal fired power stations.\n",
      "Governments around the world have thrown money at this for decades pointlessly. You don’t have to be terribly smart to be a Polly.\n",
      "Use our resources stop the globalist adgendas build modular nuclear power plants make Australia great again\n",
      "So right Gideon  but unfortunately we are going down the unstable wind and solar path\n",
      "Our coal fleet is aging, built in the 70's and the 80's, we need to build HELE plants, more efficient and less emissions than older design plants, wind and solar are intermittent power generation.\n",
      "And get started on nuclear power.\n",
      "A commitment by government should always be supporting whatever is plentiful in resources and or has continuous abilty to generate base load power for the nation, now and into the future. And that is having multiple forms of energy generation from coal, gas, waste to energy, tidal, hydropower and localised power generation with wind and solar as the last two cannot generate base load power for this nation.\n",
      "When you have our politicians with their scare mongers flat out day in day out preaching. Saying that if we don’t change to renewables x amount of people will die from heat stress illnesses. Yes they will if they can’t or too scared to turn on their air conditioners. We need to wake up and yes look into advanced technology into coal power station’s. Its like our flooding nothing gets done, trust me renewables are not going to stop the flooding. New technology in getting rid of flood water will, but no our politicians have money invested in renewables.\n",
      "One country had woke up now let’s get the rest on board Because climate change is a load of BS and John Kerry and al gore are at the helm filling their pockets\n",
      "The only way 100% just wish our Govt would get behind it. No reason why Australia should have cheap power with our huge resources coal and gas. We have been sold out.\n",
      "Another one of Rupert's hand picked Mouthpieces Slobbering the Fossil fuel Mantra.\n",
      "Too sensible Gideon! It’s based on truth rather than the “climate change hoax” pushed by the ignorant ideologists…\n",
      "Here in WA, they are building a huge battery that will take excess solar power from house solar panels, and it will only power 160,000 homes for 2 hours!!! Methinks they are going to need acres of batteries!!\n",
      "Virtue signaling will not keep the lights on , stop floods, drought or bush fires.\n",
      "When you only get 32% of the vote then they have to bow down to these climate zealots to survive and get stupid bills through While most Australians agree with renewables as a power source just not at the cost of higher bills and less reliability We need back up power to keep this country viable and coal powered and gas  powered resources are needed\n",
      "Clearly The opinion of Gideon Rozner would know way more about energy sources and power supply than these “so called” experts with decades of education and training in that field.(People actually believe this rubbish?)\n",
      "Can all the greens go live off the land out bush somewhere while the rest of the nation fixes the energy problems\n",
      "If the coal power stations were rebuilt with today's technology,  they are more efficient and have much less emissions. There needs to be a sensible balance between coal, gas, renewable and Hopefully one day nuclear\n",
      "Anyone with half a brain would know this ..which leaves the current ALP Socialist Goverment out completely..not a brain between them all ..only thing is everyone else will suffer the consequences from their Unsustainable Renewable’s push ….\n",
      "Instead of inventing new uses for electricity we need to invent effective, environmentally friendly storage for produced electricity .  This should have been a priority since it's discovery.The continuing issue is that electricity needs to be produced as the demand requires.\n",
      "Given that multiple CO2 sensing satellite systems strongly suggest that the Australian continent is already net zero, we might as well extend the life of coal fired power stations, although what Australia really needs is to go nuclear.\n",
      "We have to obey the inner city wealthy\n",
      "Well that's probably commonsense to some degree, which is why we are going in the opposite direction, ask Bowen \n",
      "Of course we should be maintaining our coal power stations, and producing more gas for our domestic use while investigating nuclear power, it just makes sense, but then the current Labor, Greens and much of the LNP are lacking in this area, still, the penny will soon drop as it has in Europe, hopefully it wont be too late.\n",
      "Would love that twit Bandt to explain how all the thousands of batteries, massive fans and panels will be made without using all the materials, minerals, resources and traditional power he hates so much. To all that voted for the greens and Teals, thx fa nothing except more debt and hardship.\n",
      "get rid of the wind turbine eyesores and solar panels. They are far from green energy. Nothing but a big fat con by the Globalists !!\n",
      "Gideon is showing very good un-common sense.  Shame our politicians aren’t.\n",
      "I know let’s ignore completely the acidification of our oceans the gigatonnes of carbon pumping into our biosphere each year because it’s cheaper the old way\n",
      "See the example in South Australia under the Weatheril Labor regimes. Highest power prices on the planet.  That's  Albonochio  has in store for the rest of us unfer federal Labor\n",
      "That definitely makes good sense but worst luck we have politicians with no sense they like to blow up old coal fired power stations once they are retired. These actions leave us in a position of electricity starvation where we all need power but their won’t be enough to go around, time to invest in a portable generator because you are going to need it to keep your refrigerator and freezer working. Our kids will have to learn that without electricity their laptops, phones and wifi don’t work.\n",
      "we as Australians can see the only way to go is this ut the government is still dead set on leading us down the garden path to ruination of our country\n",
      "Yes that is true , but we need to go nuclear to sustain our need for future energy demands \n",
      "For the moment while we set up for nuclear power! It has to be part of the plan. Forget about what Air us Albo says. He’s just following plans of the NWO, WEF Great Reset\n",
      "Absolutely correct We are far from being renewable reliance..\n",
      "Why do these clowns oppose cheap power?  Just because it doesn’t serve the foreign owned mining companies?\n",
      "That will never happen, as Albo, Bonehead and Bandit are pushing the 43% emissions target to be achieved in 8 years, once that is passed it then only be sun and wind. The way this bill is being fast tracked that will stop any other sensible ideas being mentioned.\n",
      "Gideone a blind man can see this, why not Labour.\n",
      "You need to keep the coal plants until the renewable options can 100% keep our supplies flowing and people don't have to go cold or hot. Too the people who are dead against coal power stations would you want your families to die from not having power to keep them alive or safe?????????\n",
      "Can anyone explain to me how it's okay for our governments to make so much money from coal exports thus enabling other countries to use coal and yet with all the very talented clever Australians we can't build coal energy facilities that are as clean as possible and would give us the answer to our energy prices and also solve our present shortage. Where has common sense gone?\n",
      "A challenge to the Renewable Politians: open your homes to us and let's see - how much \"dirty\" energy you are currently using.\n",
      "New coal power stations with air filters are approx 99 % emission free and very efficient.\n",
      "And longer term, a serious push towards nuclear….we’re one of the worlds largest producers of uranium and like everything else good that we produce, it’s all exported to serve foreign countries instead of our own\n",
      "The place has gone insane.  Could we please have a Summit on Climate Change where everyone can have their say. We keep getting told about \"The Science\" and gloom and doom by 2030. No one has every explained this \"Science\" to the vast majority of Australians. This is the same \"Science\" that has been telling us for decades about the destruction of the Great Barrier Reef. Yesterday we found out just what a lie that was.  The Reef is in very good health. The Greens, Labor, Teal Independents, Independent Liberals and Littleproud and his Nationalised Greens, overwhelmingly run the show. What hope does Peter Dutton have.  We are doomed.\n",
      "Germany has a power crisis so have fired up the coal power plants. We’re so smart in Australia we blew ours to pieces.\n",
      "Problem is with more gas exploration…. Usually it won’t be allocated to domestic use… it just gets exported because it can be sold at three times the price\n",
      "As long as the coal and gas companies pay for the upgrades\n",
      "A lot of the old power plants are Toshiba and they’ve stop making them including parts but go on tell us how to refurbish them\n",
      "12 wind turbines built in Hughenden Qld still not turning. 5-6 years later. Makes no sense\n",
      "We all know the cure for energy crisis but Albo hasnt a clue and dosent want to know his eyes are fixed on being the mesiah but he is the false one.\n",
      "Now so many people are waking  up reading books & listing to what other people have to say So many people , using their common sense about all this Climate Change talk. Our eyes are wide open. We are educated enough to know in reality it is all rubbish & so much of our money is being spent on this fantasy!\n",
      "We all know this but our useless politicians, and what are they going to do when we start having black outs. I know it's the war in Ukraine that will be the reason!! Most other countries are dropping this stupid idea but Australia is full steam ahead. ￼\n",
      "Absolutely, but not with this Labor Government, and who will pay… every Australian will!\n",
      "Yes totally agree but these clowns in the ivory tower ans Albo have no clue\n",
      "And we have the land, poles and wires, uranium, cooling water, and waste dump in Port Augusta.\n",
      "How many years until renewable energy sources are reliable to support everything 24hrs a day? What is our power source until then?\n",
      "Labor and Greens have said they will close down all Fossil Fuels and not allow any new Gas or coal plants ? If Australians want Cheap reliable Electricity they have made a really bad mistake electing Labor and Greens? \n",
      "Clearly this is what we have to do in the short to intermediate term, but just as clearly, we are going to have to go through the pain of Net Zero madness and all its consequences...It's going to be disastrous for many families and small businesses who are going to be ruined by this insanity.And... Labor doesn't care...It's all about ideology, and to them, that's all that does matter.\n",
      "South Australia and Tasmania do not have coal.....and they still have electricity. They had electricity yesterday, last week, and last year.So yes that means that Australia can still have electricity without coal.I find it it really naive that people say if we had more gas fields then more gas would be held back for domestic consumption. It doesn't matter whether we 5 or 15 gas fields if they all want to export all their product overseas.Mandating gas for domestic consumption doesn't require more gas fields, it requires government determination. However a lot of people consider this an over reaction and would prefer a \"market solution\"The quickest solution to more power resources is more renewables.....quickest and cheapest builds.New solar and wind farms take about 2-3 years from planning to exporting power. New gas fields would take 5-7 years from planning to exporting.Nuclear power would take 11 years to how long are you prepared to wait.....from planning to exporting power.NSW and Qld are laggards building renewables...... fortunately both are about to put the foot on the pedal. Qld is building 5 large wind farms right now and NSW is about building plans for it's renewable energy zones.Repairing old coal fired power stations will only get you so far..... Liddell has broken down again this week. You really want to replace coal fired power stations as they are coming to the end of their lives (as in whilst they are still working) not when they are basically dead men walking....hello Liddell!!\n",
      "I have a suggestion for Labour and the Greens, but not only would I get banned from Facebook, I would probably get arrested.\n",
      "Saw on the news last night that the WA government are planning put hundreds of wind turbines in the ocean off our beautiful coastline. Breaks my heart.\n",
      "They have ‘clean’ coal power stations in Japan. Why not here\n",
      "Australia needs to rejuvenate the existing Coal fired electric generating Stations. We have to work slow at switching to other types of electric power generation.  I have rooftop solar panels systems and they work well BUT the existing batteries are not economical to fit yet.  We need to have better efficiency from the batteries.\n",
      "I agree with Gideon. Why would this government try to ruin so many.lives financially and work wise\n",
      "Nuclear is the answer\n",
      "The only answer is we buy off OUR RESOURCES BACK   NATIONALISE everything  like is doing Mexico\n",
      "Try telling Labor and the Greens with their dreams of saving the world!! \n",
      "What's wrong with renewable energy ? As the word means they can be extended. Can coal and gas be renewed?\n",
      "Exactly …there is no urgency to force transition …just Govt & corporates interference for Profit$ & control!\n",
      "And while this is being done, free up Nuclear and start planning for small modular reactors to replace coal & gas.\n",
      "Do these private companies want the government to pay for their upgrades?\n",
      "Coal fired Combined cycle powerful are still some of the best\n",
      "AND NEVER ANY TALK of HELE power stations WHY, ANOTHER media cover up\n",
      "The Labour Green Teals want us living in caves which don't exist, but, it's back to camp fires and candle light.\n",
      "As long as all production stays in Australia. Only produce for our own needs.\n",
      "Maybe if they released the paperwork for Tesla’s free energy we would be liberated from this- I can’t think why they wouldn’t want to do that?   \n",
      "That’s true short term . Longer term is hydrogen and small nuclear plants .\n",
      "How long before the pol pots of Australian  politics take us back to an agrarian life\n",
      "But gas and coal can change in price and its the price thats makes them so expensive to run atm.\n",
      "German greens say gas is green and coal is fine where’s any common sense in our green government.\n",
      "It's the only answer for whole world if you want to produce anything. You can't run factories on windmills and solar panels\n",
      "We can only reminisce what affordable power used to be like\n",
      "That’ll never happen with these half-wits running and ruining our country!!!\n",
      "WELL said Gideon Rozner---at last--someone with a brain---unlike these useless self serving \"politicians\" who are NOT \"fit for purpose\".\n",
      "The Germans have woken up and so have their Coal stations\n",
      "We are 10 years behind Germany if we are only realising this now .\n",
      "Same here in the UK but the decision makers are being swayed by brown envelope trading!\n",
      "Nuclear as well.\n",
      "Nothing logical about changing our energy source. Got to stop this Green New Deal agenda\n",
      "Nuclear Power is the answer . Time Australia moved forward with technology instead of living in the old days .\n",
      "Of course it is and I get no one has explored new technologies or BETTER CLEANER ways to burn coal.\n",
      "renewables are the future, bye bye horse and cart days.\n",
      "That’s common sense But Seams to be lost on most politicians today\n",
      "nuclear power is the cheapest option\n",
      "It will never happen these guy,s have there own hidden agenda,Destroying our life styles ?\n",
      "unlike converting every car to EV, upping coal and gas electricity production won't put a strain on the grid either.  Every electric car is a grid drain.\n",
      "Going to be a long way down the track (if ever?) before we can totally rely on just wind and solar!!!!!\n",
      "Just too much commonsense here very rare in the annuls of power.\n",
      "There is only two problems.  Albernese and the slimy Greens\n",
      "I've been reading about Energy online again, and I wonder if some of these big batteries should be located alongside CFPS's to store the energy in the middle of the day when the Solar Panels might be producing energy for the grid?\n",
      "Of coarse it is , and the same applies to Canada\n",
      "What about Nuclear.. what is going to happen if all cars go Electric in the near future.\n",
      "And build 1 or 2 Nuc’s\n",
      "You are preaching to the already converted sky news !!\n",
      "Don't use gas to make electricity. Use coal. That's why God put it on the earth!\n",
      "The greens will not allow labour to do so .\n",
      "And modular nuclear.\n",
      "Thats not going to happen, get used to it.\n",
      "To everyone’s power demands, stop relying on Ws and do your own thing\n",
      "Try and tell  the Lefty,s that, start looking for a cave to live in !\n",
      "You all obviously haven’t read the letter Anthony Albanese sent to the UN ￼\n",
      "The Greens blood pressure just west through the roof.\n",
      "Germany have nordstream gas totally different..the que govern them...Putin turned off the gas...Europe buys gas..\n",
      "What energy crisis what bull..u all have gas and oil in the Bass Straight and Perth etc...Even want to kill the Barrier Reef..the crisis in oz is that’s it’s owned by the USA...not Aussie..\n",
      "Nah just struggle through these years and get rid of labor for the next 9 to 16 years like we always do lol\n",
      "Finally some practical info! Also geo thermal would change everything! If they stopped handing billions to other countries and invested in a geothermal plant, we would have endless power and save money in the long run\n",
      "Yes\n",
      "Yes\n",
      "Yes\n",
      "SIMPLEST; YOU MEAN CHEAPEST, DON'T YOU!! Cheap for us, expensive for the Rich Elite that are invested in renewables to make big money off us from!! Great word, renewables, because they've got to be renewed over & over forever!! So much for Their environment con, when the Earth will have to devour the parts that are used to create them & they talk about coal & polution; WHAT ABOUT THE VOLCANOS' POLUTION???!!!\n",
      "The only one making money on this pipe dream of renewable, are the one's manufacturing the wind turbines and solar panel's my guess is they are imported and made by  coal, gas or nuclear power stations.\n",
      "For the next few yes then Nuclear should be a big consideration to take over , we should be digging coal up like going out of fashion we have buyers wanting it , at a real good price we could get rid of our debt very quickly , but i think that to simple for the woke labor / greeny lot\n",
      "And nuclear if they let us\n",
      "Crap... Clean out the brain and be a bit open minded... Plenty of options. Just a shame Australian leaders have become closed minded... The industries have always been pig-headed and destructive... With the help of the LNP...\n",
      "Coal or Nuclear Power for Western Australia’s needs, end of story. I’m sure this will upset  some people that look like trees . \n",
      "Releasing suppressed Nikola Tesla energy technology is the real answer .. but that's another story.\n",
      "Common sense , but Bowen announcement today they will create off shore wind farms ? Hundred of them in our sea , really and needs ships to make sure they keep working , really!\n",
      "Yes the most sensible thing I’ve heard all year. Even the Teal MP for Kooyong Monique Ryan agrees. As she voted again Labor’s climate change policy the other day… \n",
      "You do not need a Diploma in Whatever to see that that is the ONLY way to go. Why should Taxpaye rs be Subsiding Renewables - IF Renewables are So Good, let them stand on their own Two feet, like any other Company - Once again, pandering to the Minority Groups. Typical RED COMMO/SOCIALIST Labor and their Komrades, the Greens, CRAP.\n",
      "What does our soppy  cow do and the green intellectuals do  sell us out to solar  not farms factories  sponsored by printed money  and made in China   what a brain dead bunch this lot are    how or why are we conforming with co2 targets when other are exploiting  us   Don't be brain dead rise against this insanity  use  what we have and get us out of this mess  kick out These loonies before  your great great grandkids have to pay for their insanity\n",
      "About time and common sense it's the stupidity that greens another members of parliament seeking renewable energy sources of solar panels and wind farms from China substandard products when we should be investing Nuclear Power before cutting out our Coal plants.. and don't forget China buys  coal from us , We need to wake up and stop being brainwash by climate changes do you history and face the facts it's part of a World cycles.. remember ice age and cities that disappeared under the sea .\n",
      "I could not agree more however even Matthew guy has taken leave of what is left of  his senses. 50 per cent???\n",
      "Maybe in the short term but long term nuclear is the go\n",
      "Wow, such rocket scientists!!! They finally discovered what the rest of us know all along. \n",
      "And getting new coal stations on the drawing board.\n",
      "Amen...\n",
      "True\n",
      "100%\n",
      "100%\n",
      "  \n",
      "Stupidity, they won't be happy until we are broke and have No power.Wake up Australia \n",
      "Absolutely Correct, we can’t afford to rely on inefficient technologies, that are only Additional, Not Renewable We need to also introduce Nuclear into the Grid \n",
      "Cheaper than spending $500 BILLION to upgrade the network to handle the unreliables.Use reliable base load until we can build the nuclear power resources. Even SMR.\n",
      "Governments Must take responsibility for this disaster, selling off  Power Generation essential service infrastructure, private Companies driven by profits, have not invested anything into Our reliable Coal fired Power Generation, now we are being forced into expensive unreliable wind/solar , whilst the the demand for Our Coal is increasing and Industrialized , China Japan , India etc are building 300 new clean coal fired power stations , Germany is the best example of the mistake of relying on green energy .\n",
      "Smartest thing I have heard come from a news channel in years .\n",
      "I just cannot believe so called smart people are dumb enough to believe this alternative energy stuff will be the answer. There are some good parts to it all house should have solar electric car could possible be the future but we will need a lot more power manufacturing the costs now are to high how they are expected to compete?\n",
      "There are still coal and gas plants but they are for export, not us.\n",
      "That $2Bn wind farm going in west of Warwick at Cement Mills is a perfect case in point. It will never deliver any reliable supply but the Chinese, Spanish and state government agents will do just fine from it....\n",
      "Exactly.  Plus build at least two more.  But it’s the renewables subsidies causing the market distortions.\n",
      "Look to SKY to claim that the easiest way out is the best. By pretending to know what they are talking about is enough to convince those that know even less than SKY does that they are right. Stupid people will quote this article as fact, and the arguments will continue.....\n",
      "I personally don't think it's a good idea to put all your eggs in the LITHIUM battery basket _ especially as China controls a very large percentage of global lithium supplies.Perhaps we should run down our fossil fuels for another 20 years and then use advanced technology to find another source.\n",
      "Sadly the idiots from the Labor Party government don't have the brains to work that out. They are working against the people's interests in cheap reliable electricity, they are all off with the fairies.\n",
      "How about when you build these new massive housing estates, they come with 3-4 solar panels on the roof that feed back into the grids……Won’t solve the issue, but would be another step towards it…..\n",
      "You use the word simple,to labour that word does not excist,if it does not cost billions of taxpayers dollars, it's not worth doing\n",
      "You do know of the damage that fracking causes to our land and water ways right? Can't eat coal and can't drink gas.\n",
      "Pin this article to his tombstone so future generations can see it\n",
      "Unfortunately it’s to logical for the labor/ greens government\n",
      "Really hard to beleive these Educated Idiots can’t see for themselves the disaster ahead,  And WHAT IF. ???  it’s very possible we  could  be confronted with WW3.  (GOD forbid) Between now and their FAIRY TALE. percentages,  A   BIG BIT OF Nuclear gas and Diesel fumes   might give the GREEN CABBAGE BRAINS. something to Squawk.  about. Its time  Sooky Bowen And Sneezie CANT REMEMBER,   Started. GOVERNING IN THE PRESENT.  .  NOT   In 2030.   There  is a LOT. happening NOW \n",
      "But some of our so-called leaders aren’t smart enough to see that! ￼\n",
      "Not that those idiotic politicians and greenies have the intelligence to see that\n",
      "Yes kick those climate change ideas  out and get some sense back into politics before they stuff up our country beyond repair\n",
      "Even that is too hard for the greens to calculate and understand. The most advanced ones can only count to 60.\n",
      "You are of course correct Gideon. For the time being this would be the correct path to take. So many people  do not fully understand nuke either, it is not so clean, green or cheap  as they imagine.  Sadly we have some of the most stupid  people in our parliament who have one track minds, headed down the wrong track.\n",
      "Only walking will be allowed otherwise u would be a Hypocrite and we will have to monitor our farts.\n",
      "Ceiling fans in summer - cut  bush wood for the fire winter - zero mortgage  me for 30+ years.\n",
      "Yes!!!!\n",
      "Yes\n",
      "Of course it’s the simplest and most sensible solution. It’s only commonsense if we want to attract and keep manufacturing in Australia but the greens will not let labor do anything like that so we’re doomed for a hell of an unreliable future. I wonder if those who voted these morons in have started to regret it yet. \n",
      "So Very True Lets do it now\n",
      "Way too much common sense here for one day.\n",
      "Common sense unknown to the pollies  ...\n",
      "No it is not, nuclear is the go.\n",
      "Without doubt, the only logical solution.\n",
      "China and the rest of countries are using whatever they can to keep their economies up in flourishing United States and Australia need to use their resources for their own use\n",
      "Totally agree\n",
      "Don't upset the greens, they'll take their blankets and go hide.\n",
      "Very true\n",
      "They told us the world was warming up and we frozeThey told us the sea level was going to engulf us and it didn’t moveThey told us Is was never going to rain again and then we floodedThey told us the dams would never be full again and they overflowed They told us the coral reef was disappearing and it grew insteadIn fact everything they have told us had been shown as false So when are these financial terrorists going to be held to account for their actions. I too want action now. Action against these climate alarmists that are driving the world crazy. Let’s push back on these woke lefties.\n",
      "Ditto.\n",
      "When are these so called experts going to realise all the solar/wind products are made in  the world's biggest emitter. As for supermarkets with their green slogans look how many products are either sourced from China or completely made in . We are the useful idiots who swallow this BS.\n",
      "Those whom have destroyed blown up SA coal fired plants &  Victorias & others destroyed our coal fired plants so they could only flog our resources overseas our gas, coal, petrol oil ect that are deneying us should be jailed too\n",
      "& using these resoueces ourselves too\n",
      "Spot on.\n",
      "Best wishes\n",
      "Bring back coal while households struggle\n",
      "Everyone is an expert here KISS! Earth is made to heat and cool simple!\n",
      "Agree 100 %\n",
      "Someone with some sense \n",
      "The government created the crisis by following world economic forum instructions!\n",
      "Oh dear this is exactly what's been holding up going forward on renewables . . .IDIOCY BY FAR RIGHT \n",
      "there is no crisis, we have a crime, perpetrated by globalists and enabled by politicians...\n",
      "The greenie commos want us living in the dark so their Agenda 21 & Agenda 30 come to friition.\n",
      "Wind and solar are going to reach similar costs to fossil fuels but the health advantages of renewables are massive. https://blog.csiro.au/wind-solar-coal-gas-to-reach.../\n",
      "Is coal Australia's best current energy source???==========================Yes =   haha - No =   wowOpen VotezPoll Index @: #openvotezOpenvotez.com========OSG4LIFE==========\n",
      "Now that all the present and future generations have been endoctrinated into climate change politics, and China is our supplier of solar products to us, and wants to be an aggressive world power, can their products be trusted. Also , now we are going to put wind farms in the ocean for our major cities, this will make good target practice for the Chinese navy, and cripple our power supply. If God doesn’t help save Australia, we are doomed.\n",
      "It’s the only right thing to do .\n",
      "Typical Sky divisive BS propaganda pandering to the extreme climate deniers\n",
      "sorry but under Bowen and Albo this ain't going to happen.\n",
      "Klaus does not agree!\n",
      "Yes 100% !!\n",
      "We are such a stupid country , we just keep shooting ourselves in the foot . When we perfect new types of energy , by all means begin transitioning , until then stick with what works .\n",
      "Are you looking for alternative ways to make money? If you are then I suggest Crypto or Forex trading, if you are open to learn how to make at least $1000 weekly then send me a message on here or email me at DavidwBachmeyer@legroupeforex.com let's get started. Feel free to a research on me so you can feel safe.\n",
      "World they are building “Right now” 50 Nuclear & 300 new coal fired plants, World? \n",
      "This is the only sensible way\n",
      "Watch the politicians crush this idea quick smart \n",
      "Truth! For the whole world!\n",
      "And don't demonish them  like in Vic.\n",
      "Nuclear.\n",
      "Hemp\n",
      "Common sense does not sit well with rabid zealots, but the horrible truth will out soon.\n",
      "We're were all you people when we needed you to vote for the Libs ?\n",
      "....and there goes another flock of pigs \n",
      "Too much common sense.\n",
      "Hooray some common sense prevails \n",
      "And a little bird told me that he came up with the 50% Target but did not bother to consult the party room.  Absolutely disgusting.\n",
      "Agree 100percent\n",
      "Absolutely\n",
      "joe \"sniffer\" biden's farts probably good alternative to solve ASStralia gas problem\n",
      "And a simple way to stuff up the world!! Good idea!\n",
      "Sorry, but that makes too much sense.. Move along, move along \n",
      "Clint Tyben James Blair well who would have thought\n",
      "Why in hell don’t we use our own Uranium \n",
      "Castration is the only way.\n",
      "There is always the new tech nuclear power stations to provide reliable zero emission power......\n",
      "Always was and is\n",
      "I believe it the right way to go and much better than following all the sheep with out any credible alternative to base power even Nuke power supply is an option after all AU supplies coal gas uranium and other recourses to others for use except for Australia's power needs This is as crazy as the greens and UN carbon BS This is one of the reasons AU manufacturing has been destroyed\n",
      "Wrong. Nuclear power is the way forward.\n",
      "Bloody true\n",
      "We should go Nuclear.  We already mine uranium.\n",
      "Yes we should do that for the time being\n",
      "Build a few gallows as well.\n",
      "Never true a word written\n",
      "The mouldy greenies keep coming back to it, except the ACT Government which is banning gas in any new OR remodelling project.\n",
      "That's right.\n",
      "Sense at last; coal plants can last for ever almost, if properly maintained. WE NEED DIVERSITY.   Coal, gas, hydro and nuclear power plants where appropriate.\n",
      "Yay!  Someone with common sense.  Obviously not a green or labor man.\n",
      "Exactly\n",
      "We have coal and gas, use them, no need to follow the other sheep\n",
      "Well there going to need them\n",
      "What…?! I have just heavily invested into renewables \n",
      "Finally some common sense\n",
      "I absolutely agree.\n",
      "No kidding !! oh derrr !! of course coal and gas are the answer !!!!\n",
      "Bloody nuclear power\n",
      "But what is the answer to the mad Greens?\n",
      "Absolutely right\n",
      "There’s another solution\n",
      "Only Trouble is tooMany FWs listening to the Greens BS\n",
      "Gideon Rozner is totally right build more HELE coal fired power stations\n",
      "Now do you understand what \"sustainability \" really means?\n",
      "The whole world is suffering, because of this lunacy about climate change! Our lives are being ruined, because a minority of billionaires want to be in control, and have invented this absolute, evil scam about the planet being destroyed by Coal and gas emissions!! This is a huge lie, because these fossil fuels are blameless, and have helped the world to enjoy the prosperity most of us have, and is needed to deliver the same prosperity to the third world countries that are still living in poverty, but an evil cabal are slowly but surely, tearing away the fabric of democracy, to suit their own selfish, horrendous agenda of world domination!! And the Socialist Labour are in it big time, as are the stupid, weak Liberals that did not get voted out!!! \n",
      "And soon we will have 58°C on Christmas Day and not 52°CWhy not saving energy?\n",
      "That's for sure\n",
      "BUT THAT'S 2 SIMPLE  GIDEON  .....\n",
      "Well he is right .\n",
      "Sure it is.\n",
      "The same here in the U.K.\n",
      "Dead right you are\n",
      "Absolutely correct.\n",
      "In a paper produced by former CSIRO environmental scientist Clive Splash he stated that when the Czech State power supplier made windfall profits selling carbon credits they used the money to build six new modern and efficient coal fired power stations.  Today, they are one of the few countries in Europe not in crisis over dependency on Russian gas.  We should be building new coal fired power station in every State in Australia instead of listening to the anti-coal/carbon and renewables lobbies who are pulling the wool over the government and everybody else's eyes.\n",
      "People have been so effectively brainwashed, that only a sudden, harsh shock will wake them up. When they are starving in the freezing dark - that might wake them up.\n",
      "Been saying this for years ,\n",
      "Exactly!!! The sooner the better.. \n",
      "True\n",
      "1000% right\n",
      "Absolutely\n",
      "Greens !!!!for slime ( brain dead generation)\n",
      "The Country is Run by IDIOT'S that IDIOT'S Elected .....\n",
      "The question is currently asked as a negative (Is it true that there is zero reproducible experimental evidence that CO2 actually causes the atmosphere to warm?) , which might be confusing. The answer is, \"No\". This means that\n",
      "Why would you want to import Chinese green energy that is a proven pollution creation on its own.. Australia has a very clean coal and is a home production creating jobs and Nuclear is another option but that won't suit Labor and its waste of money on a green agenda that'll drive inflation to never seen levels since the depression ..\n",
      "Not according to PM Goebbels.\n",
      "The climate change cult is in denial\n",
      "Absolutely\n",
      "Your normal person knows this\n",
      "Japan makes natural gas and coal burn very efficient that’s what you need to look into\n",
      "Utter BS ! Everyone, including the Australian Energy Market Operator (AEMO) knows renewables are the cleanest, quickest and cheapest form of electricity. Yet more pro-fossil fuel propaganda and lies by Murdoch and SkyNews. Everyone should be told that Rupert Murdoch is a major shareholder in the fossil fuel industry. Particularly Genie Energy - the largest oil reserve in the world, in the Golan Heights, ie. occupied territories of Israel. https://michaelwest.com.au/compromised-genie-energy-and.../\n",
      "Simple like that !!!!\n",
      "100% agreed\n",
      "This energy crisis is self inflicted by Marxists. It will only be solved if we generate more affordable, reliable electricity. But the damage could be minimised if we invest in necessary upgrades to existing coal fired generators, with contracts signed for the period of extrapolated renewal (life) of these upgrades, so no one goes broke. That could be achieved within a year or two, staged as appropriate, and eliminates the disabling mess of red/green tape of a 'green fields' project. It would provide us 20 or so years to bring other technologies like gas and nuclear on line. That would minimise the energy disaster in terms of deferred maintenance which was an extremely bad idea in the beginning. Thanks to both sides of the political spectrum!\n",
      "We need coal power nuke hydro water \n",
      "Someone forgot to mention the Greenies are running things now \n",
      "fusion energy\n",
      "Paul Da Camara yes \n",
      "Yep\n",
      "Wind and Solar \n",
      "We demand it\n",
      "Nuclear\n",
      "Nuclear \n",
      "How about we keep the coal powered stations going and all you  greenies stop using it\n",
      "True\n",
      "https://www.iter.org/sci/Fusion\n",
      "Unfortunately the stupid don't see it that way.\n",
      "A massive step backwards. Its like throwing your dryer away and expecting to get your clothes dry EVERY SINGLE DAY....\n",
      "Naturally! Yes yes\n",
      "Nuclear?\n",
      "Sounds to much common sense to me it just can't be right??? Albo you dipstick are you listening to this before you ruin Australia's once cheap and reliable power.\n",
      "BLACKOUT BACKWARD BOWEN https://minister.homeaffairs.gov.au/.../Chris-Bowen...\n",
      "Lean burn technology is available, the Japanese have had it for years\n",
      "What a smart man he is, but it just makes so much sense.  What is Albo doing to our country?????\n",
      "And nuclear energy. We have the largest uranium deposits in the world and no earthquakes. Unlimited free energy.\n",
      "Bill Wilson it seems that Labor is so fixated on renewable energy at the detriment I am afraid of business and each one of us. Well I guess it was inevitable that we had to have this experiment, a green Labor government. Let's hope we come out the other side into some sensible and sustainable policy.\n",
      "Any idiot knows this, just not Labor, Greens & Teals \n",
      "Common sense! Thanks god.\n",
      "Solar Panels are Made from coal! Corrupt WEF bbb=666 Rat$!\n",
      "Remember how bad things were before Climate Change?\n",
      "Yep. It’s not rocket science……or is it. Labor thinks it’s going to save the world from climate change even though it’s fake. But how stupid do you have to be thinking one small country can save the planet and is the lowest country in the world for emissions. Well labor greens voters you voted for this rubbish\n",
      "Common sense at last.\n",
      "Total agree\n",
      "Spot on Gideon.\n",
      "Dont be selfish...your family shivering in the cold eating bugs while hoping  the next welfare cheque arrives in time to pay rent on your cave is a small price to pay for anthony and tania to get backslapped and praised when they fly first class to the UN  functions at 5 star resorts\n",
      "Nuclear!\n",
      "Tell that to these fools we have governing us\n",
      "Nuclear now!\n",
      "Nuclear\n",
      "Climate Cult is BS\n",
      "\"Common sense \" something that this current perverted government doesn't have\n",
      "And will slow the dramatic drop in standard of living\n",
      "Exactly\n",
      "Who will pay for the  rebuilds. If profitable why were they not properly maintained???\n",
      "ALP cult... road to nowhere! \n",
      "Try telling that to the non believes\n",
      "Yes but it's not in the agenda for Australia we are signed up with the NWO and China will eventually take over Australia......it's so simple plus we haven't got any pollution like other Countries and they aren't doing what we are we have Corrupt politicians...\n",
      "But no we are going to copy Europe into wasting absolutely billions of dollars on scam-newables that are a complete failure.\n",
      "Correct\n",
      "A SKY would be commentator I actually agree with.\n",
      "Why is Australia So BACKWARDS So Incompetent So Inward Looking, JUST Incapable of Achieving Anything Except 3rd World Economy !\n",
      "YES Common Sense\n",
      "Before this can happen we need a plan to deal with the protesters  and climate zealots\n",
      "Will Dr Sophie Scamps agree?\n",
      "All that would make sense so you can be sure Labor will do the opposite.\n",
      "Yep  and nuclear \n",
      "Finally a person with common sense.\n",
      "My god,someone with a brain.\n",
      "It’s a no brainer really! You could add nuclear also to that plan!\n",
      "He's spot on. Australia has to become leaders NOT FOLLOWERS. The people have to the suffer the consequences of stupid decisions that are made in the interest of Globalists  & their agendas, The people must have a say or tell us WHY NOT. We don't want a political numpty tell us what is best for us because we know they have a political interest , proven ideology, born from scaremongering by Globalists & paranoia, & is for promoting corporate interest who have invested billions to the scheme.\n",
      "Duh\n",
      "Nuclear\n",
      "Australia's future ... https://www.bloomberg.com/.../german-city-of-munich...\n",
      "WE KNOW THAT ITS COMMON SENSE GET IT INTO THE HEAD OF THESE SICK CLIMATE WAR RIDICULES CLOWNS CALLED GOVERNMENT .They will destroy our country with this new CLIMATE WAR CRAP .\n",
      "Agree\n",
      "Well said\n",
      "I'm afraid it has to get a lot worse before the country wakes up .the blackouts we have to have\n",
      "100%\n",
      "Finally some common sense\n",
      "Absolutely yes !!!\n",
      "Amen . It’s our Natural resorse. Australia the smart country can green our coal and gas .\n",
      "Only solution.\n",
      "Commonsense\n",
      "Ain't that the truth\n",
      "Exactly.\n",
      "Spot on!!!!\n",
      "Ban nuclear on earth forever\n",
      "Long live the holy trinity of Oil Coal and Gas\n",
      "Rubbish\n",
      "And NZs as well\n",
      "No one has told me what it will cost to join up all the windmill and solar grids!\n",
      "Yes how intelligent are the politicians in this country Australia has a 1.90 % emissions rate and they want to stop coal power stations BUT we will sell our coal to the Chinese who have a enormous amount of coal fired power stations and a emissions rate of 19% .And Australia going to change the weather at the same time . We're being run by Clowns .\n",
      "Spot on\n",
      "It’s just common sense\n",
      "Just do it\n",
      "take a truck load of coal 2 bandt and say see this bandt it keeps our country running unlike you.\n",
      "Stop selling it all to China , then we wouldn’t hav a crisis\n",
      "Nuclear \n",
      "Nuclear?\n",
      "Just figured this out have you. \n",
      "Common sense !\n",
      "Why go nuclear while we have ample coal supplies.\n",
      "Amen\n",
      "Thank god there is still sensible people in Australia\n",
      "Yes! Absolutely\n",
      "So true\n",
      "we need to build some coal fired power stations and dams and stop being dependent upon communist china for solar panels and wind farms and stop selling CCP the raw materials so they can build war ships, etc to use against the democratic world!\n",
      "Only way to go keep it in Australia\n",
      "Cheapest form of Energy, \n",
      "There isn’t enough silver to go green like countries want too… nuclear should be looked at as the new base load power and jack the prices up on coal exports to subsidise the new nuclear power stations… we already mine uranium\n",
      "It can't be, someone using COMMON SENSE! Our pollies are that stupid, they can't see what European Nations are doing. Reverting back to RELIABLE, COST EFFECTIVE , fossil fuels!\n",
      "stop sending it all to China, name all the politicians involved in contracts that had no preservation clause, they should be locked up\n",
      "Labor's doing opposite\n",
      " this is what needs to happen.\n",
      "But it is a climate emergency\n",
      "Common sense isn't real common these days unfortunately\n",
      "Absolutely....  % correct.\n",
      "But think how this would effect the trans community!!\n",
      "That's being sensible, not ridiculous like the left wing greens want.\n",
      "Its not bloody rocket science !!!!  Pull your bloody finger out albo ..,,\n",
      "I hope you all don’t have craziness like America \n",
      "Absolutely correct !\n",
      "Could go nuclear\n",
      "Fastest way to push up energy prices, we need to move away from this model ASAP\n"
     ]
    },
    {
     "name": "stdin",
     "output_type": "stream",
     "text": [
      "Press Enter after closing the comments for the post... \n"
     ]
    },
    {
     "name": "stdout",
     "output_type": "stream",
     "text": [
      "Post 2: Jay Weatherill pledges to lift South Australia’s renewable energy target to 75 per cent.\n"
     ]
    },
    {
     "name": "stdin",
     "output_type": "stream",
     "text": [
      "Press Enter after opening the comments for the post... \n"
     ]
    },
    {
     "name": "stdout",
     "output_type": "stream",
     "text": [
      "Comments collected. You can now close the comments section.\n",
      "Comments:\n",
      "South Australia reportedly holds huge newly discovered oil reserves potentially worth trillions  yet  Labor ideologues like Weatherill - who presides over the worlds most expensive electricity prices crippling business and hurting households - now wants to ramp up the pain even more..What more proof do people require that Labor is now the party of  Green Left elitism  - not the traditional working class\n",
      "It's called leadership. We're actually seeing it in South Australia. Well you know.. someone has to lead by example. We'll make it happen as well. It's the future you build..the future you make..which matters. Not the future you just think will 'sort itself out' Well done Jay.\n",
      "Surely the voters in SA wont vote for this man again - what a disaster he is and he has turned SA into a basket case.\n",
      "I think Jay Wetherill is a fool. South Australia already has the highest energy prices in Australia and probably the developed world. And yet he continues to lead when it comes to formulating energy policy on idealogical grounds. Does he actually want South Australia to remain an economic basket case?\n",
      "If they vote this loon in again they deserve everything they get . What a disgraceful wasteful & squandered period in office . A dangerous lunatic who makes you wonder what was in it for him to destroy those power plants . Sabotage just to be sure no one can ever use them again. When energy companies make 400 million for a blackout lasting a few days it’s all looks very deliberate to make people suffer for profits .\n",
      "Ring fence SA, no more taxpayers cash from the Feds and shut down the interconnects, let it drown in its own stupidity!\n",
      "Good luck SA. Hope you like the dark, the cold in winter and the heat in summer. I would imagine a BBQ with a full bottle of gas or charcoal on hand at all times would be a must for every household. That will be the industry to be in in SA, and probably the only industry that will be left.\n",
      "Good,awesome investment opportunity. But I'm sure there'll be plenty of dinosaurs who refuse to see that.\n",
      "As a person who runs an off grid household of 5...it can be done and South Australia should be commended. Just remembered that a few short months ago the Feds said they were taking the public to the abyss...bashing this kind of investment is vandalism\n",
      "We will be even more f#@ked thanks to this moronic incompetent peanut and his cronies. Welcome to SA the bankrupt,basket case and black out state.\n",
      "This is what being a green Left ideologue central planning command segment economy mastermind eventually and inevitably leads to - complete disconnect from reality. These self interested ideologues in South Australia are the nation's greatest economic terrorist's. Surely they will not vote them back in, despite that State being virtually held hostage to the unicorn fairy dust ideology after these economic terrorist's just spent the last four years destroying every coal fired power station in the State, leaving any incoming government with nothing to work with but unicorn fairy dust, natural gas, a tax payer purchased crony corporate battery, and a host of emergency hired from the US diesel generators being used 24/7 as a result of their own idiocy.\n",
      "Must have a brain tumour as no one can be that stupid , but if everyone leaves he won't need power .\n",
      "How's the 50% target working out for you Weatherill?  What the hell, might as well double down and shoot for 75%. Maybe he should ring the gamblers hotline and get help...\n",
      "i presume this will include delinking from the coal fired power backstop from victoria and turning off the filthy diesel generators.....then maybe he can be taken seriously......another lefty moron\n",
      "He and his union mates can afford it. Meantime 12,000 a year lose connections, low income earners and pensioners scrimp and turn everything off to put food on the table. Businesses close and struggle, jobs and industry suffer. Rather than one source of low cost energy we have multiple supiers all with different technologies and business plans duplicating and creating inefficiency. Multiple suppliers is what will cost as their investors all push to put up price and profits. A true mess that will cost those that can least afford if.\n",
      "What a wonderful & inspiring leader. Someone with integrity who actually cares for the health of the planet we leave to our kids & understands that the more renewable energy we have the cheaper our energy costs will be \n",
      "Idiot!Victoria should refuse to back up their system. Let them go survive or fail on their own. Same with GST revenues, distribute it according to state earnings. Let Tas n SA stand on their own two feet.\n",
      "I recently visited Iceland, where they boast of having 99.99% renewable energy.  Mind you, they also have volcanos and lots of water to provide the renewable energy, neither of which are overly abundant in SA.\n",
      "Why am I paying for wires and poles on my power bill? It’s not to prop up mad leftie governments. Shut down the interconector and make SA stand on its own two feet. Let’s see how they get on !!!!The ACT stated not long ago that they were going 100% renewables! Great, but do not depend on NSW coal when the wind does not blow and the sun hides behind clouds. That’s simply hypocritical. But then, that’s Labour and the Greens for you.\n",
      "For what, more power outages and a higher cost of living? Even the Chief Scientist Alan Finkel said that if Australia managed to cut 100% of the country's carbon dioxide output, it would virtually have no effect on \"climate change\".\n",
      "More a Chardonnay labour vote catcher, than battlers? Solar and wind are very old, and not so green supply chain technologies, we something new?\n",
      "Nothing wrong with someone actually \"leading\". Labor will be returned. The SA Liberals are dead in the water with Marshall as their leader.\n",
      "Am I reading right or do people still believe in coal gas and oil. The change to renewables is happening so quick. People who don’t believe should just read something. Kookoo\n",
      "Of course that moron will be voted in. Too many morons in SA vote for the easy union and welfare ride. Disgusting creatures.\n",
      "Some say the definition of insanity is to do something the same way hoping to get a different result. That's SAs Jay to a t.\n",
      "And then there's the real world.   Not some greenie tossers dream of utopia that cannot work.  You are part of the problem\n",
      "ROTFLMAO!!!!!  Candles sales and sales of animal skins clothes will skyrocket as SA heads towards the. Middle Ages!\n",
      "Surely it's time for the conservatives to recognise that there day is done - we need more visionaries like Jay.\n",
      "Does he mean that he will only buy power from the other states through AEMO if the generation of that electricity meets that same criteria? Does he also include the recharging of the world's largest battery bank???????\n",
      "What is S.A.'s current renewable %? Is it 15%, and they already have massive problems? Let's not forget the 12 or so Diesel power generators that have been shipped in. How clean and feasible is it to burn Deisel?\n",
      "He must be off his rocker - he is gambling the state's future on unproven technology - this is crazy !\n",
      "Yep... this will end with 75% unemployment...\n",
      "If at first you don't (quite) succeed in stuffing the state's power system, try, try again.\n",
      "Shouldn't that headline read: Jay Weatherill pledges to destroy any hope of South Australia being self reliant & energy efficient?\n",
      "Hahahaha South Australia the rust belt\n",
      "The lunatics are running the asylums . All Australians will be paying in the long term .\n",
      "So labor only wants 25% reliable energy. Well done Muppet's.\n",
      "Hi diddle diddle the cow jumped over the moon\n",
      "SA is the welfare state. Highest unemployment and highest power prices\n",
      "Brenton. Looks like the power will be going out more in SA!\n",
      "No problem, just make sure they disconnect the power supply from the Eastern states.\n",
      "and that's the end of SA labour........ at last\n",
      "Turn off all power stations often enough and the target is easy!\n",
      "At least someone is actually doing something to address both climate change & sustainable energy!\n",
      "SA will see a spike in the sale of candles\n",
      "Pleased someone has a brain.\n",
      "Is that possible in one term, simply by providing $20 MN over 4 years?  I wouldn't have thought so.\n",
      "Still South Australians seem to have faith in him.\n",
      "How are the diesel generators going Weatherill?\n",
      "As long as he can deliver cheap electricity for all, but will it?\n",
      "Why mot make it 100% make a real idiot of himself.\n",
      "I hope South Australians like candles, they're gonna need em \n",
      "How long at what cost some people just don't know or want to know\n",
      "Just keep those diesels cranking in the back where no one can see\n",
      "HE   HAS  NO  IDEA  only    how  to  run  S>A   into  the  ground\n",
      "The candle industry is currently quite excited by this prospect.\n",
      "Maybe 75% of the state will be provided with stationary electricity generating bicycles. These guys are worth more money !!\n",
      "The current GST funding arrangements cocoon the State from this man’s folly.\n",
      "Jay, Rann, Copenhagen. We're the canary.\n",
      "Yep alot of people think they have a vision the problem is alot of people are going to suffer for their visions\n",
      "Who will pay  for his greenie ambitions\n",
      "How bout lifting the energy levels to 75%.\n",
      "\" It’s easy to be relaxed about green-scheme-driven price hikes when you’re on a big salary\" ...\n",
      "Already in the dark, may as well make it permanent Jay....\n",
      "This has been seems mentally unstable\n",
      "Best SA not be permitted to use the Eastern states for providing base load.\n",
      "At least the last one out of SA won't have to turn out the lights.  They'll do it themselves.\n",
      "Aren't they paying Elon Musk hundreds of millions to give away free solar systems?\n",
      "Good to see a politician with real conviction & spine.\n",
      "There’s no cure for stupid.Start planting those money trees \n",
      "Cool .. that’s why I live in Qld..what a dill\n",
      "Pure greentard lunacy.I see the usual muppets on this page defending this lunacy.\n",
      "Thus condemning the State to more unreliable and the most expensive energy supplies in the country!\n",
      "Hayden Frank in before rising gas imports from NSW/QLD\n",
      "over how many years ..malcolm s target is 2022 .i think ..or is that 2122??????.\n",
      "Change his specs a little and he looks a lot like Greens Senator Di Natalie! Buddies?\n",
      "Talk about living in the DARK AGES \n",
      "I've given up he is as bad or even worse than the greens god help us☻\n",
      "How much will the enemy cost? South Australia already has the highest energy costs in the world.\n",
      "You’ll be secretly burning  wood and coalTo heat your homes at night to afford it like they do in Germany .  His pipe dream, your wallet https://energy-charts.de/power.htm\n",
      "Barking mad!!!!!!\n",
      "FANTASTIC NEWS. This is leadership.\n",
      "Ollie Thomas what’s 75% of nothing? \n",
      "Terrific more higher prices \n",
      "Not at a cost to Victorian power ......\n",
      "At first they laughed ...\n",
      "This man is a moron .\n",
      "My target is 0. 100% coal. Cheap and reliable is Coal Power\n",
      " \n",
      "Good job!\n",
      "Why  do   people   in  S>A   vote  for   this  IDEOT?????\n",
      "Yay.....more blackouts......\n",
      "More black outs\n",
      "Brain scan urgently required.\n",
      "You've met dumb, now meet dumber!\n",
      "says it all.\n",
      "Yeah and pigs might fly also\n",
      "get ready for more black out's SA!!!\n",
      "Weatherdill\n",
      "i must be crazy or SA are smart !\n",
      "good old fabian— stuff everything\n",
      "Wot a nut case! And a Green Hitler.\n",
      "cut his subsidies off\n",
      "Strewth!\n",
      "Looks like Jay on the Globalist payroll at your expense .  Most German business generate own power to afford power  https://www.wsj.com/.../german-companies-take-back-the...\n",
      "This man is a moron....he has taken this State so far back and now the rest of the country has to subsidise the State of South Australia with the GST.  If the South Australian voters are so stupid to elect this man again, they deserve what they get.  Except that the taxpayers in other States should revolt about giving this State the GST they are not entitled to.\n",
      "South Aussies are morons if they elect this muppet\n",
      "Idiot.\n",
      "Rip in peace sa\n"
     ]
    },
    {
     "name": "stdin",
     "output_type": "stream",
     "text": [
      "Press Enter after closing the comments for the post... \n"
     ]
    },
    {
     "name": "stdout",
     "output_type": "stream",
     "text": [
      "Post 3: Queensland is set to legislate its 80 per cent renewable energy target by the end of the year.Watch the full episode at www.skynews.com.au/flash\n"
     ]
    },
    {
     "name": "stdin",
     "output_type": "stream",
     "text": [
      "Press Enter after opening the comments for the post... \n"
     ]
    },
    {
     "name": "stdout",
     "output_type": "stream",
     "text": [
      "Comments collected. You can now close the comments section.\n",
      "Comments:\n",
      "Interesting considering when the sun goes down we use at least 90% coal and gas for power\n",
      "How much money will this cost?\n",
      "You can say goodbye to any mid to heavy industry……..which is the plan anyway.\n",
      "Industrialisation of our beautiful country!How is this an environmental positive again??!Inefficient Unreliable Intrusive Unfathomable!!\n",
      "When does this ever get solved politically you like ! !\n",
      "Ahh well, you get what you vote for i guess.\n",
      "who's responsible in QLD gov't for all this lefty stuff?\n",
      "Nuclear is the future.\n",
      "they have 88 solar farms and dont know how many wind farms   qld is deforesting  by the millions of acres   that isnt digging holes for hydro also\n",
      "what happens when it floods and when we have fires, we saw  last flood what happened them going under water\n",
      "btw we have state owned  energy and yet our electricity prices have tripled\n",
      "Further subsidies from the Federal Govt?\n",
      "So where's the qld opposition promising at full volume to can this stupid idea.\n",
      "THAT MEANS WERE FUKED.\n",
      "What could possibly go wrong.\n",
      "Wow that's alot of panels to clean alot of grass to mow who gets to clean them after the next dust storm , remember to keep pumping the oil into those wind turbines sounds like alot of maintenance $$$$\n",
      "Whilst they still send gas and coal overseas to give them cheap power\n",
      "Get ready for blackouts.\n",
      "Why is burning coal in Australia wrong yet it is ok for other countries to continue to buy our coal for the same purpose.\n",
      "Labor destroying the people of this country purely to serve someone else's unproven agenda.\n",
      "Over 70% of power still coming from coal, Good luck with pulling off that lie\n",
      "Destroying farming land and destroying the landscape to make UNRELIABLE power\n",
      "Insanity!Save the planet while China, Russia & India etc pollute like crazy.More job losses, higher bills.\n",
      "They are dreaming it will fail!\n",
      "Renewable nonsense will do no difference…UN policy brainwashing…the left with media do all this for country control…where was this in 2021\n",
      "Target we actually reach will be frequent electricity outages with lots of throwing out the rancid frige contents.\n",
      "Does renewable energy go slower speed down the power lines than coal and gas energy go down power lines, Have ask Sky, They will know \n",
      "Bye Bye Qeensland \n",
      "The frothing from the cookers is epic..It's called progress ya dinosaurs ..\n",
      "23% increase in electricity costs by 1/7/23.Why can the QLD government export coal all over the world and make $13 billion in taxes, but we can’t have cheap energy because the QLD government is closing down coal fired power stations.\n",
      "The temperature around those solar panels is significantly higher than it would be in an open field. The temperature around trees is less. Plus trees make oxygen and eat CO2…PLANT MORE TREES\n"
     ]
    },
    {
     "name": "stdin",
     "output_type": "stream",
     "text": [
      "Press Enter after closing the comments for the post... \n"
     ]
    },
    {
     "name": "stdout",
     "output_type": "stream",
     "text": [
      "Post 4: Of all Australia’s climate policies, the Renewable Energy Target has been the most effective. Why have Australian governments moved away from it?\n"
     ]
    },
    {
     "name": "stdin",
     "output_type": "stream",
     "text": [
      "Press Enter after opening the comments for the post... \n"
     ]
    },
    {
     "name": "stdout",
     "output_type": "stream",
     "text": [
      "Comments collected. You can now close the comments section.\n",
      "Comments:\n",
      "Couldn't possibly be that a market and regulator designed by the industry is not functioning to the benefit of society as a whole.\n",
      "It amazes me how the wind turbines are never built any where near the cities but are built in the country area where they destruction of the environment is not seen.\n",
      "South Australia is almost 100% successfully reliant on wing and solar so it can be done. Strangely we have the highest power prices in Australia. Go figure.\n",
      "The billions of government dollars that go to fossil fuel subsidies slows the green energy transition. That’s why South Australians in this thread whinge about their higher prices for successful green power.        Remove the subsidies, make a level playing field, and transition would be cheap and easy.\n",
      "Can’t be achieved without sending everyone broke and can’t be delivered for both resource availability and manpower. Shortages\n",
      "There sure are a lot of small minded comments here, whining about how renewables can’t be successful\n",
      "Take away the subsidies and all the  renewable energy, climate change, barrier reef health would all be solved in a flash.\n",
      "When renewables are completely recyclable I might support them. What happens to wind turbines and solar panels at end of life???\n",
      "Wind Generation is a wretched and insufficient technology.\n",
      "Why have governments moved away?  Because it works, and that bothers the coalies.\n",
      "Let's get out of this renewable mindset, call these technologies what they currently are, unreliables! Once they become reliable & cost effective, which they currently aren't without a) subsidies b) penalties like royalty increases on fossil fuels to artificially close the conventional / unreliable cost gap. Then we can discuss phasing out the reliable conventional power gen' & replacing with fully developed new technologies including cost effective storage which current tech' batteries aren't!\n",
      "A target is an objective. An objective should fulfil the following criteria. An objective should be realistic, achievable and affordable (cost effective). QED ,perhaps governments have come to realise this.\n",
      "It’s too expensive, with a long way still to go to fulfil the 2050 emissions promise, and it is becoming obvious that Australia can’t afford to continue on with the project, especially when a final budget figure can’t be determined !!\n",
      "Everyone should join a group of activists and demand real, urgent climate and environmental action.It's a big deal - we can't thrive without a stable climate!\n",
      "So with Australia's renewable energy will we cease exporting our pollution to other countries, like in our coal and natural gas at reduced prices\n",
      "I hope our governments, state and federal, will listen to experts, such as Tony Wood at the Grattan Institute and the Clean Energy Council, and consider using the Renewable Energy Target (RET) to accelerate investment in new renewable supply. Time for the commonwealth to join with the states to \"build nationally consistent, market-based approach built on the Large-Scale Renewable Energy Target.\"\n",
      "Because storage is more expensive than panels.\n",
      "And not a word from the green peoples on how our land and waterways are being treated just shows how fair dinkum they are and yet they get support beats me \n",
      "A direct result of China's ban on Australia's coal for over a year was Chinese people either frozen to death or starved.\n",
      "If renewable energy is so good, how come I'm watching a show on TV telling us to look forward to blackouts this summer?\n",
      "Wait till they close the coal mines!!\n",
      "Got to have nuc\n",
      "Cost of living & authenticity\n"
     ]
    },
    {
     "name": "stdin",
     "output_type": "stream",
     "text": [
      "Press Enter after closing the comments for the post... \n"
     ]
    },
    {
     "name": "stdout",
     "output_type": "stream",
     "text": [
      "Post 5: The original and still the best: why it's time to renew Australia's renewable energy policy\n"
     ]
    },
    {
     "name": "stdin",
     "output_type": "stream",
     "text": [
      "Press Enter after opening the comments for the post... \n"
     ]
    },
    {
     "name": "stdout",
     "output_type": "stream",
     "text": [
      "Comments collected. You can now close the comments section.\n",
      "Comments:\n",
      "Couldn't possibly be that a market and regulator designed by the industry is not functioning to the benefit of society as a whole.\n",
      "It amazes me how the wind turbines are never built any where near the cities but are built in the country area where they destruction of the environment is not seen.\n",
      "South Australia is almost 100% successfully reliant on wing and solar so it can be done. Strangely we have the highest power prices in Australia. Go figure.\n",
      "The billions of government dollars that go to fossil fuel subsidies slows the green energy transition. That’s why South Australians in this thread whinge about their higher prices for successful green power.        Remove the subsidies, make a level playing field, and transition would be cheap and easy.\n",
      "Can’t be achieved without sending everyone broke and can’t be delivered for both resource availability and manpower. Shortages\n",
      "There sure are a lot of small minded comments here, whining about how renewables can’t be successful\n",
      "Take away the subsidies and all the  renewable energy, climate change, barrier reef health would all be solved in a flash.\n",
      "When renewables are completely recyclable I might support them. What happens to wind turbines and solar panels at end of life???\n",
      "Wind Generation is a wretched and insufficient technology.\n",
      "Why have governments moved away?  Because it works, and that bothers the coalies.\n",
      "Let's get out of this renewable mindset, call these technologies what they currently are, unreliables! Once they become reliable & cost effective, which they currently aren't without a) subsidies b) penalties like royalty increases on fossil fuels to artificially close the conventional / unreliable cost gap. Then we can discuss phasing out the reliable conventional power gen' & replacing with fully developed new technologies including cost effective storage which current tech' batteries aren't!\n",
      "A target is an objective. An objective should fulfil the following criteria. An objective should be realistic, achievable and affordable (cost effective). QED ,perhaps governments have come to realise this.\n",
      "It’s too expensive, with a long way still to go to fulfil the 2050 emissions promise, and it is becoming obvious that Australia can’t afford to continue on with the project, especially when a final budget figure can’t be determined !!\n",
      "Everyone should join a group of activists and demand real, urgent climate and environmental action.It's a big deal - we can't thrive without a stable climate!\n",
      "So with Australia's renewable energy will we cease exporting our pollution to other countries, like in our coal and natural gas at reduced prices\n",
      "I hope our governments, state and federal, will listen to experts, such as Tony Wood at the Grattan Institute and the Clean Energy Council, and consider using the Renewable Energy Target (RET) to accelerate investment in new renewable supply. Time for the commonwealth to join with the states to \"build nationally consistent, market-based approach built on the Large-Scale Renewable Energy Target.\"\n",
      "Because storage is more expensive than panels.\n",
      "And not a word from the green peoples on how our land and waterways are being treated just shows how fair dinkum they are and yet they get support beats me \n",
      "A direct result of China's ban on Australia's coal for over a year was Chinese people either frozen to death or starved.\n",
      "If renewable energy is so good, how come I'm watching a show on TV telling us to look forward to blackouts this summer?\n",
      "Wait till they close the coal mines!!\n",
      "Got to have nuc\n",
      "Cost of living & authenticity\n"
     ]
    },
    {
     "name": "stdin",
     "output_type": "stream",
     "text": [
      "Press Enter after closing the comments for the post... \n"
     ]
    },
    {
     "name": "stdout",
     "output_type": "stream",
     "text": [
      "Post 6: Craig Kelly: South Australia's 50% renewable energy target has been an 'unmitigated disaster'. #Credlin\n"
     ]
    },
    {
     "name": "stdin",
     "output_type": "stream",
     "text": [
      "Press Enter after opening the comments for the post... \n"
     ]
    },
    {
     "name": "stdout",
     "output_type": "stream",
     "text": [
      "Comments collected. You can now close the comments section.\n",
      "Comments:\n",
      "He seems to be the only one game enough to speak out against renewables which are making us poorer and destroying businesses.\n",
      "Its just about money going to the central banking cartel.https://larryhannigan.com/.../24-high-level-govt-corruption/\n"
     ]
    },
    {
     "name": "stdin",
     "output_type": "stream",
     "text": [
      "Press Enter after closing the comments for the post... \n"
     ]
    },
    {
     "name": "stdout",
     "output_type": "stream",
     "text": [
      "Post 7: The government's move to lower the renewable energy target has claimed 100 jobs today, at one of Australia's largest manufacturers of wind farm towers.\n"
     ]
    },
    {
     "name": "stdin",
     "output_type": "stream",
     "text": [
      "Press Enter after opening the comments for the post... \n"
     ]
    },
    {
     "name": "stdout",
     "output_type": "stream",
     "text": [
      "Comments collected. You can now close the comments section.\n",
      "Comments:\n",
      "About time\n",
      "Some government. How backward can you get?\n",
      "When Tony dum dum said he would create all those jobs ,who knew it was in the negative.\n",
      "Does this mean no more taxpayer subsidised eyesores?\n",
      "Matthew Ryenbakken\n",
      "Yes stop the taxpayer funded eyesores..http://www.tai.org.au/content/pouring-more-fuel-fire\n",
      "And\n",
      "Apparently most of the manufacturing jobs have gone because of higher energy prices and bloody govt policies!\n",
      "http://www.dingosoft.com.au/images/timetopanic.png\n",
      "It had to happen the whole thing is a farce..\n",
      "Hooray!\n",
      "That seems pretty backwards. Very disappointed in Australian policies lately. I had admired a country with more foresight than my USA.\n",
      "RET is a waste of taxpayer's money.\n",
      "What about all the jobs lost as a direct result of the CT... this company has profited from the deceitful tax in the first place Wind Farms are a blight\n",
      "australia forever\n",
      "Great move.\n",
      "Good riddance to those disgusting wind farms. They do bugger all for actual power benefits and ruin our beautiful natural landscapes.\n",
      "about time, sack all the wind farms\n",
      "AND?\n",
      "Yep, just about freaking time\n",
      "Good, much much more to do.\n",
      "On his way to a million jobs\n",
      "As a LNP supporter, I am disappointed in this. It seems a bit backward\n",
      "Australia should be relying on sun and wind for power. We are perfectly placed but oh no, CEO's would lose millions and profits would go down. Its all about the profits which just make rich people richer.\n",
      "Yep we can now be on the path to restoring the many thousands of jobs this bs RET has caused.These wind farms are unreliable and not sustainable without massive subsidies.\n",
      "The Chinese are making so much money from it they wont be happy..but I am VERY  happy as the earth hasent warmed for 17 years.Its actually cooling... The cost to industry for this energy is so high ,,THAT is why industry in going off shore where its cheaper to manufacture and make more jobs for others other than Aussies.\n",
      "Yes but NOT sustainable without subsidy...................... a bit like the car industry\n",
      "The solution is simple, it's not rocket science, it's not even climate science - build more Coal Fired Power Stations .. These people, and a lot more will have jobs, and who knows, we might even get cheaper power ..Coal is King !\n",
      "Good, taxpayer funded garbage to begin with.\n",
      "they are a health hazard to humans and animals\n",
      "I'm proud of the government we have. If you invest in this greenie stuff you better have a backup plan\n",
      "If we relied on solar and wind power,, What do we do when the wind dosent blow and the sun dosent shine..Close down industry and lose more jobs..It is profitable companies that employ people, No profit no jobs.. so be thankful for profitable companies, who give you a job and a wage to put food on your table.\n",
      "I feel bad for the workers but given the company was only surviving thanks to both subsidies and the RET then stuff them. \n",
      "Get rid of all the wind farms.  No Gov subsidies allowed.  Tell the promoters to build Egyptian type pyramids instead (non-subsidized) as at least pyramids would be a tourist attraction.  POX on the wind farms = SCAMS.  What cheek they have to expect their expensive dribble of electricity be channeled into the national grid without OUR permission.\n",
      "I never realised that the Australian Facebook page was inhabited by such a huge array of totally ignorant people. \n",
      "how much are these wind farms costing us.?\n",
      "Geoffrey Fyrhthe. With that type of growth industry the country would be broke in no time. Our tax money is what kept them in business.\n",
      "They were never real jobs - just 'creations' of Labour/Greens and Tim Flannery - never sustainable!\n",
      "Use of alternative energy is motivating industry participation. Space exploration was also newer cash producing in itself, but produced hundreds of products that are in commercial use now!...\n",
      "Is this about the Spanish owned Wind farm who is Subsidised by the Australian People. We are no longer giving money to the car industry, why should we have a higher cost of living to support a company that is not even Australian.\n",
      "A very misleading headline.Keppel have been sustaining losses in the business for quite a long time due to imported towers.This was allowed to happen under the Labor government and the result falls due now.\n",
      "Nature friend system. Thanks for the positive work.\n",
      "We lost over 100 workers .... No subsidies here!!!\n",
      "We had the same thing happen when the internet promised decentralisation of the media ... the old boys don't like that ... what we're seeing is a delaying tactic by the old boys who run the electricity and gas companies while they develop a new business model to dominate the emerging technology\n",
      "Good! Stupid Jobs, go and do something useful!\n",
      "Electricity prices rising, fuel rising and gas prices increasing.CSG being exported, refineries sent overseas and people are being ripped off by Energy Companies.What benefit do Pensioners, unemployed and those on the lower incomes get-nothing. What a disgrace!\n",
      "Oh...it's about 100 jobs, not that people care about renewable energy for the environment\n",
      "Good wind farms are expensive and unreliable\n",
      "I just moved to Australia, so I don't know how the electricity prices are going here. But without any subsidies, wind power is the second cheapest source in my country (Brazil). To get to this point, there was offered  some temporary laws to protect local industry. Now wind power is competitive there since government cut the subsidies in the right moment. Maybe they should keep protecting this industry here for a little longer until the prices be competitive. After all it's a new technology, it will be cheaper sometime.\n",
      "And as an engineer from a mining state as i am i know mining doesn't provide too much jobs. Huge mines are usually operated by no more than a few hundreds.\n",
      "Cutting subsidies to coal doesn't affect local economies that much. During this 2009 crisis brazilian mining industry (as big as australian's) lost no more than 600-700 jobs.\n",
      "Brenton Dearing They have fabricated Telstra Towers for many years.\n",
      "Just another way the Abbott Govt. is saving jobs & creating more!! (NOT)\n",
      "wind power = reckless agenda drive politics.  People have been forced out of their homes by severe migraines and depression, brought on by the relentless noise and vibration from wind turbines.  its all the yuppy town greenies who don't have to live with them who worship at the green altar.\n",
      "They are  NOT  made in Australia. So where are the jobs lost, in China?\n",
      "Stupid govt\n",
      "Ronald Creed indeed they do. I have been up a few!\n",
      "They ought to just call it for what it is , Farming the peasants , Truism . Environmentally friendly , False  Plunderer friendly , Reality . Economic disaster and a fraud.  It started with a hand full of Lawyers you know.\n",
      "There is no way that a response to make workers redundant can follow so closely after a government decision.\n",
      "Wind farms are a blight on the landscape, kill wildlife and fill the coffers of big green companies, who try to keep secret they destroy the environment.\n",
      "what a great move...\n",
      "Windmills will destroy us all. Even now they are lurking, waiting to destroy us. Windmills are behind all the major disasters of our time.\n",
      "Why, anyone could be a windmill, even you!\n"
     ]
    },
    {
     "name": "stdin",
     "output_type": "stream",
     "text": [
      "Press Enter after closing the comments for the post... \n"
     ]
    },
    {
     "name": "stdout",
     "output_type": "stream",
     "text": [
      "Post 8: Move to lower renewable energy target claims 100 jobs at Keppel PrinceONE of Australia’s largest manufacturers of wind farm towers has made 100 workers redundant today in direct response to the Abbott government’s move to lower the renewable energy target.\n"
     ]
    },
    {
     "name": "stdin",
     "output_type": "stream",
     "text": [
      "Press Enter after opening the comments for the post... \n"
     ]
    },
    {
     "name": "stdout",
     "output_type": "stream",
     "text": [
      "Comments collected. You can now close the comments section.\n",
      "Comments:\n",
      "About time\n",
      "Some government. How backward can you get?\n",
      "When Tony dum dum said he would create all those jobs ,who knew it was in the negative.\n",
      "Does this mean no more taxpayer subsidised eyesores?\n",
      "Matthew Ryenbakken\n",
      "Yes stop the taxpayer funded eyesores..http://www.tai.org.au/content/pouring-more-fuel-fire\n",
      "And\n",
      "Apparently most of the manufacturing jobs have gone because of higher energy prices and bloody govt policies!\n",
      "http://www.dingosoft.com.au/images/timetopanic.png\n",
      "It had to happen the whole thing is a farce..\n",
      "Hooray!\n",
      "That seems pretty backwards. Very disappointed in Australian policies lately. I had admired a country with more foresight than my USA.\n",
      "RET is a waste of taxpayer's money.\n",
      "What about all the jobs lost as a direct result of the CT... this company has profited from the deceitful tax in the first place Wind Farms are a blight\n",
      "australia forever\n",
      "Great move.\n",
      "Good riddance to those disgusting wind farms. They do bugger all for actual power benefits and ruin our beautiful natural landscapes.\n",
      "about time, sack all the wind farms\n",
      "AND?\n",
      "Yep, just about freaking time\n",
      "Good, much much more to do.\n",
      "On his way to a million jobs\n",
      "As a LNP supporter, I am disappointed in this. It seems a bit backward\n",
      "Australia should be relying on sun and wind for power. We are perfectly placed but oh no, CEO's would lose millions and profits would go down. Its all about the profits which just make rich people richer.\n",
      "Yep we can now be on the path to restoring the many thousands of jobs this bs RET has caused.These wind farms are unreliable and not sustainable without massive subsidies.\n",
      "The Chinese are making so much money from it they wont be happy..but I am VERY  happy as the earth hasent warmed for 17 years.Its actually cooling... The cost to industry for this energy is so high ,,THAT is why industry in going off shore where its cheaper to manufacture and make more jobs for others other than Aussies.\n",
      "Yes but NOT sustainable without subsidy...................... a bit like the car industry\n",
      "The solution is simple, it's not rocket science, it's not even climate science - build more Coal Fired Power Stations .. These people, and a lot more will have jobs, and who knows, we might even get cheaper power ..Coal is King !\n",
      "Good, taxpayer funded garbage to begin with.\n",
      "they are a health hazard to humans and animals\n",
      "I'm proud of the government we have. If you invest in this greenie stuff you better have a backup plan\n",
      "If we relied on solar and wind power,, What do we do when the wind dosent blow and the sun dosent shine..Close down industry and lose more jobs..It is profitable companies that employ people, No profit no jobs.. so be thankful for profitable companies, who give you a job and a wage to put food on your table.\n",
      "I feel bad for the workers but given the company was only surviving thanks to both subsidies and the RET then stuff them. \n",
      "Get rid of all the wind farms.  No Gov subsidies allowed.  Tell the promoters to build Egyptian type pyramids instead (non-subsidized) as at least pyramids would be a tourist attraction.  POX on the wind farms = SCAMS.  What cheek they have to expect their expensive dribble of electricity be channeled into the national grid without OUR permission.\n",
      "I never realised that the Australian Facebook page was inhabited by such a huge array of totally ignorant people. \n",
      "how much are these wind farms costing us.?\n",
      "Geoffrey Fyrhthe. With that type of growth industry the country would be broke in no time. Our tax money is what kept them in business.\n",
      "They were never real jobs - just 'creations' of Labour/Greens and Tim Flannery - never sustainable!\n",
      "Use of alternative energy is motivating industry participation. Space exploration was also newer cash producing in itself, but produced hundreds of products that are in commercial use now!...\n",
      "Is this about the Spanish owned Wind farm who is Subsidised by the Australian People. We are no longer giving money to the car industry, why should we have a higher cost of living to support a company that is not even Australian.\n",
      "A very misleading headline.Keppel have been sustaining losses in the business for quite a long time due to imported towers.This was allowed to happen under the Labor government and the result falls due now.\n",
      "Nature friend system. Thanks for the positive work.\n",
      "We lost over 100 workers .... No subsidies here!!!\n",
      "We had the same thing happen when the internet promised decentralisation of the media ... the old boys don't like that ... what we're seeing is a delaying tactic by the old boys who run the electricity and gas companies while they develop a new business model to dominate the emerging technology\n",
      "Good! Stupid Jobs, go and do something useful!\n",
      "Electricity prices rising, fuel rising and gas prices increasing.CSG being exported, refineries sent overseas and people are being ripped off by Energy Companies.What benefit do Pensioners, unemployed and those on the lower incomes get-nothing. What a disgrace!\n",
      "Oh...it's about 100 jobs, not that people care about renewable energy for the environment\n",
      "Good wind farms are expensive and unreliable\n",
      "I just moved to Australia, so I don't know how the electricity prices are going here. But without any subsidies, wind power is the second cheapest source in my country (Brazil). To get to this point, there was offered  some temporary laws to protect local industry. Now wind power is competitive there since government cut the subsidies in the right moment. Maybe they should keep protecting this industry here for a little longer until the prices be competitive. After all it's a new technology, it will be cheaper sometime.\n",
      "And as an engineer from a mining state as i am i know mining doesn't provide too much jobs. Huge mines are usually operated by no more than a few hundreds.\n",
      "Cutting subsidies to coal doesn't affect local economies that much. During this 2009 crisis brazilian mining industry (as big as australian's) lost no more than 600-700 jobs.\n",
      "Brenton Dearing They have fabricated Telstra Towers for many years.\n",
      "Just another way the Abbott Govt. is saving jobs & creating more!! (NOT)\n",
      "wind power = reckless agenda drive politics.  People have been forced out of their homes by severe migraines and depression, brought on by the relentless noise and vibration from wind turbines.  its all the yuppy town greenies who don't have to live with them who worship at the green altar.\n",
      "They are  NOT  made in Australia. So where are the jobs lost, in China?\n",
      "Stupid govt\n",
      "Ronald Creed indeed they do. I have been up a few!\n",
      "They ought to just call it for what it is , Farming the peasants , Truism . Environmentally friendly , False  Plunderer friendly , Reality . Economic disaster and a fraud.  It started with a hand full of Lawyers you know.\n",
      "There is no way that a response to make workers redundant can follow so closely after a government decision.\n",
      "Wind farms are a blight on the landscape, kill wildlife and fill the coffers of big green companies, who try to keep secret they destroy the environment.\n",
      "what a great move...\n",
      "Windmills will destroy us all. Even now they are lurking, waiting to destroy us. Windmills are behind all the major disasters of our time.\n",
      "Why, anyone could be a windmill, even you!\n"
     ]
    },
    {
     "name": "stdin",
     "output_type": "stream",
     "text": [
      "Press Enter after closing the comments for the post... \n"
     ]
    },
    {
     "name": "stdout",
     "output_type": "stream",
     "text": [
      "Post 9: Sky News host Paul Murray says the Greens are \"telling us upfront what they plan to do\" should Labor win the next federal election, including a push for 700 per cent renewable energy target.\n"
     ]
    },
    {
     "name": "stdin",
     "output_type": "stream",
     "text": [
      "Press Enter after opening the comments for the post... \n"
     ]
    },
    {
     "name": "stdout",
     "output_type": "stream",
     "text": [
      "Comments collected. You can now close the comments section.\n",
      "Comments:\n",
      "Nuclear is the only cost effective, clean and reliable way to do it.\n",
      "Greens ALWAYS LAST ON MY BALLOT.....\n",
      "I thought he was a honest man all he is journalist for Scott Morrison not fair Andrew Bolt tries to give both sides But Paul doesn’t this even trying to suggest figures are ok etc \n",
      "Journalists with such a poor understanding of mathematics, now that is a real worry.   Labor's policy at the last election was a 50% target - that is half of all electricity generated by renewables.   The Greens might want a 100% target.   But 700%?\n",
      "Let them go ahead and try........when they do I cant wait to hear the SILENCE on Twitter and fb, bc they won’t be able to recharge their devices!\n",
      "The left has no standards but our Government continues to preference them and fund their lunatic schemes.\n",
      "This is the clown who'll rule Albo and the Labor party. \n",
      "Just cover more farmlands with those solar panels and clear away the trees to put up wind farms? We will have a Sunday drive to go and look at the living metal things! Might make the target though. Great for climate change. \n",
      "What does 700% mean, the wankers want to produce seven times our requirements. Do they want to export electricity, I don’t think we can have transmission lines to New Zealand, PNG couldn’t pay, between us and East Timor or Indonesia there is the continental shelf. More ridiculous ideas from a party of dope smokers.\n",
      "watch a doco called \"Planet of the Humans\" it's mind blowing.\n",
      "Just an excuse to raise taxes as if we don’t already pay enough \n",
      "I guess Sky news is already starting worrying about a Future Labor Gov, geez how dump people have to be to believe these kind of BS \n",
      "I think Brandt, the angry ant has confirmed he really has lost it.\n",
      "The Democrats were also upfront with their dangerous policies which they are now implementing - Australia obviously wants to head the same way. Our PM seems weak in front of all this.\n",
      "You reporters are full of s*** tell everybody about the spraying in the skies poison and hiding the sun there spraying every day look at the sky\n",
      "Yeah man... lets set up wind farms, solar farms and start mining uranium on sacred indigenous lands across the country... wait, what? Hold up... go back a step man. \n",
      "The biggest threat to Australia is the Chinese taking us over.  They have the military might to just walk in and take our country over.  That’s all thanks to us weakening our economy by letting the UN and greenies dictate our policies on climate change, population growth and the trashing of our manufacturing industries.  Australia needs to ditch all the UN and climate alarmist BS and start manufacturing stuff including cars and our own defence equipment.\n",
      "So when did the Greens go into coalition with Labor?\n",
      "How many bongs have you had mate ?\n",
      "And the libs want to give hundreds of millions of dollars to companies to run concentration camps to house refugees ! Wouldn't it be better to release them and put that in to green energy farms for Australians !\n",
      "Most of the Greenies went to university to get a masters degree with honours in stupidity that makes them very smart l am thinking  just wondering.\n",
      "Finally some sensible comments in the news today\n",
      "First it was the bushfires now the floods. Who is to blame???? THE GREENS!!!!!Why do people vote for them?????\n",
      "Paul look into the 2 billion dollar wind and solar farm at Hughenden in western Queensland it is a white elephant. Apparently the fans have been locked down and will stay this way until being bulldozed into the ground. It will never put one kilowatt back into the grid. Another waste of tax payer money but will never hear anything about it.\n",
      "How do you get more than 100% again?\n",
      "There off the planet \n",
      "It’s only green if it takes money out of everyone else’s pockets....\n",
      "The Morrison Government is in a terminal nose dive.....quick! Come up with a scare campaign against Labor.\n",
      "Having a pack of raping swinging dicks isn't a worry Murray. Concentrate on what's happening now rather than dreaming up and deflecting what's going to happen at the next election.\n",
      "Paul your looking an American police officer, overweight and sad.\n",
      " Disaster if they get in \n",
      "The Greens can push as much as they like, doesn’t mean either party will comply. Albanese has been slowly trying to edge the party toward the Centre, so highly unlikely Labor will play the Green’s game!\n",
      "If you believe Sky News then you are deluded!\n",
      "The Greens the most hated group with bush and country people in the area I grew up in \n",
      "Hope they don't run out of TWTD syndrome medications...lol\n",
      "The GreenALPLibsNats are all sold out to the U.N Communists Agenda of Climate Change and the Plandemic.\n",
      "Unless the materials used in the manufacturing process of the \"renewable\" energy industry are in infinite supply they're talking horse \n",
      "When all else fails send in sky to fabricate a scare campaign \n",
      "All the greens are telling ya is get morrision to tell his mates to stop getting girls pissed and raping them....\n",
      "Always greens last, greens light (Labor) second last then up in order of who will do the least damage.  It would be nice to occasionally find some who want to make our country better for us, not just for them and their ideology. \n",
      "I hate lab .But I hate any government  more who trying  to make a vaccine  mandatory . Gov that spent  3.7 billion  on a vaccine that 99  percent  for people dont need. Gov that wont let me live free and travel  . So Paul with your control media stick your vaccine up your  Azz.\n",
      "What Government says is never what Government does\n",
      "Lol maybe sky proof readers should put in a 700% effort..\n",
      "Just like Bidens crew. Dont take it with a pinch of salt.  \n",
      "Sounds like Murdoch is running scared after Victoria, Queensland, WA and to a lesser extent the territories, have all increased their Labor strongholds. (And i’ll Include NZ in this too. Interesting what the Tassie state election holds. \n",
      "Thanks for the warning.\n",
      "Revenue raising with scare mongering lies\n",
      "Bahaha hahaha... Back to the Buffet Paul... That the only subject you're a true Expert.\n",
      "Usually rapists selfconfess to their actions becoz of their conscience but in the case of Scott Morrison's rapist's men they don't because like their boss cannot find another job if they r kicked out of parliament. \n",
      "W\n",
      "Meanwhile , back on Earth.\n",
      "IT IS SO SIMPLE  DO not VOTE FOR THIS IDIOT AT NEXT ELECTION I THINK HE IS A BIT DERANGED  THIS IS THE SAME PERSON THAT  Called PROTESTERS IN MELBOURNE who disrupted the city for 7 days  HEROES.    HEROES ARE PEOPLE THAT DO GREAT THINGS and save people not destroy people lives and livelyhoods.\n",
      "It will be decided on the refugees trust me.the average Australian is seeing the u.s Mexico border we know a greens/labor government means boats.covid won't truly be over until probably the end of 2022.could you imagine what would happen if at the beginning of the year labor gets in the boats show up and people start dying of covid and we are plunged into stage 4 lockdown...because that is what will happen\n",
      "Federally we need to do what WA did...vote out all Greens!!\n",
      "Wouldn’t things be better if Murdoch and his puppets actually contributed something good for the world ..  can’t believe so many idiots but into this angry bunch of shock jocks \n",
      "Every one knows if Labor get in its back to open Borders,  one look at the mess Biden has created in two months is enough to see where we will be under Labor\n",
      "Self serving and no different to any of the other major parties, the reset gas turned local problems into global ones, congratulations in making mountains  out of molehills.\n",
      "Will never  happen labor and greens TOTAL  WASTE IF OXYGEN\n",
      "The greens can't do anything they only  get like 1 seat in the house and 2 or 3 Senate seats\n",
      "Any one who needs to invoke the term Leftie is just fktarded \n",
      "\"Greens\" - seriously, we'd all be better off if \"every single one\" of you lot simply \"became extinct\"......\n",
      "australias dumocraps\n",
      "Sounds good, and quite doable. \n",
      "someone needs to throat unch that unt \n",
      "Fat boy go to bed\n",
      "You thought trump was going win so your judgment is not very good do you think people will vote for a failed leader like Scumo who main priorities his protecting rapist and sex pests\n",
      "Usually rapists selfconfess to their actions becoz of their conscience but in the case of Scott Morrison's rapist's men they don't because like their boss cannot find another job if they r kicked out of parliament. \n",
      "Lunatics.Fabian Lunatics.Utter lunacy sprouted again by the Green Clowns.\n",
      "Idiots\n",
      "Adam Bandt = wanker \n",
      "No way \n",
      "LEFT=IDIOT.\n",
      "Stupidity out of control.\n",
      "Stuff the greens\n",
      "Good\n",
      "If you like endless poverty ...  https://l.facebook.com/l.php?u=https%3A%2F%2Fstopthesethings.com%2F2021%2F03%2F25%2Finevitable-transition-get-ready-for-the-insane-cost-of-attempting-to-rely-on-wind-solar%2F%3Ffbclid%3DIwAR05MfhED1_ftbv8nEX_n1trqshCQH752zGsNjFHhdqqOgBelkfbnK2okJk&h=AT2fv5SOQs4suApmTZXKQleNdTLvrmYxrxN4FqbjXHMKZV_1e_hS1K2btEI9ePt21B6WrM4yYSNeMGZ3CG8I3EAkCnFrIxrZ97U0rpix28paWLshIgd13ww9R8N-ysUaeiwOOgD1&__tn__=%2CmH-R&c[0]=AT3mfV37yscdhnuH8C2gjT44F8mAXL8aFCee4a4RJH1znFS1osZAc8HCDx8aXSyEVv_qYnLGCSDCmyYJISHaV9bsTiE-EZrdTp1CwSlYc797lt0o7f9U1UzpS8U3wOAkU_6MOraVEErecHrlNwML_wIzK9elvtzjuO53LIWPmWMOyV8\n",
      "Cock sucker\n",
      "https://l.facebook.com/l.php?u=https%3A%2F%2Fwww.theguardian.com%2Faustralia-news%2F2021%2Fmar%2F25%2Fwarren-entsch-contradicts-peta-credlin-claiming-he-sacked-staffer-accused-of-solo-sex-act-for-leaking-to-her%3Ffbclid%3DIwAR1161hVj0K93ZOuZooN-km7yQw52gRwC2zYAH-06xAu4C66sHHxH1kq0pw&h=AT0uOpAsod4gIrJaaYjM3lqS45GgFKm209pnoZnOcMuIB21_Mzjz6gUZQx-_blUyQUvhzdUcIXTm2u6O77owSd8aEO6AX18iAjzZuVNAPTUXRr6Sz_19bUkru7c_ABdkV_eIuKYs6A2uwmom0bAj&__tn__=%2CmH-R&c[0]=AT3WksSU7pFyaxaGImvCKUZdUTwtWTQL1rZqgvIb6Z-DcmOeNF6uI-BS2sm4pNE1VwJr9a3kogy-U9jLDndl-JTT4amI01cIxRgOopGW046C2kfXrDozihntBaAgwMlbA39e5ChgWP6YWgYdDrrcRM8XkgCz3DlwohGq6iUwBGuyMK-oaVuuT7LuTTrH9H3jCnqJ0dyb5z6Q8o6lCY0NRw\n",
      "What a joke Shorten\n",
      "Laughable!\n",
      "Labor wont win just vote Liberal\n",
      "pushing as usual ....\n",
      "The nutters are about to start running the asylum. God help us\n",
      "https://l.facebook.com/l.php...\n",
      "The green slime.\n",
      "Excellent \n",
      "DH !!!!!!\n"
     ]
    },
    {
     "name": "stdin",
     "output_type": "stream",
     "text": [
      "Press Enter after closing the comments for the post... \n"
     ]
    },
    {
     "name": "stdout",
     "output_type": "stream",
     "text": [
      "Post 10: Greens pushing for 700 per cent renewable energy targetagC6CMXjYS4bLCqSV8miZgXj0NFEjUwghbLddY\n"
     ]
    },
    {
     "name": "stdin",
     "output_type": "stream",
     "text": [
      "Press Enter after opening the comments for the post... \n"
     ]
    },
    {
     "name": "stdout",
     "output_type": "stream",
     "text": [
      "Comments collected. You can now close the comments section.\n",
      "Comments:\n",
      "Nuclear is the only cost effective, clean and reliable way to do it.\n",
      "Greens ALWAYS LAST ON MY BALLOT.....\n",
      "I thought he was a honest man all he is journalist for Scott Morrison not fair Andrew Bolt tries to give both sides But Paul doesn’t this even trying to suggest figures are ok etc \n",
      "Journalists with such a poor understanding of mathematics, now that is a real worry.   Labor's policy at the last election was a 50% target - that is half of all electricity generated by renewables.   The Greens might want a 100% target.   But 700%?\n",
      "Let them go ahead and try........when they do I cant wait to hear the SILENCE on Twitter and fb, bc they won’t be able to recharge their devices!\n",
      "The left has no standards but our Government continues to preference them and fund their lunatic schemes.\n",
      "This is the clown who'll rule Albo and the Labor party. \n",
      "Just cover more farmlands with those solar panels and clear away the trees to put up wind farms? We will have a Sunday drive to go and look at the living metal things! Might make the target though. Great for climate change. \n",
      "What does 700% mean, the wankers want to produce seven times our requirements. Do they want to export electricity, I don’t think we can have transmission lines to New Zealand, PNG couldn’t pay, between us and East Timor or Indonesia there is the continental shelf. More ridiculous ideas from a party of dope smokers.\n",
      "watch a doco called \"Planet of the Humans\" it's mind blowing.\n",
      "Just an excuse to raise taxes as if we don’t already pay enough \n",
      "I guess Sky news is already starting worrying about a Future Labor Gov, geez how dump people have to be to believe these kind of BS \n",
      "I think Brandt, the angry ant has confirmed he really has lost it.\n",
      "The Democrats were also upfront with their dangerous policies which they are now implementing - Australia obviously wants to head the same way. Our PM seems weak in front of all this.\n",
      "You reporters are full of s*** tell everybody about the spraying in the skies poison and hiding the sun there spraying every day look at the sky\n",
      "Yeah man... lets set up wind farms, solar farms and start mining uranium on sacred indigenous lands across the country... wait, what? Hold up... go back a step man. \n",
      "The biggest threat to Australia is the Chinese taking us over.  They have the military might to just walk in and take our country over.  That’s all thanks to us weakening our economy by letting the UN and greenies dictate our policies on climate change, population growth and the trashing of our manufacturing industries.  Australia needs to ditch all the UN and climate alarmist BS and start manufacturing stuff including cars and our own defence equipment.\n",
      "So when did the Greens go into coalition with Labor?\n",
      "How many bongs have you had mate ?\n",
      "And the libs want to give hundreds of millions of dollars to companies to run concentration camps to house refugees ! Wouldn't it be better to release them and put that in to green energy farms for Australians !\n",
      "Most of the Greenies went to university to get a masters degree with honours in stupidity that makes them very smart l am thinking  just wondering.\n",
      "Finally some sensible comments in the news today\n",
      "First it was the bushfires now the floods. Who is to blame???? THE GREENS!!!!!Why do people vote for them?????\n",
      "Paul look into the 2 billion dollar wind and solar farm at Hughenden in western Queensland it is a white elephant. Apparently the fans have been locked down and will stay this way until being bulldozed into the ground. It will never put one kilowatt back into the grid. Another waste of tax payer money but will never hear anything about it.\n",
      "How do you get more than 100% again?\n",
      "There off the planet \n",
      "It’s only green if it takes money out of everyone else’s pockets....\n",
      "The Morrison Government is in a terminal nose dive.....quick! Come up with a scare campaign against Labor.\n",
      "Having a pack of raping swinging dicks isn't a worry Murray. Concentrate on what's happening now rather than dreaming up and deflecting what's going to happen at the next election.\n",
      "Paul your looking an American police officer, overweight and sad.\n",
      " Disaster if they get in \n",
      "The Greens can push as much as they like, doesn’t mean either party will comply. Albanese has been slowly trying to edge the party toward the Centre, so highly unlikely Labor will play the Green’s game!\n",
      "If you believe Sky News then you are deluded!\n",
      "The Greens the most hated group with bush and country people in the area I grew up in \n",
      "Hope they don't run out of TWTD syndrome medications...lol\n",
      "The GreenALPLibsNats are all sold out to the U.N Communists Agenda of Climate Change and the Plandemic.\n",
      "Unless the materials used in the manufacturing process of the \"renewable\" energy industry are in infinite supply they're talking horse \n",
      "When all else fails send in sky to fabricate a scare campaign \n",
      "All the greens are telling ya is get morrision to tell his mates to stop getting girls pissed and raping them....\n",
      "Always greens last, greens light (Labor) second last then up in order of who will do the least damage.  It would be nice to occasionally find some who want to make our country better for us, not just for them and their ideology. \n",
      "I hate lab .But I hate any government  more who trying  to make a vaccine  mandatory . Gov that spent  3.7 billion  on a vaccine that 99  percent  for people dont need. Gov that wont let me live free and travel  . So Paul with your control media stick your vaccine up your  Azz.\n",
      "What Government says is never what Government does\n",
      "Lol maybe sky proof readers should put in a 700% effort..\n",
      "Just like Bidens crew. Dont take it with a pinch of salt.  \n",
      "Sounds like Murdoch is running scared after Victoria, Queensland, WA and to a lesser extent the territories, have all increased their Labor strongholds. (And i’ll Include NZ in this too. Interesting what the Tassie state election holds. \n",
      "Thanks for the warning.\n",
      "Revenue raising with scare mongering lies\n",
      "Bahaha hahaha... Back to the Buffet Paul... That the only subject you're a true Expert.\n",
      "Usually rapists selfconfess to their actions becoz of their conscience but in the case of Scott Morrison's rapist's men they don't because like their boss cannot find another job if they r kicked out of parliament. \n",
      "W\n",
      "Meanwhile , back on Earth.\n",
      "IT IS SO SIMPLE  DO not VOTE FOR THIS IDIOT AT NEXT ELECTION I THINK HE IS A BIT DERANGED  THIS IS THE SAME PERSON THAT  Called PROTESTERS IN MELBOURNE who disrupted the city for 7 days  HEROES.    HEROES ARE PEOPLE THAT DO GREAT THINGS and save people not destroy people lives and livelyhoods.\n",
      "It will be decided on the refugees trust me.the average Australian is seeing the u.s Mexico border we know a greens/labor government means boats.covid won't truly be over until probably the end of 2022.could you imagine what would happen if at the beginning of the year labor gets in the boats show up and people start dying of covid and we are plunged into stage 4 lockdown...because that is what will happen\n",
      "Federally we need to do what WA did...vote out all Greens!!\n",
      "Wouldn’t things be better if Murdoch and his puppets actually contributed something good for the world ..  can’t believe so many idiots but into this angry bunch of shock jocks \n",
      "Every one knows if Labor get in its back to open Borders,  one look at the mess Biden has created in two months is enough to see where we will be under Labor\n",
      "Self serving and no different to any of the other major parties, the reset gas turned local problems into global ones, congratulations in making mountains  out of molehills.\n",
      "Will never  happen labor and greens TOTAL  WASTE IF OXYGEN\n",
      "The greens can't do anything they only  get like 1 seat in the house and 2 or 3 Senate seats\n",
      "Any one who needs to invoke the term Leftie is just fktarded \n",
      "\"Greens\" - seriously, we'd all be better off if \"every single one\" of you lot simply \"became extinct\"......\n",
      "australias dumocraps\n",
      "Sounds good, and quite doable. \n",
      "someone needs to throat unch that unt \n",
      "Fat boy go to bed\n",
      "You thought trump was going win so your judgment is not very good do you think people will vote for a failed leader like Scumo who main priorities his protecting rapist and sex pests\n",
      "Usually rapists selfconfess to their actions becoz of their conscience but in the case of Scott Morrison's rapist's men they don't because like their boss cannot find another job if they r kicked out of parliament. \n",
      "Lunatics.Fabian Lunatics.Utter lunacy sprouted again by the Green Clowns.\n",
      "Idiots\n",
      "Adam Bandt = wanker \n",
      "No way \n",
      "LEFT=IDIOT.\n",
      "Stupidity out of control.\n",
      "Stuff the greens\n",
      "Good\n",
      "If you like endless poverty ...  https://l.facebook.com/l.php?u=https%3A%2F%2Fstopthesethings.com%2F2021%2F03%2F25%2Finevitable-transition-get-ready-for-the-insane-cost-of-attempting-to-rely-on-wind-solar%2F%3Ffbclid%3DIwAR05MfhED1_ftbv8nEX_n1trqshCQH752zGsNjFHhdqqOgBelkfbnK2okJk&h=AT2fv5SOQs4suApmTZXKQleNdTLvrmYxrxN4FqbjXHMKZV_1e_hS1K2btEI9ePt21B6WrM4yYSNeMGZ3CG8I3EAkCnFrIxrZ97U0rpix28paWLshIgd13ww9R8N-ysUaeiwOOgD1&__tn__=%2CmH-R&c[0]=AT3mfV37yscdhnuH8C2gjT44F8mAXL8aFCee4a4RJH1znFS1osZAc8HCDx8aXSyEVv_qYnLGCSDCmyYJISHaV9bsTiE-EZrdTp1CwSlYc797lt0o7f9U1UzpS8U3wOAkU_6MOraVEErecHrlNwML_wIzK9elvtzjuO53LIWPmWMOyV8\n",
      "Cock sucker\n",
      "https://l.facebook.com/l.php?u=https%3A%2F%2Fwww.theguardian.com%2Faustralia-news%2F2021%2Fmar%2F25%2Fwarren-entsch-contradicts-peta-credlin-claiming-he-sacked-staffer-accused-of-solo-sex-act-for-leaking-to-her%3Ffbclid%3DIwAR1161hVj0K93ZOuZooN-km7yQw52gRwC2zYAH-06xAu4C66sHHxH1kq0pw&h=AT0uOpAsod4gIrJaaYjM3lqS45GgFKm209pnoZnOcMuIB21_Mzjz6gUZQx-_blUyQUvhzdUcIXTm2u6O77owSd8aEO6AX18iAjzZuVNAPTUXRr6Sz_19bUkru7c_ABdkV_eIuKYs6A2uwmom0bAj&__tn__=%2CmH-R&c[0]=AT3WksSU7pFyaxaGImvCKUZdUTwtWTQL1rZqgvIb6Z-DcmOeNF6uI-BS2sm4pNE1VwJr9a3kogy-U9jLDndl-JTT4amI01cIxRgOopGW046C2kfXrDozihntBaAgwMlbA39e5ChgWP6YWgYdDrrcRM8XkgCz3DlwohGq6iUwBGuyMK-oaVuuT7LuTTrH9H3jCnqJ0dyb5z6Q8o6lCY0NRw\n",
      "What a joke Shorten\n",
      "Laughable!\n",
      "Labor wont win just vote Liberal\n",
      "pushing as usual ....\n",
      "The nutters are about to start running the asylum. God help us\n",
      "https://l.facebook.com/l.php...\n",
      "The green slime.\n",
      "Excellent \n",
      "DH !!!!!!\n"
     ]
    },
    {
     "name": "stdin",
     "output_type": "stream",
     "text": [
      "Press Enter after closing the comments for the post... \n"
     ]
    },
    {
     "name": "stdout",
     "output_type": "stream",
     "text": [
      "Post 11: The federal government’s plan to reduce Australia’s Renewable Energy Target (RET) could jeopardise billions of dollars in investment while giving a boost to the fossil fuel sector, experts have predicted.\n"
     ]
    },
    {
     "name": "stdin",
     "output_type": "stream",
     "text": [
      "Press Enter after opening the comments for the post... \n"
     ]
    },
    {
     "name": "stdout",
     "output_type": "stream",
     "text": [
      "Comments collected. You can now close the comments section.\n",
      "Comments:\n",
      "Which is exactly what they (or the lobbyists in control, at least) want.\n",
      "I am both a supporter of the LNP, and a lover of renewables. I am disappointed in their stance, and will use my voice to let them know.\n",
      "so soon after the divestment in fossil fuels movement started, so transparently in the pockets of the coal barons\n",
      "Yes why are are the coal industries still looking for handouts? They are loaded so they must be making at least a small profit...couldn't just be greed could it???\n",
      "Investment from overseas has already been jeopardised.  I see that a huge number in Denis Napthine's  electorate have lost their jobs, given the bungling of this issue,\n",
      "Its only what you'd expect from this Neanderthal government.\n",
      "Australia was one step forward with the renewable energy target but now thanks to the Coalition it has taken 2 steps backwards.\n",
      "Greedy pigs. It is coal season people and don't forget your shovel hey !\n",
      "Message to Labor, Greens and all crossbench Senators. Not ONE inch. Do not give ground. NO. Not in my name.\n",
      "If renewable energy sources are so efficient, cost effective and high quality as the green and renewable industry groups say they are, they should then be able to compete in a competitive  market without subsidies.\n",
      "The LNP COALition members are still pedling their untruths in Parliament today about the savings generated by dropping the carbon tax.  However, savings were made by companies that installed solar panels.   Saving a few jobs in the aluminium smelter seems far more important than supporting renewable energy jobs   This government is nothing more a bunch of puppets for the mining lobby.\n",
      " Another debt to the LNP's big overseas backers paid, at the cost of Australia's national interest.\n",
      "Shame! \n",
      "That's just what they wanted.\n",
      "Impossibly short sighted this mob. A BIG worry.\n",
      "Not surprised. This government is owned by the coal industry.\n",
      "Cecil, it's good to hear from a real 'Liberal'. Not the dreadful shower who are in control now.\n",
      "Very bad decision!\n",
      "Shame this government's  corrupt self interest is a factor we will take 20 years to recover from! So stupid  and Ignorant !\n",
      "FFS. They're behaving as if they're corrupt.\n",
      "Yeah but it was misdirected investment.\n"
     ]
    },
    {
     "name": "stdin",
     "output_type": "stream",
     "text": [
      "Press Enter after closing the comments for the post... \n"
     ]
    },
    {
     "name": "stdout",
     "output_type": "stream",
     "text": [
      "Post 12: Planned cut to renewable energy target 'a free kick' for fossil fuelsUp in the air: the federal government is still trying to get bipartisan support for its plan to scale back renewable energy investment.\n"
     ]
    },
    {
     "name": "stdin",
     "output_type": "stream",
     "text": [
      "Press Enter after opening the comments for the post... \n"
     ]
    },
    {
     "name": "stdout",
     "output_type": "stream",
     "text": [
      "Comments collected. You can now close the comments section.\n",
      "Comments:\n",
      "Which is exactly what they (or the lobbyists in control, at least) want.\n",
      "I am both a supporter of the LNP, and a lover of renewables. I am disappointed in their stance, and will use my voice to let them know.\n",
      "so soon after the divestment in fossil fuels movement started, so transparently in the pockets of the coal barons\n",
      "Yes why are are the coal industries still looking for handouts? They are loaded so they must be making at least a small profit...couldn't just be greed could it???\n",
      "Investment from overseas has already been jeopardised.  I see that a huge number in Denis Napthine's  electorate have lost their jobs, given the bungling of this issue,\n",
      "Its only what you'd expect from this Neanderthal government.\n",
      "Australia was one step forward with the renewable energy target but now thanks to the Coalition it has taken 2 steps backwards.\n",
      "Greedy pigs. It is coal season people and don't forget your shovel hey !\n",
      "Message to Labor, Greens and all crossbench Senators. Not ONE inch. Do not give ground. NO. Not in my name.\n",
      "If renewable energy sources are so efficient, cost effective and high quality as the green and renewable industry groups say they are, they should then be able to compete in a competitive  market without subsidies.\n",
      "The LNP COALition members are still pedling their untruths in Parliament today about the savings generated by dropping the carbon tax.  However, savings were made by companies that installed solar panels.   Saving a few jobs in the aluminium smelter seems far more important than supporting renewable energy jobs   This government is nothing more a bunch of puppets for the mining lobby.\n",
      " Another debt to the LNP's big overseas backers paid, at the cost of Australia's national interest.\n",
      "Shame! \n",
      "That's just what they wanted.\n",
      "Impossibly short sighted this mob. A BIG worry.\n",
      "Not surprised. This government is owned by the coal industry.\n",
      "Cecil, it's good to hear from a real 'Liberal'. Not the dreadful shower who are in control now.\n",
      "Very bad decision!\n",
      "Shame this government's  corrupt self interest is a factor we will take 20 years to recover from! So stupid  and Ignorant !\n",
      "FFS. They're behaving as if they're corrupt.\n",
      "Yeah but it was misdirected investment.\n"
     ]
    },
    {
     "name": "stdin",
     "output_type": "stream",
     "text": [
      "Press Enter after closing the comments for the post... \n"
     ]
    },
    {
     "name": "stdout",
     "output_type": "stream",
     "text": [
      "Post 13: The Queensland government is debating increasing its renewable energy target despite having achieved less than half of its current objective.Watch the full episode at www.skynews.com.au/flash\n"
     ]
    },
    {
     "name": "stdin",
     "output_type": "stream",
     "text": [
      "Press Enter after opening the comments for the post... \n"
     ]
    },
    {
     "name": "stdout",
     "output_type": "stream",
     "text": [
      "Comments collected. You can now close the comments section.\n",
      "Comments:\n",
      " There's approx 300 litres of oil in each gearbox,  so it spins smoothly, that needs replacing maintenance. Sometimes it leaks, sometimes catches fire.When does it become  a renewable? clean & green?  \n",
      "What a blight on the landscape are these panels & turbines! Give up good growing land for eyesores that cannot be recycled!\n",
      "Why not the Japanese are reconsidering our coal contract The most expensive coal in the world a contract that is over a hundred years old No coal  no hospitals no nothing it pays the country bills Goodbye Queensland queen Anna dictator has destroyed this state\n",
      "What a joke!\n"
     ]
    },
    {
     "name": "stdin",
     "output_type": "stream",
     "text": [
      "Press Enter after closing the comments for the post... \n"
     ]
    },
    {
     "name": "stdout",
     "output_type": "stream",
     "text": [
      "Post 14: Qld government debating increasing renewable energy target8WjZPWrhSvVAeaoY7AEv9RcuExdJVGLtr04jJxU5TmI3z\n"
     ]
    },
    {
     "name": "stdin",
     "output_type": "stream",
     "text": [
      "Press Enter after opening the comments for the post... \n"
     ]
    },
    {
     "name": "stdout",
     "output_type": "stream",
     "text": [
      "Comments collected. You can now close the comments section.\n",
      "Comments:\n",
      " There's approx 300 litres of oil in each gearbox,  so it spins smoothly, that needs replacing maintenance. Sometimes it leaks, sometimes catches fire.When does it become  a renewable? clean & green?  \n",
      "What a blight on the landscape are these panels & turbines! Give up good growing land for eyesores that cannot be recycled!\n",
      "Why not the Japanese are reconsidering our coal contract The most expensive coal in the world a contract that is over a hundred years old No coal  no hospitals no nothing it pays the country bills Goodbye Queensland queen Anna dictator has destroyed this state\n",
      "What a joke!\n"
     ]
    },
    {
     "name": "stdin",
     "output_type": "stream",
     "text": [
      "Press Enter after closing the comments for the post... \n"
     ]
    },
    {
     "name": "stdout",
     "output_type": "stream",
     "text": [
      "Post 15: Think coal advocates and climate sceptics have undue influence in Australian politics? The Renewable Energy Target review all but confirms it.\n"
     ]
    },
    {
     "name": "stdin",
     "output_type": "stream",
     "text": [
      "Press Enter after opening the comments for the post... \n"
     ]
    },
    {
     "name": "stdout",
     "output_type": "stream",
     "text": [
      "Comments collected. You can now close the comments section.\n",
      "Comments:\n",
      "Didn't they get rid of the science minister a well. Just goes to show how much they care about science based facts compared to opinions of people with no experience in the field.\n",
      "\"like\".  Hmm.  I certainly do NOT like that this is the case.  I am disappointed and angry.  Australia you are harming your children.\n",
      "Commit to memory - Tony works for gina and rupert!\n",
      "There will be a reckoning I hope it catches only those to blame.. I fear not\n",
      "Climate-deniers or contrarians please. They are NOT skeptics in the true sense of the word, the critical thinking sense.\n",
      "and Clive Palmer was ALWAYS going to pass the mining bill/\n",
      "Thanks for the info Barb Tyler. Abbot will never admit he was wrong,unfortunately for us.\n",
      "Stephanie Rowland\n",
      "Ian Buck\n",
      "http://www.couriermail.com.au/.../story-fnihsps3...\n"
     ]
    },
    {
     "name": "stdin",
     "output_type": "stream",
     "text": [
      "Press Enter after closing the comments for the post... \n"
     ]
    },
    {
     "name": "stdout",
     "output_type": "stream",
     "text": [
      "Post 16: Renewable Energy Target review confirms influence of coal and climate scepticsThe release of the Renewable Energy Target review last week is yet another indication of the disproportionate influence of the fossil fuel industry and climate sceptics on governments in Australia. Many…\n"
     ]
    },
    {
     "name": "stdin",
     "output_type": "stream",
     "text": [
      "Press Enter after opening the comments for the post... \n"
     ]
    },
    {
     "name": "stdout",
     "output_type": "stream",
     "text": [
      "Comments collected. You can now close the comments section.\n",
      "Comments:\n",
      "Didn't they get rid of the science minister a well. Just goes to show how much they care about science based facts compared to opinions of people with no experience in the field.\n",
      "\"like\".  Hmm.  I certainly do NOT like that this is the case.  I am disappointed and angry.  Australia you are harming your children.\n",
      "Commit to memory - Tony works for gina and rupert!\n",
      "There will be a reckoning I hope it catches only those to blame.. I fear not\n",
      "Climate-deniers or contrarians please. They are NOT skeptics in the true sense of the word, the critical thinking sense.\n",
      "and Clive Palmer was ALWAYS going to pass the mining bill/\n",
      "Thanks for the info Barb Tyler. Abbot will never admit he was wrong,unfortunately for us.\n",
      "Stephanie Rowland\n",
      "Ian Buck\n",
      "http://www.couriermail.com.au/.../story-fnihsps3...\n"
     ]
    },
    {
     "name": "stdin",
     "output_type": "stream",
     "text": [
      "Press Enter after closing the comments for the post... \n"
     ]
    },
    {
     "name": "stdout",
     "output_type": "stream",
     "text": [
      "Post 17: Labor is proposing an 'ambitious' 50 per cent renewable energy target by 2030. Do you think this is a realistic goal?\n"
     ]
    },
    {
     "name": "stdin",
     "output_type": "stream",
     "text": [
      "Press Enter after opening the comments for the post... \n"
     ]
    },
    {
     "name": "stdout",
     "output_type": "stream",
     "text": [
      "Comments collected. You can now close the comments section.\n",
      "Comments:\n",
      "Once again workers will be the victims of alternative PM Shorten, and Labor, and the Unions.\n",
      "Dreams are free for Bill Shorten\n",
      "Will only work if the ALP, Greens and Unions stand in front of the Windmills to make all their speeches.\n",
      "The technology exists... What is lacking is a unified approach to accepting the observable facts, and then acting to changd the inevitable outcome!\n",
      "A reasonable goal if Labor is aiming to lose an election. Go for it Short Willy.\n",
      "How can ASSASSIN Bill Shorten say that Renewable Energy pays for itself-BILL SHORTEN has never paid for himself!\n",
      "The Union Party are full of hot air.\n",
      "Yes, it already could have been on its way to being achieved if Abbott didn't replace the carbon tax with the more expensive and totally ineffective Direct Action Plan, and didn't take money away from renewables to give more to coal miners.\n",
      "That's not even ambitious compared to other major developed notions such as Switzerland, Finland and Iceland who plan to phase out fossil fuels entirely, you have to go all the way to in order to combat climate change and I admit that 50% is a noble step in the right direction it's just not good enough when all models show that a an energy independence country that is purely a 98% energy renewable country is far more stable as well as creating an increase in our GDP by up to 6% and in doing so you can eliminate coal and crude oil entirely as it can only impact the GDP by at maximum 4% and the only reason why I see that no one wishes to pursue this course of action that is popular among the economist report, the EU and the UN would be if you seem to make some personal profit from the burning of these precious resources, and would that not be completely wrong.\n",
      "Sky News Australia, why perpetuate the notion that 'every day Australians' are 'experts' on everything policy related? No average Australian would question a theoretical physicist when it comes to theoretical physics, or at least I'd hope not. But thanks to the media, everyday Australians seem to think they are all Economists, able to effectively evaluate all matters economic. This is incredibly damaging to the level of economic debate in this country, and ultimately the effectiveness of policy. \n",
      "Once again Labor is appeasing the Looney Left Greenies\n",
      "No, of course it's not. They don't have a clue about renewable energy, just how to impose Taxes !\n",
      "100% Target by 2030 BillVOLUMESVolumes of cleaner airVolumes of new jobs for (Australians)Volumes of new business tax revenueCheaper energy billsVolumes of Votes\n",
      "I think he needs to move on to a different policy altogether. Labor are not too credible and have done much damage on this one. Tell him to think outside the box and come up with something unique. Tell him to stay away from The Greens with his next idea.\n",
      "Put it straight on credit Bill. Power bills rise to offset the costs compared to the return of wind and solar. How would bills be reduced ??\n",
      "Another THOUGHT BUBBLE from Labor, we are use to them, remember how many of this in the last 2 Labor/Greens Governments ?? Maybe Swan and Gillard are advising Shorten\n",
      "Anyone can make this claim but I bet none of them will be in parliament in 2030. Should be illegal to make claims outside your tenure \n",
      "Let's not bother having any target and leave the mess for our children, grandchildren and so on.  Those using political rhetoric need to put-up or shut-up, you are embarrassing yourselves with your lack of intellect and understanding; the rest of the planet is taking climate change with the seriousness it deserves.\n",
      "irresponsible pricks!!\n",
      "As a Foxtel viewer for some time I am disgusted that I am now paying monthly to watch UNION PROPAGANDA ADDS... Sorry Foxtel you are pathetic...How dare you charge your customers to watch PROPAGANDA.. If I wanted that I could watch free TV for nothing...\n",
      "Nothing those lefties say comes to fruition! Except more debt, deficit, they usually promise that and deliver!\n",
      "NO,,, and totaly illogical ,, but then nothing Labor says makes any sense\n",
      "WOFTAM look at the mess Britain is in , be sensible  four nuclear power plants for all of Australia  till 2050 now that's achievable and no one in the world could beet us on that ratio of emissions .\n",
      "The irony is astronomical! Labor wants to tax the air you breathe out and says it is toxic, while contributing to the vast, man made lake of poison in northern China, due to the mining of neomydium which is used to make wind turbines, because they are 'clean energy.' Just one of their dirty little secrets.\n",
      "CFMEU. Won't let it happen.\n",
      "Way to go billy boy Score points with the silly and gullible\n",
      "Yes we will have no work once all ghe companies close down and we cant afford to turn on the power no pollution sell out shorten got us sold down the river\n",
      "At least someone in government is attempting to do something to reduce dirty emissions.Trees are randomly dying off by thousands of hectares all around the globe, due to the earths temperature rising on average by merely half a degree.The trees are struggling to survive the heatwaves and lack of rain between the heatwaves to restore the trees to tolerate the next heatwave. That is just ONE problem with the environment already.It should not be about political point scoring and hating on Greenies. That's just silly and childish. This is about the planet, the future. Your children's future, your grandchildren's future. We need to start being more aware and honest about the planet and the threat it's facing. And stop using it as an excuse to hate on the ALP and Greens, for heavens sake!\n",
      "The dutch have had only one day of complete renewable energy in twrnty years so no it cant be done know what your talking about please\n",
      "Dreams cost nothing. Give him a few cans of baked beans, that will get the turbines turning.\n",
      "Yes. ..we are becoming a joke to the rest of the world\n",
      "Already spending the money before they get it\n",
      "There is no Carbon tax on Sun, Wind and Waves. \n",
      "By 2030 electricity will be too expensive so we won't use as much so it will be 50% of a smaller amount anyway. Bill blithering-twit can make up any numbers he wants her knows that he won't have to keep the promise in 15 years time\n",
      "Who gives the slightest F what labor proposes? They ain't in charge\n",
      "No, such a stupid thing to say. I don't care if other countries are bullied into this climate change scam, but not here in Australia.Go away with your massive increase in bills, Bill.\n",
      "Why not .other countries are doing it . We use to be a progressive country , until we had this moron Abbott in .\n",
      "It needs to be!\n",
      "Yes it is - other countries are already close to this target\n",
      "Rather see nice trees than these ugly things.\n",
      "More empty promises on the never never. The alp is the best party if you want t policies for 30 years from now.\n",
      "Evidence is clear that Wind Power is not economically sound and has more problems than you can throw a stick at....This insanity will be on a scale with the Pink Batts disaster and hopefully without the deaths of the sparkies....Don't they know global warming reduces wind power. .. I fink that's right, just ask Sarah!\n",
      "And pigs will fly...\n",
      "Labor haven't delivered on anything except a huge deficit so how can they be believed on this.\n",
      "Get a life Bill....That is one that is far away\n",
      "Billy the dreamer. What a moron.\n",
      "Where's the money going to come from Bill is this all labor can come up with\n",
      "Pfffftt! ... Bill's just looking for some new companies to line his own pockets with!  Wind power is not the future .... It's expensive and f**king ugly!\n",
      "No chance completely farcical\n",
      "dud idea electricity will be much dearer ,whats happened to rationale thinking\n",
      "Apparently they've not done any modelling in relation to the target or the policy.  This is just the like their NBN plan, drawn up on the back of an envelope!\n",
      "Gina is crying in her pools of off shore cash.\n",
      "idiots would require a trillion windmills just to power Wollongong!\n",
      "If only politics didnt play such a big part in looking after our environment......\n",
      "Im glad people are smarter then bill thinks you are..\n",
      "It doesn't matter what the Public thinks if Labour have made up their mind.\n",
      "I don't know much about Australia.\n",
      "Totally unrealistic by short on brains\n",
      "About bloody time.\n",
      "Wasn't the idea of having battery packs in all houses part of the QLD labors policy that got them into government?? And where are they????? Another short one!!!\n",
      "Worth a try\n",
      "Hell no , I bloody don't . What an eyesore .\n",
      "Has Labor done anything realistic???????\n",
      "Yes, renewableswtop priority overseas..\n",
      "More polution here with this smoke screen.\n",
      "would be good if we could believe it\n",
      "Who is putting up their hand for a wind turbine in their back yard?\n",
      "while we are in the act of storing other countries' nuclear waste, why cant we have a nuclear power plant next door to it? \n",
      "Looking forward to Bill's 30/30 Summit! lol\n",
      "What you means energy just bloody sore eyes fan on the pole\n",
      "Damian chapman is of with the fairies\n",
      "They are living in a dream world where they have until 2050.\n",
      "Absolute Madness\n",
      "Easily achievable, could do more if wanted to.\n",
      "ALP HAVE NO IDEA !!!\n",
      "Absolutely waffle.\n",
      "Beyond zero emissions have a detailed plan to get 100% clean energy by 2020, but you carry on listening to politicians https://www.facebook.com/profile.php?id=350996037887\n",
      "Does Shorten wear  soiled red undies on his head?.\n",
      "F..king idiot. WHO THE F..K IS GOING TO PAY FOR IT. CHINA - via more f..king loan money. This twit will never be PM.\n",
      "Smokescreen trying to get votes.  Still no real issues at hand being dealt with\n",
      "These things are an expensive, subsidised abomination on the landscape and they don't/will never carry a base load.\n",
      "No\n",
      "Lets hope that they achieve  it. Wonderful.\n",
      "I heard he is also handing out unicorns to everyone with children\n",
      "NO WAY! JOSE!\n",
      "Windmills need oil every week,They damage easy-----Hear noise from the wind that send you nuts-----They cost cost cost--------I know in England it's the same.\n",
      "Whos paying for it and how much will it cost, Bill????\n",
      "Other much smaller and darker countries can do it so easy smeazy for the great south land.\n",
      "Originally titled \"Labor speaks from its lower colon\", but later cleaned up by the Editor.\n",
      "Nup\n",
      "100% is ambitious: 50% is like Shorten, wishy washy\n",
      "But how?\n",
      "They can't manage  money\n",
      "Yes.\n",
      "No\n",
      "Seems in line with Republican tactics! Guess what?? Search to find out what strategy China oil tycoons are planning to dominate the world's oil production to provide for their production in 20 years! You will see how these jerks in Au, US are wanting to divert our attention away from their oil wealth! As dirty as many jerks here in vn! Lmao!!!\n",
      "http://www.thenewamerican.com/.../21276-big-media-ignores...\n"
     ]
    },
    {
     "name": "stdin",
     "output_type": "stream",
     "text": [
      "Press Enter after closing the comments for the post... \n"
     ]
    },
    {
     "name": "stdout",
     "output_type": "stream",
     "text": [
      "Post 18: Labor moves to ramp up renewable energyBill Shorten believes his ambitious RET will give voters a 'clear choice' at the next election.\n"
     ]
    },
    {
     "name": "stdin",
     "output_type": "stream",
     "text": [
      "Press Enter after opening the comments for the post... \n"
     ]
    },
    {
     "name": "stdout",
     "output_type": "stream",
     "text": [
      "Comments collected. You can now close the comments section.\n",
      "Comments:\n",
      "The labour voters will not be able to aford their electricty bills ,let them have shorton for 1 year ?........\n",
      "How much will it cost families and small business, including agriculture, to clean up the effects of climate variability and change?\n",
      "So instead of policy the Nats give us Labor will hurt you . Give us policy you Liberal lapdogs\n",
      "Wholesale prices are already trending downwards. Rooftop solar uptake is greater than 160Mw per month. Consumption from the grid is less now than in 2010. There is now 5 big battery projects underway, pumped hydro projects in Tasmania which will retrofit hydro. All these things point towards a low emission power grid with the storage it always should have had to eliminate the peak prices in the market that have favored the fossil fuel generators. \n",
      "Paul Gerritsen\n"
     ]
    },
    {
     "name": "stdin",
     "output_type": "stream",
     "text": [
      "Press Enter after closing the comments for the post... \n"
     ]
    },
    {
     "name": "stdout",
     "output_type": "stream",
     "text": [
      "Post 19: Labor’s 50% renewable energy target and 45% emissions reduction target will put up power prices for Australian families and small businesses.Don't Risk It!\n"
     ]
    },
    {
     "name": "stdin",
     "output_type": "stream",
     "text": [
      "Press Enter after opening the comments for the post... \n"
     ]
    },
    {
     "name": "stdout",
     "output_type": "stream",
     "text": [
      "Comments collected. You can now close the comments section.\n",
      "Comments:\n",
      "The labour voters will not be able to aford their electricty bills ,let them have shorton for 1 year ?........\n",
      "How much will it cost families and small business, including agriculture, to clean up the effects of climate variability and change?\n",
      "So instead of policy the Nats give us Labor will hurt you . Give us policy you Liberal lapdogs\n",
      "Wholesale prices are already trending downwards. Rooftop solar uptake is greater than 160Mw per month. Consumption from the grid is less now than in 2010. There is now 5 big battery projects underway, pumped hydro projects in Tasmania which will retrofit hydro. All these things point towards a low emission power grid with the storage it always should have had to eliminate the peak prices in the market that have favored the fossil fuel generators. \n",
      "Paul Gerritsen\n"
     ]
    },
    {
     "name": "stdin",
     "output_type": "stream",
     "text": [
      "Press Enter after closing the comments for the post... \n"
     ]
    },
    {
     "name": "stdout",
     "output_type": "stream",
     "text": [
      "Post 20: VihanLabor’s 50% renewable energy target and 45% emissions reduction target will put up power prices for Australian families and small businesses.\n",
      "\n",
      "Don't Risk It!\n"
     ]
    },
    {
     "name": "stdin",
     "output_type": "stream",
     "text": [
      "Press Enter after opening the comments for the post... \n"
     ]
    },
    {
     "name": "stdout",
     "output_type": "stream",
     "text": [
      "Comments collected. You can now close the comments section.\n",
      "Comments:\n",
      "The labour voters will not be able to aford their electricty bills ,let them have shorton for 1 year ?........\n",
      "How much will it cost families and small business, including agriculture, to clean up the effects of climate variability and change?\n",
      "So instead of policy the Nats give us Labor will hurt you . Give us policy you Liberal lapdogs\n",
      "Wholesale prices are already trending downwards. Rooftop solar uptake is greater than 160Mw per month. Consumption from the grid is less now than in 2010. There is now 5 big battery projects underway, pumped hydro projects in Tasmania which will retrofit hydro. All these things point towards a low emission power grid with the storage it always should have had to eliminate the peak prices in the market that have favored the fossil fuel generators. \n",
      "Paul Gerritsen\n"
     ]
    },
    {
     "name": "stdin",
     "output_type": "stream",
     "text": [
      "Press Enter after closing the comments for the post... \n"
     ]
    },
    {
     "name": "stdout",
     "output_type": "stream",
     "text": [
      "Data has been saved to australia_renewable.csv\n"
     ]
    }
   ],
   "source": [
    "from bs4 import BeautifulSoup\n",
    "from selenium import webdriver\n",
    "from selenium.webdriver.common.by import By\n",
    "from selenium.webdriver.common.keys import Keys\n",
    "import time\n",
    "import pandas as pd\n",
    "\n",
    "# URL of the target Facebook page\n",
    "target_url = \"https://www.facebook.com\"\n",
    "\n",
    "# Initialize the Chrome WebDriver\n",
    "driver = webdriver.Chrome()\n",
    "\n",
    "# Navigate to Facebook and log in\n",
    "driver.get(target_url)\n",
    "username = driver.find_element(By.ID, 'email')\n",
    "password = driver.find_element(By.ID, 'pass')\n",
    "username.send_keys('EMAil')\n",
    "password.send_keys('PASSWORD')\n",
    "password.send_keys(Keys.RETURN)\n",
    "\n",
    "# Allow some time for the login to complete and CAPTCHA to appear\n",
    "time.sleep(5)\n",
    "\n",
    "# Wait for manual CAPTCHA solving\n",
    "input(\"Press Enter after solving the CAPTCHA...\")\n",
    "\n",
    "# Navigate to the desired page or group\n",
    "driver.get('https://www.facebook.com/search/posts?q=renewable%20energy%20target%20australia')\n",
    "\n",
    "# Allow some time for the page to load\n",
    "time.sleep(5)\n",
    "\n",
    "# Initialize empty lists to store the extracted posts and comments\n",
    "posts = []\n",
    "comments = []\n",
    "\n",
    "# Loop to scroll the page and collect posts\n",
    "for _ in range(50):\n",
    "    # Scroll the page\n",
    "    driver.execute_script('window.scrollTo(0, document.body.scrollHeight);')\n",
    "    time.sleep(2)  # Adjust sleep time as necessary to allow for page load\n",
    "\n",
    "    # Get the page source\n",
    "    resp = driver.page_source\n",
    "\n",
    "    # Parse the page source with BeautifulSoup\n",
    "    soup = BeautifulSoup(resp, 'html.parser')\n",
    "\n",
    "    # Find the specific divs containing the required information\n",
    "    items = soup.find_all('div', {'class': 'x78zum5 xdt5ytf xz62fqu x16ldp7u'})\n",
    "\n",
    "    # Iterate through each item and extract the desired information\n",
    "    for item in items:\n",
    "        post_content = item.get_text()\n",
    "        if \"renewable energy\" in post_content.lower() and post_content not in posts:\n",
    "            posts.append(post_content)\n",
    "            if len(posts) == 20:\n",
    "                break\n",
    "    if len(posts) >= 20:\n",
    "        break\n",
    "\n",
    "# Function to scroll and scrape comments for a specific post\n",
    "def scrape_comments():\n",
    "    # Get the page source\n",
    "    resp = driver.page_source\n",
    "\n",
    "    # Parse the page source with BeautifulSoup\n",
    "    soup = BeautifulSoup(resp, 'html.parser')\n",
    "\n",
    "    # Find the specific divs containing the comments\n",
    "    comments_section = soup.find_all('div', {'class': 'xdj266r x11i5rnm xat24cr x1mh8g0r x1vvkbs'})\n",
    "    post_comments = []\n",
    "    for comment in comments_section:\n",
    "        comment_text = comment.get_text()\n",
    "        if comment_text:\n",
    "            post_comments.append(comment_text)\n",
    "\n",
    "    return post_comments\n",
    "\n",
    "# Loop through the collected posts to scrape comments\n",
    "for idx, post in enumerate(posts):\n",
    "    print(f\"Post {idx + 1}: {post}\")\n",
    "    \n",
    "    # Pause the script to allow manual opening of comments\n",
    "    input(\"Press Enter after opening the comments for the post...\")\n",
    "\n",
    "    # Scroll and wait for comments to load\n",
    "    for _ in range(10):\n",
    "        driver.execute_script('window.scrollTo(0, document.body.scrollHeight);')\n",
    "        time.sleep(2)  # Adjust sleep time as necessary to allow for comments to load\n",
    "\n",
    "    # Scrape comments for the current post\n",
    "    post_comments = scrape_comments()\n",
    "    comments.append(post_comments)\n",
    "    print(\"Comments collected. You can now close the comments section.\")\n",
    "\n",
    "    # Print comments for the current post\n",
    "    if post_comments:  # Check if there are comments\n",
    "        print(\"Comments:\")\n",
    "        for comment in post_comments:\n",
    "            print(comment)\n",
    "    else:\n",
    "        print(\"No comments found for this post.\")\n",
    "    \n",
    "    # Print a message to let you know to close the comments\n",
    "    input(\"Press Enter after closing the comments for the post...\")\n",
    "\n",
    "\n",
    "# Prepare data for CSV export\n",
    "data = []\n",
    "for idx, content in enumerate(posts):\n",
    "    if idx < len(comments):  # Ensure there's a comment entry\n",
    "        for comment in comments[idx]:\n",
    "            data.append([content, comment])\n",
    "    else:\n",
    "        data.append([content, None])\n",
    "\n",
    "# Create a DataFrame and save it to CSV\n",
    "df = pd.DataFrame(data, columns=['Post', 'Comment'])\n",
    "df.to_csv('australia_renewable.csv', index=False)\n",
    "\n",
    "print(\"Data has been saved to australia_renewable.csv\")\n"
   ]
  },
  {
   "cell_type": "code",
   "execution_count": 24,
   "id": "a0812642-ca7c-4b91-a6c3-5f5ffbafe1f0",
   "metadata": {},
   "outputs": [
    {
     "name": "stdin",
     "output_type": "stream",
     "text": [
      "Press Enter after solving the CAPTCHA... \n"
     ]
    },
    {
     "name": "stdout",
     "output_type": "stream",
     "text": [
      "Post 1:  “Turn Sunshine Into Savings: Go Solar Today!” Are you prepared to use solar energy to power your house? Take advantage of our exclusive solar bargains to embrace clean, renewable energy and enjoy our exclusive solar deals.Why Choose Life Solar?… See more\n"
     ]
    },
    {
     "name": "stdin",
     "output_type": "stream",
     "text": [
      "Press Enter after opening the comments for the post... \n"
     ]
    },
    {
     "name": "stdout",
     "output_type": "stream",
     "text": [
      "Comments collected. You can now close the comments section.\n",
      "Comments:\n",
      "You have 550w panels\n",
      "Hi Hoan Pham we have 440w Panels available.\n"
     ]
    },
    {
     "name": "stdin",
     "output_type": "stream",
     "text": [
      "Press Enter after closing the comments for the post... \n"
     ]
    },
    {
     "name": "stdout",
     "output_type": "stream",
     "text": [
      "Post 2: Nationals MP Keith Pitt says Energy Minister Chris Bowen wants to turn Australia into an intermittent wind and solar energy “super-unreliable power”.Watch the full episode at www.skynews.com.au/flash\n"
     ]
    },
    {
     "name": "stdin",
     "output_type": "stream",
     "text": [
      "Press Enter after opening the comments for the post... \n"
     ]
    },
    {
     "name": "stdout",
     "output_type": "stream",
     "text": [
      "Comments collected. You can now close the comments section.\n",
      "Comments:\n",
      "Bowen failed before as a minister. He is failing again.\n",
      "They can use the coal powered power stations, that have been closed. All the infrastructure is there already.\n",
      "How “clean” and “reliable” is Chernobyl or Fukushima?What about Three Mile Island?\n",
      "Bowen and Albo are hurrying us down a very costly renewables path with NO guarantee of cheaper reliable energy........madness !\n",
      "Bowen is not never will be a politician he knows nothing about power  hes a dreamer\n",
      "Tell him to stand on a hill, put a charging cable \"you know where\"....and start talking, the wind and BS that comes out his his mouth will probably prove his own point.\n",
      "They could redesign these coal-fired power station's like they have in Germany with zero imaginations\n",
      "I'd like to know where they get their % from, haven't heard of any Sky news pols !!\n",
      "Stand up, Stand up Shorty!\n",
      "Well part if the problem is it was the Labor Party who banned nuclear energy in Australia way back in 1986 so its likely to be hard to convince them and the greens to overturn the nuclear power ban .\n",
      "Another Failed Port Folio, On His Resume!\n",
      "Sky was running the narrative some time back ... Power still on ... As you were \n",
      "You’d be forgiven in thinking that our current government is purposefully trying to ruin our country financially AND start a racist split that will cause unrest\n",
      "The ALP are just crazy. They agree the nuc subs and storage of waste but oppose using it for domestic power. It makes no sense\n",
      "Black Out Bowen has no credibility. Love to know what credentials he has to make calls on our country’s future.\n",
      "Bowen is driving poverty in Australia. Everything we do requires abundant,  affordable energy. And there is no man made climate emergency. Never forget this!\n",
      "If mr Hinkley is so dead keen on nuclear power, let’s see him offer up his electorate as the site to dump Australia’s nuclear waste…..\n",
      "How many blackouts so far with renewables ?\n",
      "They need to be kicked out now. Go back to coal and gas. They are better for the environment. When renewables are really renewables and don’t take more to produce than they give back. Then they should be used otherwise they will create a global disaster.\n",
      "Blackout Bowen is happy to spend taxpayers money and have no consequences.\n",
      "Sit down luddite\n",
      "Maybe it China  pulling the string \n",
      "If capitalism worked correctly,  Maintence would have kept Coal power stations competitive producing cheap power for the people, But no, we all got scammed by multinational Tax bludgers instead\n",
      "How many energy policies did liberal have in 9 years? 10 I think.\n",
      "Does Keith have solar panels on his homes\n",
      "Pork chops Bowenless will do a poo poo valve throwing it’s hands around like that. \n",
      "Never offer Australians anything positive as they find it offensive\n",
      "Shame liberals and nationals made zero Progress on nuclear energy in a decade. ￼\n",
      "Chris Bowen, your a brainwashed,uneducated f##kwit\n",
      "https://fb.watch/kFpMnvi8AC/?mibextid=NnVzG8This young man has more intelligence than Blackout Bowen could ever dream to have. Nuclear for Australia\n",
      "Sack the moron\n",
      "Let’s power up\n",
      "https://www.wired.com/story/europe-nuclear-power-plants/\n",
      "bowen is an idiot\n",
      "There is no such thing as clean renewable energy other than hydro. Huge amounts of lead, lithium and cobalt go into wind turbines and solar panel technology. This technology has a far shorter life span than nuclear, coal or gas for power generation.Plus, with wind and solar renewables, back up power and battery storage will always be required. Then you have the massive battery usage for electric cars on top of all of this. African countries are now becoming dumping grounds for vast amounts of disused solar panels laden with lead and other heavy metals. With nuclear, you get net zero emissions and reliable energy with modern modular reactors. I understand nuclear waste is already being stored in synroc a material invented by the CSIRO.\n",
      "Google \"accidents history of nuclear reactors\".\n",
      "Bowen is well on the way to achieving the status as the most stupid Australian politician that ever lived.\n",
      "KEITH PITT??? \n",
      "If you want to have fun trying to cure the dumbest woke lefties in history or at least have fun trying then i recommend you join my Facebook group if you haven't already. https://www.facebook.com/groups/1265843070661621/?ref=share_group_link\n",
      "Then why not use your 9 years in government to do something about it???\n",
      "Go nuclear it's been in Sweden for many years.\n"
     ]
    },
    {
     "name": "stdin",
     "output_type": "stream",
     "text": [
      "Press Enter after closing the comments for the post... \n"
     ]
    },
    {
     "name": "stdout",
     "output_type": "stream",
     "text": [
      "Post 3: Just as major private companies are fleeing from investing in renewable energy the Queensland Palaszczuk government has decided now is the time to use taxpayers’ money in “propping up the solar energy sector,” Sky News host Chris Kenny says.\n"
     ]
    },
    {
     "name": "stdin",
     "output_type": "stream",
     "text": [
      "Press Enter after opening the comments for the post... \n"
     ]
    },
    {
     "name": "stdout",
     "output_type": "stream",
     "text": [
      "Comments collected. You can now close the comments section.\n",
      "Comments:\n",
      "They are not really seeing the effect that our sustainable renewable energy is doing to the country. We should be going back to our energy source that has proven itself. How much of our country is being affected from the waste that these installations created. Start watching the true stories about what the rest of the world is coping with by these so called clean energy. The waste that they creating in as bad as the uranium as it can not be reused and does not breakdown and they are burrying it for generations to find.\n",
      "Good old Premier Trad buying the green voters her inner city electorate is full of.\n",
      "These solar panels will not return the energy it took to mine, build and install them. FFS just burn the coal instead and get 24/7 reliable power.\n",
      "What a waste of tax payers money\n",
      "Stupidity........doing the same thing over and over and expecting different results.\n",
      "Be amazed, hold on to your seats, be ready for the sequel to 'Planet of the Humans' staring Elbow as Dr Zaius and introducing Adam Bandt in his first feature role as Cornelius. Mark Matthews in the role of George Taylor. Follow the plight of humanity in 'Planet of the Apes'. Winner of the Green development award, coming to an ABC near you. Here is a short preview. https://www.youtube.com/watch?v=XvuM3DjvYf0\n",
      "Planet of the Humans was what I already knew but the other documentary “The Great Global Warming Swindle”..was next level and much more eye opening. It gives you the whole background of how this hoax started and continues today. A must watch. On YouTube.\n",
      "Another carbon tax...everything, without exception, that you pay for has an electricity cost component...Your car insurance, school fees, groceries, petrol, rates... and green soar and wind has added at least 30% to your power bills and added costs to everything ..without exception.This is a carbon TAX...FACT.Making you poorer for no measurable benefit...Palasssotasick is a left green socialist economic incompetent under union control.\n",
      "Flogging a dead horse here .The renewable experimentation has failed miserably at astronomical cost to taxpayers.Put a stop to this madness.\n",
      "The data showed late last year, even as presented in right wing media, that most companies are not fleeing at all. This is yet another example of the dishonesty and that the right doesn't know what the left is talking about in the right wing media. Billions of dollars of projects in the pipeline and underway. Hardy fleeing. There's room for all power generation types at the moment, as I always say. Clearly the energy companies see that too. Oh yeah and how about mentioning the tax subsidies and breaks for the newly released area of land for coal and gas exploration in QLD? Too much to admit that? (Now watch the brainwashed in denial have their usual brainfart because they can't disprove that the tender went out yesterday.)\n",
      "Bunch of fools, stick with proven 24/7 coal or go nuclear, bloody eyesore propellers polluting a beautiful countryside and solar when the sun wants to play.Again, bloody bunch of hopeless fools!!\n",
      "How can we afford this?  We are broke. Even real estate Jackie Trad says so.  The only spending going on at the moment is from the Feds.  Is this delivering on some deal with Greens? https://www.theaustralian.com.au/.../d8b36b321cd28d121745...\n",
      "How much coal is used to make the solar panels?\n",
      "C'mon Sky News enough with the lies.  Investment is pausing because of poor infrastructure and and even poorer LNP government.\n",
      "Useless fools. Not their money of course and they will be gone soon, just leaving the wreckage!\n",
      "Qld Govoner General earn your pay and stand her down, please stop this wasteful female dog from pushing Queensland deeper in debt\n",
      "That's what they do. Waste other peoples money. Solar, olympics, public service bonus etc etc\n",
      "If solar was any good it would not need support.  Waste of MONEY.\n",
      "Fraction of the percentage of fossil fuel subsidies.\n",
      "How disgraceful. Corrupt QLD Labor party\n",
      "Lord bless you qldrs. Do yourselves a favour, list qld labor dead set last at your next state election or not at all \n",
      "Same in WA where McGowan is building a huge wind farm and solar farm in the Pilbara at a huge cost. But then again he is labor so it was expectedhttps://www.smh.com.au/.../wa-watchdog-green-lights-world...\n",
      "Yes solar viability and use have peaked and even over produce at the wrong times of the day all at once.As for wind..The wind energy cannot be  booked in advance planning because the wind might not blow those days.Ok.Australian Energy commission released these concerns..Not me..\n",
      "After all solar panels are so clean and last forever and there made with fairy dust and they dont take up any space and there made with abundant materials and there providing another revenue stream for the rich.\n",
      "hahahaha....the sham is being exposed for what what it is...and now,as usual the taxpayer will be footing the bill for this \"Scam\"...\n",
      "Funny, I thought I read recently on these pages that there was more investment in renewables - obviously wasn't a News Corp page\n",
      "Labor & Liberal it seems will always keep the people poor to control them.\n",
      "Forget it. If they are made in Qld from our materials, that's ok.\n",
      "why they fall apart in 5 years\n",
      "Who said they are fleeing?\n",
      "Follow the money ,cut the money and see what happens.\n",
      "If it's a good business proposition why can't the banks lend them the money?\n",
      "Might be a good time to pay back the debt.\n",
      "Which politicians have investments in this joke?\n",
      "Sky​news​ backs globalisation​ over​ Australia​n​ renewable  energy.​ They​ want​ Australia​ns​ ​to​second​ place​ is​ that​ the​ truth\n",
      "Not surprising when you look at the dills in charge.\n",
      "Clearly Jackie trad accidental premier havent seen Planet of the Human's yet \n",
      "She​ just​ opened​ ​7000 sqr  klm exploration  you​  dont​ mention​ in​the​ ​scales department\n",
      "Is the French company “Vinci”?\n",
      "The https://l.facebook.com/l.php... truth behind it all produced by a passionate environmentalist:\n",
      "Water storage? Dhead?\n",
      "Obviously Palachook and her cronies haven’t watched planet of the humans \n",
      "Get ready. Qld ders love this\n",
      "October,election can't come quick enough.\n",
      "Won't matter with no business\n",
      "Solar panels can't be recycled\n",
      "Solar farm - what junk \n",
      "Keep​ coming​ second​ our​ media​ sugestion​ is​ to​ you​ all\n",
      "Off their heads \n",
      "More coal power stations needed.\n",
      "The amount of dumb right wingers that miss the whole point of Planet of Humans is incredible.\n",
      "Are people that dumb? Solar panels are made from coal and quartz . Also bio mass is made from trees so they are litrally killing the planet.https://youtu.be/Zk11vI-7czE\n",
      "at best they are 15% efficient-on cost + benefit basis, worst probable 15-20 year life span..not degradable,toxic material remain..>> \n",
      "TMZ update on the much anticipated new blockbuster. Be amazed, hold on to your seats, be ready for the sequel to 'Planet of the Humans' staring Elbow as Dr Zaius and introducing Adam Bandt in his first feature role as Cornelius. Do not miss Sarah Hanson-Young as the mute Nova. Mark Matthews in the role of George Taylor. Follow the plight of humanity in 'Planet of the Apes'. Winner of the heralded Green development award, coming to an ABC near you. Here is a short preview.  https://www.youtube.com/watch?v=wJADFCAlUGg\n",
      "Solar energy farms are not economically viable. See Michael Moores doco - the Planet of the Humans. Tax funded subsidies is absolute stupidity.\n",
      "Zero value to the gridhttps://www.cfact.org/.../wind-and-solar-add-zero-value.../\n",
      "There is a sucker born every minute, Australia you are next - https://m.youtube.com/watch?v=Zk11vI-7czE&t=5291s \n",
      "stupid pancake dosnt she realize\n",
      "Always follow the money....the truth behind it all:\n",
      "Damian Kelly\n",
      "Just go nuclear\n",
      "CCP\n",
      "Good. \n",
      "What a joke, what a waste of money, what a mess!\n",
      "https://youtu.be/Zk11vI-7czE\n",
      "https://youtu.be/Zk11vI-7czE\n",
      "You Lunatics!\n",
      "Such a waste\n",
      "Don't like her or the Gov but a good move\n",
      " .OH NO! \n",
      "Planet of the Humans\n",
      "Could see that comming\n"
     ]
    },
    {
     "name": "stdin",
     "output_type": "stream",
     "text": [
      "Press Enter after closing the comments for the post... \n"
     ]
    },
    {
     "name": "stdout",
     "output_type": "stream",
     "text": [
      "Post 4: Qld taxpayers set ‘to prop up’ new solar energy farm | Sky News AustraliaJust as major private companies are fleeing from investing in renewable energy the Queensland Palaszczuk government has decided now is the time to use taxpayers’ money in “propping up the solar energy sector,” Sky News host Chris Kenny says. “The renewable energy sector has been having a tou...\n"
     ]
    },
    {
     "name": "stdin",
     "output_type": "stream",
     "text": [
      "Press Enter after opening the comments for the post... \n"
     ]
    },
    {
     "name": "stdout",
     "output_type": "stream",
     "text": [
      "Comments collected. You can now close the comments section.\n",
      "Comments:\n",
      "They are not really seeing the effect that our sustainable renewable energy is doing to the country. We should be going back to our energy source that has proven itself. How much of our country is being affected from the waste that these installations created. Start watching the true stories about what the rest of the world is coping with by these so called clean energy. The waste that they creating in as bad as the uranium as it can not be reused and does not breakdown and they are burrying it for generations to find.\n",
      "Good old Premier Trad buying the green voters her inner city electorate is full of.\n",
      "These solar panels will not return the energy it took to mine, build and install them. FFS just burn the coal instead and get 24/7 reliable power.\n",
      "What a waste of tax payers money\n",
      "Stupidity........doing the same thing over and over and expecting different results.\n",
      "Be amazed, hold on to your seats, be ready for the sequel to 'Planet of the Humans' staring Elbow as Dr Zaius and introducing Adam Bandt in his first feature role as Cornelius. Mark Matthews in the role of George Taylor. Follow the plight of humanity in 'Planet of the Apes'. Winner of the Green development award, coming to an ABC near you. Here is a short preview. https://www.youtube.com/watch?v=XvuM3DjvYf0\n",
      "Planet of the Humans was what I already knew but the other documentary “The Great Global Warming Swindle”..was next level and much more eye opening. It gives you the whole background of how this hoax started and continues today. A must watch. On YouTube.\n",
      "Another carbon tax...everything, without exception, that you pay for has an electricity cost component...Your car insurance, school fees, groceries, petrol, rates... and green soar and wind has added at least 30% to your power bills and added costs to everything ..without exception.This is a carbon TAX...FACT.Making you poorer for no measurable benefit...Palasssotasick is a left green socialist economic incompetent under union control.\n",
      "Flogging a dead horse here .The renewable experimentation has failed miserably at astronomical cost to taxpayers.Put a stop to this madness.\n",
      "The data showed late last year, even as presented in right wing media, that most companies are not fleeing at all. This is yet another example of the dishonesty and that the right doesn't know what the left is talking about in the right wing media. Billions of dollars of projects in the pipeline and underway. Hardy fleeing. There's room for all power generation types at the moment, as I always say. Clearly the energy companies see that too. Oh yeah and how about mentioning the tax subsidies and breaks for the newly released area of land for coal and gas exploration in QLD? Too much to admit that? (Now watch the brainwashed in denial have their usual brainfart because they can't disprove that the tender went out yesterday.)\n",
      "Bunch of fools, stick with proven 24/7 coal or go nuclear, bloody eyesore propellers polluting a beautiful countryside and solar when the sun wants to play.Again, bloody bunch of hopeless fools!!\n",
      "How can we afford this?  We are broke. Even real estate Jackie Trad says so.  The only spending going on at the moment is from the Feds.  Is this delivering on some deal with Greens? https://www.theaustralian.com.au/.../d8b36b321cd28d121745...\n",
      "How much coal is used to make the solar panels?\n",
      "C'mon Sky News enough with the lies.  Investment is pausing because of poor infrastructure and and even poorer LNP government.\n",
      "Useless fools. Not their money of course and they will be gone soon, just leaving the wreckage!\n",
      "Qld Govoner General earn your pay and stand her down, please stop this wasteful female dog from pushing Queensland deeper in debt\n",
      "That's what they do. Waste other peoples money. Solar, olympics, public service bonus etc etc\n",
      "If solar was any good it would not need support.  Waste of MONEY.\n",
      "Fraction of the percentage of fossil fuel subsidies.\n",
      "How disgraceful. Corrupt QLD Labor party\n",
      "Lord bless you qldrs. Do yourselves a favour, list qld labor dead set last at your next state election or not at all \n",
      "Same in WA where McGowan is building a huge wind farm and solar farm in the Pilbara at a huge cost. But then again he is labor so it was expectedhttps://www.smh.com.au/.../wa-watchdog-green-lights-world...\n",
      "Yes solar viability and use have peaked and even over produce at the wrong times of the day all at once.As for wind..The wind energy cannot be  booked in advance planning because the wind might not blow those days.Ok.Australian Energy commission released these concerns..Not me..\n",
      "After all solar panels are so clean and last forever and there made with fairy dust and they dont take up any space and there made with abundant materials and there providing another revenue stream for the rich.\n",
      "hahahaha....the sham is being exposed for what what it is...and now,as usual the taxpayer will be footing the bill for this \"Scam\"...\n",
      "Funny, I thought I read recently on these pages that there was more investment in renewables - obviously wasn't a News Corp page\n",
      "Labor & Liberal it seems will always keep the people poor to control them.\n",
      "Forget it. If they are made in Qld from our materials, that's ok.\n",
      "why they fall apart in 5 years\n",
      "Who said they are fleeing?\n",
      "Follow the money ,cut the money and see what happens.\n",
      "If it's a good business proposition why can't the banks lend them the money?\n",
      "Might be a good time to pay back the debt.\n",
      "Which politicians have investments in this joke?\n",
      "Sky​news​ backs globalisation​ over​ Australia​n​ renewable  energy.​ They​ want​ Australia​ns​ ​to​second​ place​ is​ that​ the​ truth\n",
      "Not surprising when you look at the dills in charge.\n",
      "Clearly Jackie trad accidental premier havent seen Planet of the Human's yet \n",
      "She​ just​ opened​ ​7000 sqr  klm exploration  you​  dont​ mention​ in​the​ ​scales department\n",
      "Is the French company “Vinci”?\n",
      "The https://l.facebook.com/l.php... truth behind it all produced by a passionate environmentalist:\n",
      "Water storage? Dhead?\n",
      "Obviously Palachook and her cronies haven’t watched planet of the humans \n",
      "Get ready. Qld ders love this\n",
      "October,election can't come quick enough.\n",
      "Won't matter with no business\n",
      "Solar panels can't be recycled\n",
      "Solar farm - what junk \n",
      "Keep​ coming​ second​ our​ media​ sugestion​ is​ to​ you​ all\n",
      "Off their heads \n",
      "More coal power stations needed.\n",
      "The amount of dumb right wingers that miss the whole point of Planet of Humans is incredible.\n",
      "Are people that dumb? Solar panels are made from coal and quartz . Also bio mass is made from trees so they are litrally killing the planet.https://youtu.be/Zk11vI-7czE\n",
      "at best they are 15% efficient-on cost + benefit basis, worst probable 15-20 year life span..not degradable,toxic material remain..>> \n",
      "TMZ update on the much anticipated new blockbuster. Be amazed, hold on to your seats, be ready for the sequel to 'Planet of the Humans' staring Elbow as Dr Zaius and introducing Adam Bandt in his first feature role as Cornelius. Do not miss Sarah Hanson-Young as the mute Nova. Mark Matthews in the role of George Taylor. Follow the plight of humanity in 'Planet of the Apes'. Winner of the heralded Green development award, coming to an ABC near you. Here is a short preview.  https://www.youtube.com/watch?v=wJADFCAlUGg\n",
      "Solar energy farms are not economically viable. See Michael Moores doco - the Planet of the Humans. Tax funded subsidies is absolute stupidity.\n",
      "Zero value to the gridhttps://www.cfact.org/.../wind-and-solar-add-zero-value.../\n",
      "There is a sucker born every minute, Australia you are next - https://m.youtube.com/watch?v=Zk11vI-7czE&t=5291s \n",
      "stupid pancake dosnt she realize\n",
      "Always follow the money....the truth behind it all:\n",
      "Damian Kelly\n",
      "Just go nuclear\n",
      "CCP\n",
      "Good. \n",
      "What a joke, what a waste of money, what a mess!\n",
      "https://youtu.be/Zk11vI-7czE\n",
      "https://youtu.be/Zk11vI-7czE\n",
      "You Lunatics!\n",
      "Such a waste\n",
      "Don't like her or the Gov but a good move\n",
      " .OH NO! \n",
      "Planet of the Humans\n",
      "Could see that comming\n"
     ]
    },
    {
     "name": "stdin",
     "output_type": "stream",
     "text": [
      "Press Enter after closing the comments for the post... \n"
     ]
    },
    {
     "name": "stdout",
     "output_type": "stream",
     "text": [
      "Post 5: For years, the Government has subsidised rooftop solar and, more recently, wall batteries. This isn't so you can have cheap power, it's so they can have YOUR cheap power.Half of Australia's solar energy is generated from rooftop systems. During the morning and evening peak hours, when the sun isn't shining and wind energy reduces by 90%, the government will take the charge from your wall battery and EV to keep the grid going.This is called \"grid connectivity\".  Under net … See more\n"
     ]
    },
    {
     "name": "stdin",
     "output_type": "stream",
     "text": [
      "Press Enter after opening the comments for the post... \n"
     ]
    },
    {
     "name": "stdout",
     "output_type": "stream",
     "text": [
      "Comments collected. You can now close the comments section.\n",
      "Comments:\n",
      "I want to get solar on my place, but I don't want the electricity companies buying my generated power for peanuts and selling it back to me at night. Off grid is the only way thats fair, or they buy the power back at the same they sell it to me for. Its such a scam.\n",
      "Turn it all people, they’re using you!\n",
      "Rebuild all the coal plants as they're  already connected  to the grid ffs\n",
      "Correct\n"
     ]
    },
    {
     "name": "stdin",
     "output_type": "stream",
     "text": [
      "Press Enter after closing the comments for the post... \n"
     ]
    },
    {
     "name": "stdout",
     "output_type": "stream",
     "text": [
      "Post 6: For years, the Government has subsidised rooftop solar and, more recently, wall batteries. This isn't so you can have cheap power, it's so they can have YOUR cheap power. Half of Australia's solar energy is generated from rooftop systems. During the mornpUA3LeXix3s9hlhhZV66UVwOJWLlHO6E7JYbWrfl8f3\n"
     ]
    },
    {
     "name": "stdin",
     "output_type": "stream",
     "text": [
      "Press Enter after opening the comments for the post... \n"
     ]
    },
    {
     "name": "stdout",
     "output_type": "stream",
     "text": [
      "Comments collected. You can now close the comments section.\n",
      "Comments:\n",
      "I want to get solar on my place, but I don't want the electricity companies buying my generated power for peanuts and selling it back to me at night. Off grid is the only way thats fair, or they buy the power back at the same they sell it to me for. Its such a scam.\n",
      "Turn it all people, they’re using you!\n",
      "Rebuild all the coal plants as they're  already connected  to the grid ffs\n",
      "Correct\n"
     ]
    },
    {
     "name": "stdin",
     "output_type": "stream",
     "text": [
      "Press Enter after closing the comments for the post... \n"
     ]
    },
    {
     "name": "stdout",
     "output_type": "stream",
     "text": [
      "Post 7: Just as Greece  is heavily invested in solar energy,  Australia  is too—1 in 4 homes  have solar panels, the highest uptake of solar photovoltaics globally.This is just the beginning of better things to come, with solar capacity expected to triple across Australian homes over the next decade.Find out more about how Australia is making positive  energy:https:… See more\n"
     ]
    },
    {
     "name": "stdin",
     "output_type": "stream",
     "text": [
      "Press Enter after opening the comments for the post... \n"
     ]
    },
    {
     "name": "stdout",
     "output_type": "stream",
     "text": [
      "Comments collected. You can now close the comments section.\n",
      "Comments:\n",
      "In Australia we have pleaded, begged, and protested.I think a world boycott of Australian exports - especially our coal and gas would help convince the Australian Government to stop mining fossil fuels, stop cutting down forests for woodchips and briquettes, and seriously set a zero carbon target.Thanks #boycottaustraliancoalandgas\n"
     ]
    },
    {
     "name": "stdin",
     "output_type": "stream",
     "text": [
      "Press Enter after closing the comments for the post... \n"
     ]
    },
    {
     "name": "stdout",
     "output_type": "stream",
     "text": [
      "Post 8: VihanJust as Greece  is heavily invested in solar energy,  Australia  is too—1 in 4 homes  have solar panels, the highest uptake of solar photovoltaics globally.\n",
      "\n",
      "This is just the beginning of better things to come, with solar capacity expected to triple across Australian homes over the next decade.\n",
      "\n",
      "Find out more about how Australia is making positive  energy:\n",
      "https://www.positiveenergy.gov.au/\n",
      "\n",
      "#Climate #ClimateAction #renewableenergy #environment #energy #renewables #solar #sustainability #energyefficiency #lowemissionstech\n"
     ]
    },
    {
     "name": "stdin",
     "output_type": "stream",
     "text": [
      "Press Enter after opening the comments for the post... \n"
     ]
    },
    {
     "name": "stdout",
     "output_type": "stream",
     "text": [
      "Comments collected. You can now close the comments section.\n",
      "Comments:\n",
      "In Australia we have pleaded, begged, and protested.I think a world boycott of Australian exports - especially our coal and gas would help convince the Australian Government to stop mining fossil fuels, stop cutting down forests for woodchips and briquettes, and seriously set a zero carbon target.Thanks #boycottaustraliancoalandgas\n"
     ]
    },
    {
     "name": "stdin",
     "output_type": "stream",
     "text": [
      "Press Enter after closing the comments for the post... \n"
     ]
    },
    {
     "name": "stdout",
     "output_type": "stream",
     "text": [
      "Post 9: Geologist Ian Plimer claims the energy shortage in Australia is a result of the government subsidising wind and solar energy.\n"
     ]
    },
    {
     "name": "stdin",
     "output_type": "stream",
     "text": [
      "Press Enter after opening the comments for the post... \n"
     ]
    },
    {
     "name": "stdout",
     "output_type": "stream",
     "text": [
      "Comments collected. You can now close the comments section.\n",
      "Comments:\n",
      "If its a lie , it's on Sky.\n",
      "And shutting down coal fired power plants with nothing to replace their output.\n",
      "One day the government will use leftist money to subsidize Nuclear Power....that'll be good to see.\n",
      "And the scandal in UK is out of control...Green Energy indeed...the only thing green is the \n",
      "Have these renewable companies been given permission from Aboriginal Land Councils to have these solar & wind farms across 50% plus, of Australia’s land mass they have been gifted?Just asking.\n",
      "Waiting for the climate alarmists. 1.2.3. And go\n",
      "Australian fossil fuel subsidies in 2022/23 were 14.5 Billion .Subsidies for renewable energy over this  period were 2.7 Billion. Renewables currently account for 39.4 % of Australia's total power supply.  Ian Plimer is currently on the board of 2 Gina Rinehart companies.\n",
      "Scraping the bottom of the barrel if Ian's back.\n",
      "Let get rid of the UN it’s Australia\n",
      "Criminals lining their pockets\n",
      "Why not using coals to generate electricity\n",
      "Really clutching at straws here Sky.\n",
      "Has the Governor General started wriggling in her seat yet ?  She has a job to do.\n",
      "Sounds familiar ...same saga playing out jn New Zealand\n",
      "Gillard and Labor are the problem.  https://www.spglobal.com/.../081612-australian-federal...\n",
      "In real news: Australian farmers are at their wits end with this green dream and are begging for help\n",
      "Ian Plimer is right.  If renewables were even half as good as Bowen says, they’d need no subsidies at all.\n",
      "Where are the good guys? Few and far between. Thank God for those who are. Bring on the changes!!!\n",
      "Everybody knows it but the government.\n",
      "“Solar and wind never provide the exact amount of electricity that is needed. Electricity requires exactly matching supply and demand, and solar and wind on their own exactly match supply with demand 0% of the time.”https://energytalkingpoints.com/25-holiday-power-facts.../\n",
      "Where's Julian Maxton-Graham \n",
      "99% of the Worlds leading Scientists agree we are in climate change emergency,we can't eat coal and we can't drink gas\n",
      "Could have something to do with why energy prices  keep going skyhigh, Albanese is out to wreck the country with his Socialist ideology\n",
      "Labor Voting Greens destroying our energy needs\n",
      "That must have taken some figuring out.\n",
      "You talk logic to these politicians until you blue in face and walk away frustrated. Only if it suits them , they listen to the people they are supposed to serve.\n",
      "Ditto here in New Zealand.  Get a new Government. Hopefully our is on to it\n",
      "Is that Victorian minister Steve Dimopoulos MP?\n",
      "So he believes it has nothing to do the simple fact that the increasing population and use of technology is putting a massive strain on our power grid.  While I do not support or believe that problems will be solved with+ all these wind/solar farms, especially those being located on viable farming land at least it is something.  Personally I would much rather see our government putting a lot of money into researching other possible energy resources because while we still may have 100s (maybe even 1000s) of years left of fossil fuels they are not infinite.\n",
      "could you make the blades out of solar panels \n",
      "Good ol Polution Plimer. Im surprised that The Australian are still using him after they were called out by the Australian Press Council for spreading his BS previously.\n",
      "Thanks Ian Plimer - your reports are most enlightening.  Here’s another climate change theory the “scientists” might have missed - may as well throw it in with all the rest:All those new Colourbond roofs in all our new developments are reflecting heat up into the atmosphere, causing excessive roof-heat conditions.  (We could call this condition “roofies”.)  I think we’d better go back to thatched roofs. \n",
      "If the MONEY the government’s used to SUBSIDISE renewables was allocated to housing we would not have a housing/ rental crisis\n",
      "Australia's maritime defence system, wind turbines at sea, pick your way through them would be invaders \n",
      "Chairman of Yeeda Oil Limited is against renewables. Shocking....\n",
      "Any energy shortage /Gas short fall IS DUE to excessive exporting of Australian Gas surely and OLD liberal Geologist Ian Plimer should know that .\n",
      "Prayers for his family and friends! So heartbreaking lmy.de/YTunO\n",
      "https://www.logitrain.com.au/guaranteed-it-job-programs.html\n",
      "\"IAN PALMER\" At least we the Australian citizen's have one person in our country that is telling us all the TRUTH!!  THEY HAVE DELIBERATELY DESTROYED OUR COUNTRY AND ECONOMY FOR THEIR OWN GLOBALIST'S AGENDA'S!! WE HAVE GONE FORM HAVING ONE OF THE LOWEST ELECTRICITY PRICES IN THE WORLD TO THE DEAREST IN LESS THAN THREE YEARS GLOBAL BOILING IS A \"SCAM\" THAT'S GOING TO ENSURE HIGHER PRICES WILL BE IN PLACE FOREVER!!   AND SO WILL THEIR SUBICIDES SUPPORT SCAMS!!   EVERYTHING WILL HAVE TO BE REPLACED DOWN THE TRACK AT DUBBLE THE PRICE IN 15 TO 20 YEARS TIME!!   THEY HAVE DESTROYED OUR COUNTRY IN LESS THAN THREE YEARS THE BUNCH OF CORRUPT MUNGREL'S!!\n",
      "We need a gas reservation policy yesterday (oh and common sense government not these clowns)\n",
      "Aside from this menacing act of deflection from clueless Albo... Do you know this draconian Labor, Greens and Teals Government are planning to take 30% of the peoples land?This Albo mob have agreed to the UN's 30x30 agreement which takes away land from the people to have 30% of emissions. He signed this in September 2023 with the Greens. What an absolute load of crap! Taking away Australians rights to the forests! ie this disgraceful government have been flying under the radar to change existing State Forests to National Parks, which ultimately means ceasing access to the land! In Canberra Tanya Plibersek and Steve Dimopoulos MP in Victoria are selling out the people? Other states have already fallen victim to this governments reign of abusive power. Literally selling Australians out! This despicable Government has set a national target to protect and conserve 30% of Australia's landmass and 30% of Australia's marine areas by 2030 (the '30 by 30' target) with the UN. This aligns with Target 3 of the Kunming-Montreal Global Biodiversity Framework (GBF). Australian state forests belong to the people! Victorians State Forests belong to the people! Australians everywhere unite and DO NOT want National Parks \n",
      "John Hibbard\n"
     ]
    },
    {
     "name": "stdin",
     "output_type": "stream",
     "text": [
      "Press Enter after closing the comments for the post... \n"
     ]
    },
    {
     "name": "stdout",
     "output_type": "stream",
     "text": [
      "Post 10: #ShapeOurFuture and protect the planet we call home! #earthhour Draw renewable energy from the  to power your home. Consider installing solar panels on your home to help combat greenhouse gas emissions!Our intelligent, integrated Solar Energy solution provides continuous backup power to your home in event of a emergency or blackout. Clean energy day and night. Safe, reliable energy storage solutions made in Australia.… See more\n"
     ]
    },
    {
     "name": "stdin",
     "output_type": "stream",
     "text": [
      "Press Enter after opening the comments for the post... \n"
     ]
    },
    {
     "name": "stdout",
     "output_type": "stream",
     "text": [
      "Comments collected. You can now close the comments section.\n",
      "No comments found for this post.\n"
     ]
    },
    {
     "name": "stdin",
     "output_type": "stream",
     "text": [
      "Press Enter after closing the comments for the post... \n"
     ]
    },
    {
     "name": "stdout",
     "output_type": "stream",
     "text": [
      "Post 11: South Australia, already leading Australia in renewable energy could reach 87% wind and solar energy in 4 years! Who wants to see their state follow? More\n"
     ]
    },
    {
     "name": "stdin",
     "output_type": "stream",
     "text": [
      "Press Enter after opening the comments for the post... \n"
     ]
    },
    {
     "name": "stdout",
     "output_type": "stream",
     "text": [
      "Comments collected. You can now close the comments section.\n",
      "Comments:\n",
      "Funny how half the comments are boomer trolls. Accept that the new generations aren’t going to carry on the status quo. We’re not taking the planet for granted anymore. \n",
      "Don't forget the imminent little ice age that will thwart the renewables industry as climate change cycles continue to expose us to frail technology\n",
      "Well what about us up here in Queensland we are opening new coal mines all the time. And we are pushing to open old coal mines to produce more coal. And ship it all over to China and India in massive ships which will sail over The Great Barrier Reef.How smart are we. Thank to Palaszczuk. \n",
      "Great.. Working well in Northern Europe. Time to move from coal permanently.\n",
      "Batteries Tesslar will store excess power. good planning\n",
      "Not as effective as coal we should build a nuclear energy plant\n",
      "What happens when there is no wind ? \n",
      "WHEN THERES NO WIND OR SUN HOPE U HAVE A BACK UP COAL POWER VERY RELIABLE MOST OF THE TIME\n",
      "Need trees no wind and solar farms\n",
      "They already had blackouts what next candle power. Sound good to greenies. \n",
      "Coal is so romantic. A coal fire on a winters night, a steam locomotive, steam engines pulling wagons yes those were the days. \n",
      "Solar beats them all, just look at our sunshine,it' a win win alround\n",
      "Quite interesting just how much Diesel is  used by wind farms. First, making the components.  Then delivering them to site. Then in day to day running and replacements.  Not really clean power st all.\n",
      "Dear Australian, i am from Poland. My country helped your when you where fighting with fires. We Pay you donations. Nie we have problem. One of the biggets National po ark in Poland names National Park of Biebrza fighting with furę. There are many Animals and birds. I beg you help uS too!  https://www.siepomaga.pl/biebrza?ts=adw-biebrza...\n",
      "Horrible visual pollution.\n",
      "I'd rather have wave power, Carnegie Clean Energy.\n",
      "Does South Australia own these ?\n",
      "I like a trial of hydrogen storage  using solar to split  water whist to desalinate/boor/murray river  and harvest hydrogen to use at night or as a strategic supply  releasing oxygen similar to what they do  on  the Orkney of the coast of Scotland still  well done SA \n",
      "Who is going to clean up when wind turbines start leaking oil\n",
      "we are killing millions of birds with those things.  The key to energy efficiency is to retrofit insulation to the OUTSIDE of buildings. Has to be nice looking and weatherproof. \n",
      "Could not stand the unholy noise\n",
      "Yes I just googled it and they also have the highest electricity costs in the world. \n",
      "What about disposal problems associated with renewables. \n",
      "Brilliant! No more coal mining please!\n",
      "About time Australia started this stuff.\n",
      "87%. I question that. So how do we get 87% when the sun shines say 12 hours of the day and the wind some times runs out of puff?\n",
      "87 what per cent?  87 winds per each cent?  Wow that's a lot of wind for a penny!\n",
      "Price going down any time soon??\n",
      "Did they run out of power not long ago??\n",
      "no to expensive need coal fired power stations\n"
     ]
    },
    {
     "name": "stdin",
     "output_type": "stream",
     "text": [
      "Press Enter after closing the comments for the post... \n"
     ]
    },
    {
     "name": "stdout",
     "output_type": "stream",
     "text": [
      "Post 12: Geelong Solar Energy is in Geelong.  · Shared with Public\n"
     ]
    },
    {
     "name": "stdin",
     "output_type": "stream",
     "text": [
      "Press Enter after opening the comments for the post... \n"
     ]
    },
    {
     "name": "stdout",
     "output_type": "stream",
     "text": [
      "Comments collected. You can now close the comments section.\n",
      "No comments found for this post.\n"
     ]
    },
    {
     "name": "stdin",
     "output_type": "stream",
     "text": [
      "Press Enter after closing the comments for the post... \n"
     ]
    },
    {
     "name": "stdout",
     "output_type": "stream",
     "text": [
      "Post 13: 𝑰𝒕 𝒂𝒍𝒍 𝒔𝒕𝒂𝒓𝒕𝒔 𝒘𝒊𝒕𝒉 𝒂𝒏 𝒆𝒗𝒂𝒍𝒖𝒂𝒕𝒊𝒐𝒏If you choose to install solar panels with Geelong Solar Energy, our commitment to you starts from our initial consultation and continues throughout the install process. This includes the inspection certification phase and all the way until the paperwork has been lodged with Powercor and the job has been fully connected to the grid. Our panels come with a 25-year power warranty and our inverters have a standard 10 or 12 year manufacturers war… See more\n"
     ]
    },
    {
     "name": "stdin",
     "output_type": "stream",
     "text": [
      "Press Enter after opening the comments for the post... \n"
     ]
    },
    {
     "name": "stdout",
     "output_type": "stream",
     "text": [
      "Comments collected. You can now close the comments section.\n",
      "No comments found for this post.\n"
     ]
    },
    {
     "name": "stdin",
     "output_type": "stream",
     "text": [
      "Press Enter after closing the comments for the post... \\\n"
     ]
    },
    {
     "name": "stdout",
     "output_type": "stream",
     "text": [
      "Post 14: Vihan𝑰𝒕 𝒂𝒍𝒍 𝒔𝒕𝒂𝒓𝒕𝒔 𝒘𝒊𝒕𝒉 𝒂𝒏 𝒆𝒗𝒂𝒍𝒖𝒂𝒕𝒊𝒐𝒏\n",
      "\n",
      "If you choose to install solar panels with Geelong Solar Energy, our commitment to you starts from our initial consultation and continues throughout the install process. This includes the inspection certification phase and all the way until the paperwork has been lodged with Powercor and the job has been fully connected to the grid. Our panels come with a 25-year power warranty and our inverters have a standard 10 or 12 year manufacturers warranty. We only use companies that we have built a strong working relationship with and that have a proven track record of supplying quality solar energy products in Australia. This will ensure our customers are buying a quality product with an Australian based warranty with an Australian based company headquarters. At Geelong Solar Energy we believe that personal accountability creates quality customer service, and building strong relationships with our customers is the only way we grow.\n"
     ]
    },
    {
     "name": "stdin",
     "output_type": "stream",
     "text": [
      "Press Enter after opening the comments for the post... \n"
     ]
    },
    {
     "name": "stdout",
     "output_type": "stream",
     "text": [
      "Comments collected. You can now close the comments section.\n",
      "No comments found for this post.\n"
     ]
    },
    {
     "name": "stdin",
     "output_type": "stream",
     "text": [
      "Press Enter after closing the comments for the post... \n"
     ]
    },
    {
     "name": "stdout",
     "output_type": "stream",
     "text": [
      "Post 15: There are growing fears Australia's solar energy grid could be threatened by foreign interference. New research shows Chinese companies represent 58% of investors in solar grids.7NEWS at 6pm. More local news: 7news.com.au/news/qld… See more\n"
     ]
    },
    {
     "name": "stdin",
     "output_type": "stream",
     "text": [
      "Press Enter after opening the comments for the post... \n"
     ]
    },
    {
     "name": "stdout",
     "output_type": "stream",
     "text": [
      "Comments collected. You can now close the comments section.\n",
      "Comments:\n",
      "Seth Allanson\n",
      "Yes typically government tactics.\n",
      "The great eco-scam https://stopthesethings.com/.../200-million-tonnes-of.../\n",
      "This is so funny. What is the point in interfering  with household power ? Are they going to turn the solar off?\n"
     ]
    },
    {
     "name": "stdin",
     "output_type": "stream",
     "text": [
      "Press Enter after closing the comments for the post... \n"
     ]
    },
    {
     "name": "stdout",
     "output_type": "stream",
     "text": [
      "Post 16: Growing fears Australia's solar energy grid could be threatened by foreign interference9D1JPQQDX9epXwioPGMuwBf27qrQseTIRjmh14fTw\n"
     ]
    },
    {
     "name": "stdin",
     "output_type": "stream",
     "text": [
      "Press Enter after opening the comments for the post... \n"
     ]
    },
    {
     "name": "stdout",
     "output_type": "stream",
     "text": [
      "Comments collected. You can now close the comments section.\n",
      "Comments:\n",
      "Yes typically government tactics.\n"
     ]
    },
    {
     "name": "stdin",
     "output_type": "stream",
     "text": [
      "Press Enter after closing the comments for the post... \n"
     ]
    },
    {
     "name": "stdout",
     "output_type": "stream",
     "text": [
      "Post 17: Shadow Home Affairs Minister James Paterson has called for the Labor government to do more after concerns rise over the potential for China to disrupt Australia’s solar energy supply.Watch the full episode at www.skynews.com.au/flash\n"
     ]
    },
    {
     "name": "stdin",
     "output_type": "stream",
     "text": [
      "Press Enter after opening the comments for the post... \n"
     ]
    },
    {
     "name": "stdout",
     "output_type": "stream",
     "text": [
      "Comments collected. You can now close the comments section.\n",
      "Comments:\n",
      "If you're smart you'll go off grid and get a generator for back-up. This government is going to stuff Australia's energy supply so badly it will take years to recover.\n",
      "What do you expect from a communist party.\n",
      "Sleepy Albo is clueless even on the voice .Vote NO\n",
      "Well do you really think red labor care.?\n",
      "Here is some good advice always keep your coal power running even if its at low capacity in case of an emergency.\n",
      "This is the result of idiot politicians leaping without looking because they wanted to appease the climate scammers. They have been blowing smoke about the climate for as long as I can remember and yet I’ve yet to see any of their predictions come close let alone happen.\n",
      "We’re is an assassin when I need one\n",
      "Buying strategically important goods from the CCP is totally stupid!\n",
      "What else is new labor has sold us out to china\n",
      "CHYNA CHYNA CHYNA CHYNA!!!!!!!!@@! FFS\n",
      "As far back as l can remember the saying was “ cheap and nasty if its made in china”  products didn’t last long. They improved a little bit but Aussie made lasted longer. Time we started going back to Aussie made.\n",
      "Don't bother looking up who we sold our energy companies to \n",
      "Build more nuclear plants or coal fired plants.\n",
      "He has to concentrate on the voice nothing else matters he is looking after his job\n",
      "Ahhh Labor the best politicians money can buy \n",
      "OMG I am so shocked  I mean no one would see that coming.\n",
      "2 joke's hereSolar panelsWe make it in Australia Greens clown  send jobs to Asia\n",
      "Thank GOD our inverter  is Italian built.\n",
      "China trying to take over the world. Think Nazi Germany 1930s\n",
      "Go green , go red.\n",
      "Buy a generator. It's only a matter of time until you need to use it.\n",
      "More sanctions more sanctions more sanctions please.. Pretty please.  Oooo...  Got kicked in the nuts... No more gallium no more germanium no more that special metal for making chips.. Nice... Very nice.. Wonder why they are complaining..\n",
      "And solar panels\n",
      "Why did the LNP when in government,as a majority,vote to keep details of the relationship with China secret?\n",
      "But they bring in there electric cars and expect everyone to buy them. So are they going to expect everyone with Chinese built inverters to replace them. Just an excuse for when their new power grids don’t hold up. Just my opinion\n",
      "Surely there's shack that owners can use to delete the CCP capability?\n",
      "What he’s saying is just like the labor party but they do everything for them selves and don’t care about their people or country or the reputation of Australia.\n",
      "And it’s a big surprise?, not\n",
      "Again Paterson highlights and calls for the alp to do what the LNP was to weak to do.\n",
      "Talk sense? Overrated!\n",
      "Use an inverter that is stand alone not web connected\n",
      "Surely there's a Hack that can eliminate the CCP connection?\n",
      "Oh !!!Really ???I would never have guessed.\n",
      "So  basically china has set up protental fail safe measures to disable a country like Australia's hole  power grid, which would in turn disable all ground based communications effectly shutting down our ability to organize an effective counter offensive actions. Meaning Australia would be completely defenceless might as well just hand them the keys FFS\n",
      "They won’t know what to do ! Best send penny over for another heart to heart \n",
      "Albos mate\n",
      "Ripper elbow an black out saw this comming\n",
      "Who would have thought \n",
      "Huawei????!!!!!! Geez.They’ll know when I have dinner…. And how much power I use…… they are experts at disrupting things…… I would say.The things should be replaced … by government…. I guess.\n",
      "I bless the day I invested in your platform because since then I have achieved greatness.https://www.facebook.com/Tradewithraymondmillard\n",
      "I won’t be sharing the good news of how I got paid if I didn’t see other testimony about him put an end to your financial stress todayhttps://www.facebook.com/Tradewithraymondmillard\n",
      "Words alone won’t express how thankful I am to you and to your platform. It has been a good opportunity for me and my family thank you.https://www.facebook.com/Tradewithraymondmillard\n",
      "solar panels made by the wigurs in concentration camps but let's keep that bit hush hush\n",
      "Go Nuke and coal.\n",
      "EVERYONE JUST VOTE   ((((NO)))) TO THAT VOICE SO EVERYONE IN AUSTRALIAN CAN WATCH ANTHONY MIGRANT ALBANESE HAVE A NERVOUS BREAKDOWN      IT ONLY TAKES ONE MINUTE WHEN YOU GO TO VOTE ((((NO)))) TO THAT VOICE  AND WHEN EVERYONE GET BACK HOME TO WATCH THE 6 CLOCK NEWS WHEREVER YOU MAYBE, AROUND THE COUNTRY AUSTRALIA TO SEE THE RESULT OF THE tiny little (yes) voice FROM THOSE IDIOT'S LABOR PARTY  MOVEMENT, BECAUSE THAT'S WHEN ANTHONY MIGRANT ALBANESE GOING TO START HAVING HIS NERVOUS BREAKDOWN LIVE ON YOUR TV  DON'T MISS OUT IT'S GOING TO BE HILARIOUS              EVERYONE DON'T FORGET JUST VOTE ((((NO)))) TO SEE ANTHONY MIGRANT ALBANESE HAVING A NERVOUS BREAKDOWN  BROADCASTING LIVE ON ALL AUSTRALIAN NATIONAL TV STATION AND BROADCAST RIGHT AROUND THE WORLD                 \n",
      "Paterson is an IPA nutjob.\n",
      "You no it’s a lie when they labor government say we are working to make sure.what a load of rubbish they don’t do nothing right when it comes to China.\n",
      "Look at the size of these farm. Can not ne good for the land not getting sunlight anymore. Then the wind farms chopping down all the trees. Yep gr8 idea. Let's go nuclear NOW.\n",
      "Is it just me or are the politicians getting more dumb by the day \n",
      "Our PM if we have one cos the PM and cowards politicians are taking orders from those who run the show . Remember PM you are the minority and we are in millions . Stop your evil narrative and start acting like a PM that your job or else go with your mates that all of you are working for to try to over thrown all of us under dictator . We are already feeling the stress and anger cos of you Mr PM and go all the politicians that they are not with the Australian people but against cos they already have millions in their bank account in Switzerland bloody cowards . Shame on you mr PM you know that you are doing it’s not what most the Australian want at all . Stop giving millions from the tax payers money and keep on doing what the West and NATO they are most pedophilia . Shame for all those who are working against their own people in parliament cos to keep pumping millions from the everyday workers tax money .\n",
      "Paranoid\n",
      "And what did the LAZY LIBERALS DO about the matter over 9 years? ZERO!! The NERVE of these IDIOT LIBERALS to try and make demands.\n",
      "Labor will stuff it up themselves, just like they have with coal fired energy supply.\n",
      "Quite simple really. We need common sense people NOT weak career politicians. They well know the dangers but it's their careers before their nation that , come first.....they should be held to their oath of office for their nation destroying decisions. Australia has been down this path before, of putting all their eggs in One basket & coincidentally , Not, in the Same Basket.....a Joke for a Govt ??\n",
      "Thank you Australia  for given us your land , mostly appreciate \n",
      "Another failure from our governments\n",
      "and the surprise on this. is ZILCH.\n",
      "You gotta love the backflipping..Scomos governments record on foreign investment in our power infrastructure hit new highs, and now there's a big problem with solar panels being made in China..\n",
      "Looks good for the environment.not\n",
      "dopey Bowen what do you expect\n",
      "James Paterson has been drinking the IPA Kool Aid again.\n"
     ]
    },
    {
     "name": "stdin",
     "output_type": "stream",
     "text": [
      "Press Enter after closing the comments for the post... \n"
     ]
    },
    {
     "name": "stdout",
     "output_type": "stream",
     "text": [
      "Post 18: #DYK South Australia has become the first major jurisdiction in the word to be powered entirely by solar energy? A global milestone, Australia continues to lead in renewable energy.\n"
     ]
    },
    {
     "name": "stdin",
     "output_type": "stream",
     "text": [
      "Press Enter after opening the comments for the post... \n"
     ]
    },
    {
     "name": "stdout",
     "output_type": "stream",
     "text": [
      "Comments collected. You can now close the comments section.\n",
      "Comments:\n",
      "Wow. A whole bloody hour. Congratulations cave dwellers\n",
      "Rahim okay one good reason to in SA over VIC \n",
      "Hey!!!!! lol\n",
      "Woah \n"
     ]
    },
    {
     "name": "stdin",
     "output_type": "stream",
     "text": [
      "Press Enter after closing the comments for the post... \n"
     ]
    },
    {
     "name": "stdout",
     "output_type": "stream",
     "text": [
      "Post 19: There's a looming waste crisis from Australia's solar energy boomAustralia urgently needs to prepare for a coming tsunami of solar panel and battery waste.\n"
     ]
    },
    {
     "name": "stdin",
     "output_type": "stream",
     "text": [
      "Press Enter after opening the comments for the post... \n"
     ]
    },
    {
     "name": "stdout",
     "output_type": "stream",
     "text": [
      "Comments collected. You can now close the comments section.\n",
      "Comments:\n",
      "The materials used in solar panels include silicon, copper, tin, aluminum and glass which are 85% to 95% reclaimed and recycled.\n",
      "We faced a similar issue in the early 80’s with the increasing world wide popularity of motor vehicles and the treatment and disposal of lead acid batteries.\n",
      "How about addressing the 50,000 unrehabilitated mines across Australia that the Mining Industry have just been allowed to walk away from, destroying our agricultural land!\n",
      "There is no technical barrier to fully recycling all components of solar cells and batteries. The same with virtually any manufacturered product. It's just a matter of will, and enforceable legislative actions to make it happen. There are costs, but these are offset by the savings in less need for new mining as materials are recycled as well as the obvious health and aesthetic reasons of eliminating waste.\n",
      "So panels are recyclable, but let’s just say they weren’t, for arguments sake. the average Aussie person creates 1.5 tonnes of landfill per year (source- Greenpeace) and solar panels have a 15 year lifespan (approx). A family of 4 would create 90 tonnes of landfill in 15 years, so chucking 300kg of panels into the bin after 15 years is insignificant. Not that you need to, they’re recyclable. Nice work giving the solar naysayers a nice misinformed one line retort to their anti solar reasoning \n",
      "Congratulations to Griffith University for highlighting a question I've been asking for a few years now - what happens to all the solar panels and batteries at their end-of-life? It's time to start looking at other forms of energy generation - in earnest - it is unrealistic to continue using solar panels that gouge the earth of rare minerals that end up sitting on peoples' rooftops.  We have to find a sustainable solution.In the meantime, the waste generated from the current solar cells must be managed and recycled efficiently and affordably.  We need guiding legislation and bi-partisan government commitment.\n",
      "No hurry. The world's been using nuclear for fifty years and we've no proper way to get rid of its waste. At least with solar the materials are recyclable.\n",
      "Always thought solar energy could be implemented using the same model as mobile phones - monthly contract including maintenance and up grades. This way waste could be best on sold to recycling.\n",
      "Nuclear concerns me as the waste is so toxic and we have  to find a suitable facility to store it.  Fukidhima was a modern, 100% safe power station.  There is no point saying it was in the wrong place, as the disaster  has already occurred.   Chernobyl  was a safe reactor, but it failed.  Five mile island? In the US, another safe one.  We also have to ask how much uranium  is left.\n",
      "Yes, we do need to get a lot better at recycling in general. The market has failed us, so it's up to government. Do we have a government that's up to the challenges?\n",
      "Gee, but fossil fuel industry, plastics, coal..nothing to think about there?\n",
      "You have to look at this issue in perspective to dicommision a coal-fired power station is a big environmental problem. Solar panels and baterys are 90 % recyclable. Not even talking about decommissioning a nuclear plant cost billions.\n",
      "I hope the Product StewardshipAct looks at plastic production.  No new plastic should be produced at all!\n",
      "Not to mention the import trade deficit.\n",
      "The whole waste problem is driven by producers externalising end of life waste costs.There should be no new product bought to market without effective recovery and reuse/sustainable processing of the end of life product being built into the business model.#PollutionIsaBusinessDecision\n",
      "There’s an opportunity for an innovative Australian company!\n",
      "There is a guy on fakebook marketplace who picks up old panels for free! He recycles them \n",
      "Couldn't the unrecyclable parts just be crushed up and mixed with old tyres melted down (no naked flames) and made into a small rubber based pellet and then used on roads instead of bitumen ? Maybe not in hot areas but certainly down south !\n",
      "Australia has vast uninhabitable land that can be used as landfill. But come on, recycle and reuse finite resources.\n",
      "Governments solution, don't invest in science, send to another country lol\n",
      "You can store electricity in salt water batteries. There are some already on the market. You can recycle any type of battery.The resistance to renewables is amazing.Try this. Sun in, electricity out for vertually zero cost, electrolysis into hydrogen, stored, though a fuel cell back into electricity and water.\n",
      "While the STC incentive scheme is in place, the Clean energy council (CEC) need upgrade the equipment safety standards encompassing a reusing policy! CURRENTLY IT IS ECONOMICALLY BENEFICIAL TO REMOVE AND DISPOSE of a 5year old system and replace with a new larger system and claim additional STC credits than just install an additional system to boost capacity.\n",
      "And some of the cheaper ones last only 5 years\n",
      "An industry will develop recycling them !!\n",
      "Corey Story, Sonia Randhawa\n",
      "Juni Ross\n",
      "Lu\n",
      "True\n",
      "Recycle\n",
      "Damian Turnbull\n",
      "Andrew\n",
      "Millie Mavrodis\n",
      "Daki Maki\n",
      "A problem no one mentions.Catherine Jemma\n",
      "Angelique Parras!! X\n",
      "Recycle research =jobs\n"
     ]
    },
    {
     "name": "stdin",
     "output_type": "stream",
     "text": [
      "Press Enter after closing the comments for the post... \n"
     ]
    },
    {
     "name": "stdout",
     "output_type": "stream",
     "text": [
      "Post 20: Australia receives the highest relative amount of solar irradiance of any continent.Whoopty doo, but what does it all mean, Basil?Here's an animation on how solar energy works for your Friday night, because we're quirky like that.\n"
     ]
    },
    {
     "name": "stdin",
     "output_type": "stream",
     "text": [
      "Press Enter after opening the comments for the post... \n"
     ]
    },
    {
     "name": "stdout",
     "output_type": "stream",
     "text": [
      "Comments collected. You can now close the comments section.\n",
      "Comments:\n",
      "Do CSIRO actually advise the public on where to get these technologies? One of the main problems I have with trying to purchase is that the vendors approach is rarely via expertise in the technologies and usually expertise in sales techniques. And obviously they are not vendor neutral. I'd love a vendor neutral party (ie probably government funded) to be reviewing the market for consumer options. Its a big outlay in cash, the market is complex - eg what is reasonable re installation costs, state and federal rebates, technology options in capture and storage, manufacturer competence etc and hence purchasing confidence is low (imo). Is this kind of advice available anywhere?\n",
      "Molten salt thermal storage wasn't mentioned.\n",
      "Wow amazing Australia is the best continent and best country in the whole world amazing country Australia is the best country in the whole world amazing country\n",
      "CSIRO what's our position on storage and transfer? As you're aware a large percentage of power is lost in transfer, any innovation on that? Their has been interesting innovation on salt batteries are these also being investigated here, any news on our position on this?\n",
      "Not if 'One Nation' has their way  First there were 3 monkey's now it seems they've added a 4th who combines all the inherited traits of the other 3 \n",
      "Keep these super cool info updates as CSIRO is up there with the best in the business....\n",
      "Fact check: wouldn't China, with its one billion population, and its position as the world's largest producer of solar panels, what MORE panels on roofs than Straya?  Check it out!\n",
      "Where/when do we start!\n",
      "Jane Williamson physics homework for you\n",
      "A\n",
      "Tim Knight\n",
      "Tina Newling\n"
     ]
    },
    {
     "name": "stdin",
     "output_type": "stream",
     "text": [
      "Press Enter after closing the comments for the post... \n"
     ]
    },
    {
     "name": "stdout",
     "output_type": "stream",
     "text": [
      "Data has been saved to australia_solar.csv\n"
     ]
    }
   ],
   "source": [
    "from bs4 import BeautifulSoup\n",
    "from selenium import webdriver\n",
    "from selenium.webdriver.common.by import By\n",
    "from selenium.webdriver.common.keys import Keys\n",
    "import time\n",
    "import pandas as pd\n",
    "\n",
    "# URL of the target Facebook page\n",
    "target_url = \"https://www.facebook.com\"\n",
    "\n",
    "# Initialize the Chrome WebDriver\n",
    "driver = webdriver.Chrome()\n",
    "\n",
    "# Navigate to Facebook and log in\n",
    "driver.get(target_url)\n",
    "username = driver.find_element(By.ID, 'email')\n",
    "password = driver.find_element(By.ID, 'pass')\n",
    "username.send_keys('vihan.v68@gmail.com')\n",
    "password.send_keys('0772889994')\n",
    "password.send_keys(Keys.RETURN)\n",
    "\n",
    "# Allow some time for the login to complete and CAPTCHA to appear\n",
    "time.sleep(5)\n",
    "\n",
    "# Wait for manual CAPTCHA solving\n",
    "input(\"Press Enter after solving the CAPTCHA...\")\n",
    "\n",
    "# Navigate to the desired page or group\n",
    "driver.get('https://www.facebook.com/search/posts/?q=solar%20energy%20australia')\n",
    "\n",
    "# Allow some time for the page to load\n",
    "time.sleep(5)\n",
    "\n",
    "# Initialize empty lists to store the extracted posts and comments\n",
    "posts = []\n",
    "comments = []\n",
    "\n",
    "# Loop to scroll the page and collect posts\n",
    "for _ in range(50):\n",
    "    # Scroll the page\n",
    "    driver.execute_script('window.scrollTo(0, document.body.scrollHeight);')\n",
    "    time.sleep(2)  # Adjust sleep time as necessary to allow for page load\n",
    "\n",
    "    # Get the page source\n",
    "    resp = driver.page_source\n",
    "\n",
    "    # Parse the page source with BeautifulSoup\n",
    "    soup = BeautifulSoup(resp, 'html.parser')\n",
    "\n",
    "    # Find the specific divs containing the required information\n",
    "    items = soup.find_all('div', {'class': 'x78zum5 xdt5ytf xz62fqu x16ldp7u'})\n",
    "\n",
    "    # Iterate through each item and extract the desired information\n",
    "    for item in items:\n",
    "        post_content = item.get_text()\n",
    "        if \"solar energy\" in post_content.lower() and post_content not in posts:\n",
    "            posts.append(post_content)\n",
    "            if len(posts) == 20:\n",
    "                break\n",
    "    if len(posts) >= 20:\n",
    "        break\n",
    "\n",
    "# Function to scroll and scrape comments for a specific post\n",
    "def scrape_comments():\n",
    "    # Get the page source\n",
    "    resp = driver.page_source\n",
    "\n",
    "    # Parse the page source with BeautifulSoup\n",
    "    soup = BeautifulSoup(resp, 'html.parser')\n",
    "\n",
    "    # Find the specific divs containing the comments\n",
    "    comments_section = soup.find_all('div', {'class': 'xdj266r x11i5rnm xat24cr x1mh8g0r x1vvkbs'})\n",
    "    post_comments = []\n",
    "    for comment in comments_section:\n",
    "        comment_text = comment.get_text()\n",
    "        if comment_text:\n",
    "            post_comments.append(comment_text)\n",
    "\n",
    "    return post_comments\n",
    "\n",
    "# Loop through the collected posts to scrape comments\n",
    "for idx, post in enumerate(posts):\n",
    "    print(f\"Post {idx + 1}: {post}\")\n",
    "    \n",
    "    # Pause the script to allow manual opening of comments\n",
    "    input(\"Press Enter after opening the comments for the post...\")\n",
    "\n",
    "    # Scroll and wait for comments to load\n",
    "    for _ in range(10):\n",
    "        driver.execute_script('window.scrollTo(0, document.body.scrollHeight);')\n",
    "        time.sleep(2)  # Adjust sleep time as necessary to allow for comments to load\n",
    "\n",
    "    # Scrape comments for the current post\n",
    "    post_comments = scrape_comments()\n",
    "    comments.append(post_comments)\n",
    "    print(\"Comments collected. You can now close the comments section.\")\n",
    "\n",
    "    # Print comments for the current post\n",
    "    if post_comments:  # Check if there are comments\n",
    "        print(\"Comments:\")\n",
    "        for comment in post_comments:\n",
    "            print(comment)\n",
    "    else:\n",
    "        print(\"No comments found for this post.\")\n",
    "    \n",
    "    # Print a message to let you know to close the comments\n",
    "    input(\"Press Enter after closing the comments for the post...\")\n",
    "\n",
    "# Prepare data for CSV export\n",
    "data = []\n",
    "for idx, content in enumerate(posts):\n",
    "    if idx < len(comments):  # Ensure there's a comment entry\n",
    "        for comment in comments[idx]:\n",
    "            data.append([content, comment])\n",
    "    else:\n",
    "        data.append([content, None])\n",
    "\n",
    "# Create a DataFrame and save it to CSV\n",
    "df = pd.DataFrame(data, columns=['Post', 'Comment'])\n",
    "df.to_csv('australia_solar.csv', index=False)\n",
    "\n",
    "print(\"Data has been saved to australia_solar.csv\")\n"
   ]
  },
  {
   "cell_type": "code",
   "execution_count": 26,
   "id": "3fe012a7-e63b-4661-bbe6-9c6b531fceb7",
   "metadata": {},
   "outputs": [
    {
     "name": "stdout",
     "output_type": "stream",
     "text": [
      "Post 1: Nationals MP Keith Pitt says nuclear energy is a “pretty straightforward” alternative in providing reliable and affordable energy while producing zero emissions.\n"
     ]
    },
    {
     "name": "stdin",
     "output_type": "stream",
     "text": [
      "Press Enter after opening the comments for the post... \n"
     ]
    },
    {
     "name": "stdout",
     "output_type": "stream",
     "text": [
      "Comments collected. You can now close the comments section.\n",
      "Comments:\n",
      "Net zero is impossible.  Plants and humans and earth can't do it.\n",
      "Why do you always see steaming cooling [ water vapour] towers, it only excites the greens who are convinced its pollution\n",
      "it shouldn’t be needed in Australia and doesn’t fit the timeframes. Would take 20  to 30 years  or even more to get one up and running in Australia, if it could happen at all. It would produce energy more expensively than renewables.The contemporary possibility of SMRs are currently very early in their development and apparently produce energy at twice the cost  of traditional reactors.\n",
      "Nothing straight forward about labour\n",
      "Please don’tWe are humans and humans make mistakes and then Chernobyl here we come!\n",
      "Of course it is. Why don’t the opposition state this more aggressively?\n",
      "It’s an election winner. Bowen will bend over as he done time and time again!\n",
      "‘Affordable’ from a politician can have varying meanings.And where is the nuclear fuel coming from the only two options are Russia and China.\n",
      "Great ideas these pollies have...let's turn Australia into another Chernobyl\n",
      "Swet, no emissions... but the fuel rods do eventually need to be gotten rid of as they become less effective as fuel for the reactor.... and they are terribly radioactive, so, where do we put them?  Bury them in the nearest Politicians back yard?  If that is the case, lets go!!\n",
      "But it doesn’t make any money for investors!\n",
      "Just imagine an energy source where nothing in our lives and economy had to change.  Electric cars would actually be green . No wasteful wind and solar farms that soak up subsidies and are at best transitional . Oh yeah that's nuclear .\n",
      "Problem is anything that is a great option isn’t affordable to generate power as it’s all about the feel good sensation of spending many more millions/ billions on a power generation system that is not going to be suitable to supply 24/7 power load’s for decades\n",
      "It sure is plain logic\n",
      "Couldn’t possibly do that too simple\n",
      "Colin Vlug\n",
      "But Mr. Pitt it doesn't suit the elites and corporates of our country as they couldn't reap in all of those government handouts for using renewables. Its all about the money!!!!!\n",
      "23 countries have nuclear power plants we already have an old mini plant why haven’t we moved ahead ?\n",
      "Thorium Salt reactor is the future of clean energy!\n",
      "Here's a piece of Coalition \"transparency\" for you...\n",
      "Won't help the situation now, it would be 20, 30 years away at least.Crank up the coal\n",
      "Could say it's a no brainer but then that's the trouble to many pollies have no brain.\n",
      "Yes all yap now Pitt done nothing in 9 years\n",
      "the US federal government has paid billions of dollars in damages to utilities for failing to dispose of this waste and may potentially have to pay tens of billions of dollars more in coming decades.https://www.gao.gov/nuclear-waste-disposal\n",
      "1. Forget the climate fear and alarmism. We don't need so-called \"zero emissions\" technology.\n",
      "These picture are steam from cooling towers\n",
      "Flipper Pitt?\n",
      "How will nuclear power be cheaper?\n",
      "The question you ask these nutjobs is Where are you building these Nuclear Power Stations BEFORE THE HYPE of how good they are\n",
      "But the cult of climate alarmism doesn't make any money or obtain an elitist control over the masses by achieving net zero through the reliability of nuclear.\n",
      "Look dad steam.\n",
      "It is the obvious answer to the problem of reliable electricity generation. We need to kick our Federal politicians in the backside & get them to remove the ban on nuclear energy.\n",
      "In the 1940’s we tapped into the most powerful energy source in the universe known to man, yet here we are in 2022 still arguing that solar and wind are the answer to our huge energy demands… Haha only the propagated idiots still think this\n",
      "1kg of uranium produces as much energy as 20,000kg’s of coal.\n",
      "Tesla tower, free energy!\n",
      "Most expensive way to boil water to make steam to turn a turbine to make electricity of all try reading GenCost Keith it’s readily available\n",
      "Leaders aren't interested in cheaper energy - they're only interested in \"Climate change\" to use as a tool to control you.\n",
      "Keith Coalpitt would say that. They want big business to keep holding the monopoly on energy supply.\n",
      "But that has-been bald bloke will sing mean songs about us.\n",
      "Beautiful CLEAN Steam. wtf.\n",
      "so why dont we have it ? !!!!\n",
      "The amount of money that has been wasted on renewables over the past 30 years could have had the entire country running on nuclear with much lower prices and complete reliability. With very low emissions and spare power for electric vehicles.\n",
      "The Nationals are on to a sure vote \"loser\".\n",
      "...and here we go again......\n",
      "An alternative to cheaper energy would mean more expensive energy.\n",
      "Follow the money\n",
      "It’s what needs to be done\n",
      "We should be working towards cleaner smaller versions of nuclear power.  No need to have weaponize able material and dirty fuel rods\n",
      "So is nuclear waste  So the greens aren't saying nothing because Greens means the colour off money\n",
      "Because the politicians wouldn't have a reason to go to the summits Greta would have nothing to be discussed about.So go figure ?\n",
      "Labor is too thick to comprehend.\n",
      "NUCLEARUnited Arab Emirates\n",
      "Off coarse it is.Wake up fed.\n",
      "Should have built them when you were in power. Look what they are doing now each way is selling Australia to China.\n",
      "Far too simple and no MONEY in it for the  bed wetters.\n",
      "AS part of the 'con' to fool the gullible France spends around $AUD40 billion a year subsidising nuclear power to make it appear cheap.France nuclear power; soaring cost of 2023 electricity futures contracts for the French market – the highest in Europe and recently priced at more than €600/MWh – or nearly $A1,000MWh for “baseload”..France caps its consumer power bills – to maintain the myth of “cheap” nuclear and to protect French pride – the cost to EDF of making up the difference is now estimated at more than €24 billion ($A40 billion) this year alone.\n",
      "Great stuff!!\n",
      "Nutters!!!\n",
      "Nuclear energy in Australia should've occurred decades ago.\n",
      "Unproven’ small nuclear reactors would raise Australia’s energy costs.The next generation of small nuclear reactors being advocated by the Coalition would raise electricity prices, slow the uptake of renewables and introduce new risks from nuclear waste.Only two small modular reactors (SMRs) are known to be operating around the world, in Russia and China, and both have seen large cost blowouts..Promoters of nuclear energy, the report claims, were pinning their hopes on technology that was “uncertain and unproven”..According to the report, Russia’s floating nuclear plant, the Akademik Lomonosov, has two small SMR units on board. Construction costs had ballooned sixfold..Work started in 2012 on a demonstration plant in China with two gas-cooled reactors that was completed nine years later, costing $8.8bn..“The global SMR reality simply does not come close to matching the Australian SMR rhetoric,”..Three further SMR plants were under construction in Argentina, China and Russia but had been plagued by cost rises and delays\n",
      "Not rocket science\n",
      "Should be built on current sites of coal fired power stations and save billions on the cost of replacing the transmission lines. They could retain the skilled workforce and possibly use existing cooling towers.\n",
      "i   wonder   how   many  of   my   FB   friends  truly  believe   that   this   country  can    survive   on    wind    and    solar  ......dont   be   shy\n",
      " in twenty five years in the permits were granted yesterday !\n",
      "A bit late now.  Should have been thinking bout that 20 years ago\n",
      "We selling our gas for nothing We the people are paying though the roof\n",
      "At least with nuclear you wouldn’t have to spend billions on new transition lines and who wants  solar panel and wind farms all over the country\n",
      "just a whole lot more expensive.\n",
      "This government has no idea on energy needs for Australians\n",
      "Zero emissions and radioactive waste. Tell me more about how good nuclear waste is.\n",
      "These vapour Towers have nothing to do with Nuclear power it's steam it won't hurt you...what ever they come up with doesn't matter the price won't come down they are to greedy..\n",
      "Agree\n",
      "To much common Sense in that and no underhand money  involved\n",
      "Our WEF/UN masters don’t want a solution to their unsolvable problem, they just want us jumping when they say jump, and they want us all in exponentially increasing debt to them.\n",
      "The Libs never mentioned it in nine years of government despite some 250 energy policy announcements.\n",
      "Remember when the Nationals used to represent the farmers and not the mining conglomerates? \n",
      "Looks like we're all going to have to take a crash course in backyard gardening and farming and live by candlelight WITH NO PHONES, NO TEXTING, NO VIDEO GAMES, and NO TV!!!\n",
      "I'll support nuclear when those who support it build their family homes on top of the nuclear waste dump sites.\n",
      "Certainly beats the renewables madness.\n",
      "Yes it is but whatcwill be done with its waiste .\n",
      "Too costly and too dangerous \n",
      "And who’s going to pay the massive build cost and disposal of the radioactive waste..?\n",
      "Certainly an “ALTERNATIVE” to any other for of cheap energy AKA the absolute most expensive\n",
      "Even the worst human alive Bill Gates has said Nuclear is needed as a back up to Green Energy.\n",
      "No it's not\n",
      "Wow…look at all that STEAM coming out of the stacks … so scary eh?\n",
      "Australia is already at net zero.  And labor doesn't want net zero.\n",
      "Won’t go with nuclear but we will take and store nuclear wast from other countries\n",
      "Australia will never progress  with  bunch of noys running the place. How do the expect renewables to work here when the rest of the world can't make them work, Do they think they are smarter than the rest of the world ?\n",
      "Just use coal . The small bit we aren’t selling.\n",
      "Interesting not a word from the LNP for 9 years and all of a sudden they have an idea on power \n",
      "An ex-minister,with a simple mind, who hasn't thought of the complexities of nuclear leaks with radiations causing environmental and health problems.\n",
      "Off course it is but the lefties and green commos won't embrace it simply because it is COMMON SENSE FFS !!!\n",
      "A decade in government and liberal and national party didn't bother with nuclear energy\n",
      "“Pretty straightforward” if you want to send $billions to the US and France every year in patent costs.\n",
      "I agree. Have it in Australia.\n",
      "i wonder what countries will be invaded next(which can provide mineral resources to built nuclear power stations for us??)\n",
      "OK lets dance, we got nuclear subs, perhaps we could leave them in port and plug em into the grid, for more brilliant ideas contact Rick on 666\n",
      "No brainer. If we had a decent government  in the last 25 years we would be energy self sufficient now but alas we keep electing imbiciles.\n",
      "Keith, you are attempting to convince leftards who have zero intelligence, who are sold out to the renewables scam based on the fabricated climate change fraud.\n",
      "Agreed! Now go out and prosecute the case Mr. Pitt.\n",
      "The worldwide debate on the safety of nuclear power has been had and lost. No Fukushima’s are welcome in Australia thanks \n"
     ]
    },
    {
     "name": "stdin",
     "output_type": "stream",
     "text": [
      "Press Enter after closing the comments for the post... \n"
     ]
    },
    {
     "name": "stdout",
     "output_type": "stream",
     "text": [
      "Post 2: Nuclear energy is a ‘pretty straightforward’ alternative to cheaper energy: Keith PittNationals MP Keith Pitt says nuclear energy is a “pretty straightforward” alternative in providing reliable and affordable energy while producing zero emissions. “If you want reliable energy that is affordable and it’s zero emissions, if that what people want, this is the only game in town,....\n"
     ]
    },
    {
     "name": "stdin",
     "output_type": "stream",
     "text": [
      "Press Enter after opening the comments for the post... \n"
     ]
    },
    {
     "name": "stdout",
     "output_type": "stream",
     "text": [
      "Comments collected. You can now close the comments section.\n",
      "Comments:\n",
      "Net zero is impossible.  Plants and humans and earth can't do it.\n",
      "Why do you always see steaming cooling [ water vapour] towers, it only excites the greens who are convinced its pollution\n",
      "it shouldn’t be needed in Australia and doesn’t fit the timeframes. Would take 20  to 30 years  or even more to get one up and running in Australia, if it could happen at all. It would produce energy more expensively than renewables.The contemporary possibility of SMRs are currently very early in their development and apparently produce energy at twice the cost  of traditional reactors.\n",
      "Nothing straight forward about labour\n",
      "Please don’tWe are humans and humans make mistakes and then Chernobyl here we come!\n",
      "Of course it is. Why don’t the opposition state this more aggressively?\n",
      "It’s an election winner. Bowen will bend over as he done time and time again!\n",
      "‘Affordable’ from a politician can have varying meanings.And where is the nuclear fuel coming from the only two options are Russia and China.\n",
      "Great ideas these pollies have...let's turn Australia into another Chernobyl\n",
      "Swet, no emissions... but the fuel rods do eventually need to be gotten rid of as they become less effective as fuel for the reactor.... and they are terribly radioactive, so, where do we put them?  Bury them in the nearest Politicians back yard?  If that is the case, lets go!!\n",
      "But it doesn’t make any money for investors!\n",
      "Just imagine an energy source where nothing in our lives and economy had to change.  Electric cars would actually be green . No wasteful wind and solar farms that soak up subsidies and are at best transitional . Oh yeah that's nuclear .\n",
      "Problem is anything that is a great option isn’t affordable to generate power as it’s all about the feel good sensation of spending many more millions/ billions on a power generation system that is not going to be suitable to supply 24/7 power load’s for decades\n",
      "It sure is plain logic\n",
      "Couldn’t possibly do that too simple\n",
      "Colin Vlug\n",
      "But Mr. Pitt it doesn't suit the elites and corporates of our country as they couldn't reap in all of those government handouts for using renewables. Its all about the money!!!!!\n",
      "23 countries have nuclear power plants we already have an old mini plant why haven’t we moved ahead ?\n",
      "Thorium Salt reactor is the future of clean energy!\n"
     ]
    },
    {
     "name": "stdin",
     "output_type": "stream",
     "text": [
      "Press Enter after closing the comments for the post... \n"
     ]
    },
    {
     "name": "stdout",
     "output_type": "stream",
     "text": [
      "Post 3: Sky News host Andrew Bolt says Prime Minister Anthony Albanese today treated South Australia Premier Peter Malinauskas’ proposal for nuclear energy “as some kind of joke”.Watch the full episode at www.skynews.com.au/flash\n"
     ]
    },
    {
     "name": "stdin",
     "output_type": "stream",
     "text": [
      "Press Enter after opening the comments for the post... \n"
     ]
    },
    {
     "name": "stdout",
     "output_type": "stream",
     "text": [
      "Comments collected. You can now close the comments section.\n",
      "Comments:\n",
      "While the rest of the world is building new nuclear reactors, and  some putting their older ones back online, Australia is squandering opportunity with only  wind and solar and other low electricity- producing technologies. We are selling our gas, coal and oil, all the while we are starving for power and what power we have is skyrocketing in price. The conversation for nuclear power in Australia must be had.\n",
      "It doesn't comply with Albos wealthy mates  agenda.\n",
      "They all have their fingers in the Wind and Solar pie being paid by the rich investors! Don’t listen to the people just take the money ? Nuclear is the only way to go and keeping Coal!\n",
      "These guys have no ideas themselves yet are ready to mock others!Get rid of this Albo clown!\n",
      "Nuclear needs to be on the table. It’s clean green energy.\n",
      "Albo will run us into the ground then blame Bowen\n",
      "Our PM is some kind of joke.What is the the MSM love affair with him? It's freaking me out and should freak \"everyone\" out. No PM ever has had this kind of \"LOOOOOVE\". It's just so clearly wrong.\n",
      "Do a check on who donated to Albanese, how many shares he has in renewables and when he bought them. Always follow the money, it never lies.\n",
      "So ALBO has now upset his mate Mal in SA too. Is this why he has suddenly got COVID to go into hiding!\n",
      "Albo thinks he’s got all the answers FGS. He’s got no idea. Berates Sth Aust Premier suggesting to look into Nuclear Energy for power sources, after he said I’ll look into any suggestions. Nuclear Energy is safe.It’s used for 11% of energy around the world and safely.It’s either Coal or Nuclear Energy for all power sources.All the others just can’t produce enough.It’s so plain to see but Albo knows best FGS.\n",
      "It just solidifies what an out of touch touch PM we have he so blind and influenced by Bowen. it is unbelievable between these two depots and their policies will cause the turning of our country into a third World Nation  When will Australians wake up. Too late l think\n",
      "Looks like everyone is expected to hold the party line in Labor, even if you have better ideas.\n",
      "WHAT? A labour Premier speaking sense. Stay with it P M ie Peter Malinauskas.\n",
      "Mal has alot more brains than Albo!\n",
      "People voted on gay marriage. Why can't the people vote on the subject. After all it is usually the people's money.\n",
      "We know who the joke is.\n",
      "The problem with people is when they talk nuclear, everyone starts to think 1950's technology. France has a policy of dealing with their own waste, including nuclear fuel rods and 40% of the fuel used to power their nuclear plants is recycled.\n",
      "What a pathetic position to take , if it's safe enough for a massive submarine to have a nuclear generator inside running for 20 years on a handful of nuclear fuel surely we can look into this. It should have happened in the fifties when it was brought up. It's OK for you to say it's your opinion, but what are your real reasons? Nonof what you mentioned are relevant.\n",
      "These people are living in FAIRYLAND they are not working for us just there globle elet mates\n",
      "Lets be honest Australia needs a better electricity system before the idiots get excited about changing our power supplies . The lets rush in renewable energy isn't gonna work for anybody,  it will kill families n businesses with costs and disruptions .I agree we should look at alternatives but for fark sake think before jumping\n",
      "albo is the biggest hoke\n",
      "Lost count of how many people write me off when I mention nuclear energy and start talking about Chernobyl \n",
      "Time Nuclear energy was discussed! If Australia does not agree with it, why are we exporting Uranium?.\n",
      "Has Bolt moved to SA yet?\n",
      "Just for balance here’s a sample from a report with a quite different view ofSMRs.The whole thing is worth a read: “Too late, too expensive, too risky and too uncertain” is how a new report by the Institute for Energy Economics and Financial Analysis (IEEFA) described NuScale’s proposed small modular reactor (SMR) project.\n",
      "Albo hasn't done a bad job up till now but he has totally got it wrong over nuclear. Sadly he is so agenda focussed on renewables that options are totally off his radar. Renewables are nowhere near as clean as nuclear, not even close.\n",
      "There is still no safe way to dispose of nuclear waste safely. It has a half life of thousand of years.Also nuclear power plants have a lead in time of 10 + years, and are hugely expensive.\n",
      "Unfortunately for Australians he is fixated for wind and Solar. Tunnel vision.\n",
      "He is one of his Labour mates.\n",
      "Albo you and your Labor cronies are out of date, wake up, nuclear has been in submarines safety for 20 plus years.\n",
      "Albanese the CC fool !!!   Nuclear is far better than renewables Albanese. And the NEW Coal Power Stations are superb evidently.\n",
      "Runs scared - yes. And dumb, with IQ 3 Minister Bowen.\n",
      "It's what you learn when you know it all that's important. Albo obviously has hubris not Covid.\n",
      "Nuclear power is EXPENSIVE. How do you propose to deal with the waste? Your just pushing your typical anti everything\n",
      "So is China missile  nukes  can hit any part Aussie   even  nuclear  power  stations\n",
      "It hasn’t taken that long for another Labor prime minister, Albanese, to show he’s not up to the job.Happens every time they get into power.\n",
      "Geoff Koloveros \n",
      "Keep up the good work bolt labor’s greatest asset \n",
      "Because Albanese isn’t well enough education on this, that’s why he is talking and scaremongering everyone else, especially to children of a very young age, older children would already know the trues…as most countries in Europe depend on nuclear heating / others…\n",
      "Aussie should have been nuclear in the fifties.\n",
      "Fool, where is he going to put all these Batteries, I am glad I did not VOTE FOR HIM,\n",
      "Albo doesn't want to offend his Greenie masters\n",
      "Follow the money solar panels wind farms useless but are making someone really rich\n",
      "Albanese is living in fantasy land if he thinks we can run the country with wind & solar \n"
     ]
    },
    {
     "name": "stdin",
     "output_type": "stream",
     "text": [
      "Press Enter after closing the comments for the post... \n"
     ]
    },
    {
     "name": "stdout",
     "output_type": "stream",
     "text": [
      "Post 4: PM treats SA Premier’s nuclear energy proposal ‘as some kind of joke’BBD2qZQ6DJXbrGi2cPW9jrovW\n"
     ]
    },
    {
     "name": "stdin",
     "output_type": "stream",
     "text": [
      "Press Enter after opening the comments for the post... \n"
     ]
    },
    {
     "name": "stdout",
     "output_type": "stream",
     "text": [
      "Comments collected. You can now close the comments section.\n",
      "Comments:\n",
      "While the rest of the world is building new nuclear reactors, and  some putting their older ones back online, Australia is squandering opportunity with only  wind and solar and other low electricity- producing technologies. We are selling our gas, coal and oil, all the while we are starving for power and what power we have is skyrocketing in price. The conversation for nuclear power in Australia must be had.\n",
      "It doesn't comply with Albos wealthy mates  agenda.\n",
      "They all have their fingers in the Wind and Solar pie being paid by the rich investors! Don’t listen to the people just take the money ? Nuclear is the only way to go and keeping Coal!\n",
      "These guys have no ideas themselves yet are ready to mock others!Get rid of this Albo clown!\n",
      "Nuclear needs to be on the table. It’s clean green energy.\n",
      "Albo will run us into the ground then blame Bowen\n",
      "Our PM is some kind of joke.What is the the MSM love affair with him? It's freaking me out and should freak \"everyone\" out. No PM ever has had this kind of \"LOOOOOVE\". It's just so clearly wrong.\n",
      "Do a check on who donated to Albanese, how many shares he has in renewables and when he bought them. Always follow the money, it never lies.\n",
      "So ALBO has now upset his mate Mal in SA too. Is this why he has suddenly got COVID to go into hiding!\n",
      "Albo thinks he’s got all the answers FGS. He’s got no idea. Berates Sth Aust Premier suggesting to look into Nuclear Energy for power sources, after he said I’ll look into any suggestions. Nuclear Energy is safe.It’s used for 11% of energy around the world and safely.It’s either Coal or Nuclear Energy for all power sources.All the others just can’t produce enough.It’s so plain to see but Albo knows best FGS.\n",
      "It just solidifies what an out of touch touch PM we have he so blind and influenced by Bowen. it is unbelievable between these two depots and their policies will cause the turning of our country into a third World Nation  When will Australians wake up. Too late l think\n",
      "Looks like everyone is expected to hold the party line in Labor, even if you have better ideas.\n",
      "WHAT? A labour Premier speaking sense. Stay with it P M ie Peter Malinauskas.\n",
      "Mal has alot more brains than Albo!\n",
      "People voted on gay marriage. Why can't the people vote on the subject. After all it is usually the people's money.\n",
      "We know who the joke is.\n",
      "The problem with people is when they talk nuclear, everyone starts to think 1950's technology. France has a policy of dealing with their own waste, including nuclear fuel rods and 40% of the fuel used to power their nuclear plants is recycled.\n",
      "What a pathetic position to take , if it's safe enough for a massive submarine to have a nuclear generator inside running for 20 years on a handful of nuclear fuel surely we can look into this. It should have happened in the fifties when it was brought up. It's OK for you to say it's your opinion, but what are your real reasons? Nonof what you mentioned are relevant.\n",
      "These people are living in FAIRYLAND they are not working for us just there globle elet mates\n",
      "Lets be honest Australia needs a better electricity system before the idiots get excited about changing our power supplies . The lets rush in renewable energy isn't gonna work for anybody,  it will kill families n businesses with costs and disruptions .I agree we should look at alternatives but for fark sake think before jumping\n",
      "albo is the biggest hoke\n",
      "Lost count of how many people write me off when I mention nuclear energy and start talking about Chernobyl \n",
      "Time Nuclear energy was discussed! If Australia does not agree with it, why are we exporting Uranium?.\n",
      "Has Bolt moved to SA yet?\n",
      "Just for balance here’s a sample from a report with a quite different view ofSMRs.The whole thing is worth a read: “Too late, too expensive, too risky and too uncertain” is how a new report by the Institute for Energy Economics and Financial Analysis (IEEFA) described NuScale’s proposed small modular reactor (SMR) project.\n",
      "Albo hasn't done a bad job up till now but he has totally got it wrong over nuclear. Sadly he is so agenda focussed on renewables that options are totally off his radar. Renewables are nowhere near as clean as nuclear, not even close.\n",
      "There is still no safe way to dispose of nuclear waste safely. It has a half life of thousand of years.Also nuclear power plants have a lead in time of 10 + years, and are hugely expensive.\n",
      "Unfortunately for Australians he is fixated for wind and Solar. Tunnel vision.\n",
      "He is one of his Labour mates.\n",
      "Albo you and your Labor cronies are out of date, wake up, nuclear has been in submarines safety for 20 plus years.\n",
      "Albanese the CC fool !!!   Nuclear is far better than renewables Albanese. And the NEW Coal Power Stations are superb evidently.\n",
      "Runs scared - yes. And dumb, with IQ 3 Minister Bowen.\n",
      "It's what you learn when you know it all that's important. Albo obviously has hubris not Covid.\n",
      "Nuclear power is EXPENSIVE. How do you propose to deal with the waste? Your just pushing your typical anti everything\n",
      "So is China missile  nukes  can hit any part Aussie   even  nuclear  power  stations\n",
      "It hasn’t taken that long for another Labor prime minister, Albanese, to show he’s not up to the job.Happens every time they get into power.\n",
      "Geoff Koloveros \n",
      "Keep up the good work bolt labor’s greatest asset \n",
      "Because Albanese isn’t well enough education on this, that’s why he is talking and scaremongering everyone else, especially to children of a very young age, older children would already know the trues…as most countries in Europe depend on nuclear heating / others…\n",
      "Aussie should have been nuclear in the fifties.\n",
      "Fool, where is he going to put all these Batteries, I am glad I did not VOTE FOR HIM,\n",
      "Albo doesn't want to offend his Greenie masters\n",
      "Follow the money solar panels wind farms useless but are making someone really rich\n",
      "Albanese is living in fantasy land if he thinks we can run the country with wind & solar \n"
     ]
    },
    {
     "name": "stdin",
     "output_type": "stream",
     "text": [
      "Press Enter after closing the comments for the post... \n"
     ]
    },
    {
     "name": "stdout",
     "output_type": "stream",
     "text": [
      "Post 5: The Federal Government has opened the door to Australia developing a nuclear energy industry. www.7NEWS.com.au#7NEWS\n"
     ]
    },
    {
     "name": "stdin",
     "output_type": "stream",
     "text": [
      "Press Enter after opening the comments for the post... \n"
     ]
    },
    {
     "name": "stdout",
     "output_type": "stream",
     "text": [
      "Comments collected. You can now close the comments section.\n",
      "Comments:\n",
      "I know their are few of us here that think that this is the way to go. Nuclear is more efficient and cleaner than many other alternatives but keep believing the misinformation. \n",
      "We have wind and sun we do t need nuclear! It’s not rocket science\n",
      "About time.Australia  has the worlds largest uranium reserves.\n",
      "That's  it ,suppose if you make Australia crap enough they might stop buying it. Can't believe this government got reelected.\n",
      "Great, can’t wait to see him take a lump of uranium to parliament.\n",
      "Australia catching up to the 20th century in 20 years time\n",
      "This is fantastic australia is an excellent candidate for nuclear energy\n",
      "Which safe Liberal seat will it be located in?\n",
      "Have to move forward  no choice cheaper power\n",
      "As for getting rid of the waste there was a rock out about 2 hours out of Kalgoorlie where it's one of those rocks where the waste can be tunnel down and buried in it so not a problem there\n",
      "Finally... this is a fantastic idea.  Unfortunately this investigation Will only be about who can profit the most from it and if it'll be worth doing finatially\n",
      "Great idea! It's not as if we have abundant sunshine for solar or the possibility of wind farms, so nuclear seems like the perfectly natural and reasonable direction we should go in!\n",
      "Has nobody watched Chernobyl?\n",
      "What's the bet we won't see 2030, we're just gonna act like we ain't the number polluter on the planet & our climate is absolutely ruined, they're basically forcing us into the system by ruining our planet so we have no where to go but the system ..wish we could just open our eyes .\n",
      "How about bugger the feasibility studies and just start building it. Stop wasting money. It's far cleaner way and more efficient way of making power.\n",
      "Stability to the grid.  Thoroughly overdue.Only issue is that nuclear plants have a ~30 year horizon so this is a good start but needs to be coupled with additional grid planning.\n",
      "After all everyone deserves to die so why not with radiation\n",
      "Long term effects I'm every aspect will benefit, if you don't agree then do some proper research into coal, wind farms etc and you will see that the impact of building them is ridiculous and they don't and can't keep up with growth. It's the only way to go.\n",
      "Back flip Scomo! It won't translate to cheaper electricity prices.\n",
      "A postal referendum would solve this. I  think its a good idea. We need more reliable power in the summer months\n",
      "When sell our gas to China cheaper than what we pay now this \n",
      "Now if we could actually get serious about it, we could solve our power and water issues as well as provide science and manufacturing jobs for decades.\n",
      "I think renewables are a better way to go however I think, at least for the foreseeable future, nuclear energy is a good option. Its not without its drawbacks such as waste manegment and security costs but if it can be pulled off it will be a great asset to our country.\n",
      "The time to go nuclear was really in the 1960's, but better late than never I guess. With the advances in reactor technology - especially from China - new reactors are being developed that are not only easier to manage safely, but some designs could make use of nuclear waste or non-enriched fuels. This certainly makes them a lot greener and cheaper to run in the long term.\n",
      "Keep it away from me please, yes with current technology they might be better than the old ones but things can still go wrong, accidents can still happen and if it does it affects a large chunck of the population for many many years,\n",
      "About time. Dimwits for closing in the late 80’s in my opinion.\n",
      "Yeah let’s create even more waste for the planet. This is worse than plastic.\n",
      "Yeah go nuclear. It’s clearly the best and cleanest way for producing affordable power. Everything else is just talk and not realistic\n",
      "That's just great. What could possibly go wrong?\n",
      "About time and upgrade the coal fired plants\n",
      "I hope they do and they run it so they can get rid of these greedy energy companies who keep raising the prices\n",
      "With fusion just around the corner yes they should be talking about that nuclear option but fission is a thing of the past and about to be out dated\n",
      "20 years too late. Or we could deploy mini reactors now.\n",
      "Chernoble. Fukushima. 3 mile island.  Plus 2000 neclear tests that have been done. If people think it's clean then they really need do some research and not be sheeple.\n",
      "Watched up until I heard \"Barnaby...\"\n",
      "Well, how do we make sure Australian gov won’t make a nuclear bomb then?\n",
      "I would be more worried about a nuclear disaster from Indonesia and their planned reactors than one locally.\n",
      "WE HAVE THE RESOURCES IN OUR BACKYARDS WHY NOY ,ITS CLEAN AND ENVIRONMENTALLY FRIENDLY.\n",
      "the sad thing is we had a nuclear program before the yanks , they bought all our scientists\n",
      "Where does the people's voice come into it?  Ain't they supposed to be representing the people of the Australian community, and not coming up with their own agendas and ideas. When had they taken away the voices of the Australian people.\n",
      "Great initiative!! Safest energy ever!!\n",
      "Someone's mates are gonna get rich. How good are mates rates?\n",
      "What LNP mates will make $$$$\n",
      "Can't even build a national broadband network. . . seriously people\n",
      "Why Not !We have all the resources \n",
      "Hmm I don't know how I feel about nuclear.. I think I'd rather stay with coal fired\n",
      "Finally, about time.... bring on cheaper electricity....\n",
      "\"Industry\"...\n",
      "~ About Bloody Time ,,,\n",
      "Best idea they have come up with yet.  Let's hope the nutty greens behave\n",
      "Yes we should. \n",
      "Good........the sooner we get this the better......far north WA is the best place.\n",
      "About bloody time hopefully the gives all of us cheaper power.\n",
      "This should go to a referendum\n",
      "Look at thorium power\n",
      "What's happened to green energies mate. Easy peasy \n",
      "And you people that dumb to want nuclear power?!\n",
      "Stephen Sanders need to hire that hack from Chernobyl to test its limits before we turn it on!! Bahaha\n",
      "Great so many other countries have it so why don't we\n",
      "Great\n",
      "Congratulations\n",
      "Bout time \n",
      "NEVER\n",
      "About time.\n",
      "No.\n",
      "About time ..\n",
      "About time\n",
      "About time.\n",
      "Don’t want it.\n",
      "About time\n",
      "Good\n",
      "Yess\n",
      "About time\n",
      "About bloody time \n",
      "Fukushima 2.0\n",
      "It's about time...\n",
      "Solar\n",
      "Yes. I'll tell you the answer. Yes\n",
      "Yay!!!!\n",
      "No\n",
      "⁰\n",
      "Yeah \n",
      "No.\n",
      "About bloody time.\n",
      "About time\n",
      "Nikita Callum Zade welcome to jUnKertOwn\n",
      "ThoriumThoriumThoriumThoriumThoriumThoriumThoriumThoriumThoriumThoriumThoriumThoriumThoriumThoriumThoriumThoriumThoriumThoriumThoriumThoriumThoriumThoriumThoriumThoriumThoriumThoriumThoriumThoriumThoriumThorium\n",
      "Alex Jordan you can finally become homer\n",
      "Helene Tran i guess we'll die earlier yay\n",
      "Noooooooo\n",
      "Joel Collins famous last words\n",
      "Hamish Wathen bout time\n",
      "Maksem Fedcesen\n",
      "John Turner\n",
      "Jay Narayan rip\n",
      "Omar Elkadi\n",
      "Matthew Gustafson\n",
      "Wes Davidson\n",
      "Cameron Payne\n",
      "Sandra Flechas\n",
      "Renee Golland\n",
      "Madeline Kay\n",
      "Steve\n",
      "Kenny Zhangernmash Lachlan Brogan Ye boi\n",
      "Nidhi Rastogi\n"
     ]
    },
    {
     "name": "stdin",
     "output_type": "stream",
     "text": [
      "Press Enter after closing the comments for the post... \n"
     ]
    },
    {
     "name": "stdout",
     "output_type": "stream",
     "text": [
      "Post 6: Nuclear energy industryM9GIzzmWkKh4v1BTFdbPBJFt31z14TKATyD6ZADU\n"
     ]
    },
    {
     "name": "stdin",
     "output_type": "stream",
     "text": [
      "Press Enter after opening the comments for the post... \n"
     ]
    },
    {
     "name": "stdout",
     "output_type": "stream",
     "text": [
      "Comments collected. You can now close the comments section.\n",
      "Comments:\n",
      "While the rest of the world is building new nuclear reactors, and  some putting their older ones back online, Australia is squandering opportunity with only  wind and solar and other low electricity- producing technologies. We are selling our gas, coal and oil, all the while we are starving for power and what power we have is skyrocketing in price. The conversation for nuclear power in Australia must be had.\n",
      "It doesn't comply with Albos wealthy mates  agenda.\n",
      "They all have their fingers in the Wind and Solar pie being paid by the rich investors! Don’t listen to the people just take the money ? Nuclear is the only way to go and keeping Coal!\n",
      "These guys have no ideas themselves yet are ready to mock others!Get rid of this Albo clown!\n",
      "Nuclear needs to be on the table. It’s clean green energy.\n",
      "Albo will run us into the ground then blame Bowen\n",
      "Our PM is some kind of joke.What is the the MSM love affair with him? It's freaking me out and should freak \"everyone\" out. No PM ever has had this kind of \"LOOOOOVE\". It's just so clearly wrong.\n",
      "Do a check on who donated to Albanese, how many shares he has in renewables and when he bought them. Always follow the money, it never lies.\n",
      "So ALBO has now upset his mate Mal in SA too. Is this why he has suddenly got COVID to go into hiding!\n",
      "Albo thinks he’s got all the answers FGS. He’s got no idea. Berates Sth Aust Premier suggesting to look into Nuclear Energy for power sources, after he said I’ll look into any suggestions. Nuclear Energy is safe.It’s used for 11% of energy around the world and safely.It’s either Coal or Nuclear Energy for all power sources.All the others just can’t produce enough.It’s so plain to see but Albo knows best FGS.\n",
      "It just solidifies what an out of touch touch PM we have he so blind and influenced by Bowen. it is unbelievable between these two depots and their policies will cause the turning of our country into a third World Nation  When will Australians wake up. Too late l think\n",
      "Looks like everyone is expected to hold the party line in Labor, even if you have better ideas.\n",
      "WHAT? A labour Premier speaking sense. Stay with it P M ie Peter Malinauskas.\n",
      "Mal has alot more brains than Albo!\n",
      "People voted on gay marriage. Why can't the people vote on the subject. After all it is usually the people's money.\n",
      "We know who the joke is.\n",
      "The problem with people is when they talk nuclear, everyone starts to think 1950's technology. France has a policy of dealing with their own waste, including nuclear fuel rods and 40% of the fuel used to power their nuclear plants is recycled.\n",
      "What a pathetic position to take , if it's safe enough for a massive submarine to have a nuclear generator inside running for 20 years on a handful of nuclear fuel surely we can look into this. It should have happened in the fifties when it was brought up. It's OK for you to say it's your opinion, but what are your real reasons? Nonof what you mentioned are relevant.\n",
      "These people are living in FAIRYLAND they are not working for us just there globle elet mates\n",
      "Lets be honest Australia needs a better electricity system before the idiots get excited about changing our power supplies . The lets rush in renewable energy isn't gonna work for anybody,  it will kill families n businesses with costs and disruptions .I agree we should look at alternatives but for fark sake think before jumping\n",
      "albo is the biggest hoke\n",
      "Lost count of how many people write me off when I mention nuclear energy and start talking about Chernobyl \n",
      "Time Nuclear energy was discussed! If Australia does not agree with it, why are we exporting Uranium?.\n",
      "Has Bolt moved to SA yet?\n",
      "Just for balance here’s a sample from a report with a quite different view ofSMRs.The whole thing is worth a read: “Too late, too expensive, too risky and too uncertain” is how a new report by the Institute for Energy Economics and Financial Analysis (IEEFA) described NuScale’s proposed small modular reactor (SMR) project.\n",
      "Albo hasn't done a bad job up till now but he has totally got it wrong over nuclear. Sadly he is so agenda focussed on renewables that options are totally off his radar. Renewables are nowhere near as clean as nuclear, not even close.\n",
      "There is still no safe way to dispose of nuclear waste safely. It has a half life of thousand of years.Also nuclear power plants have a lead in time of 10 + years, and are hugely expensive.\n",
      "Unfortunately for Australians he is fixated for wind and Solar. Tunnel vision.\n",
      "He is one of his Labour mates.\n",
      "Albo you and your Labor cronies are out of date, wake up, nuclear has been in submarines safety for 20 plus years.\n",
      "Albanese the CC fool !!!   Nuclear is far better than renewables Albanese. And the NEW Coal Power Stations are superb evidently.\n",
      "Runs scared - yes. And dumb, with IQ 3 Minister Bowen.\n",
      "It's what you learn when you know it all that's important. Albo obviously has hubris not Covid.\n",
      "Nuclear power is EXPENSIVE. How do you propose to deal with the waste? Your just pushing your typical anti everything\n",
      "So is China missile  nukes  can hit any part Aussie   even  nuclear  power  stations\n",
      "It hasn’t taken that long for another Labor prime minister, Albanese, to show he’s not up to the job.Happens every time they get into power.\n",
      "Geoff Koloveros \n",
      "Keep up the good work bolt labor’s greatest asset \n",
      "Because Albanese isn’t well enough education on this, that’s why he is talking and scaremongering everyone else, especially to children of a very young age, older children would already know the trues…as most countries in Europe depend on nuclear heating / others…\n",
      "Aussie should have been nuclear in the fifties.\n",
      "Fool, where is he going to put all these Batteries, I am glad I did not VOTE FOR HIM,\n",
      "Albo doesn't want to offend his Greenie masters\n",
      "Follow the money solar panels wind farms useless but are making someone really rich\n",
      "Albanese is living in fantasy land if he thinks we can run the country with wind & solar \n"
     ]
    },
    {
     "name": "stdin",
     "output_type": "stream",
     "text": [
      "Press Enter after closing the comments for the post... \n"
     ]
    },
    {
     "name": "stdout",
     "output_type": "stream",
     "text": [
      "Post 7: Why nuclear energy won’t work in AustraliaThere is something almost comical about the Liberals and Nationals throwing the forlorn spectre of nuclear power back into national energy debates, right after their loss in the 2022 “climate election”.\n"
     ]
    },
    {
     "name": "stdin",
     "output_type": "stream",
     "text": [
      "Press Enter after opening the comments for the post... \n"
     ]
    },
    {
     "name": "stdout",
     "output_type": "stream",
     "text": [
      "Comments collected. You can now close the comments section.\n",
      "Comments:\n",
      "Nuclear is the safest form of energy for Australia because it will never be built, and what doesn't exist can't hurt you.\n",
      "In the Australian context nuclear is expensive and unnecessary.\n",
      "Australia gets hit each year with solar energy 10,000 times its annual energy requirements. The only rational response to our current situation is to massively scale investment in renewables and storage.\n",
      "BECAUSE ITS TOO EXPENCIVE. aside from all the other reasons\n",
      "One of the reasons for inaction on climate change and limiting the focus on that instead of the whole issue of environmental collapse and habitat destruction is the manipulation by vested interests with nuclear ambitions. It’s been about inaction ramping up extreme weather impacts to create an emergency mindset to justify nuclear or other options that vested interests can control and monopolise. This relates directly to vested interests being terrified of point of use small scale generation of power for households or relatively small communities who can own and control their power supply. \n",
      "It would take 30yrs to build up the infrastructure and skills to build and run a reactor.A more sensible, and doable, step is to build an enrichment industry first. That increases the value add to our uranium expert industry..and ..if..we get nuclear subs and/or nuclear power plants in the future, we can fuel them ourselves.Technologically Australia is inferior to Scotland in the 1940s and 1950s. Scotland went from nothing to its first nuke plant in 1964 (I got a guided tour around it as a kid by my uncle who worked there).\n",
      "Wake up Australia. Most European countries use it. France Sweden England etc etc\n",
      "Yer, but, what about micro reactors?\n",
      "What can I say but Hear, Hear!\n",
      "Comments are now closed on this post. Read our community guidelines here: https://www.thesaturdaypaper.com.au/.../social-media...\n"
     ]
    },
    {
     "name": "stdin",
     "output_type": "stream",
     "text": [
      "Press Enter after closing the comments for the post... \n"
     ]
    },
    {
     "name": "stdout",
     "output_type": "stream",
     "text": [
      "Post 8: Nationals Leader David Littleproud has called on Prime Minister Anthony Albanese to join him for a constructive conversation around nuclear energy in Australia.\n"
     ]
    },
    {
     "name": "stdin",
     "output_type": "stream",
     "text": [
      "Press Enter after opening the comments for the post... \n"
     ]
    },
    {
     "name": "stdout",
     "output_type": "stream",
     "text": [
      "Comments collected. You can now close the comments section.\n",
      "Comments:\n",
      "Should have gone nuclear years ago.\n",
      " they trust the science on covid but not nuclear.... convenient for the left\n",
      "We Australia,  export Uranium and we don't use it. This proves how pathetic of nation we are. We could have the cheapest power prices in the world but we have uneducated green wankers spoiling this. Cheap power to all means, little to no poverty, less taxes, more prosperity in everything we do. Energy independence is a countries right to prosper rather than to rely on others too.\n",
      "And pigs might fly. To easy a solution and not enough money in it for the elites.\n",
      "David gave water to the cotton farmers and devastated the MURRAY.WATCH HIM SCREW THE PEOPLE \n",
      "I would have thought dams would have been more important and water systems as well added to the must do list.\n",
      "Big, Big mistake, getting rid of Barnaby and get another Turnbull!? The same thing will happen here with Littleproud, as was with Turnbull, just wait and see!\n",
      "Shouldn't Mr Littleproud have this discussion with Peter Dutton first? After all, the Nationals are the Junior party in the Coalition, aren't they? Or, does he think he can now dictate Coalition policy?\n",
      "Not a Littleproud fan however, with him on this one. Never going to happen the Greens and Teals wouldn't allow any dialog on nuclear. Thanks for trying\n",
      "I think Adam Bandt just soiled himself.\n",
      "So Littleproud is going to get the nuclear debate started? It’s about time we had the debate.\n",
      "Good about time someone had the gumption to start talking about nuclear.\n",
      "Just what the National party needs..A woke pleaser leader \n",
      "When considering the Nuclear Submarine Carries enough fuel to power it for its full working life. Its Power Station and fuel volume can’t be that big. Then how big does a Nuclear Power Station need to be to power South East Qld.\n",
      "Rolls Royce will soon build small nuclear plants for UK..we have Uranium…why not…safety only concern\n",
      "Trust the science? Or only when it suits the agenda?\n",
      "NO NUCLEAR\n",
      "More mindless pro nuclear guff from Sky News without ever discussing the costs surrounding nuclear power. $$$$$$$$$$$.....nuclear power$$.....solar and onshore wind$$$$......offshore wind$$$$$..... batteries\n",
      "About time this happened. However, how to get this passed the feral greens.\n",
      "He's closer to the Greens than Conservatives. He want last 3 years.\n",
      "we'll talk about it like we talk about a very fast train all the time\n",
      "We’ve already got nuclear energy…it’s called ‘fission’ and it comes from the sun…\n",
      "Nuclear is good providing it is not built near you.\n",
      "What a great initiative. If we want carbon neutrality and a viable energy mix, nuclear is obvious. Don’t get told it is slow and expensive. It is a solution for the long term and there is no evidence of imminent climate crisis.\n",
      "Absolutely, can’t build dams, but can destroy good farmland and forest for renewables..go figure \n",
      "Maybe he should wait until there is an actual cabinet formed!\n",
      "What is wrong with Low pollution coal powered station like Japan.\n",
      "Oh dear Dutton wouldn’t like u taking charge oh I’m sure with all the fighting going on the liberals will have to bit their tongue as they have no hope ever forming government by themselves go on step on his toes \n",
      "We MUST have it as a national priority, no ifs or buts.\n",
      "He’s had 9 years to build Dams , do nothing party LNP\n",
      "well, we're going to have another 3 year delay in that discussion, whilst our grid continues to struggle.\n",
      "Net zero, let’s discuss that , you over promoted fool\n",
      "What a big head.\n",
      "Stick at it - even my 10yr old grandson knows this -\n",
      "No hope of that happening.\n",
      "Littleproud, your dreamin, the loony greens would have a fit about that\n",
      "It is something the coalition should have taken to the election but way too many climate scam Turnbull followers within the party opposed it.\n",
      "Too funny \n",
      "Watch labor say they will consider it because they know the teals and greens won't let it happen\n",
      "We’ll have to wait until the inevitable power blackouts & energy crisis before Labor will even think about it. Once they close  a few more coal fired power stations we will be there.\n",
      "When Albo finally realises or is told by the beancounters that pursuing clean green energy will continue to drive consumer and business electricity bills, he might have to consider some big moves. Unfortunately I can't see taking advantage of our own natural resources to serve ourselves first being one of them. We should be the most self-sifficient country on this planet so why are we where we are now ?\n",
      "Agree. It's Time\n",
      "Finally some common sense! But Labor/greens will oppose it.\n",
      "Fantastic, Nuclear is the only feasible way to get to net zero, otherwise it is just empty virtue signalling!\n",
      "About bloody time we had that Nuclear power chat IMMEDIATELY turn to table a bill to get rid of the Nuclear ban in Australia.\n",
      "like albo will ever entertain that idea, and thankfully he wont as it would get him re elected.\n",
      "The Labor Party have no intention to ever go Nuclear.  The Greens won't let them.\n",
      "Far out something positive out of this leadership. Wel see....\n",
      "Maybe discuss bring irrigation water back to the farmers at a reasonable price.\n",
      "Someone with common sense, he and P Dutton should do well for Australia\n",
      "So.....where are the used nuclear rods etc going to be disposed of/buried?\n",
      "Going down a road looking like doing something but knows full well it won't happen. It's the only reason he is doing it ( to look like I'm doing something)\n",
      "Just do it and stop wasting time\n",
      "As long as any nuclear power plants are built in Littleproud's electorate.\n",
      "Michael Blackman hmm maybe we were wrong?\n",
      "So l9ng as the waste dump goes in your backyard, and the plant in your seat.And it runs on thorium or is one that uses all the weapons fuel.\n",
      "Was this clown in Ghostbusters\n",
      "Good\n"
     ]
    },
    {
     "name": "stdin",
     "output_type": "stream",
     "text": [
      "Press Enter after closing the comments for the post... \n"
     ]
    },
    {
     "name": "stdout",
     "output_type": "stream",
     "text": [
      "Post 9: ‘Now is the time’: Littleproud calls for ‘constructive conversation’ on nuclearNationals Leader David Littleproud has called on Prime Minister Anthony Albanese to join him for a constructive conversation around nuclear energy in Australia. \"I want to have constructive conversation with this nation as a political leader, to put forward an idea that I think we should bring Austr...\n"
     ]
    },
    {
     "name": "stdin",
     "output_type": "stream",
     "text": [
      "Press Enter after opening the comments for the post... \n"
     ]
    },
    {
     "name": "stdout",
     "output_type": "stream",
     "text": [
      "Comments collected. You can now close the comments section.\n",
      "Comments:\n",
      "Should have gone nuclear years ago.\n",
      " they trust the science on covid but not nuclear.... convenient for the left\n",
      "We Australia,  export Uranium and we don't use it. This proves how pathetic of nation we are. We could have the cheapest power prices in the world but we have uneducated green wankers spoiling this. Cheap power to all means, little to no poverty, less taxes, more prosperity in everything we do. Energy independence is a countries right to prosper rather than to rely on others too.\n",
      "And pigs might fly. To easy a solution and not enough money in it for the elites.\n",
      "David gave water to the cotton farmers and devastated the MURRAY.WATCH HIM SCREW THE PEOPLE \n",
      "I would have thought dams would have been more important and water systems as well added to the must do list.\n",
      "Big, Big mistake, getting rid of Barnaby and get another Turnbull!? The same thing will happen here with Littleproud, as was with Turnbull, just wait and see!\n",
      "Shouldn't Mr Littleproud have this discussion with Peter Dutton first? After all, the Nationals are the Junior party in the Coalition, aren't they? Or, does he think he can now dictate Coalition policy?\n",
      "Not a Littleproud fan however, with him on this one. Never going to happen the Greens and Teals wouldn't allow any dialog on nuclear. Thanks for trying\n",
      "I think Adam Bandt just soiled himself.\n",
      "So Littleproud is going to get the nuclear debate started? It’s about time we had the debate.\n",
      "Good about time someone had the gumption to start talking about nuclear.\n",
      "Just what the National party needs..A woke pleaser leader \n",
      "When considering the Nuclear Submarine Carries enough fuel to power it for its full working life. Its Power Station and fuel volume can’t be that big. Then how big does a Nuclear Power Station need to be to power South East Qld.\n",
      "Rolls Royce will soon build small nuclear plants for UK..we have Uranium…why not…safety only concern\n",
      "Trust the science? Or only when it suits the agenda?\n",
      "NO NUCLEAR\n",
      "More mindless pro nuclear guff from Sky News without ever discussing the costs surrounding nuclear power. $$$$$$$$$$$.....nuclear power$$.....solar and onshore wind$$$$......offshore wind$$$$$..... batteries\n",
      "About time this happened. However, how to get this passed the feral greens.\n",
      "He's closer to the Greens than Conservatives. He want last 3 years.\n",
      "we'll talk about it like we talk about a very fast train all the time\n",
      "We’ve already got nuclear energy…it’s called ‘fission’ and it comes from the sun…\n",
      "Nuclear is good providing it is not built near you.\n",
      "What a great initiative. If we want carbon neutrality and a viable energy mix, nuclear is obvious. Don’t get told it is slow and expensive. It is a solution for the long term and there is no evidence of imminent climate crisis.\n",
      "Absolutely, can’t build dams, but can destroy good farmland and forest for renewables..go figure \n",
      "Maybe he should wait until there is an actual cabinet formed!\n",
      "What is wrong with Low pollution coal powered station like Japan.\n",
      "Oh dear Dutton wouldn’t like u taking charge oh I’m sure with all the fighting going on the liberals will have to bit their tongue as they have no hope ever forming government by themselves go on step on his toes \n",
      "We MUST have it as a national priority, no ifs or buts.\n",
      "He’s had 9 years to build Dams , do nothing party LNP\n",
      "well, we're going to have another 3 year delay in that discussion, whilst our grid continues to struggle.\n",
      "Net zero, let’s discuss that , you over promoted fool\n",
      "What a big head.\n",
      "Stick at it - even my 10yr old grandson knows this -\n",
      "No hope of that happening.\n",
      "Littleproud, your dreamin, the loony greens would have a fit about that\n",
      "It is something the coalition should have taken to the election but way too many climate scam Turnbull followers within the party opposed it.\n",
      "Too funny \n",
      "Watch labor say they will consider it because they know the teals and greens won't let it happen\n",
      "We’ll have to wait until the inevitable power blackouts & energy crisis before Labor will even think about it. Once they close  a few more coal fired power stations we will be there.\n",
      "When Albo finally realises or is told by the beancounters that pursuing clean green energy will continue to drive consumer and business electricity bills, he might have to consider some big moves. Unfortunately I can't see taking advantage of our own natural resources to serve ourselves first being one of them. We should be the most self-sifficient country on this planet so why are we where we are now ?\n",
      "Agree. It's Time\n",
      "Finally some common sense! But Labor/greens will oppose it.\n",
      "Fantastic, Nuclear is the only feasible way to get to net zero, otherwise it is just empty virtue signalling!\n",
      "About bloody time we had that Nuclear power chat IMMEDIATELY turn to table a bill to get rid of the Nuclear ban in Australia.\n",
      "like albo will ever entertain that idea, and thankfully he wont as it would get him re elected.\n",
      "The Labor Party have no intention to ever go Nuclear.  The Greens won't let them.\n",
      "Far out something positive out of this leadership. Wel see....\n",
      "Maybe discuss bring irrigation water back to the farmers at a reasonable price.\n",
      "Someone with common sense, he and P Dutton should do well for Australia\n",
      "So.....where are the used nuclear rods etc going to be disposed of/buried?\n",
      "Going down a road looking like doing something but knows full well it won't happen. It's the only reason he is doing it ( to look like I'm doing something)\n",
      "Just do it and stop wasting time\n",
      "As long as any nuclear power plants are built in Littleproud's electorate.\n",
      "Michael Blackman hmm maybe we were wrong?\n",
      "So l9ng as the waste dump goes in your backyard, and the plant in your seat.And it runs on thorium or is one that uses all the weapons fuel.\n",
      "Was this clown in Ghostbusters\n",
      "Good\n"
     ]
    },
    {
     "name": "stdin",
     "output_type": "stream",
     "text": [
      "Press Enter after closing the comments for the post... \n"
     ]
    },
    {
     "name": "stdout",
     "output_type": "stream",
     "text": [
      "Post 10: Energy executives, fund managers and investors do not think nuclear energy is financially viable in Australia.Choose your news on the ABC NEWS app and stay in the know:https://ab.co/abcnewsapp\n"
     ]
    },
    {
     "name": "stdin",
     "output_type": "stream",
     "text": [
      "Press Enter after opening the comments for the post... \n"
     ]
    },
    {
     "name": "stdout",
     "output_type": "stream",
     "text": [
      "Comments collected. You can now close the comments section.\n",
      "Comments:\n",
      "ABC presented experts....\n",
      "The coalition aren't really known for listening to the experts on any given subject, just their wealthy donors.\n",
      "And the waste nuclear fuel goes where?\n",
      "Robin Gauld won't be QLD that's for sure\n"
     ]
    },
    {
     "name": "stdin",
     "output_type": "stream",
     "text": [
      "Press Enter after closing the comments for the post... \n"
     ]
    },
    {
     "name": "stdout",
     "output_type": "stream",
     "text": [
      "Data has been saved to australia_nuclear.csv\n"
     ]
    }
   ],
   "source": [
    "# Navigate to the desired page or group\n",
    "driver.get('https://www.facebook.com/search/posts/?q=nuclear%20energy%20australia')\n",
    "\n",
    "# Allow some time for the page to load\n",
    "time.sleep(5)\n",
    "\n",
    "# Initialize empty lists to store the extracted posts and comments\n",
    "posts = []\n",
    "comments = []\n",
    "\n",
    "# Loop to scroll the page and collect posts\n",
    "for _ in range(50):\n",
    "    # Scroll the page\n",
    "    driver.execute_script('window.scrollTo(0, document.body.scrollHeight);')\n",
    "    time.sleep(2)  # Adjust sleep time as necessary to allow for page load\n",
    "\n",
    "    # Get the page source\n",
    "    resp = driver.page_source\n",
    "\n",
    "    # Parse the page source with BeautifulSoup\n",
    "    soup = BeautifulSoup(resp, 'html.parser')\n",
    "\n",
    "    # Find the specific divs containing the required information\n",
    "    items = soup.find_all('div', {'class': 'x78zum5 xdt5ytf xz62fqu x16ldp7u'})\n",
    "\n",
    "    # Iterate through each item and extract the desired information\n",
    "    for item in items:\n",
    "        post_content = item.get_text()\n",
    "        if \"nuclear energy\" in post_content.lower() and post_content not in posts:\n",
    "            posts.append(post_content)\n",
    "            if len(posts) == 10:\n",
    "                break\n",
    "    if len(posts) >= 10:\n",
    "        break\n",
    "\n",
    "# Function to scroll and scrape comments for a specific post\n",
    "def scrape_comments():\n",
    "    # Get the page source\n",
    "    resp = driver.page_source\n",
    "\n",
    "    # Parse the page source with BeautifulSoup\n",
    "    soup = BeautifulSoup(resp, 'html.parser')\n",
    "\n",
    "    # Find the specific divs containing the comments\n",
    "    comments_section = soup.find_all('div', {'class': 'xdj266r x11i5rnm xat24cr x1mh8g0r x1vvkbs'})\n",
    "    post_comments = []\n",
    "    for comment in comments_section:\n",
    "        comment_text = comment.get_text()\n",
    "        if comment_text:\n",
    "            post_comments.append(comment_text)\n",
    "\n",
    "    return post_comments\n",
    "\n",
    "# Loop through the collected posts to scrape comments\n",
    "for idx, post in enumerate(posts):\n",
    "    print(f\"Post {idx + 1}: {post}\")\n",
    "    \n",
    "    # Pause the script to allow manual opening of comments\n",
    "    input(\"Press Enter after opening the comments for the post...\")\n",
    "\n",
    "    # Scroll and wait for comments to load\n",
    "    for _ in range(10):\n",
    "        driver.execute_script('window.scrollTo(0, document.body.scrollHeight);')\n",
    "        time.sleep(2)  # Adjust sleep time as necessary to allow for comments to load\n",
    "\n",
    "    # Scrape comments for the current post\n",
    "    post_comments = scrape_comments()\n",
    "    comments.append(post_comments)\n",
    "    print(\"Comments collected. You can now close the comments section.\")\n",
    "\n",
    "    # Print comments for the current post\n",
    "    if post_comments:  # Check if there are comments\n",
    "        print(\"Comments:\")\n",
    "        for comment in post_comments:\n",
    "            print(comment)\n",
    "    else:\n",
    "        print(\"No comments found for this post.\")\n",
    "    \n",
    "    # Print a message to let you know to close the comments\n",
    "    input(\"Press Enter after closing the comments for the post...\")\n",
    "\n",
    "# Prepare data for CSV export\n",
    "data = []\n",
    "for idx, content in enumerate(posts):\n",
    "    if idx < len(comments):  # Ensure there's a comment entry\n",
    "        for comment in comments[idx]:\n",
    "            data.append([content, comment])\n",
    "    else:\n",
    "        data.append([content, None])\n",
    "\n",
    "# Create a DataFrame and save it to CSV\n",
    "df = pd.DataFrame(data, columns=['Post', 'Comment'])\n",
    "df.to_csv('australia_nuclear.csv', index=False)\n",
    "\n",
    "print(\"Data has been saved to australia_nuclear.csv\")"
   ]
  },
  {
   "cell_type": "code",
   "execution_count": 30,
   "id": "2771c131-5512-4d73-b829-a583514e8fee",
   "metadata": {},
   "outputs": [
    {
     "name": "stdout",
     "output_type": "stream",
     "text": [
      "Post 1: VihanWhat is a solar feed-in tariff? Many Victorians now know about solar systems for households. But what is a solar feed-in tariff, and how could it benefit your energy bills? \n",
      "Find the full article here: https://brnw.ch/21wLjhC\n",
      "\n",
      "Australia is a global leader in solar power. The Clean Energy Council reports that rooftop solar now accounts for 11.2 per cent of Australia’s total electricity supply, with an estimated one in three households and businesses having installed rooftop solar. That makes solar Australia’s fourth largest source of electricity generation, and its second largest renewable electricity generation behind wind energy.\n",
      "\n",
      "\"It’s clear that Australians are becoming familiar with rooftop solar panels, as well as solar batteries,\" says Greg Edye, General Manager Energy at RACV. \"But solar system owners, and those considering getting one, may be a little more confused on the concept of a solar feed-in tariff. In light of the premium solar feed-in tariff scheme ending this year, it's important to learn about these tariffs and how they can work for you.\"\n"
     ]
    },
    {
     "name": "stdin",
     "output_type": "stream",
     "text": [
      "Press Enter after opening the comments for the post... \n"
     ]
    },
    {
     "name": "stdout",
     "output_type": "stream",
     "text": [
      "Comments collected. You can now close the comments section.\n",
      "Comments:\n",
      "Spent 4 years after getting ours on the roof before we could get anything at all. AUSNET denied our address so we had to go through hoops to get it recognised. There was some crook activity with bogus addresses so they said. Finally got recognised and feed in tariff had been reduced bit by bit ever since, about 3 cents now. I’m not sorry we have solar as it’s better for the environment but wouldn’t be worth the outlay now.\n"
     ]
    },
    {
     "name": "stdin",
     "output_type": "stream",
     "text": [
      "Press Enter after closing the comments for the post... \n"
     ]
    },
    {
     "name": "stdout",
     "output_type": "stream",
     "text": [
      "Post 2: Stanwell has sealed the deal with global renewable energy developer RES to purchase the 436.5 MW Tarong West Wind Farm in the South Burnett. It will become Australia’s largest publicly owned wind farm, with 97 wind turbines producing enough clean energy to power the equivalent of 230,000 homes…. That’s some big wind energy!  Check out the rest of our renewable pipeline at www.stanwell.com#energysfuture\n"
     ]
    },
    {
     "name": "stdin",
     "output_type": "stream",
     "text": [
      "Press Enter after opening the comments for the post... \n"
     ]
    },
    {
     "name": "stdout",
     "output_type": "stream",
     "text": [
      "Comments collected. You can now close the comments section.\n",
      "Comments:\n",
      "Unfortunately only for intermittent and variable time. Up goes our power bills again.\n"
     ]
    },
    {
     "name": "stdin",
     "output_type": "stream",
     "text": [
      "Press Enter after closing the comments for the post... \n"
     ]
    },
    {
     "name": "stdout",
     "output_type": "stream",
     "text": [
      "Post 3:  Wind Energy is critical to achieve Australia’s clean energy goal of net zero emissions by 2050.  Renewable energy sources are better for our health, and better for our planet.  TAFE NSW is leading the way in supporting this goal by upskilling the workforce to prepare them to work in the renewable energy sector, with the new Microskill ‘Introduction to the Wind Energy Industry’, in collaboration with Squadron Energy . Designed for fast, affordable, and flexible deliver… See more\n"
     ]
    },
    {
     "name": "stdin",
     "output_type": "stream",
     "text": [
      "Press Enter after opening the comments for the post... \n"
     ]
    },
    {
     "name": "stdout",
     "output_type": "stream",
     "text": [
      "Comments collected. You can now close the comments section.\n",
      "Comments:\n",
      "You can still emit Co2 with net zero.\n"
     ]
    },
    {
     "name": "stdin",
     "output_type": "stream",
     "text": [
      "Press Enter after closing the comments for the post... \n"
     ]
    },
    {
     "name": "stdout",
     "output_type": "stream",
     "text": [
      "Post 4: Wind Energy3tdWCLAvTFtgAmVlymOz5JcsP2PpLn6lRq194kWSxGhXwCKbNmYVst25YJq45VyNN9nm\n"
     ]
    },
    {
     "name": "stdin",
     "output_type": "stream",
     "text": [
      "Press Enter after opening the comments for the post... \n"
     ]
    },
    {
     "name": "stdout",
     "output_type": "stream",
     "text": [
      "Comments collected. You can now close the comments section.\n",
      "Comments:\n",
      "You can still emit Co2 with net zero.\n"
     ]
    },
    {
     "name": "stdin",
     "output_type": "stream",
     "text": [
      "Press Enter after closing the comments for the post... \n"
     ]
    },
    {
     "name": "stdout",
     "output_type": "stream",
     "text": [
      "Post 5: The People’s Panellist Dana says nuclear power overseas has proven solar and wind energy have “failed” to make growth in global demand.Watch the full episode at SkyNews.com.au/Stream\n"
     ]
    },
    {
     "name": "stdin",
     "output_type": "stream",
     "text": [
      "Press Enter after opening the comments for the post... \n"
     ]
    },
    {
     "name": "stdout",
     "output_type": "stream",
     "text": [
      "Comments collected. You can now close the comments section.\n",
      "Comments:\n",
      "There should be greater and more detailed investigation of the solar panels and wind turbines myth. They produce electricity but not in the quantity nor with the reliability that our country requires. More should be made of the inadequacy of these Chinese made products .\n",
      "Solar and wind can’t keep up the demand of EVs across the world.  Sorry climate change “hoax steers”\n",
      "Greens energy is a scam and a taxpayers money pit\n",
      "Build more coal plants. We’ve already paid for one scam that only has niche uses, and now let’s add the longest timeframe to build a product we have no existing industry? \n",
      "Bad policies ,bad decisions,over spending and not listening to the Australian people. Many people believe this government has done soo much damage to Australian way of life, it will take a long time ,before it can come normal again.\n",
      "Oh yeah, says who?\n",
      "looks like the israeli collaboration panel\n",
      "It was just so great what happened in Japan wasn't it?\n"
     ]
    },
    {
     "name": "stdin",
     "output_type": "stream",
     "text": [
      "Press Enter after closing the comments for the post... \n"
     ]
    },
    {
     "name": "stdout",
     "output_type": "stream",
     "text": [
      "Post 6: Australia Sees Surge in Renewable Energy Investments Australia is experiencing a significant increase in investments in renewable energy projects as the country aims to meet its climate targets.  According to recent reports, investments in solar and wind energy have surged, with the government offering incentives to attract both domestic and foreign investors. In the past year alone, Australia has seen over AUD 10 billion invested in various renewable energy projects… See more\n"
     ]
    },
    {
     "name": "stdin",
     "output_type": "stream",
     "text": [
      "Press Enter after opening the comments for the post... \n"
     ]
    },
    {
     "name": "stdout",
     "output_type": "stream",
     "text": [
      "Comments collected. You can now close the comments section.\n",
      "No comments found for this post.\n"
     ]
    },
    {
     "name": "stdin",
     "output_type": "stream",
     "text": [
      "Press Enter after closing the comments for the post... \n"
     ]
    },
    {
     "name": "stdout",
     "output_type": "stream",
     "text": [
      "Post 7: VihanAustralia Sees Surge in Renewable Energy Investments \n",
      "\n",
      "Australia is experiencing a significant increase in investments in renewable energy projects as the country aims to meet its climate targets.  According to recent reports, investments in solar and wind energy have surged, with the government offering incentives to attract both domestic and foreign investors. \n",
      "\n",
      "In the past year alone, Australia has seen over AUD 10 billion invested in various renewable energy projects. This includes large-scale solar farms  and wind energy installations , which are expected to create thousands of jobs  and contribute to the country's economic recovery post-COVID-19. \n",
      "\n",
      "Experts believe that this trend will continue as technology improves and the demand for clean energy rises.  The Australian government has set ambitious goals to reduce carbon emissions by 26-28% by 2030, and investments in renewable energy will play a crucial role in achieving these targets. \n"
     ]
    },
    {
     "name": "stdin",
     "output_type": "stream",
     "text": [
      "Press Enter after opening the comments for the post... \n"
     ]
    },
    {
     "name": "stdout",
     "output_type": "stream",
     "text": [
      "Comments collected. You can now close the comments section.\n",
      "No comments found for this post.\n"
     ]
    },
    {
     "name": "stdin",
     "output_type": "stream",
     "text": [
      "Press Enter after closing the comments for the post... \n"
     ]
    },
    {
     "name": "stdout",
     "output_type": "stream",
     "text": [
      "Post 8: SP: From solar power to wind energy, explore diverse topics at the Clean Energy Conference Australia Africa.For Details & Registration visit https://cleanenergyconference.com.au/  Clean Energy Conference    @KuriaKuria   #CleanEnergyKE #CleanEnergy #CleanEnergyConference2024  … See more\n"
     ]
    },
    {
     "name": "stdin",
     "output_type": "stream",
     "text": [
      "Press Enter after opening the comments for the post... \n"
     ]
    },
    {
     "name": "stdout",
     "output_type": "stream",
     "text": [
      "Comments collected. You can now close the comments section.\n",
      "No comments found for this post.\n"
     ]
    },
    {
     "name": "stdin",
     "output_type": "stream",
     "text": [
      "Press Enter after closing the comments for the post... \n"
     ]
    },
    {
     "name": "stdout",
     "output_type": "stream",
     "text": [
      "Post 9: VihanSP: From solar power to wind energy, explore diverse topics at the Clean Energy Conference Australia Africa.\n",
      "\n",
      "For Details & Registration visit https://cleanenergyconference.com.au/    Clean Energy Conference    @KuriaKuria   \n",
      "\n",
      "#CleanEnergyKE #CleanEnergy #CleanEnergyConference2024  \n",
      "\n",
      "Australia Africa Energy And Minerals Institute - AAEMI\n"
     ]
    },
    {
     "name": "stdin",
     "output_type": "stream",
     "text": [
      "Press Enter after opening the comments for the post... \n"
     ]
    },
    {
     "name": "stdout",
     "output_type": "stream",
     "text": [
      "Comments collected. You can now close the comments section.\n",
      "No comments found for this post.\n"
     ]
    },
    {
     "name": "stdin",
     "output_type": "stream",
     "text": [
      "Press Enter after closing the comments for the post... \n"
     ]
    },
    {
     "name": "stdout",
     "output_type": "stream",
     "text": [
      "Post 10: ‘Huge areas of farmland’ needs to be destroyed for solar and wind energyfSPCnNeDQ3s7MUA01NBuCuvPKIv8JIvHV5piWEykVNo4hKEhcK2BUjsnMV3\n"
     ]
    },
    {
     "name": "stdin",
     "output_type": "stream",
     "text": [
      "Press Enter after opening the comments for the post... \n"
     ]
    },
    {
     "name": "stdout",
     "output_type": "stream",
     "text": [
      "Comments collected. You can now close the comments section.\n",
      "No comments found for this post.\n"
     ]
    },
    {
     "name": "stdin",
     "output_type": "stream",
     "text": [
      "Press Enter after closing the comments for the post... \n"
     ]
    },
    {
     "name": "stdout",
     "output_type": "stream",
     "text": [
      "Data has been saved to australia_wind.csv\n"
     ]
    }
   ],
   "source": [
    "# Navigate to the desired page or group\n",
    "driver.get('https://www.facebook.com/search/posts/?q=wind%20energy%20australia')\n",
    "\n",
    "# Allow some time for the page to load\n",
    "time.sleep(5)\n",
    "\n",
    "# Initialize empty lists to store the extracted posts and comments\n",
    "posts = []\n",
    "comments = []\n",
    "\n",
    "# Loop to scroll the page and collect posts\n",
    "for _ in range(50):\n",
    "    # Scroll the page\n",
    "    driver.execute_script('window.scrollTo(0, document.body.scrollHeight);')\n",
    "    time.sleep(2)  # Adjust sleep time as necessary to allow for page load\n",
    "\n",
    "    # Get the page source\n",
    "    resp = driver.page_source\n",
    "\n",
    "    # Parse the page source with BeautifulSoup\n",
    "    soup = BeautifulSoup(resp, 'html.parser')\n",
    "\n",
    "    # Find the specific divs containing the required information\n",
    "    items = soup.find_all('div', {'class': 'x78zum5 xdt5ytf xz62fqu x16ldp7u'})\n",
    "\n",
    "    # Iterate through each item and extract the desired information\n",
    "    for item in items:\n",
    "        post_content = item.get_text()\n",
    "        if \"wind energy\" in post_content.lower() and post_content not in posts:\n",
    "            posts.append(post_content)\n",
    "            if len(posts) == 10:\n",
    "                break\n",
    "    if len(posts) >= 10:\n",
    "        break\n",
    "\n",
    "# Function to scroll and scrape comments for a specific post\n",
    "def scrape_comments():\n",
    "    # Get the page source\n",
    "    resp = driver.page_source\n",
    "\n",
    "    # Parse the page source with BeautifulSoup\n",
    "    soup = BeautifulSoup(resp, 'html.parser')\n",
    "\n",
    "    # Find the specific divs containing the comments\n",
    "    comments_section = soup.find_all('div', {'class': 'xdj266r x11i5rnm xat24cr x1mh8g0r x1vvkbs'})\n",
    "    post_comments = []\n",
    "    for comment in comments_section:\n",
    "        comment_text = comment.get_text()\n",
    "        if comment_text:\n",
    "            post_comments.append(comment_text)\n",
    "\n",
    "    return post_comments\n",
    "\n",
    "# Loop through the collected posts to scrape comments\n",
    "for idx, post in enumerate(posts):\n",
    "    print(f\"Post {idx + 1}: {post}\")\n",
    "    \n",
    "    # Pause the script to allow manual opening of comments\n",
    "    input(\"Press Enter after opening the comments for the post...\")\n",
    "\n",
    "    # Scroll and wait for comments to load\n",
    "    for _ in range(10):\n",
    "        driver.execute_script('window.scrollTo(0, document.body.scrollHeight);')\n",
    "        time.sleep(2)  # Adjust sleep time as necessary to allow for comments to load\n",
    "\n",
    "    # Scrape comments for the current post\n",
    "    post_comments = scrape_comments()\n",
    "    comments.append(post_comments)\n",
    "    print(\"Comments collected. You can now close the comments section.\")\n",
    "\n",
    "    # Print comments for the current post\n",
    "    if post_comments:  # Check if there are comments\n",
    "        print(\"Comments:\")\n",
    "        for comment in post_comments:\n",
    "            print(comment)\n",
    "    else:\n",
    "        print(\"No comments found for this post.\")\n",
    "    \n",
    "    # Print a message to let you know to close the comments\n",
    "    input(\"Press Enter after closing the comments for the post...\")\n",
    "\n",
    "# Prepare data for CSV export\n",
    "data = []\n",
    "for idx, content in enumerate(posts):\n",
    "    if idx < len(comments):  # Ensure there's a comment entry\n",
    "        for comment in comments[idx]:\n",
    "            data.append([content, comment])\n",
    "    else:\n",
    "        data.append([content, None])\n",
    "\n",
    "# Create a DataFrame and save it to CSV\n",
    "df = pd.DataFrame(data, columns=['Post', 'Comment'])\n",
    "df.to_csv('australia_wind.csv', index=False)\n",
    "\n",
    "print(\"Data has been saved to australia_wind.csv\")"
   ]
  },
  {
   "cell_type": "code",
   "execution_count": null,
   "id": "903c24e4-31b6-42fd-97e8-bc1cab6127bc",
   "metadata": {},
   "outputs": [],
   "source": []
  },
  {
   "cell_type": "code",
   "execution_count": null,
   "id": "d9f8851f-45e2-4da0-823d-88d8e9f20b4a",
   "metadata": {},
   "outputs": [],
   "source": []
  }
 ],
 "metadata": {
  "kernelspec": {
   "display_name": "Python 3 (ipykernel)",
   "language": "python",
   "name": "python3"
  },
  "language_info": {
   "codemirror_mode": {
    "name": "ipython",
    "version": 3
   },
   "file_extension": ".py",
   "mimetype": "text/x-python",
   "name": "python",
   "nbconvert_exporter": "python",
   "pygments_lexer": "ipython3",
   "version": "3.11.5"
  }
 },
 "nbformat": 4,
 "nbformat_minor": 5
}
