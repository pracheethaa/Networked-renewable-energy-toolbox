{
 "cells": [
  {
   "cell_type": "code",
   "execution_count": 4,
   "id": "fd017e31-6233-4f17-890f-a4c1eb42daae",
   "metadata": {},
   "outputs": [
    {
     "name": "stdin",
     "output_type": "stream",
     "text": [
      "Press Enter after solving the CAPTCHA... \n"
     ]
    },
    {
     "name": "stdout",
     "output_type": "stream",
     "text": [
      "Post 1: Jonathan Suggate and Jason Marshall, senior energy advisers from the Ministry of Foreign Affairs and Trade, visited Niue recently to start discussions on the next phase of New Zealand’s renewable energy partnership with Niue. The proposed partnership will support the Government of Niue to reach its target of 80% renewable energy by 2025, with funding provided through New Zealand’s International Climate Financing Strategy. Jonathan and Jason met with Secretary of Government, P… See more\n"
     ]
    },
    {
     "name": "stdin",
     "output_type": "stream",
     "text": [
      "Press Enter after opening the comments for the post... \n"
     ]
    },
    {
     "name": "stdout",
     "output_type": "stream",
     "text": [
      "Comments collected. You can now close the comments section.\n",
      "No comments found for this post.\n"
     ]
    },
    {
     "name": "stdin",
     "output_type": "stream",
     "text": [
      "Press Enter after closing the comments for the post... \n"
     ]
    },
    {
     "name": "stdout",
     "output_type": "stream",
     "text": [
      "Post 2: Reaching 100 percent renewable energy in New Zealand sounds like a great statistic to boast about, but is it the best way of arresting climate change?\n"
     ]
    },
    {
     "name": "stdin",
     "output_type": "stream",
     "text": [
      "Press Enter after opening the comments for the post... \n"
     ]
    },
    {
     "name": "stdout",
     "output_type": "stream",
     "text": [
      "Comments collected. You can now close the comments section.\n",
      "Comments:\n",
      "Climate change is a natural cyclic event, nothing we do will change it.  \n",
      "A Wet Dream for idiots. Will not work, never happen.\n",
      "You cannot arrest climate change. It is naturally occurring.\n",
      "Climate change is a con. Tax can’t solve COVID-19 either. \n",
      "https://www.newconservative.org.nz/.../emissions-management/\n"
     ]
    },
    {
     "name": "stdin",
     "output_type": "stream",
     "text": [
      "Press Enter after closing the comments for the post... \n"
     ]
    },
    {
     "name": "stdout",
     "output_type": "stream",
     "text": [
      "Post 3: The Detail: Renewable energy aims are off targetNew Zealand's not far off achieving 100 percent renewable energy - but is that really our best bet for combating climate change?\n"
     ]
    },
    {
     "name": "stdin",
     "output_type": "stream",
     "text": [
      "Press Enter after opening the comments for the post... \n"
     ]
    },
    {
     "name": "stdout",
     "output_type": "stream",
     "text": [
      "Comments collected. You can now close the comments section.\n",
      "Comments:\n",
      "Climate change is a natural cyclic event, nothing we do will change it.  \n",
      "A Wet Dream for idiots. Will not work, never happen.\n",
      "Climate change is a con. Tax can’t solve COVID-19 either. \n",
      "You cannot arrest climate change. It is naturally occurring.\n",
      "https://www.newconservative.org.nz/.../emissions-management/\n"
     ]
    },
    {
     "name": "stdin",
     "output_type": "stream",
     "text": [
      "Press Enter after closing the comments for the post... \n"
     ]
    },
    {
     "name": "stdout",
     "output_type": "stream",
     "text": [
      "Post 4: 40% of New Zealand’s total energy supply and 84% of electricity consumed in the country came from renewable energy sources in 2018 according to a new report.\n"
     ]
    },
    {
     "name": "stdin",
     "output_type": "stream",
     "text": [
      "Press Enter after opening the comments for the post... \n"
     ]
    },
    {
     "name": "stdout",
     "output_type": "stream",
     "text": [
      "Comments collected. You can now close the comments section.\n",
      "Comments:\n",
      "Renewables include hydroelectricity and geothermal power.... both of which already contribute the majority of NZ power production\n",
      "Have we not noticed Big Biz, Foreign owned News corp, Mining interests, and the Oz LNP Gov, have joined forces in attacking the Ardern Gov in NZ? The reason is simple she  sets an example of what a Gov for the people actually looks like and how it performs in advancing the country and it's citizens, a Gov actively implementing policies to help protect the planet we all rely on for our survival Her Gov running the Country for the benefit of New Zealanders Not the Corporate free loaders..  Our PM Morrison ? His brilliant effort at taking Oz into the technological age is Gut funding to Oz research facilities, yet  give the Mad man in the White House,  Donald trump $150 Mil to enhance the US Space exploration technology?. And if you believe Oz will derive any benefit from that you are off with the fairies.\n",
      "Solar Quotes looks like a lobby group.\n",
      "Long way ahead of Aus, i I thing coal fired power stations have not been used for many years,\n",
      "Go new zealand\n",
      "Ash Steve Daniel\n",
      "Takes a lot of electricity to grow sheep.\n"
     ]
    },
    {
     "name": "stdin",
     "output_type": "stream",
     "text": [
      "Press Enter after closing the comments for the post... \n"
     ]
    },
    {
     "name": "stdout",
     "output_type": "stream",
     "text": [
      "Post 5: New Zealand Edges Closer Towards Achieving Renewable Energy Target40% of New Zealand's total energy supply and 84% of electricity consumed in the country came from renewable energy sources in 2018.\n"
     ]
    },
    {
     "name": "stdin",
     "output_type": "stream",
     "text": [
      "Press Enter after opening the comments for the post... \n"
     ]
    },
    {
     "name": "stdout",
     "output_type": "stream",
     "text": [
      "Comments collected. You can now close the comments section.\n",
      "Comments:\n",
      "Renewables include hydroelectricity and geothermal power.... both of which already contribute the majority of NZ power production\n",
      "Have we not noticed Big Biz, Foreign owned News corp, Mining interests, and the Oz LNP Gov, have joined forces in attacking the Ardern Gov in NZ? The reason is simple she  sets an example of what a Gov for the people actually looks like and how it performs in advancing the country and it's citizens, a Gov actively implementing policies to help protect the planet we all rely on for our survival Her Gov running the Country for the benefit of New Zealanders Not the Corporate free loaders..  Our PM Morrison ? His brilliant effort at taking Oz into the technological age is Gut funding to Oz research facilities, yet  give the Mad man in the White House,  Donald trump $150 Mil to enhance the US Space exploration technology?. And if you believe Oz will derive any benefit from that you are off with the fairies.\n",
      "Solar Quotes looks like a lobby group.\n",
      "Long way ahead of Aus, i I thing coal fired power stations have not been used for many years,\n",
      "Go new zealand\n",
      "Ash Steve Daniel\n",
      "Takes a lot of electricity to grow sheep.\n"
     ]
    },
    {
     "name": "stdin",
     "output_type": "stream",
     "text": [
      "Press Enter after closing the comments for the post... \n"
     ]
    },
    {
     "name": "stdout",
     "output_type": "stream",
     "text": [
      "Post 6: New Zealand is teaming up with the world's biggest investment company, BlackRock, to try to reach the target of 100 percent renewable energy by 2030. Political reporter Amelia Wade has more.#Newshub | Three\n"
     ]
    },
    {
     "name": "stdin",
     "output_type": "stream",
     "text": [
      "Press Enter after opening the comments for the post... \n"
     ]
    },
    {
     "name": "stdout",
     "output_type": "stream",
     "text": [
      "Comments collected. You can now close the comments section.\n",
      "Comments:\n",
      "So black rock just purchased part of NZ\n",
      "Blackrock and Vanguard..the financiers behind the one world order.\n",
      "God defend our country from this EVIL  Amen  We will fight against it  \n",
      "Boy o Boy,Imagine all the kickbacks on this Job.\n",
      "MAKES SENSE TO THEM.\n",
      "Future communist country led by a company with mass control? Labour puppets.Voting this year is definitely going to be essential and votes will need to picked wisely. The other parties better get some stone clad promises brewing.\n",
      "Welcome to Aotearoa New Zealand brought to you by Black Rock.\n",
      "This is  corrupt black rock own the government \n",
      "You can spin it all you like. Nobody's buying the fantasy newshub.\n",
      "How wonderful to fulfill our international obligations and to save human lives. Fossil fuels are history, or we are history.\n",
      "Black Rock are 1 of the dirtiest companies around. Doing business with them shows how corrupt NZ is\n",
      "First we need more militaryNow we need black rock to show us howOle Uncle Sam is making headway in nz\n",
      "Who are Blackrock ? \n",
      "News Hub is Black Rocks Byatch..\n",
      "waiting drawing this out....so why not just kill us all now like they have already planned for later on?...the power hungry control crazy money grabbing war mongering evil elite globalists backed by WEF..WHO..UN..NATO\n",
      "All these company's are like russian dolls.. you go a few companies deep Black Rock and Vanguard own 3 News.\n",
      "New this was coming…. Adern and Labour have always has had this dirty plan up their sleeve\n"
     ]
    },
    {
     "name": "stdin",
     "output_type": "stream",
     "text": [
      "Press Enter after closing the comments for the post... \n"
     ]
    },
    {
     "name": "stdout",
     "output_type": "stream",
     "text": [
      "Post 7: Vanguard and Blackrock, the overlords of the world.New Zealand is teaming up with the world's biggest investment company, BlackRock, to try to reach the target of 100 percent renewable energy by 2030\n"
     ]
    },
    {
     "name": "stdin",
     "output_type": "stream",
     "text": [
      "Press Enter after opening the comments for the post... \n"
     ]
    },
    {
     "name": "stdout",
     "output_type": "stream",
     "text": [
      "Comments collected. You can now close the comments section.\n",
      "Comments:\n",
      "So black rock just purchased part of NZ\n",
      "Blackrock and Vanguard..the financiers behind the one world order.\n",
      "God defend our country from this EVIL  Amen  We will fight against it  \n",
      "Boy o Boy,Imagine all the kickbacks on this Job.\n",
      "MAKES SENSE TO THEM.\n",
      "Future communist country led by a company with mass control? Labour puppets.Voting this year is definitely going to be essential and votes will need to picked wisely. The other parties better get some stone clad promises brewing.\n",
      "Welcome to Aotearoa New Zealand brought to you by Black Rock.\n",
      "This is  corrupt black rock own the government \n",
      "You can spin it all you like. Nobody's buying the fantasy newshub.\n",
      "How wonderful to fulfill our international obligations and to save human lives. Fossil fuels are history, or we are history.\n",
      "Black Rock are 1 of the dirtiest companies around. Doing business with them shows how corrupt NZ is\n",
      "First we need more militaryNow we need black rock to show us howOle Uncle Sam is making headway in nz\n",
      "Who are Blackrock ? \n",
      "News Hub is Black Rocks Byatch..\n",
      "waiting drawing this out....so why not just kill us all now like they have already planned for later on?...the power hungry control crazy money grabbing war mongering evil elite globalists backed by WEF..WHO..UN..NATO\n",
      "All these company's are like russian dolls.. you go a few companies deep Black Rock and Vanguard own 3 News.\n",
      "New this was coming…. Adern and Labour have always has had this dirty plan up their sleeve\n"
     ]
    },
    {
     "name": "stdin",
     "output_type": "stream",
     "text": [
      "Press Enter after closing the comments for the post... \n"
     ]
    },
    {
     "name": "stdout",
     "output_type": "stream",
     "text": [
      "Post 8: New Zealand is teaming up with the world's largest investment firm, BlackRock, to try to achieve a target of 100 percent renewable energy by 2030.Source: Newshub (YouTube)\n"
     ]
    },
    {
     "name": "stdin",
     "output_type": "stream",
     "text": [
      "Press Enter after opening the comments for the post... \n"
     ]
    },
    {
     "name": "stdout",
     "output_type": "stream",
     "text": [
      "Comments collected. You can now close the comments section.\n",
      "Comments:\n",
      "So black rock just purchased part of NZ\n",
      "Blackrock and Vanguard..the financiers behind the one world order.\n",
      "God defend our country from this EVIL  Amen  We will fight against it  \n",
      "Boy o Boy,Imagine all the kickbacks on this Job.\n",
      "MAKES SENSE TO THEM.\n",
      "Future communist country led by a company with mass control? Labour puppets.Voting this year is definitely going to be essential and votes will need to picked wisely. The other parties better get some stone clad promises brewing.\n",
      "Welcome to Aotearoa New Zealand brought to you by Black Rock.\n",
      "This is  corrupt black rock own the government \n",
      "You can spin it all you like. Nobody's buying the fantasy newshub.\n",
      "How wonderful to fulfill our international obligations and to save human lives. Fossil fuels are history, or we are history.\n",
      "Black Rock are 1 of the dirtiest companies around. Doing business with them shows how corrupt NZ is\n",
      "First we need more militaryNow we need black rock to show us howOle Uncle Sam is making headway in nz\n",
      "Who are Blackrock ? \n",
      "News Hub is Black Rocks Byatch..\n",
      "waiting drawing this out....so why not just kill us all now like they have already planned for later on?...the power hungry control crazy money grabbing war mongering evil elite globalists backed by WEF..WHO..UN..NATO\n",
      "All these company's are like russian dolls.. you go a few companies deep Black Rock and Vanguard own 3 News.\n",
      "New this was coming…. Adern and Labour have always has had this dirty plan up their sleeve\n"
     ]
    },
    {
     "name": "stdin",
     "output_type": "stream",
     "text": [
      "Press Enter after closing the comments for the post... \n"
     ]
    },
    {
     "name": "stdout",
     "output_type": "stream",
     "text": [
      "Post 9: New Zealand already has an extremely high percentage of renewable electricity generation (80-85% or so). The costs of going to 100% are high, with the average household facing an increase of $300 per year. Commercial power prices would increase by 29 per cent, with a 39 per cent increase for industrial businesses.This illustrates a useful point which is often forgotten with climate change. Taking action is not costless. There are trade-offs involved. I love renewable energy… See more\n"
     ]
    },
    {
     "name": "stdin",
     "output_type": "stream",
     "text": [
      "Press Enter after opening the comments for the post... \n"
     ]
    },
    {
     "name": "stdout",
     "output_type": "stream",
     "text": [
      "Comments collected. You can now close the comments section.\n",
      "Comments:\n",
      "Wow I love my future being disregarding because it's too expensive. Hey Chris want to know what else is expensive? The effects of the Climate Crisis. Nice to know where you stand on renewable energy\n",
      "Bizarre that the only thing you have to say on the issue of climate change is how much it's going to cost to take action. What about speaking about the people already suffering in New Zealand and the Pacific Islands? How about talking about the hopes you have for New Zealand in doing its part to create a better world?\n",
      "While you may have a point, you've left out of the equation a very important figure: what's the cost of doing nothing? It's a missing figure in the Australian debate and it's very frustrating. We are just starting to glimpse across the world the cost of doing nothing, or doing less, and it dwarfs the sort of costs you're discussing. I'm no evangelical greenie, but a proper cost analysis would have to factor in the actual cost of the options, and not leave out an important part. That said, New Zealand's use of renewables is impressive - do I assume it's driven in no small part by geothermal?\n",
      "Speaking of climate change, what, as National's new transport spokesperson, will you be doing to reduce the use of fossil fuelled cars, which are far and away the biggest cause of CO2 emissions in your electorate?\n",
      "How about make it easier for private citizens to become less dependent on corporate power suppliers by helping them set up their own generation? We wouldn't need to rely on fossil fuels so much if there was less pressure on the grid, would we?\n",
      "Ok Christopher Bishop I'll bite - what are the '*cheaper* and *more effective* ways of reducing emissions in our economy'?\n",
      "Chris, statements like yours demonstrate why the Green party is, and probably needs to be, in government...\n",
      "No thanks to darth key for selling our national assets when the people on NEW ZEALAND voted against it!\n",
      "The only reason it disproportionately would impact low-income households is that electricity generation and supply were privatized. Given our nation's ongoing reliance on electricity, this makes electricity a public good, and therefore something that should not be restricted due to cost.\n",
      "Interesting Fact\n",
      "Why does it cost more? It’s renewable energy, readily available? Once it’s set up, maintenance and running costs should be less than standard sources? No digging, drilling, melting, burning etc?\n",
      "What qualifies you to say that Chris.  Have you worked in the energy sector like I have? Roof top solar and embedded networks like community battery banks which are becoming the norm in Europe actually lower the costs of power through avoided costs or transmission and capital. IE transpower IE lines charges.  These savings should be used to promote solar and electric cars and definitely be passed on to consumers.  These are trends all around the world......except here\n",
      "What are the other cheaper and effective methods that you recommend? I think if you were to say \"we should invest in X instead of in investing in 100% renewables\" then that would sound a lot more credible than just saying \"it costs too much\". It's an important and interesting conversation.\n",
      "100% isn't too costly.  Just a little more storage to handle peaks, and we'd be fine.\n",
      "So as we more and more stories about whole countries running on 100% renewable for whole days or weeks, I can't help but wonder.... What makes them so special? Do they not have a retarded government? Is their sunlight more powerful? Is there a deity who waves a bejazzled stick and just proclaims we can't have an electricity source that doesn't harm the people it's supplying? As Craig Davis once said - \"can you fill me in?\"\n",
      "Hypocrite. National is all about favouring things that disproportionately impact low-income households.\n",
      "I think the comments speak for themselves here Chris. Time to sharpen up and drive climate solutions.\n",
      "I wonder why the Australian Capital Territory is about to achieve 100% renewable electricity with costs a fraction of the ones the Herald is quoting for our cousins across the ditch?\n",
      "All unreliable rubbish\n"
     ]
    },
    {
     "name": "stdin",
     "output_type": "stream",
     "text": [
      "Press Enter after closing the comments for the post... \n"
     ]
    },
    {
     "name": "stdout",
     "output_type": "stream",
     "text": [
      "Post 10: Shane Jones says New Zealand won't meet 'dreamy, fairytale' 2030 renewable energy targetHe hit out at the \"hysteria surrounding climate change\".\n"
     ]
    },
    {
     "name": "stdin",
     "output_type": "stream",
     "text": [
      "Press Enter after opening the comments for the post... \n"
     ]
    },
    {
     "name": "stdout",
     "output_type": "stream",
     "text": [
      "Comments collected. You can now close the comments section.\n",
      "No comments found for this post.\n"
     ]
    },
    {
     "name": "stdin",
     "output_type": "stream",
     "text": [
      "Press Enter after closing the comments for the post... \n"
     ]
    },
    {
     "name": "stdout",
     "output_type": "stream",
     "text": [
      "Post 11: westernstandard.newsSweden abandons 100% renewable energy goal as EU reconsiders climate policiesSweden formally renounces EU net zero roadmap championed by the likes of Germany.\n"
     ]
    },
    {
     "name": "stdin",
     "output_type": "stream",
     "text": [
      "Press Enter after opening the comments for the post... \n"
     ]
    },
    {
     "name": "stdout",
     "output_type": "stream",
     "text": [
      "Comments collected. You can now close the comments section.\n",
      "Comments:\n",
      "Reality. I believe National have stated that the oil exploration will be opened up again if they get in. here's hoping that will be applied to the refinery also and he's going to start charging EV road user charges as well as drop the ute tax. All good by me.\n",
      "Donald Johnston same here\n",
      "Ideology meet reality....reality wins\n",
      "At least some are starting to see the ideological stupidity of a tunnel vision which ruins and bankrupts all before it. Hope is on the horizon!\n",
      "Finally a little bit of sanity peeping through.\n"
     ]
    },
    {
     "name": "stdin",
     "output_type": "stream",
     "text": [
      "Press Enter after closing the comments for the post... \n"
     ]
    },
    {
     "name": "stdout",
     "output_type": "stream",
     "text": [
      "Post 12: Sweden abandons 100% renewable energy goal as EU reconsiders climate policiesSweden formally renounces EU net zero roadmap championed by the likes of Germany.\n"
     ]
    },
    {
     "name": "stdin",
     "output_type": "stream",
     "text": [
      "Press Enter after opening the comments for the post... \n"
     ]
    },
    {
     "name": "stdout",
     "output_type": "stream",
     "text": [
      "Comments collected. You can now close the comments section.\n",
      "Comments:\n",
      "Reality. I believe National have stated that the oil exploration will be opened up again if they get in. here's hoping that will be applied to the refinery also and he's going to start charging EV road user charges as well as drop the ute tax. All good by me.\n",
      "Donald Johnston same here\n",
      "Ideology meet reality....reality wins\n",
      "At least some are starting to see the ideological stupidity of a tunnel vision which ruins and bankrupts all before it. Hope is on the horizon!\n",
      "Finally a little bit of sanity peeping through.\n"
     ]
    },
    {
     "name": "stdin",
     "output_type": "stream",
     "text": [
      "Press Enter after closing the comments for the post... \n"
     ]
    },
    {
     "name": "stdout",
     "output_type": "stream",
     "text": [
      "Post 13: Watch: 'Hysteria' - Jones says NZ won't meet 'dreamy, fairytale' 2030 renewable energy targetHe hit out at the \"hysteria surrounding climate change\".\n"
     ]
    },
    {
     "name": "stdin",
     "output_type": "stream",
     "text": [
      "Press Enter after opening the comments for the post... \n"
     ]
    },
    {
     "name": "stdout",
     "output_type": "stream",
     "text": [
      "Comments collected. You can now close the comments section.\n",
      "Comments:\n",
      "They have really lost it\n",
      "Kate Pixi Bowden did they ever actual have it. Team of ‘s\n",
      "Janet Trow Il say !\n",
      "if we are to have any hope for our young folk, we have to find new ways to openly challenge this vile, genocidal thinking.\n",
      "Arrogance and narcissism.  Who really voted for this man, and how did he achieve so much power?\n"
     ]
    },
    {
     "name": "stdin",
     "output_type": "stream",
     "text": [
      "Press Enter after closing the comments for the post... \n"
     ]
    },
    {
     "name": "stdout",
     "output_type": "stream",
     "text": [
      "Post 14: New Zealand Gov to Team Up With US Investment Giant BlackRock to Meet Major Climate GoalNew Zealand is teaming up with the world's biggest investment company, BlackRock, to try to reach the target of 100 percent renewable energy by 2030.#ClimateHoax #ClimateFraud\n"
     ]
    },
    {
     "name": "stdin",
     "output_type": "stream",
     "text": [
      "Press Enter after opening the comments for the post... \n"
     ]
    },
    {
     "name": "stdout",
     "output_type": "stream",
     "text": [
      "Comments collected. You can now close the comments section.\n",
      "No comments found for this post.\n"
     ]
    },
    {
     "name": "stdin",
     "output_type": "stream",
     "text": [
      "Press Enter after closing the comments for the post... \n"
     ]
    },
    {
     "name": "stdout",
     "output_type": "stream",
     "text": [
      "Post 15: Eyre Peninsula Renewable Energy InitiativesRoss Kassebaum  ·   · Shared with Public group\n"
     ]
    },
    {
     "name": "stdin",
     "output_type": "stream",
     "text": [
      "Press Enter after opening the comments for the post... \n"
     ]
    },
    {
     "name": "stdout",
     "output_type": "stream",
     "text": [
      "Comments collected. You can now close the comments section.\n",
      "No comments found for this post.\n"
     ]
    },
    {
     "name": "stdin",
     "output_type": "stream",
     "text": [
      "Press Enter after closing the comments for the post... \n"
     ]
    },
    {
     "name": "stdout",
     "output_type": "stream",
     "text": [
      "Post 16: New Zealand has been added to the official list of countries supporting a pledge to triple renewable energy and double energy efficiency by 2030.That list is now up to 123, including New Zealand which means that the potential for a global renewable energy target is on everybody’s minds.But if we succeed in getting this win verified in the final text, what happens next? What does a “just transition” to renewable energy actually mean, and how can the climate movement help b… See more\n"
     ]
    },
    {
     "name": "stdin",
     "output_type": "stream",
     "text": [
      "Press Enter after opening the comments for the post... \n"
     ]
    },
    {
     "name": "stdout",
     "output_type": "stream",
     "text": [
      "Comments collected. You can now close the comments section.\n",
      "Comments:\n",
      "Is not going to happen in NZ under this current government \n"
     ]
    },
    {
     "name": "stdin",
     "output_type": "stream",
     "text": [
      "Press Enter after closing the comments for the post... \n"
     ]
    },
    {
     "name": "stdout",
     "output_type": "stream",
     "text": [
      "Post 17: Renewable energy is not just good for the planet, it's also good for our economy. That's why National believes New Zealand can prosper and grow while delivering its climate change goals by harnessing renewable energy. We have an abundance of green energy sources like solar, wind, hydro, geothermal and biomass that can power a growing, productive New Zealand economy into the future.By shifting transport and industry off fossil fuels to clean electricity, we can dramatically … See more\n"
     ]
    },
    {
     "name": "stdin",
     "output_type": "stream",
     "text": [
      "Press Enter after opening the comments for the post... \n"
     ]
    },
    {
     "name": "stdout",
     "output_type": "stream",
     "text": [
      "Comments collected. You can now close the comments section.\n",
      "No comments found for this post.\n"
     ]
    },
    {
     "name": "stdin",
     "output_type": "stream",
     "text": [
      "Press Enter after closing the comments for the post... \n"
     ]
    },
    {
     "name": "stdout",
     "output_type": "stream",
     "text": [
      "Post 18: VihanRenewable energy is not just good for the planet, it's also good for our economy. That's why National believes New Zealand can prosper and grow while delivering its climate change goals by harnessing renewable energy. We have an abundance of green energy sources like solar, wind, hydro, geothermal and biomass that can power a growing, productive New Zealand economy into the future.\n",
      "\n",
      "By shifting transport and industry off fossil fuels to clean electricity, we can dramatically reduce our carbon footprint and meet our net carbon zero target. Electrification could reduce annual carbon emissions by 22 million tonnes in 2050, about 70% of the emissions reductions from transport and industry this country needs. \n",
      "\n",
      "Read about our policy here -https://www.national.org.nz/electrifynz\n",
      "Let's work together to harness our greatest asset for delivering on our climate change commitments: renewable energy. It's time to make a smart investment in our future and build a sustainable, prosperous New Zealand for generations to come.  #RenewableEnergy #ClimateChange #NewZealandProsperity\n"
     ]
    },
    {
     "name": "stdin",
     "output_type": "stream",
     "text": [
      "Press Enter after opening the comments for the post... \n"
     ]
    },
    {
     "name": "stdout",
     "output_type": "stream",
     "text": [
      "Comments collected. You can now close the comments section.\n",
      "No comments found for this post.\n"
     ]
    },
    {
     "name": "stdin",
     "output_type": "stream",
     "text": [
      "Press Enter after closing the comments for the post... \n"
     ]
    },
    {
     "name": "stdout",
     "output_type": "stream",
     "text": [
      "Post 19: To help the Government of Indonesia meet its ambitious renewable energy targets, today Indonesia and New Zealand signed a Partnership Arrangement on New Zealand Support for Training in the Indonesia Geothermal Sector (NZSTIGS) Programme. It is NZD $6.8 million programme to develop and deliver practical training for geothermal technicians and operators over the next five years.Indonesia’s 3,195 Mega Watt (MW) target in geothermal based electricity is well on track, and New … See more\n"
     ]
    },
    {
     "name": "stdin",
     "output_type": "stream",
     "text": [
      "Press Enter after opening the comments for the post... \n"
     ]
    },
    {
     "name": "stdout",
     "output_type": "stream",
     "text": [
      "Comments collected. You can now close the comments section.\n",
      "No comments found for this post.\n"
     ]
    },
    {
     "name": "stdin",
     "output_type": "stream",
     "text": [
      "Press Enter after closing the comments for the post... \n"
     ]
    },
    {
     "name": "stdout",
     "output_type": "stream",
     "text": [
      "Post 20: VihanTo help the Government of Indonesia meet its ambitious renewable energy targets, today Indonesia and New Zealand signed a Partnership Arrangement on New Zealand Support for Training in the Indonesia Geothermal Sector (NZSTIGS) Programme. It is NZD $6.8 million programme to develop and deliver practical training for geothermal technicians and operators over the next five years.\n",
      " \n",
      "Indonesia’s 3,195 Mega Watt (MW) target in geothermal based electricity is well on track, and New Zealand’s contribution will help toward meeting this 2019 goal. \n",
      " \n",
      "The Head of Human Resources Development Agency of Energy and Mineral Resources Ministry, IGN Wiratmaja, said, “Indonesia is now the second largest geothermal power producer in the world with 1,948 MW installed. To meet our electrification target from geothermal energy, Indonesia needs an additional of 2,400 engineers and 8,400 geothermal technicians by 2019.”\n",
      " \n",
      "“The NZSTIGS programme will draw on New Zealand’s high quality geothermal training. One of New Zealand’s best geothermal firms, WINTEC, in collaboration with Indonesian institutions, will deliver the training. This will cover all aspects of geothermal from exploration, new plant development, construction and commissioning as well as operation and maintenance,” New Zealand Ambassador to Indonesia H.E. DR. Trevor Matheson said.\n",
      "  \n",
      "This new geothermal human resource development programme aligns with the 60th Anniversary of Indonesia – New Zealand bilateral relations. Indonesia and New Zealand have been working together hand-in-hand in the geothermal sector since the 1960s. New Zealand engineers were deployed to Kamojang, West Java to help build Indonesia’s first geothermal power station which was opened in 1983 by President Soeharto and New Zealand Prime Minister Robert D. Muldoon.  \n",
      " \n",
      "Until today New Zealand Government continues providing post graduate and short-term training scholarships, namely New Zealand-ASEAN Scholarship (NZ-AS) Awards, for outstanding Indonesian students to study renewable energy at New Zealand universities.\n"
     ]
    },
    {
     "name": "stdin",
     "output_type": "stream",
     "text": [
      "Press Enter after opening the comments for the post... \n"
     ]
    },
    {
     "name": "stdout",
     "output_type": "stream",
     "text": [
      "Comments collected. You can now close the comments section.\n",
      "No comments found for this post.\n"
     ]
    },
    {
     "name": "stdin",
     "output_type": "stream",
     "text": [
      "Press Enter after closing the comments for the post... \n"
     ]
    },
    {
     "name": "stdout",
     "output_type": "stream",
     "text": [
      "Data has been saved to nz_renewable.csv\n"
     ]
    }
   ],
   "source": [
    "from bs4 import BeautifulSoup\n",
    "from selenium import webdriver\n",
    "from selenium.webdriver.common.by import By\n",
    "from selenium.webdriver.common.keys import Keys\n",
    "import time\n",
    "import pandas as pd\n",
    "\n",
    "# URL of the target Facebook page\n",
    "target_url = \"https://www.facebook.com\"\n",
    "\n",
    "# Initialize the Chrome WebDriver\n",
    "driver = webdriver.Chrome()\n",
    "\n",
    "# Navigate to Facebook and log in\n",
    "driver.get(target_url)\n",
    "username = driver.find_element(By.ID, 'email')\n",
    "password = driver.find_element(By.ID, 'pass')\n",
    "username.send_keys('EMAIL')\n",
    "password.send_keys('PASSWORD')\n",
    "password.send_keys(Keys.RETURN)\n",
    "\n",
    "# Allow some time for the login to complete and CAPTCHA to appear\n",
    "time.sleep(5)\n",
    "\n",
    "# Wait for manual CAPTCHA solving\n",
    "input(\"Press Enter after solving the CAPTCHA...\")\n",
    "\n",
    "# Navigate to the desired page or group\n",
    "driver.get('https://www.facebook.com/search/posts?q=renewable%20energy%20target%20new%20zealand')\n",
    "\n",
    "# Allow some time for the page to load\n",
    "time.sleep(5)\n",
    "\n",
    "# Initialize empty lists to store the extracted posts and comments\n",
    "posts = []\n",
    "comments = []\n",
    "\n",
    "# Loop to scroll the page and collect posts\n",
    "for _ in range(50):\n",
    "    # Scroll the page\n",
    "    driver.execute_script('window.scrollTo(0, document.body.scrollHeight);')\n",
    "    time.sleep(2)  # Adjust sleep time as necessary to allow for page load\n",
    "\n",
    "    # Get the page source\n",
    "    resp = driver.page_source\n",
    "\n",
    "    # Parse the page source with BeautifulSoup\n",
    "    soup = BeautifulSoup(resp, 'html.parser')\n",
    "\n",
    "    # Find the specific divs containing the required information\n",
    "    items = soup.find_all('div', {'class': 'x78zum5 xdt5ytf xz62fqu x16ldp7u'})\n",
    "\n",
    "    # Iterate through each item and extract the desired information\n",
    "    for item in items:\n",
    "        post_content = item.get_text()\n",
    "        if \"renewable energy\" in post_content.lower() and post_content not in posts:\n",
    "            posts.append(post_content)\n",
    "            if len(posts) == 20:\n",
    "                break\n",
    "    if len(posts) >= 20:\n",
    "        break\n",
    "\n",
    "# Function to scroll and scrape comments for a specific post\n",
    "def scrape_comments():\n",
    "    # Get the page source\n",
    "    resp = driver.page_source\n",
    "\n",
    "    # Parse the page source with BeautifulSoup\n",
    "    soup = BeautifulSoup(resp, 'html.parser')\n",
    "\n",
    "    # Find the specific divs containing the comments\n",
    "    comments_section = soup.find_all('div', {'class': 'xdj266r x11i5rnm xat24cr x1mh8g0r x1vvkbs'})\n",
    "    post_comments = []\n",
    "    for comment in comments_section:\n",
    "        comment_text = comment.get_text()\n",
    "        if comment_text:\n",
    "            post_comments.append(comment_text)\n",
    "\n",
    "    return post_comments\n",
    "\n",
    "# Loop through the collected posts to scrape comments\n",
    "for idx, post in enumerate(posts):\n",
    "    print(f\"Post {idx + 1}: {post}\")\n",
    "    \n",
    "    # Pause the script to allow manual opening of comments\n",
    "    input(\"Press Enter after opening the comments for the post...\")\n",
    "\n",
    "    # Scroll and wait for comments to load\n",
    "    for _ in range(10):\n",
    "        driver.execute_script('window.scrollTo(0, document.body.scrollHeight);')\n",
    "        time.sleep(2)  # Adjust sleep time as necessary to allow for comments to load\n",
    "\n",
    "    # Scrape comments for the current post\n",
    "    post_comments = scrape_comments()\n",
    "    comments.append(post_comments)\n",
    "    print(\"Comments collected. You can now close the comments section.\")\n",
    "\n",
    "    # Print comments for the current post\n",
    "    if post_comments:  # Check if there are comments\n",
    "        print(\"Comments:\")\n",
    "        for comment in post_comments:\n",
    "            print(comment)\n",
    "    else:\n",
    "        print(\"No comments found for this post.\")\n",
    "    \n",
    "    # Print a message to let you know to close the comments\n",
    "    input(\"Press Enter after closing the comments for the post...\")\n",
    "\n",
    "\n",
    "# Prepare data for CSV export\n",
    "data = []\n",
    "for idx, content in enumerate(posts):\n",
    "    if idx < len(comments):  # Ensure there's a comment entry\n",
    "        for comment in comments[idx]:\n",
    "            data.append([content, comment])\n",
    "    else:\n",
    "        data.append([content, None])\n",
    "\n",
    "# Create a DataFrame and save it to CSV\n",
    "df = pd.DataFrame(data, columns=['Post', 'Comment'])\n",
    "df.to_csv('nz_renewable.csv', index=False)\n",
    "\n",
    "print(\"Data has been saved to nz_renewable.csv\")\n"
   ]
  },
  {
   "cell_type": "code",
   "execution_count": 24,
   "id": "a0812642-ca7c-4b91-a6c3-5f5ffbafe1f0",
   "metadata": {},
   "outputs": [
    {
     "name": "stdin",
     "output_type": "stream",
     "text": [
      "Press Enter after solving the CAPTCHA... \n"
     ]
    },
    {
     "name": "stdout",
     "output_type": "stream",
     "text": [
      "Post 1:  “Turn Sunshine Into Savings: Go Solar Today!” Are you prepared to use solar energy to power your house? Take advantage of our exclusive solar bargains to embrace clean, renewable energy and enjoy our exclusive solar deals.Why Choose Life Solar?… See more\n"
     ]
    },
    {
     "name": "stdin",
     "output_type": "stream",
     "text": [
      "Press Enter after opening the comments for the post... \n"
     ]
    },
    {
     "name": "stdout",
     "output_type": "stream",
     "text": [
      "Comments collected. You can now close the comments section.\n",
      "Comments:\n",
      "You have 550w panels\n",
      "Hi Hoan Pham we have 440w Panels available.\n"
     ]
    },
    {
     "name": "stdin",
     "output_type": "stream",
     "text": [
      "Press Enter after closing the comments for the post... \n"
     ]
    },
    {
     "name": "stdout",
     "output_type": "stream",
     "text": [
      "Post 2: Nationals MP Keith Pitt says Energy Minister Chris Bowen wants to turn Australia into an intermittent wind and solar energy “super-unreliable power”.Watch the full episode at www.skynews.com.au/flash\n"
     ]
    },
    {
     "name": "stdin",
     "output_type": "stream",
     "text": [
      "Press Enter after opening the comments for the post... \n"
     ]
    },
    {
     "name": "stdout",
     "output_type": "stream",
     "text": [
      "Comments collected. You can now close the comments section.\n",
      "Comments:\n",
      "Bowen failed before as a minister. He is failing again.\n",
      "They can use the coal powered power stations, that have been closed. All the infrastructure is there already.\n",
      "How “clean” and “reliable” is Chernobyl or Fukushima?What about Three Mile Island?\n",
      "Bowen and Albo are hurrying us down a very costly renewables path with NO guarantee of cheaper reliable energy........madness !\n",
      "Bowen is not never will be a politician he knows nothing about power  hes a dreamer\n",
      "Tell him to stand on a hill, put a charging cable \"you know where\"....and start talking, the wind and BS that comes out his his mouth will probably prove his own point.\n",
      "They could redesign these coal-fired power station's like they have in Germany with zero imaginations\n",
      "I'd like to know where they get their % from, haven't heard of any Sky news pols !!\n",
      "Stand up, Stand up Shorty!\n",
      "Well part if the problem is it was the Labor Party who banned nuclear energy in Australia way back in 1986 so its likely to be hard to convince them and the greens to overturn the nuclear power ban .\n",
      "Another Failed Port Folio, On His Resume!\n",
      "Sky was running the narrative some time back ... Power still on ... As you were \n",
      "You’d be forgiven in thinking that our current government is purposefully trying to ruin our country financially AND start a racist split that will cause unrest\n",
      "The ALP are just crazy. They agree the nuc subs and storage of waste but oppose using it for domestic power. It makes no sense\n",
      "Black Out Bowen has no credibility. Love to know what credentials he has to make calls on our country’s future.\n",
      "Bowen is driving poverty in Australia. Everything we do requires abundant,  affordable energy. And there is no man made climate emergency. Never forget this!\n",
      "If mr Hinkley is so dead keen on nuclear power, let’s see him offer up his electorate as the site to dump Australia’s nuclear waste…..\n",
      "How many blackouts so far with renewables ?\n",
      "They need to be kicked out now. Go back to coal and gas. They are better for the environment. When renewables are really renewables and don’t take more to produce than they give back. Then they should be used otherwise they will create a global disaster.\n",
      "Blackout Bowen is happy to spend taxpayers money and have no consequences.\n",
      "Sit down luddite\n",
      "Maybe it China  pulling the string \n",
      "If capitalism worked correctly,  Maintence would have kept Coal power stations competitive producing cheap power for the people, But no, we all got scammed by multinational Tax bludgers instead\n",
      "How many energy policies did liberal have in 9 years? 10 I think.\n",
      "Does Keith have solar panels on his homes\n",
      "Pork chops Bowenless will do a poo poo valve throwing it’s hands around like that. \n",
      "Never offer Australians anything positive as they find it offensive\n",
      "Shame liberals and nationals made zero Progress on nuclear energy in a decade. ￼\n",
      "Chris Bowen, your a brainwashed,uneducated f##kwit\n",
      "https://fb.watch/kFpMnvi8AC/?mibextid=NnVzG8This young man has more intelligence than Blackout Bowen could ever dream to have. Nuclear for Australia\n",
      "Sack the moron\n",
      "Let’s power up\n",
      "https://www.wired.com/story/europe-nuclear-power-plants/\n",
      "bowen is an idiot\n",
      "There is no such thing as clean renewable energy other than hydro. Huge amounts of lead, lithium and cobalt go into wind turbines and solar panel technology. This technology has a far shorter life span than nuclear, coal or gas for power generation.Plus, with wind and solar renewables, back up power and battery storage will always be required. Then you have the massive battery usage for electric cars on top of all of this. African countries are now becoming dumping grounds for vast amounts of disused solar panels laden with lead and other heavy metals. With nuclear, you get net zero emissions and reliable energy with modern modular reactors. I understand nuclear waste is already being stored in synroc a material invented by the CSIRO.\n",
      "Google \"accidents history of nuclear reactors\".\n",
      "Bowen is well on the way to achieving the status as the most stupid Australian politician that ever lived.\n",
      "KEITH PITT??? \n",
      "If you want to have fun trying to cure the dumbest woke lefties in history or at least have fun trying then i recommend you join my Facebook group if you haven't already. https://www.facebook.com/groups/1265843070661621/?ref=share_group_link\n",
      "Then why not use your 9 years in government to do something about it???\n",
      "Go nuclear it's been in Sweden for many years.\n"
     ]
    },
    {
     "name": "stdin",
     "output_type": "stream",
     "text": [
      "Press Enter after closing the comments for the post... \n"
     ]
    },
    {
     "name": "stdout",
     "output_type": "stream",
     "text": [
      "Post 3: Just as major private companies are fleeing from investing in renewable energy the Queensland Palaszczuk government has decided now is the time to use taxpayers’ money in “propping up the solar energy sector,” Sky News host Chris Kenny says.\n"
     ]
    },
    {
     "name": "stdin",
     "output_type": "stream",
     "text": [
      "Press Enter after opening the comments for the post... \n"
     ]
    },
    {
     "name": "stdout",
     "output_type": "stream",
     "text": [
      "Comments collected. You can now close the comments section.\n",
      "Comments:\n",
      "They are not really seeing the effect that our sustainable renewable energy is doing to the country. We should be going back to our energy source that has proven itself. How much of our country is being affected from the waste that these installations created. Start watching the true stories about what the rest of the world is coping with by these so called clean energy. The waste that they creating in as bad as the uranium as it can not be reused and does not breakdown and they are burrying it for generations to find.\n",
      "Good old Premier Trad buying the green voters her inner city electorate is full of.\n",
      "These solar panels will not return the energy it took to mine, build and install them. FFS just burn the coal instead and get 24/7 reliable power.\n",
      "What a waste of tax payers money\n",
      "Stupidity........doing the same thing over and over and expecting different results.\n",
      "Be amazed, hold on to your seats, be ready for the sequel to 'Planet of the Humans' staring Elbow as Dr Zaius and introducing Adam Bandt in his first feature role as Cornelius. Mark Matthews in the role of George Taylor. Follow the plight of humanity in 'Planet of the Apes'. Winner of the Green development award, coming to an ABC near you. Here is a short preview. https://www.youtube.com/watch?v=XvuM3DjvYf0\n",
      "Planet of the Humans was what I already knew but the other documentary “The Great Global Warming Swindle”..was next level and much more eye opening. It gives you the whole background of how this hoax started and continues today. A must watch. On YouTube.\n",
      "Another carbon tax...everything, without exception, that you pay for has an electricity cost component...Your car insurance, school fees, groceries, petrol, rates... and green soar and wind has added at least 30% to your power bills and added costs to everything ..without exception.This is a carbon TAX...FACT.Making you poorer for no measurable benefit...Palasssotasick is a left green socialist economic incompetent under union control.\n",
      "Flogging a dead horse here .The renewable experimentation has failed miserably at astronomical cost to taxpayers.Put a stop to this madness.\n",
      "The data showed late last year, even as presented in right wing media, that most companies are not fleeing at all. This is yet another example of the dishonesty and that the right doesn't know what the left is talking about in the right wing media. Billions of dollars of projects in the pipeline and underway. Hardy fleeing. There's room for all power generation types at the moment, as I always say. Clearly the energy companies see that too. Oh yeah and how about mentioning the tax subsidies and breaks for the newly released area of land for coal and gas exploration in QLD? Too much to admit that? (Now watch the brainwashed in denial have their usual brainfart because they can't disprove that the tender went out yesterday.)\n",
      "Bunch of fools, stick with proven 24/7 coal or go nuclear, bloody eyesore propellers polluting a beautiful countryside and solar when the sun wants to play.Again, bloody bunch of hopeless fools!!\n",
      "How can we afford this?  We are broke. Even real estate Jackie Trad says so.  The only spending going on at the moment is from the Feds.  Is this delivering on some deal with Greens? https://www.theaustralian.com.au/.../d8b36b321cd28d121745...\n",
      "How much coal is used to make the solar panels?\n",
      "C'mon Sky News enough with the lies.  Investment is pausing because of poor infrastructure and and even poorer LNP government.\n",
      "Useless fools. Not their money of course and they will be gone soon, just leaving the wreckage!\n",
      "Qld Govoner General earn your pay and stand her down, please stop this wasteful female dog from pushing Queensland deeper in debt\n",
      "That's what they do. Waste other peoples money. Solar, olympics, public service bonus etc etc\n",
      "If solar was any good it would not need support.  Waste of MONEY.\n",
      "Fraction of the percentage of fossil fuel subsidies.\n",
      "How disgraceful. Corrupt QLD Labor party\n",
      "Lord bless you qldrs. Do yourselves a favour, list qld labor dead set last at your next state election or not at all \n",
      "Same in WA where McGowan is building a huge wind farm and solar farm in the Pilbara at a huge cost. But then again he is labor so it was expectedhttps://www.smh.com.au/.../wa-watchdog-green-lights-world...\n",
      "Yes solar viability and use have peaked and even over produce at the wrong times of the day all at once.As for wind..The wind energy cannot be  booked in advance planning because the wind might not blow those days.Ok.Australian Energy commission released these concerns..Not me..\n",
      "After all solar panels are so clean and last forever and there made with fairy dust and they dont take up any space and there made with abundant materials and there providing another revenue stream for the rich.\n",
      "hahahaha....the sham is being exposed for what what it is...and now,as usual the taxpayer will be footing the bill for this \"Scam\"...\n",
      "Funny, I thought I read recently on these pages that there was more investment in renewables - obviously wasn't a News Corp page\n",
      "Labor & Liberal it seems will always keep the people poor to control them.\n",
      "Forget it. If they are made in Qld from our materials, that's ok.\n",
      "why they fall apart in 5 years\n",
      "Who said they are fleeing?\n",
      "Follow the money ,cut the money and see what happens.\n",
      "If it's a good business proposition why can't the banks lend them the money?\n",
      "Might be a good time to pay back the debt.\n",
      "Which politicians have investments in this joke?\n",
      "Sky​news​ backs globalisation​ over​ Australia​n​ renewable  energy.​ They​ want​ Australia​ns​ ​to​second​ place​ is​ that​ the​ truth\n",
      "Not surprising when you look at the dills in charge.\n",
      "Clearly Jackie trad accidental premier havent seen Planet of the Human's yet \n",
      "She​ just​ opened​ ​7000 sqr  klm exploration  you​  dont​ mention​ in​the​ ​scales department\n",
      "Is the French company “Vinci”?\n",
      "The https://l.facebook.com/l.php... truth behind it all produced by a passionate environmentalist:\n",
      "Water storage? Dhead?\n",
      "Obviously Palachook and her cronies haven’t watched planet of the humans \n",
      "Get ready. Qld ders love this\n",
      "October,election can't come quick enough.\n",
      "Won't matter with no business\n",
      "Solar panels can't be recycled\n",
      "Solar farm - what junk \n",
      "Keep​ coming​ second​ our​ media​ sugestion​ is​ to​ you​ all\n",
      "Off their heads \n",
      "More coal power stations needed.\n",
      "The amount of dumb right wingers that miss the whole point of Planet of Humans is incredible.\n",
      "Are people that dumb? Solar panels are made from coal and quartz . Also bio mass is made from trees so they are litrally killing the planet.https://youtu.be/Zk11vI-7czE\n",
      "at best they are 15% efficient-on cost + benefit basis, worst probable 15-20 year life span..not degradable,toxic material remain..>> \n",
      "TMZ update on the much anticipated new blockbuster. Be amazed, hold on to your seats, be ready for the sequel to 'Planet of the Humans' staring Elbow as Dr Zaius and introducing Adam Bandt in his first feature role as Cornelius. Do not miss Sarah Hanson-Young as the mute Nova. Mark Matthews in the role of George Taylor. Follow the plight of humanity in 'Planet of the Apes'. Winner of the heralded Green development award, coming to an ABC near you. Here is a short preview.  https://www.youtube.com/watch?v=wJADFCAlUGg\n",
      "Solar energy farms are not economically viable. See Michael Moores doco - the Planet of the Humans. Tax funded subsidies is absolute stupidity.\n",
      "Zero value to the gridhttps://www.cfact.org/.../wind-and-solar-add-zero-value.../\n",
      "There is a sucker born every minute, Australia you are next - https://m.youtube.com/watch?v=Zk11vI-7czE&t=5291s \n",
      "stupid pancake dosnt she realize\n",
      "Always follow the money....the truth behind it all:\n",
      "Damian Kelly\n",
      "Just go nuclear\n",
      "CCP\n",
      "Good. \n",
      "What a joke, what a waste of money, what a mess!\n",
      "https://youtu.be/Zk11vI-7czE\n",
      "https://youtu.be/Zk11vI-7czE\n",
      "You Lunatics!\n",
      "Such a waste\n",
      "Don't like her or the Gov but a good move\n",
      " .OH NO! \n",
      "Planet of the Humans\n",
      "Could see that comming\n"
     ]
    },
    {
     "name": "stdin",
     "output_type": "stream",
     "text": [
      "Press Enter after closing the comments for the post... \n"
     ]
    },
    {
     "name": "stdout",
     "output_type": "stream",
     "text": [
      "Post 4: Qld taxpayers set ‘to prop up’ new solar energy farm | Sky News AustraliaJust as major private companies are fleeing from investing in renewable energy the Queensland Palaszczuk government has decided now is the time to use taxpayers’ money in “propping up the solar energy sector,” Sky News host Chris Kenny says. “The renewable energy sector has been having a tou...\n"
     ]
    },
    {
     "name": "stdin",
     "output_type": "stream",
     "text": [
      "Press Enter after opening the comments for the post... \n"
     ]
    },
    {
     "name": "stdout",
     "output_type": "stream",
     "text": [
      "Comments collected. You can now close the comments section.\n",
      "Comments:\n",
      "They are not really seeing the effect that our sustainable renewable energy is doing to the country. We should be going back to our energy source that has proven itself. How much of our country is being affected from the waste that these installations created. Start watching the true stories about what the rest of the world is coping with by these so called clean energy. The waste that they creating in as bad as the uranium as it can not be reused and does not breakdown and they are burrying it for generations to find.\n",
      "Good old Premier Trad buying the green voters her inner city electorate is full of.\n",
      "These solar panels will not return the energy it took to mine, build and install them. FFS just burn the coal instead and get 24/7 reliable power.\n",
      "What a waste of tax payers money\n",
      "Stupidity........doing the same thing over and over and expecting different results.\n",
      "Be amazed, hold on to your seats, be ready for the sequel to 'Planet of the Humans' staring Elbow as Dr Zaius and introducing Adam Bandt in his first feature role as Cornelius. Mark Matthews in the role of George Taylor. Follow the plight of humanity in 'Planet of the Apes'. Winner of the Green development award, coming to an ABC near you. Here is a short preview. https://www.youtube.com/watch?v=XvuM3DjvYf0\n",
      "Planet of the Humans was what I already knew but the other documentary “The Great Global Warming Swindle”..was next level and much more eye opening. It gives you the whole background of how this hoax started and continues today. A must watch. On YouTube.\n",
      "Another carbon tax...everything, without exception, that you pay for has an electricity cost component...Your car insurance, school fees, groceries, petrol, rates... and green soar and wind has added at least 30% to your power bills and added costs to everything ..without exception.This is a carbon TAX...FACT.Making you poorer for no measurable benefit...Palasssotasick is a left green socialist economic incompetent under union control.\n",
      "Flogging a dead horse here .The renewable experimentation has failed miserably at astronomical cost to taxpayers.Put a stop to this madness.\n",
      "The data showed late last year, even as presented in right wing media, that most companies are not fleeing at all. This is yet another example of the dishonesty and that the right doesn't know what the left is talking about in the right wing media. Billions of dollars of projects in the pipeline and underway. Hardy fleeing. There's room for all power generation types at the moment, as I always say. Clearly the energy companies see that too. Oh yeah and how about mentioning the tax subsidies and breaks for the newly released area of land for coal and gas exploration in QLD? Too much to admit that? (Now watch the brainwashed in denial have their usual brainfart because they can't disprove that the tender went out yesterday.)\n",
      "Bunch of fools, stick with proven 24/7 coal or go nuclear, bloody eyesore propellers polluting a beautiful countryside and solar when the sun wants to play.Again, bloody bunch of hopeless fools!!\n",
      "How can we afford this?  We are broke. Even real estate Jackie Trad says so.  The only spending going on at the moment is from the Feds.  Is this delivering on some deal with Greens? https://www.theaustralian.com.au/.../d8b36b321cd28d121745...\n",
      "How much coal is used to make the solar panels?\n",
      "C'mon Sky News enough with the lies.  Investment is pausing because of poor infrastructure and and even poorer LNP government.\n",
      "Useless fools. Not their money of course and they will be gone soon, just leaving the wreckage!\n",
      "Qld Govoner General earn your pay and stand her down, please stop this wasteful female dog from pushing Queensland deeper in debt\n",
      "That's what they do. Waste other peoples money. Solar, olympics, public service bonus etc etc\n",
      "If solar was any good it would not need support.  Waste of MONEY.\n",
      "Fraction of the percentage of fossil fuel subsidies.\n",
      "How disgraceful. Corrupt QLD Labor party\n",
      "Lord bless you qldrs. Do yourselves a favour, list qld labor dead set last at your next state election or not at all \n",
      "Same in WA where McGowan is building a huge wind farm and solar farm in the Pilbara at a huge cost. But then again he is labor so it was expectedhttps://www.smh.com.au/.../wa-watchdog-green-lights-world...\n",
      "Yes solar viability and use have peaked and even over produce at the wrong times of the day all at once.As for wind..The wind energy cannot be  booked in advance planning because the wind might not blow those days.Ok.Australian Energy commission released these concerns..Not me..\n",
      "After all solar panels are so clean and last forever and there made with fairy dust and they dont take up any space and there made with abundant materials and there providing another revenue stream for the rich.\n",
      "hahahaha....the sham is being exposed for what what it is...and now,as usual the taxpayer will be footing the bill for this \"Scam\"...\n",
      "Funny, I thought I read recently on these pages that there was more investment in renewables - obviously wasn't a News Corp page\n",
      "Labor & Liberal it seems will always keep the people poor to control them.\n",
      "Forget it. If they are made in Qld from our materials, that's ok.\n",
      "why they fall apart in 5 years\n",
      "Who said they are fleeing?\n",
      "Follow the money ,cut the money and see what happens.\n",
      "If it's a good business proposition why can't the banks lend them the money?\n",
      "Might be a good time to pay back the debt.\n",
      "Which politicians have investments in this joke?\n",
      "Sky​news​ backs globalisation​ over​ Australia​n​ renewable  energy.​ They​ want​ Australia​ns​ ​to​second​ place​ is​ that​ the​ truth\n",
      "Not surprising when you look at the dills in charge.\n",
      "Clearly Jackie trad accidental premier havent seen Planet of the Human's yet \n",
      "She​ just​ opened​ ​7000 sqr  klm exploration  you​  dont​ mention​ in​the​ ​scales department\n",
      "Is the French company “Vinci”?\n",
      "The https://l.facebook.com/l.php... truth behind it all produced by a passionate environmentalist:\n",
      "Water storage? Dhead?\n",
      "Obviously Palachook and her cronies haven’t watched planet of the humans \n",
      "Get ready. Qld ders love this\n",
      "October,election can't come quick enough.\n",
      "Won't matter with no business\n",
      "Solar panels can't be recycled\n",
      "Solar farm - what junk \n",
      "Keep​ coming​ second​ our​ media​ sugestion​ is​ to​ you​ all\n",
      "Off their heads \n",
      "More coal power stations needed.\n",
      "The amount of dumb right wingers that miss the whole point of Planet of Humans is incredible.\n",
      "Are people that dumb? Solar panels are made from coal and quartz . Also bio mass is made from trees so they are litrally killing the planet.https://youtu.be/Zk11vI-7czE\n",
      "at best they are 15% efficient-on cost + benefit basis, worst probable 15-20 year life span..not degradable,toxic material remain..>> \n",
      "TMZ update on the much anticipated new blockbuster. Be amazed, hold on to your seats, be ready for the sequel to 'Planet of the Humans' staring Elbow as Dr Zaius and introducing Adam Bandt in his first feature role as Cornelius. Do not miss Sarah Hanson-Young as the mute Nova. Mark Matthews in the role of George Taylor. Follow the plight of humanity in 'Planet of the Apes'. Winner of the heralded Green development award, coming to an ABC near you. Here is a short preview.  https://www.youtube.com/watch?v=wJADFCAlUGg\n",
      "Solar energy farms are not economically viable. See Michael Moores doco - the Planet of the Humans. Tax funded subsidies is absolute stupidity.\n",
      "Zero value to the gridhttps://www.cfact.org/.../wind-and-solar-add-zero-value.../\n",
      "There is a sucker born every minute, Australia you are next - https://m.youtube.com/watch?v=Zk11vI-7czE&t=5291s \n",
      "stupid pancake dosnt she realize\n",
      "Always follow the money....the truth behind it all:\n",
      "Damian Kelly\n",
      "Just go nuclear\n",
      "CCP\n",
      "Good. \n",
      "What a joke, what a waste of money, what a mess!\n",
      "https://youtu.be/Zk11vI-7czE\n",
      "https://youtu.be/Zk11vI-7czE\n",
      "You Lunatics!\n",
      "Such a waste\n",
      "Don't like her or the Gov but a good move\n",
      " .OH NO! \n",
      "Planet of the Humans\n",
      "Could see that comming\n"
     ]
    },
    {
     "name": "stdin",
     "output_type": "stream",
     "text": [
      "Press Enter after closing the comments for the post... \n"
     ]
    },
    {
     "name": "stdout",
     "output_type": "stream",
     "text": [
      "Post 5: For years, the Government has subsidised rooftop solar and, more recently, wall batteries. This isn't so you can have cheap power, it's so they can have YOUR cheap power.Half of Australia's solar energy is generated from rooftop systems. During the morning and evening peak hours, when the sun isn't shining and wind energy reduces by 90%, the government will take the charge from your wall battery and EV to keep the grid going.This is called \"grid connectivity\".  Under net … See more\n"
     ]
    },
    {
     "name": "stdin",
     "output_type": "stream",
     "text": [
      "Press Enter after opening the comments for the post... \n"
     ]
    },
    {
     "name": "stdout",
     "output_type": "stream",
     "text": [
      "Comments collected. You can now close the comments section.\n",
      "Comments:\n",
      "I want to get solar on my place, but I don't want the electricity companies buying my generated power for peanuts and selling it back to me at night. Off grid is the only way thats fair, or they buy the power back at the same they sell it to me for. Its such a scam.\n",
      "Turn it all people, they’re using you!\n",
      "Rebuild all the coal plants as they're  already connected  to the grid ffs\n",
      "Correct\n"
     ]
    },
    {
     "name": "stdin",
     "output_type": "stream",
     "text": [
      "Press Enter after closing the comments for the post... \n"
     ]
    },
    {
     "name": "stdout",
     "output_type": "stream",
     "text": [
      "Post 6: For years, the Government has subsidised rooftop solar and, more recently, wall batteries. This isn't so you can have cheap power, it's so they can have YOUR cheap power. Half of Australia's solar energy is generated from rooftop systems. During the mornpUA3LeXix3s9hlhhZV66UVwOJWLlHO6E7JYbWrfl8f3\n"
     ]
    },
    {
     "name": "stdin",
     "output_type": "stream",
     "text": [
      "Press Enter after opening the comments for the post... \n"
     ]
    },
    {
     "name": "stdout",
     "output_type": "stream",
     "text": [
      "Comments collected. You can now close the comments section.\n",
      "Comments:\n",
      "I want to get solar on my place, but I don't want the electricity companies buying my generated power for peanuts and selling it back to me at night. Off grid is the only way thats fair, or they buy the power back at the same they sell it to me for. Its such a scam.\n",
      "Turn it all people, they’re using you!\n",
      "Rebuild all the coal plants as they're  already connected  to the grid ffs\n",
      "Correct\n"
     ]
    },
    {
     "name": "stdin",
     "output_type": "stream",
     "text": [
      "Press Enter after closing the comments for the post... \n"
     ]
    },
    {
     "name": "stdout",
     "output_type": "stream",
     "text": [
      "Post 7: Just as Greece  is heavily invested in solar energy,  Australia  is too—1 in 4 homes  have solar panels, the highest uptake of solar photovoltaics globally.This is just the beginning of better things to come, with solar capacity expected to triple across Australian homes over the next decade.Find out more about how Australia is making positive  energy:https:… See more\n"
     ]
    },
    {
     "name": "stdin",
     "output_type": "stream",
     "text": [
      "Press Enter after opening the comments for the post... \n"
     ]
    },
    {
     "name": "stdout",
     "output_type": "stream",
     "text": [
      "Comments collected. You can now close the comments section.\n",
      "Comments:\n",
      "In Australia we have pleaded, begged, and protested.I think a world boycott of Australian exports - especially our coal and gas would help convince the Australian Government to stop mining fossil fuels, stop cutting down forests for woodchips and briquettes, and seriously set a zero carbon target.Thanks #boycottaustraliancoalandgas\n"
     ]
    },
    {
     "name": "stdin",
     "output_type": "stream",
     "text": [
      "Press Enter after closing the comments for the post... \n"
     ]
    },
    {
     "name": "stdout",
     "output_type": "stream",
     "text": [
      "Post 8: VihanJust as Greece  is heavily invested in solar energy,  Australia  is too—1 in 4 homes  have solar panels, the highest uptake of solar photovoltaics globally.\n",
      "\n",
      "This is just the beginning of better things to come, with solar capacity expected to triple across Australian homes over the next decade.\n",
      "\n",
      "Find out more about how Australia is making positive  energy:\n",
      "https://www.positiveenergy.gov.au/\n",
      "\n",
      "#Climate #ClimateAction #renewableenergy #environment #energy #renewables #solar #sustainability #energyefficiency #lowemissionstech\n"
     ]
    },
    {
     "name": "stdin",
     "output_type": "stream",
     "text": [
      "Press Enter after opening the comments for the post... \n"
     ]
    },
    {
     "name": "stdout",
     "output_type": "stream",
     "text": [
      "Comments collected. You can now close the comments section.\n",
      "Comments:\n",
      "In Australia we have pleaded, begged, and protested.I think a world boycott of Australian exports - especially our coal and gas would help convince the Australian Government to stop mining fossil fuels, stop cutting down forests for woodchips and briquettes, and seriously set a zero carbon target.Thanks #boycottaustraliancoalandgas\n"
     ]
    },
    {
     "name": "stdin",
     "output_type": "stream",
     "text": [
      "Press Enter after closing the comments for the post... \n"
     ]
    },
    {
     "name": "stdout",
     "output_type": "stream",
     "text": [
      "Post 9: Geologist Ian Plimer claims the energy shortage in Australia is a result of the government subsidising wind and solar energy.\n"
     ]
    },
    {
     "name": "stdin",
     "output_type": "stream",
     "text": [
      "Press Enter after opening the comments for the post... \n"
     ]
    },
    {
     "name": "stdout",
     "output_type": "stream",
     "text": [
      "Comments collected. You can now close the comments section.\n",
      "Comments:\n",
      "If its a lie , it's on Sky.\n",
      "And shutting down coal fired power plants with nothing to replace their output.\n",
      "One day the government will use leftist money to subsidize Nuclear Power....that'll be good to see.\n",
      "And the scandal in UK is out of control...Green Energy indeed...the only thing green is the \n",
      "Have these renewable companies been given permission from Aboriginal Land Councils to have these solar & wind farms across 50% plus, of Australia’s land mass they have been gifted?Just asking.\n",
      "Waiting for the climate alarmists. 1.2.3. And go\n",
      "Australian fossil fuel subsidies in 2022/23 were 14.5 Billion .Subsidies for renewable energy over this  period were 2.7 Billion. Renewables currently account for 39.4 % of Australia's total power supply.  Ian Plimer is currently on the board of 2 Gina Rinehart companies.\n",
      "Scraping the bottom of the barrel if Ian's back.\n",
      "Let get rid of the UN it’s Australia\n",
      "Criminals lining their pockets\n",
      "Why not using coals to generate electricity\n",
      "Really clutching at straws here Sky.\n",
      "Has the Governor General started wriggling in her seat yet ?  She has a job to do.\n",
      "Sounds familiar ...same saga playing out jn New Zealand\n",
      "Gillard and Labor are the problem.  https://www.spglobal.com/.../081612-australian-federal...\n",
      "In real news: Australian farmers are at their wits end with this green dream and are begging for help\n",
      "Ian Plimer is right.  If renewables were even half as good as Bowen says, they’d need no subsidies at all.\n",
      "Where are the good guys? Few and far between. Thank God for those who are. Bring on the changes!!!\n",
      "Everybody knows it but the government.\n",
      "“Solar and wind never provide the exact amount of electricity that is needed. Electricity requires exactly matching supply and demand, and solar and wind on their own exactly match supply with demand 0% of the time.”https://energytalkingpoints.com/25-holiday-power-facts.../\n",
      "Where's Julian Maxton-Graham \n",
      "99% of the Worlds leading Scientists agree we are in climate change emergency,we can't eat coal and we can't drink gas\n",
      "Could have something to do with why energy prices  keep going skyhigh, Albanese is out to wreck the country with his Socialist ideology\n",
      "Labor Voting Greens destroying our energy needs\n",
      "That must have taken some figuring out.\n",
      "You talk logic to these politicians until you blue in face and walk away frustrated. Only if it suits them , they listen to the people they are supposed to serve.\n",
      "Ditto here in New Zealand.  Get a new Government. Hopefully our is on to it\n",
      "Is that Victorian minister Steve Dimopoulos MP?\n",
      "So he believes it has nothing to do the simple fact that the increasing population and use of technology is putting a massive strain on our power grid.  While I do not support or believe that problems will be solved with+ all these wind/solar farms, especially those being located on viable farming land at least it is something.  Personally I would much rather see our government putting a lot of money into researching other possible energy resources because while we still may have 100s (maybe even 1000s) of years left of fossil fuels they are not infinite.\n",
      "could you make the blades out of solar panels \n",
      "Good ol Polution Plimer. Im surprised that The Australian are still using him after they were called out by the Australian Press Council for spreading his BS previously.\n",
      "Thanks Ian Plimer - your reports are most enlightening.  Here’s another climate change theory the “scientists” might have missed - may as well throw it in with all the rest:All those new Colourbond roofs in all our new developments are reflecting heat up into the atmosphere, causing excessive roof-heat conditions.  (We could call this condition “roofies”.)  I think we’d better go back to thatched roofs. \n",
      "If the MONEY the government’s used to SUBSIDISE renewables was allocated to housing we would not have a housing/ rental crisis\n",
      "Australia's maritime defence system, wind turbines at sea, pick your way through them would be invaders \n",
      "Chairman of Yeeda Oil Limited is against renewables. Shocking....\n",
      "Any energy shortage /Gas short fall IS DUE to excessive exporting of Australian Gas surely and OLD liberal Geologist Ian Plimer should know that .\n",
      "Prayers for his family and friends! So heartbreaking lmy.de/YTunO\n",
      "https://www.logitrain.com.au/guaranteed-it-job-programs.html\n",
      "\"IAN PALMER\" At least we the Australian citizen's have one person in our country that is telling us all the TRUTH!!  THEY HAVE DELIBERATELY DESTROYED OUR COUNTRY AND ECONOMY FOR THEIR OWN GLOBALIST'S AGENDA'S!! WE HAVE GONE FORM HAVING ONE OF THE LOWEST ELECTRICITY PRICES IN THE WORLD TO THE DEAREST IN LESS THAN THREE YEARS GLOBAL BOILING IS A \"SCAM\" THAT'S GOING TO ENSURE HIGHER PRICES WILL BE IN PLACE FOREVER!!   AND SO WILL THEIR SUBICIDES SUPPORT SCAMS!!   EVERYTHING WILL HAVE TO BE REPLACED DOWN THE TRACK AT DUBBLE THE PRICE IN 15 TO 20 YEARS TIME!!   THEY HAVE DESTROYED OUR COUNTRY IN LESS THAN THREE YEARS THE BUNCH OF CORRUPT MUNGREL'S!!\n",
      "We need a gas reservation policy yesterday (oh and common sense government not these clowns)\n",
      "Aside from this menacing act of deflection from clueless Albo... Do you know this draconian Labor, Greens and Teals Government are planning to take 30% of the peoples land?This Albo mob have agreed to the UN's 30x30 agreement which takes away land from the people to have 30% of emissions. He signed this in September 2023 with the Greens. What an absolute load of crap! Taking away Australians rights to the forests! ie this disgraceful government have been flying under the radar to change existing State Forests to National Parks, which ultimately means ceasing access to the land! In Canberra Tanya Plibersek and Steve Dimopoulos MP in Victoria are selling out the people? Other states have already fallen victim to this governments reign of abusive power. Literally selling Australians out! This despicable Government has set a national target to protect and conserve 30% of Australia's landmass and 30% of Australia's marine areas by 2030 (the '30 by 30' target) with the UN. This aligns with Target 3 of the Kunming-Montreal Global Biodiversity Framework (GBF). Australian state forests belong to the people! Victorians State Forests belong to the people! Australians everywhere unite and DO NOT want National Parks \n",
      "John Hibbard\n"
     ]
    },
    {
     "name": "stdin",
     "output_type": "stream",
     "text": [
      "Press Enter after closing the comments for the post... \n"
     ]
    },
    {
     "name": "stdout",
     "output_type": "stream",
     "text": [
      "Post 10: #ShapeOurFuture and protect the planet we call home! #earthhour Draw renewable energy from the  to power your home. Consider installing solar panels on your home to help combat greenhouse gas emissions!Our intelligent, integrated Solar Energy solution provides continuous backup power to your home in event of a emergency or blackout. Clean energy day and night. Safe, reliable energy storage solutions made in Australia.… See more\n"
     ]
    },
    {
     "name": "stdin",
     "output_type": "stream",
     "text": [
      "Press Enter after opening the comments for the post... \n"
     ]
    },
    {
     "name": "stdout",
     "output_type": "stream",
     "text": [
      "Comments collected. You can now close the comments section.\n",
      "No comments found for this post.\n"
     ]
    },
    {
     "name": "stdin",
     "output_type": "stream",
     "text": [
      "Press Enter after closing the comments for the post... \n"
     ]
    },
    {
     "name": "stdout",
     "output_type": "stream",
     "text": [
      "Post 11: South Australia, already leading Australia in renewable energy could reach 87% wind and solar energy in 4 years! Who wants to see their state follow? More\n"
     ]
    },
    {
     "name": "stdin",
     "output_type": "stream",
     "text": [
      "Press Enter after opening the comments for the post... \n"
     ]
    },
    {
     "name": "stdout",
     "output_type": "stream",
     "text": [
      "Comments collected. You can now close the comments section.\n",
      "Comments:\n",
      "Funny how half the comments are boomer trolls. Accept that the new generations aren’t going to carry on the status quo. We’re not taking the planet for granted anymore. \n",
      "Don't forget the imminent little ice age that will thwart the renewables industry as climate change cycles continue to expose us to frail technology\n",
      "Well what about us up here in Queensland we are opening new coal mines all the time. And we are pushing to open old coal mines to produce more coal. And ship it all over to China and India in massive ships which will sail over The Great Barrier Reef.How smart are we. Thank to Palaszczuk. \n",
      "Great.. Working well in Northern Europe. Time to move from coal permanently.\n",
      "Batteries Tesslar will store excess power. good planning\n",
      "Not as effective as coal we should build a nuclear energy plant\n",
      "What happens when there is no wind ? \n",
      "WHEN THERES NO WIND OR SUN HOPE U HAVE A BACK UP COAL POWER VERY RELIABLE MOST OF THE TIME\n",
      "Need trees no wind and solar farms\n",
      "They already had blackouts what next candle power. Sound good to greenies. \n",
      "Coal is so romantic. A coal fire on a winters night, a steam locomotive, steam engines pulling wagons yes those were the days. \n",
      "Solar beats them all, just look at our sunshine,it' a win win alround\n",
      "Quite interesting just how much Diesel is  used by wind farms. First, making the components.  Then delivering them to site. Then in day to day running and replacements.  Not really clean power st all.\n",
      "Dear Australian, i am from Poland. My country helped your when you where fighting with fires. We Pay you donations. Nie we have problem. One of the biggets National po ark in Poland names National Park of Biebrza fighting with furę. There are many Animals and birds. I beg you help uS too!  https://www.siepomaga.pl/biebrza?ts=adw-biebrza...\n",
      "Horrible visual pollution.\n",
      "I'd rather have wave power, Carnegie Clean Energy.\n",
      "Does South Australia own these ?\n",
      "I like a trial of hydrogen storage  using solar to split  water whist to desalinate/boor/murray river  and harvest hydrogen to use at night or as a strategic supply  releasing oxygen similar to what they do  on  the Orkney of the coast of Scotland still  well done SA \n",
      "Who is going to clean up when wind turbines start leaking oil\n",
      "we are killing millions of birds with those things.  The key to energy efficiency is to retrofit insulation to the OUTSIDE of buildings. Has to be nice looking and weatherproof. \n",
      "Could not stand the unholy noise\n",
      "Yes I just googled it and they also have the highest electricity costs in the world. \n",
      "What about disposal problems associated with renewables. \n",
      "Brilliant! No more coal mining please!\n",
      "About time Australia started this stuff.\n",
      "87%. I question that. So how do we get 87% when the sun shines say 12 hours of the day and the wind some times runs out of puff?\n",
      "87 what per cent?  87 winds per each cent?  Wow that's a lot of wind for a penny!\n",
      "Price going down any time soon??\n",
      "Did they run out of power not long ago??\n",
      "no to expensive need coal fired power stations\n"
     ]
    },
    {
     "name": "stdin",
     "output_type": "stream",
     "text": [
      "Press Enter after closing the comments for the post... \n"
     ]
    },
    {
     "name": "stdout",
     "output_type": "stream",
     "text": [
      "Post 12: Geelong Solar Energy is in Geelong.  · Shared with Public\n"
     ]
    },
    {
     "name": "stdin",
     "output_type": "stream",
     "text": [
      "Press Enter after opening the comments for the post... \n"
     ]
    },
    {
     "name": "stdout",
     "output_type": "stream",
     "text": [
      "Comments collected. You can now close the comments section.\n",
      "No comments found for this post.\n"
     ]
    },
    {
     "name": "stdin",
     "output_type": "stream",
     "text": [
      "Press Enter after closing the comments for the post... \n"
     ]
    },
    {
     "name": "stdout",
     "output_type": "stream",
     "text": [
      "Post 13: 𝑰𝒕 𝒂𝒍𝒍 𝒔𝒕𝒂𝒓𝒕𝒔 𝒘𝒊𝒕𝒉 𝒂𝒏 𝒆𝒗𝒂𝒍𝒖𝒂𝒕𝒊𝒐𝒏If you choose to install solar panels with Geelong Solar Energy, our commitment to you starts from our initial consultation and continues throughout the install process. This includes the inspection certification phase and all the way until the paperwork has been lodged with Powercor and the job has been fully connected to the grid. Our panels come with a 25-year power warranty and our inverters have a standard 10 or 12 year manufacturers war… See more\n"
     ]
    },
    {
     "name": "stdin",
     "output_type": "stream",
     "text": [
      "Press Enter after opening the comments for the post... \n"
     ]
    },
    {
     "name": "stdout",
     "output_type": "stream",
     "text": [
      "Comments collected. You can now close the comments section.\n",
      "No comments found for this post.\n"
     ]
    },
    {
     "name": "stdin",
     "output_type": "stream",
     "text": [
      "Press Enter after closing the comments for the post... \\\n"
     ]
    },
    {
     "name": "stdout",
     "output_type": "stream",
     "text": [
      "Post 14: Vihan𝑰𝒕 𝒂𝒍𝒍 𝒔𝒕𝒂𝒓𝒕𝒔 𝒘𝒊𝒕𝒉 𝒂𝒏 𝒆𝒗𝒂𝒍𝒖𝒂𝒕𝒊𝒐𝒏\n",
      "\n",
      "If you choose to install solar panels with Geelong Solar Energy, our commitment to you starts from our initial consultation and continues throughout the install process. This includes the inspection certification phase and all the way until the paperwork has been lodged with Powercor and the job has been fully connected to the grid. Our panels come with a 25-year power warranty and our inverters have a standard 10 or 12 year manufacturers warranty. We only use companies that we have built a strong working relationship with and that have a proven track record of supplying quality solar energy products in Australia. This will ensure our customers are buying a quality product with an Australian based warranty with an Australian based company headquarters. At Geelong Solar Energy we believe that personal accountability creates quality customer service, and building strong relationships with our customers is the only way we grow.\n"
     ]
    },
    {
     "name": "stdin",
     "output_type": "stream",
     "text": [
      "Press Enter after opening the comments for the post... \n"
     ]
    },
    {
     "name": "stdout",
     "output_type": "stream",
     "text": [
      "Comments collected. You can now close the comments section.\n",
      "No comments found for this post.\n"
     ]
    },
    {
     "name": "stdin",
     "output_type": "stream",
     "text": [
      "Press Enter after closing the comments for the post... \n"
     ]
    },
    {
     "name": "stdout",
     "output_type": "stream",
     "text": [
      "Post 15: There are growing fears Australia's solar energy grid could be threatened by foreign interference. New research shows Chinese companies represent 58% of investors in solar grids.7NEWS at 6pm. More local news: 7news.com.au/news/qld… See more\n"
     ]
    },
    {
     "name": "stdin",
     "output_type": "stream",
     "text": [
      "Press Enter after opening the comments for the post... \n"
     ]
    },
    {
     "name": "stdout",
     "output_type": "stream",
     "text": [
      "Comments collected. You can now close the comments section.\n",
      "Comments:\n",
      "Seth Allanson\n",
      "Yes typically government tactics.\n",
      "The great eco-scam https://stopthesethings.com/.../200-million-tonnes-of.../\n",
      "This is so funny. What is the point in interfering  with household power ? Are they going to turn the solar off?\n"
     ]
    },
    {
     "name": "stdin",
     "output_type": "stream",
     "text": [
      "Press Enter after closing the comments for the post... \n"
     ]
    },
    {
     "name": "stdout",
     "output_type": "stream",
     "text": [
      "Post 16: Growing fears Australia's solar energy grid could be threatened by foreign interference9D1JPQQDX9epXwioPGMuwBf27qrQseTIRjmh14fTw\n"
     ]
    },
    {
     "name": "stdin",
     "output_type": "stream",
     "text": [
      "Press Enter after opening the comments for the post... \n"
     ]
    },
    {
     "name": "stdout",
     "output_type": "stream",
     "text": [
      "Comments collected. You can now close the comments section.\n",
      "Comments:\n",
      "Yes typically government tactics.\n"
     ]
    },
    {
     "name": "stdin",
     "output_type": "stream",
     "text": [
      "Press Enter after closing the comments for the post... \n"
     ]
    },
    {
     "name": "stdout",
     "output_type": "stream",
     "text": [
      "Post 17: Shadow Home Affairs Minister James Paterson has called for the Labor government to do more after concerns rise over the potential for China to disrupt Australia’s solar energy supply.Watch the full episode at www.skynews.com.au/flash\n"
     ]
    },
    {
     "name": "stdin",
     "output_type": "stream",
     "text": [
      "Press Enter after opening the comments for the post... \n"
     ]
    },
    {
     "name": "stdout",
     "output_type": "stream",
     "text": [
      "Comments collected. You can now close the comments section.\n",
      "Comments:\n",
      "If you're smart you'll go off grid and get a generator for back-up. This government is going to stuff Australia's energy supply so badly it will take years to recover.\n",
      "What do you expect from a communist party.\n",
      "Sleepy Albo is clueless even on the voice .Vote NO\n",
      "Well do you really think red labor care.?\n",
      "Here is some good advice always keep your coal power running even if its at low capacity in case of an emergency.\n",
      "This is the result of idiot politicians leaping without looking because they wanted to appease the climate scammers. They have been blowing smoke about the climate for as long as I can remember and yet I’ve yet to see any of their predictions come close let alone happen.\n",
      "We’re is an assassin when I need one\n",
      "Buying strategically important goods from the CCP is totally stupid!\n",
      "What else is new labor has sold us out to china\n",
      "CHYNA CHYNA CHYNA CHYNA!!!!!!!!@@! FFS\n",
      "As far back as l can remember the saying was “ cheap and nasty if its made in china”  products didn’t last long. They improved a little bit but Aussie made lasted longer. Time we started going back to Aussie made.\n",
      "Don't bother looking up who we sold our energy companies to \n",
      "Build more nuclear plants or coal fired plants.\n",
      "He has to concentrate on the voice nothing else matters he is looking after his job\n",
      "Ahhh Labor the best politicians money can buy \n",
      "OMG I am so shocked  I mean no one would see that coming.\n",
      "2 joke's hereSolar panelsWe make it in Australia Greens clown  send jobs to Asia\n",
      "Thank GOD our inverter  is Italian built.\n",
      "China trying to take over the world. Think Nazi Germany 1930s\n",
      "Go green , go red.\n",
      "Buy a generator. It's only a matter of time until you need to use it.\n",
      "More sanctions more sanctions more sanctions please.. Pretty please.  Oooo...  Got kicked in the nuts... No more gallium no more germanium no more that special metal for making chips.. Nice... Very nice.. Wonder why they are complaining..\n",
      "And solar panels\n",
      "Why did the LNP when in government,as a majority,vote to keep details of the relationship with China secret?\n",
      "But they bring in there electric cars and expect everyone to buy them. So are they going to expect everyone with Chinese built inverters to replace them. Just an excuse for when their new power grids don’t hold up. Just my opinion\n",
      "Surely there's shack that owners can use to delete the CCP capability?\n",
      "What he’s saying is just like the labor party but they do everything for them selves and don’t care about their people or country or the reputation of Australia.\n",
      "And it’s a big surprise?, not\n",
      "Again Paterson highlights and calls for the alp to do what the LNP was to weak to do.\n",
      "Talk sense? Overrated!\n",
      "Use an inverter that is stand alone not web connected\n",
      "Surely there's a Hack that can eliminate the CCP connection?\n",
      "Oh !!!Really ???I would never have guessed.\n",
      "So  basically china has set up protental fail safe measures to disable a country like Australia's hole  power grid, which would in turn disable all ground based communications effectly shutting down our ability to organize an effective counter offensive actions. Meaning Australia would be completely defenceless might as well just hand them the keys FFS\n",
      "They won’t know what to do ! Best send penny over for another heart to heart \n",
      "Albos mate\n",
      "Ripper elbow an black out saw this comming\n",
      "Who would have thought \n",
      "Huawei????!!!!!! Geez.They’ll know when I have dinner…. And how much power I use…… they are experts at disrupting things…… I would say.The things should be replaced … by government…. I guess.\n",
      "I bless the day I invested in your platform because since then I have achieved greatness.https://www.facebook.com/Tradewithraymondmillard\n",
      "I won’t be sharing the good news of how I got paid if I didn’t see other testimony about him put an end to your financial stress todayhttps://www.facebook.com/Tradewithraymondmillard\n",
      "Words alone won’t express how thankful I am to you and to your platform. It has been a good opportunity for me and my family thank you.https://www.facebook.com/Tradewithraymondmillard\n",
      "solar panels made by the wigurs in concentration camps but let's keep that bit hush hush\n",
      "Go Nuke and coal.\n",
      "EVERYONE JUST VOTE   ((((NO)))) TO THAT VOICE SO EVERYONE IN AUSTRALIAN CAN WATCH ANTHONY MIGRANT ALBANESE HAVE A NERVOUS BREAKDOWN      IT ONLY TAKES ONE MINUTE WHEN YOU GO TO VOTE ((((NO)))) TO THAT VOICE  AND WHEN EVERYONE GET BACK HOME TO WATCH THE 6 CLOCK NEWS WHEREVER YOU MAYBE, AROUND THE COUNTRY AUSTRALIA TO SEE THE RESULT OF THE tiny little (yes) voice FROM THOSE IDIOT'S LABOR PARTY  MOVEMENT, BECAUSE THAT'S WHEN ANTHONY MIGRANT ALBANESE GOING TO START HAVING HIS NERVOUS BREAKDOWN LIVE ON YOUR TV  DON'T MISS OUT IT'S GOING TO BE HILARIOUS              EVERYONE DON'T FORGET JUST VOTE ((((NO)))) TO SEE ANTHONY MIGRANT ALBANESE HAVING A NERVOUS BREAKDOWN  BROADCASTING LIVE ON ALL AUSTRALIAN NATIONAL TV STATION AND BROADCAST RIGHT AROUND THE WORLD                 \n",
      "Paterson is an IPA nutjob.\n",
      "You no it’s a lie when they labor government say we are working to make sure.what a load of rubbish they don’t do nothing right when it comes to China.\n",
      "Look at the size of these farm. Can not ne good for the land not getting sunlight anymore. Then the wind farms chopping down all the trees. Yep gr8 idea. Let's go nuclear NOW.\n",
      "Is it just me or are the politicians getting more dumb by the day \n",
      "Our PM if we have one cos the PM and cowards politicians are taking orders from those who run the show . Remember PM you are the minority and we are in millions . Stop your evil narrative and start acting like a PM that your job or else go with your mates that all of you are working for to try to over thrown all of us under dictator . We are already feeling the stress and anger cos of you Mr PM and go all the politicians that they are not with the Australian people but against cos they already have millions in their bank account in Switzerland bloody cowards . Shame on you mr PM you know that you are doing it’s not what most the Australian want at all . Stop giving millions from the tax payers money and keep on doing what the West and NATO they are most pedophilia . Shame for all those who are working against their own people in parliament cos to keep pumping millions from the everyday workers tax money .\n",
      "Paranoid\n",
      "And what did the LAZY LIBERALS DO about the matter over 9 years? ZERO!! The NERVE of these IDIOT LIBERALS to try and make demands.\n",
      "Labor will stuff it up themselves, just like they have with coal fired energy supply.\n",
      "Quite simple really. We need common sense people NOT weak career politicians. They well know the dangers but it's their careers before their nation that , come first.....they should be held to their oath of office for their nation destroying decisions. Australia has been down this path before, of putting all their eggs in One basket & coincidentally , Not, in the Same Basket.....a Joke for a Govt ??\n",
      "Thank you Australia  for given us your land , mostly appreciate \n",
      "Another failure from our governments\n",
      "and the surprise on this. is ZILCH.\n",
      "You gotta love the backflipping..Scomos governments record on foreign investment in our power infrastructure hit new highs, and now there's a big problem with solar panels being made in China..\n",
      "Looks good for the environment.not\n",
      "dopey Bowen what do you expect\n",
      "James Paterson has been drinking the IPA Kool Aid again.\n"
     ]
    },
    {
     "name": "stdin",
     "output_type": "stream",
     "text": [
      "Press Enter after closing the comments for the post... \n"
     ]
    },
    {
     "name": "stdout",
     "output_type": "stream",
     "text": [
      "Post 18: #DYK South Australia has become the first major jurisdiction in the word to be powered entirely by solar energy? A global milestone, Australia continues to lead in renewable energy.\n"
     ]
    },
    {
     "name": "stdin",
     "output_type": "stream",
     "text": [
      "Press Enter after opening the comments for the post... \n"
     ]
    },
    {
     "name": "stdout",
     "output_type": "stream",
     "text": [
      "Comments collected. You can now close the comments section.\n",
      "Comments:\n",
      "Wow. A whole bloody hour. Congratulations cave dwellers\n",
      "Rahim okay one good reason to in SA over VIC \n",
      "Hey!!!!! lol\n",
      "Woah \n"
     ]
    },
    {
     "name": "stdin",
     "output_type": "stream",
     "text": [
      "Press Enter after closing the comments for the post... \n"
     ]
    },
    {
     "name": "stdout",
     "output_type": "stream",
     "text": [
      "Post 19: There's a looming waste crisis from Australia's solar energy boomAustralia urgently needs to prepare for a coming tsunami of solar panel and battery waste.\n"
     ]
    },
    {
     "name": "stdin",
     "output_type": "stream",
     "text": [
      "Press Enter after opening the comments for the post... \n"
     ]
    },
    {
     "name": "stdout",
     "output_type": "stream",
     "text": [
      "Comments collected. You can now close the comments section.\n",
      "Comments:\n",
      "The materials used in solar panels include silicon, copper, tin, aluminum and glass which are 85% to 95% reclaimed and recycled.\n",
      "We faced a similar issue in the early 80’s with the increasing world wide popularity of motor vehicles and the treatment and disposal of lead acid batteries.\n",
      "How about addressing the 50,000 unrehabilitated mines across Australia that the Mining Industry have just been allowed to walk away from, destroying our agricultural land!\n",
      "There is no technical barrier to fully recycling all components of solar cells and batteries. The same with virtually any manufacturered product. It's just a matter of will, and enforceable legislative actions to make it happen. There are costs, but these are offset by the savings in less need for new mining as materials are recycled as well as the obvious health and aesthetic reasons of eliminating waste.\n",
      "So panels are recyclable, but let’s just say they weren’t, for arguments sake. the average Aussie person creates 1.5 tonnes of landfill per year (source- Greenpeace) and solar panels have a 15 year lifespan (approx). A family of 4 would create 90 tonnes of landfill in 15 years, so chucking 300kg of panels into the bin after 15 years is insignificant. Not that you need to, they’re recyclable. Nice work giving the solar naysayers a nice misinformed one line retort to their anti solar reasoning \n",
      "Congratulations to Griffith University for highlighting a question I've been asking for a few years now - what happens to all the solar panels and batteries at their end-of-life? It's time to start looking at other forms of energy generation - in earnest - it is unrealistic to continue using solar panels that gouge the earth of rare minerals that end up sitting on peoples' rooftops.  We have to find a sustainable solution.In the meantime, the waste generated from the current solar cells must be managed and recycled efficiently and affordably.  We need guiding legislation and bi-partisan government commitment.\n",
      "No hurry. The world's been using nuclear for fifty years and we've no proper way to get rid of its waste. At least with solar the materials are recyclable.\n",
      "Always thought solar energy could be implemented using the same model as mobile phones - monthly contract including maintenance and up grades. This way waste could be best on sold to recycling.\n",
      "Nuclear concerns me as the waste is so toxic and we have  to find a suitable facility to store it.  Fukidhima was a modern, 100% safe power station.  There is no point saying it was in the wrong place, as the disaster  has already occurred.   Chernobyl  was a safe reactor, but it failed.  Five mile island? In the US, another safe one.  We also have to ask how much uranium  is left.\n",
      "Yes, we do need to get a lot better at recycling in general. The market has failed us, so it's up to government. Do we have a government that's up to the challenges?\n",
      "Gee, but fossil fuel industry, plastics, coal..nothing to think about there?\n",
      "You have to look at this issue in perspective to dicommision a coal-fired power station is a big environmental problem. Solar panels and baterys are 90 % recyclable. Not even talking about decommissioning a nuclear plant cost billions.\n",
      "I hope the Product StewardshipAct looks at plastic production.  No new plastic should be produced at all!\n",
      "Not to mention the import trade deficit.\n",
      "The whole waste problem is driven by producers externalising end of life waste costs.There should be no new product bought to market without effective recovery and reuse/sustainable processing of the end of life product being built into the business model.#PollutionIsaBusinessDecision\n",
      "There’s an opportunity for an innovative Australian company!\n",
      "There is a guy on fakebook marketplace who picks up old panels for free! He recycles them \n",
      "Couldn't the unrecyclable parts just be crushed up and mixed with old tyres melted down (no naked flames) and made into a small rubber based pellet and then used on roads instead of bitumen ? Maybe not in hot areas but certainly down south !\n",
      "Australia has vast uninhabitable land that can be used as landfill. But come on, recycle and reuse finite resources.\n",
      "Governments solution, don't invest in science, send to another country lol\n",
      "You can store electricity in salt water batteries. There are some already on the market. You can recycle any type of battery.The resistance to renewables is amazing.Try this. Sun in, electricity out for vertually zero cost, electrolysis into hydrogen, stored, though a fuel cell back into electricity and water.\n",
      "While the STC incentive scheme is in place, the Clean energy council (CEC) need upgrade the equipment safety standards encompassing a reusing policy! CURRENTLY IT IS ECONOMICALLY BENEFICIAL TO REMOVE AND DISPOSE of a 5year old system and replace with a new larger system and claim additional STC credits than just install an additional system to boost capacity.\n",
      "And some of the cheaper ones last only 5 years\n",
      "An industry will develop recycling them !!\n",
      "Corey Story, Sonia Randhawa\n",
      "Juni Ross\n",
      "Lu\n",
      "True\n",
      "Recycle\n",
      "Damian Turnbull\n",
      "Andrew\n",
      "Millie Mavrodis\n",
      "Daki Maki\n",
      "A problem no one mentions.Catherine Jemma\n",
      "Angelique Parras!! X\n",
      "Recycle research =jobs\n"
     ]
    },
    {
     "name": "stdin",
     "output_type": "stream",
     "text": [
      "Press Enter after closing the comments for the post... \n"
     ]
    },
    {
     "name": "stdout",
     "output_type": "stream",
     "text": [
      "Post 20: Australia receives the highest relative amount of solar irradiance of any continent.Whoopty doo, but what does it all mean, Basil?Here's an animation on how solar energy works for your Friday night, because we're quirky like that.\n"
     ]
    },
    {
     "name": "stdin",
     "output_type": "stream",
     "text": [
      "Press Enter after opening the comments for the post... \n"
     ]
    },
    {
     "name": "stdout",
     "output_type": "stream",
     "text": [
      "Comments collected. You can now close the comments section.\n",
      "Comments:\n",
      "Do CSIRO actually advise the public on where to get these technologies? One of the main problems I have with trying to purchase is that the vendors approach is rarely via expertise in the technologies and usually expertise in sales techniques. And obviously they are not vendor neutral. I'd love a vendor neutral party (ie probably government funded) to be reviewing the market for consumer options. Its a big outlay in cash, the market is complex - eg what is reasonable re installation costs, state and federal rebates, technology options in capture and storage, manufacturer competence etc and hence purchasing confidence is low (imo). Is this kind of advice available anywhere?\n",
      "Molten salt thermal storage wasn't mentioned.\n",
      "Wow amazing Australia is the best continent and best country in the whole world amazing country Australia is the best country in the whole world amazing country\n",
      "CSIRO what's our position on storage and transfer? As you're aware a large percentage of power is lost in transfer, any innovation on that? Their has been interesting innovation on salt batteries are these also being investigated here, any news on our position on this?\n",
      "Not if 'One Nation' has their way  First there were 3 monkey's now it seems they've added a 4th who combines all the inherited traits of the other 3 \n",
      "Keep these super cool info updates as CSIRO is up there with the best in the business....\n",
      "Fact check: wouldn't China, with its one billion population, and its position as the world's largest producer of solar panels, what MORE panels on roofs than Straya?  Check it out!\n",
      "Where/when do we start!\n",
      "Jane Williamson physics homework for you\n",
      "A\n",
      "Tim Knight\n",
      "Tina Newling\n"
     ]
    },
    {
     "name": "stdin",
     "output_type": "stream",
     "text": [
      "Press Enter after closing the comments for the post... \n"
     ]
    },
    {
     "name": "stdout",
     "output_type": "stream",
     "text": [
      "Data has been saved to australia_solar.csv\n"
     ]
    }
   ],
   "source": [
    "from bs4 import BeautifulSoup\n",
    "from selenium import webdriver\n",
    "from selenium.webdriver.common.by import By\n",
    "from selenium.webdriver.common.keys import Keys\n",
    "import time\n",
    "import pandas as pd\n",
    "\n",
    "# URL of the target Facebook page\n",
    "target_url = \"https://www.facebook.com\"\n",
    "\n",
    "# Initialize the Chrome WebDriver\n",
    "driver = webdriver.Chrome()\n",
    "\n",
    "# Navigate to Facebook and log in\n",
    "driver.get(target_url)\n",
    "username = driver.find_element(By.ID, 'email')\n",
    "password = driver.find_element(By.ID, 'pass')\n",
    "username.send_keys('vihan.v68@gmail.com')\n",
    "password.send_keys('0772889994')\n",
    "password.send_keys(Keys.RETURN)\n",
    "\n",
    "# Allow some time for the login to complete and CAPTCHA to appear\n",
    "time.sleep(5)\n",
    "\n",
    "# Wait for manual CAPTCHA solving\n",
    "input(\"Press Enter after solving the CAPTCHA...\")\n",
    "\n",
    "# Navigate to the desired page or group\n",
    "driver.get('https://www.facebook.com/search/posts/?q=solar%20energy%20australia')\n",
    "\n",
    "# Allow some time for the page to load\n",
    "time.sleep(5)\n",
    "\n",
    "# Initialize empty lists to store the extracted posts and comments\n",
    "posts = []\n",
    "comments = []\n",
    "\n",
    "# Loop to scroll the page and collect posts\n",
    "for _ in range(50):\n",
    "    # Scroll the page\n",
    "    driver.execute_script('window.scrollTo(0, document.body.scrollHeight);')\n",
    "    time.sleep(2)  # Adjust sleep time as necessary to allow for page load\n",
    "\n",
    "    # Get the page source\n",
    "    resp = driver.page_source\n",
    "\n",
    "    # Parse the page source with BeautifulSoup\n",
    "    soup = BeautifulSoup(resp, 'html.parser')\n",
    "\n",
    "    # Find the specific divs containing the required information\n",
    "    items = soup.find_all('div', {'class': 'x78zum5 xdt5ytf xz62fqu x16ldp7u'})\n",
    "\n",
    "    # Iterate through each item and extract the desired information\n",
    "    for item in items:\n",
    "        post_content = item.get_text()\n",
    "        if \"solar energy\" in post_content.lower() and post_content not in posts:\n",
    "            posts.append(post_content)\n",
    "            if len(posts) == 20:\n",
    "                break\n",
    "    if len(posts) >= 20:\n",
    "        break\n",
    "\n",
    "# Function to scroll and scrape comments for a specific post\n",
    "def scrape_comments():\n",
    "    # Get the page source\n",
    "    resp = driver.page_source\n",
    "\n",
    "    # Parse the page source with BeautifulSoup\n",
    "    soup = BeautifulSoup(resp, 'html.parser')\n",
    "\n",
    "    # Find the specific divs containing the comments\n",
    "    comments_section = soup.find_all('div', {'class': 'xdj266r x11i5rnm xat24cr x1mh8g0r x1vvkbs'})\n",
    "    post_comments = []\n",
    "    for comment in comments_section:\n",
    "        comment_text = comment.get_text()\n",
    "        if comment_text:\n",
    "            post_comments.append(comment_text)\n",
    "\n",
    "    return post_comments\n",
    "\n",
    "# Loop through the collected posts to scrape comments\n",
    "for idx, post in enumerate(posts):\n",
    "    print(f\"Post {idx + 1}: {post}\")\n",
    "    \n",
    "    # Pause the script to allow manual opening of comments\n",
    "    input(\"Press Enter after opening the comments for the post...\")\n",
    "\n",
    "    # Scroll and wait for comments to load\n",
    "    for _ in range(10):\n",
    "        driver.execute_script('window.scrollTo(0, document.body.scrollHeight);')\n",
    "        time.sleep(2)  # Adjust sleep time as necessary to allow for comments to load\n",
    "\n",
    "    # Scrape comments for the current post\n",
    "    post_comments = scrape_comments()\n",
    "    comments.append(post_comments)\n",
    "    print(\"Comments collected. You can now close the comments section.\")\n",
    "\n",
    "    # Print comments for the current post\n",
    "    if post_comments:  # Check if there are comments\n",
    "        print(\"Comments:\")\n",
    "        for comment in post_comments:\n",
    "            print(comment)\n",
    "    else:\n",
    "        print(\"No comments found for this post.\")\n",
    "    \n",
    "    # Print a message to let you know to close the comments\n",
    "    input(\"Press Enter after closing the comments for the post...\")\n",
    "\n",
    "# Prepare data for CSV export\n",
    "data = []\n",
    "for idx, content in enumerate(posts):\n",
    "    if idx < len(comments):  # Ensure there's a comment entry\n",
    "        for comment in comments[idx]:\n",
    "            data.append([content, comment])\n",
    "    else:\n",
    "        data.append([content, None])\n",
    "\n",
    "# Create a DataFrame and save it to CSV\n",
    "df = pd.DataFrame(data, columns=['Post', 'Comment'])\n",
    "df.to_csv('australia_solar.csv', index=False)\n",
    "\n",
    "print(\"Data has been saved to australia_solar.csv\")\n"
   ]
  },
  {
   "cell_type": "code",
   "execution_count": 11,
   "id": "3fe012a7-e63b-4661-bbe6-9c6b531fceb7",
   "metadata": {},
   "outputs": [
    {
     "name": "stdout",
     "output_type": "stream",
     "text": [
      "Post 1: The climate crisis calls for an examination of alternatives to our energy generation, particularly the peaceful use of nuclear power. A clean, sustainable, efficient source of power is essential.\n"
     ]
    },
    {
     "name": "stdin",
     "output_type": "stream",
     "text": [
      "Press Enter after opening the comments for the post... \n"
     ]
    },
    {
     "name": "stdout",
     "output_type": "stream",
     "text": [
      "Comments collected. You can now close the comments section.\n",
      "Comments:\n",
      "They take ten years to build, cost about ten billion US dollars, and last about 40 years. Then they cost another half a billion to safely tear down.\n",
      "It would not be wise  in our tectonically unstable country\n",
      "Lol, no.Too expensive plus the cost of transmission infrastructure. Better to spend some of that money on domestic PV, solar farms and other smaller scale localised (and ideally community owned) generation. It’s the only way to reduce the cost to consumers.\n"
     ]
    },
    {
     "name": "stdin",
     "output_type": "stream",
     "text": [
      "Press Enter after closing the comments for the post... \n"
     ]
    },
    {
     "name": "stdout",
     "output_type": "stream",
     "text": [
      "Post 2: Many experts believe fusion energy is the future of limitless clean energy - and one Wellington-based team aims to help New Zealand access this.\n"
     ]
    },
    {
     "name": "stdin",
     "output_type": "stream",
     "text": [
      "Press Enter after opening the comments for the post... \n"
     ]
    },
    {
     "name": "stdout",
     "output_type": "stream",
     "text": [
      "Comments collected. You can now close the comments section.\n",
      "Comments:\n",
      "Billions and billions of dollars have been spent trying to get fusion to work. A few seconds of success that usually takes more input energy than the output. If it was reasonably achievable like fission it would have been found by now. Dream time it seems to me. Maybe there are good reasons why the nearest fusion reactor is 92 million miles away. What we should be trying to achieve is a greater solar power efficiency but there seems to be quanta reasons that tis tops out around 18 percent.\n",
      "Just question isn't NZ NUCLEAR FREE.  not really sure it will be allowed.  And more importantly who is going to fund this in NZ it will never be cost effective it will take billions to develop and we don't have it and it is presently not allowed in NZ.  Much respect for trying.\n",
      "I wish him well. Fusion has been well-understood for decades, but turning it into a safe and reliable form of energy generation poses significant engineering challenges. Firstly, contain the reaction. Secondly, ensure you get more energy out than you put in over a sustained period of time. \n",
      "It’s our best option atm I reckon\n",
      "I'm so disappointed. I was expecting these comments to be filled with boomers ranting about how evil nuclear power is but everyone is being entirely sensible and optimistic about this \n",
      "we all need to support this in a big way\n",
      "New Zealand don't need this.we got wind and water .... We don't need the world..we have all we need ....\n",
      "I say  go for it wel done good for you   now if we could harness  all the  negative  comments may be we wouldn't need any of these idea from solar to wind tidal wave cold fusion we could power the whole world with all of negative  comments on facebook\n",
      "Rutherford was the father of fusion.\n",
      "Our physics lecturer alerted us to the fusion quest 50 years ago.\n",
      "Sounds fantastic\n",
      "I wondered what Harry Potter was up to these days...\n",
      "this is exciting\n",
      "Riaan Prinsloo\n",
      "Next we will have more EVs.\n",
      "There’s much history of unlimited power supplies. But funnily enough they’re all suppressed.\n",
      "Excellent, clear, accessible interview with Ratu around one of the most exciting of many physics-based initiatives and industries in New Zealand. It perhaps highlights the breadth of careers available to physics graduates. Not only are the likes of Openstar and Rocketlabs hiring talent, but even bigger, global successes like F&P Health Care are reliant upon physics graduates for their growth. This all at a time when there are dwindling numbers taking up the subject. One time physics leader, Waikato University, which was once home to Dan Walls (after which the Dodd-Walls Centre of Research Excellence I used to lead is named), cut it’s undergraduate physics programme years ago. Massey University, where Sir Paul Callaghan originally worked, closed its BSc programme two years ago. Even Victoria University, where Ratu studied and which hosts the Robinson and MacDiarmid Institutes threatened closure of its School of Chemical and Physical Sciences. As it stands their programme in physics has been radically reduced with a watch on student numbers hanging like the sword of Damocles above the Department which would leave only Auckland, Otago and Canterbury teaching physics whilst our industry cries out for talent and opportunities to transform our economy and the world go begging. \n",
      "Nuclear fusion is not a race!The world has realised that it is no longer an option because it is impossible to dispense dispense the used fuel rods.The Japanese thought they had found the answer by sinking them in deep sea trenches in lead caskets.But guess what ……they are still actively fizzing……..so that is the end of Atomic power stations!\n",
      "Here come the gamma rays\n",
      "Go for it, Greenies won't like it of course. \n",
      "only been saying this for years\n",
      "He looks like the type to do it.\n",
      "Brilliant young man\n",
      "Why is it that NZ does not allow nuclear powered ships in to their waters?\n",
      "It will never happen. Some of the physics just can't be done\n",
      "It’s coming\n",
      "Well its the only thing that can replace fossil fuels realistically for the time being.......so b4 everyone gets their pro-nouns and student debt in an uproar take a little time to think\n",
      "Already been done. All the people who did it were murdered.\n",
      "Yea and look at where \"experts\" have gotten us. There's a reactor under the wainuiomata hill. Saw it when I was a scaffolder 20 years ago. Very interesting.\n",
      "And how much more is that going to cost\n",
      "Jc Hernandez\n",
      "Nuclear free…..the idiots excuse to stay primitive\n",
      "As if the left would ever allow cheap and abundant energy, i.e., enabling people to control their own lives, to happen  \n",
      "Yes!!\n",
      "https://westinghousenuclear.com/energy-systems/ap300-smr\n",
      "The f**k Harry Potter doing with our energy system now mayn' ....1\n",
      "What experts are the self-implanted ones\n",
      "Ofc but what do you do with the waste?\n"
     ]
    },
    {
     "name": "stdin",
     "output_type": "stream",
     "text": [
      "Press Enter after closing the comments for the post... \n"
     ]
    },
    {
     "name": "stdout",
     "output_type": "stream",
     "text": [
      "Data has been saved to nz_nuclear.csv\n"
     ]
    }
   ],
   "source": [
    "# Navigate to the desired page or group\n",
    "driver.get('https://www.facebook.com/search/top/?q=nuclear%20energy%20new%20zealand')\n",
    "\n",
    "# Allow some time for the page to load\n",
    "time.sleep(5)\n",
    "\n",
    "# Initialize empty lists to store the extracted posts and comments\n",
    "posts = []\n",
    "comments = []\n",
    "\n",
    "# Loop to scroll the page and collect posts\n",
    "for _ in range(50):\n",
    "    # Scroll the page\n",
    "    driver.execute_script('window.scrollTo(0, document.body.scrollHeight);')\n",
    "    time.sleep(2)  # Adjust sleep time as necessary to allow for page load\n",
    "\n",
    "    # Get the page source\n",
    "    resp = driver.page_source\n",
    "\n",
    "    # Parse the page source with BeautifulSoup\n",
    "    soup = BeautifulSoup(resp, 'html.parser')\n",
    "\n",
    "    # Find the specific divs containing the required information\n",
    "    items = soup.find_all('div', {'class': 'x78zum5 xdt5ytf xz62fqu x16ldp7u'})\n",
    "\n",
    "    # Iterate through each item and extract the desired information\n",
    "    for item in items:\n",
    "        post_content = item.get_text()\n",
    "        if (\"clean\" in post_content.lower() or \"experts\" in post_content.lower() or \"believe\" in post_content.lower()) and post_content not in posts:\n",
    "            posts.append(post_content)\n",
    "            if len(posts) == 2:\n",
    "                break\n",
    "    if len(posts) >= 2:\n",
    "        break\n",
    "\n",
    "# Function to scroll and scrape comments for a specific post\n",
    "def scrape_comments():\n",
    "    # Get the page source\n",
    "    resp = driver.page_source\n",
    "\n",
    "    # Parse the page source with BeautifulSoup\n",
    "    soup = BeautifulSoup(resp, 'html.parser')\n",
    "\n",
    "    # Find the specific divs containing the comments\n",
    "    comments_section = soup.find_all('div', {'class': 'xdj266r x11i5rnm xat24cr x1mh8g0r x1vvkbs'})\n",
    "    post_comments = []\n",
    "    for comment in comments_section:\n",
    "        comment_text = comment.get_text()\n",
    "        if comment_text:\n",
    "            post_comments.append(comment_text)\n",
    "\n",
    "    return post_comments\n",
    "\n",
    "# Loop through the collected posts to scrape comments\n",
    "for idx, post in enumerate(posts):\n",
    "    print(f\"Post {idx + 1}: {post}\")\n",
    "    \n",
    "    # Pause the script to allow manual opening of comments\n",
    "    input(\"Press Enter after opening the comments for the post...\")\n",
    "\n",
    "    # Scroll and wait for comments to load\n",
    "    for _ in range(10):\n",
    "        driver.execute_script('window.scrollTo(0, document.body.scrollHeight);')\n",
    "        time.sleep(2)  # Adjust sleep time as necessary to allow for comments to load\n",
    "\n",
    "    # Scrape comments for the current post\n",
    "    post_comments = scrape_comments()\n",
    "    comments.append(post_comments)\n",
    "    print(\"Comments collected. You can now close the comments section.\")\n",
    "\n",
    "    # Print comments for the current post\n",
    "    if post_comments:  # Check if there are comments\n",
    "        print(\"Comments:\")\n",
    "        for comment in post_comments:\n",
    "            print(comment)\n",
    "    else:\n",
    "        print(\"No comments found for this post.\")\n",
    "    \n",
    "    # Print a message to let you know to close the comments\n",
    "    input(\"Press Enter after closing the comments for the post...\")\n",
    "\n",
    "# Prepare data for CSV export\n",
    "data = []\n",
    "for idx, content in enumerate(posts):\n",
    "    if idx < len(comments):  # Ensure there's a comment entry\n",
    "        for comment in comments[idx]:\n",
    "            data.append([content, comment])\n",
    "    else:\n",
    "        data.append([content, None])\n",
    "\n",
    "# Create a DataFrame and save it to CSV\n",
    "df = pd.DataFrame(data, columns=['Post', 'Comment'])\n",
    "df.to_csv('nz_nuclear.csv', index=False)\n",
    "\n",
    "print(\"Data has been saved to nz_nuclear.csv\")"
   ]
  },
  {
   "cell_type": "code",
   "execution_count": 18,
   "id": "2771c131-5512-4d73-b829-a583514e8fee",
   "metadata": {},
   "outputs": [
    {
     "name": "stdout",
     "output_type": "stream",
     "text": [
      "Post 1: New Zealand is already generating most of its electricity from renewable sources. It's now also discussing offshore wind power.\n"
     ]
    },
    {
     "name": "stdin",
     "output_type": "stream",
     "text": [
      "Press Enter after opening the comments for the post... \n"
     ]
    },
    {
     "name": "stdout",
     "output_type": "stream",
     "text": [
      "Comments collected. You can now close the comments section.\n",
      "Comments:\n",
      "New Zealand is a very different proposition to Australia. The size for a start!\n",
      "This wind and solar is only going to destroy Australia we need more Coal, Gas an NUCLEAR that is the only thing that will save Australia\n",
      "Wind turbines alter air flow patterns and therefore alter the climate. Expensive and polluting wildlife killers \n"
     ]
    },
    {
     "name": "stdin",
     "output_type": "stream",
     "text": [
      "Press Enter after closing the comments for the post... \n"
     ]
    },
    {
     "name": "stdout",
     "output_type": "stream",
     "text": [
      "Post 2: The untapped power of ocean winds – why New Zealand is looking offshore for future renewable energy\n"
     ]
    },
    {
     "name": "stdin",
     "output_type": "stream",
     "text": [
      "Press Enter after opening the comments for the post... \n"
     ]
    },
    {
     "name": "stdout",
     "output_type": "stream",
     "text": [
      "Comments collected. You can now close the comments section.\n",
      "Comments:\n",
      "New Zealand is a very different proposition to Australia. The size for a start!\n",
      "This wind and solar is only going to destroy Australia we need more Coal, Gas an NUCLEAR that is the only thing that will save Australia\n",
      "Wind turbines alter air flow patterns and therefore alter the climate. Expensive and polluting wildlife killers \n"
     ]
    },
    {
     "name": "stdin",
     "output_type": "stream",
     "text": [
      "Press Enter after closing the comments for the post... \n"
     ]
    },
    {
     "name": "stdout",
     "output_type": "stream",
     "text": [
      "Post 3: Last night I had the opportunity to meet with the Taranaki Offshore Partnership in Parliament to discuss wind energy. The potential for New Zealand is huge.\n"
     ]
    },
    {
     "name": "stdin",
     "output_type": "stream",
     "text": [
      "Press Enter after opening the comments for the post... \n"
     ]
    },
    {
     "name": "stdout",
     "output_type": "stream",
     "text": [
      "Comments collected. You can now close the comments section.\n",
      "Comments:\n",
      "If taranaki loses oil and gas we be stuffed here be like taking farming out of taranaki no jobs no money\n",
      "Karen Bullock thankfully for Taranaki we are the only province that still has the gas industry after this Govt removed the opportunities elsewhere.\n",
      "Barbara Kuriger MP  will national restore the ability to apply for exploration licenses. Or has that ship sailed with too many hoops to jump through?\n",
      "Shirley Trumper yes we will reinstate the ability, but we do question whether the investment will return.\n"
     ]
    },
    {
     "name": "stdin",
     "output_type": "stream",
     "text": [
      "Press Enter after closing the comments for the post... \n"
     ]
    },
    {
     "name": "stdout",
     "output_type": "stream",
     "text": [
      "Post 4: New Zealand windmill.  Windmills convert wind energy into electrical energy #windmill #fypシ #sheep #NatureLovers #Mi #WeekendVibes #everyone\n"
     ]
    },
    {
     "name": "stdin",
     "output_type": "stream",
     "text": [
      "Press Enter after opening the comments for the post... \n"
     ]
    },
    {
     "name": "stdout",
     "output_type": "stream",
     "text": [
      "Comments collected. You can now close the comments section.\n",
      "Comments:\n",
      "@followers\n",
      "#Mi #fypシ #WeekendVibes #followerseveryone\n",
      "@highlight\n",
      "Good morning\n",
      "Nice windmill\n",
      "Beautiful day beautiful place \n",
      "Hello ma'am Judy D Puckett good morning po \n",
      "Awesome \n",
      "Absolutely amazing\n",
      "Wow  galing nman dyan  ma'am \n",
      "Wow Amazing placedaming windmill\n",
      "beautiful New Zealand..\n",
      "Wow amazing po mami\n",
      "Wow  have a nice day \n",
      "Windmills all over nga po mommy .done watching till the end\n",
      "Good morning new Zealand\n",
      "Nice view and good environment windmills source of electricity\n",
      "Awesome\n",
      "So beautiful\n",
      "Wow gnda nman dyan \n",
      "Clean air and wind generating power  enjoy and always have fun mommy Judy D Puckett \n",
      "So ganda naman po dyan Mam Judy D Puckett \n",
      "Nice place , nice view \n",
      "Big electric fan \n",
      "Wow beautiful place \n",
      "Wow beautiful place  \n",
      "Wow nice\n",
      "Nice po ganda ng place po Maam Judy D Puckett \n",
      "wow that's awesome giant electric fan \n",
      "Amazing windmills\n",
      "Sana all amazing  maam lods\n",
      "Wow nice view.\n",
      "That is so awesome!\n",
      "It’s beautiful  po\n",
      "So awesome place!\n",
      "Nice and good source of electric energy and environment friendly yan mommy Judy D Puckett\n",
      "nice nmn ma'am \n",
      "Wow amazing \n",
      "Very nice place\n",
      "Hello good morning sissy Ang Ganda Naman Dyan \n",
      "Good one sis\n",
      "Love it! \n",
      "I love this \n",
      "Awesome\n",
      "Wow very nice place enjoy po \n",
      "Wow nice.\n",
      "Oh wow!!! windmill\n",
      "Super ganda\n"
     ]
    },
    {
     "name": "stdin",
     "output_type": "stream",
     "text": [
      "Press Enter after closing the comments for the post... \n"
     ]
    },
    {
     "name": "stdout",
     "output_type": "stream",
     "text": [
      "Post 5: Wind energy is becoming a significant contributor to New Zealand's renewable energy landscape, offering a sustainable and reliable source of power for the nation. With its vast open spaces and consistent wind patterns, New Zealand is well-positioned to harness wind energy to meet its growing energy demands while reducing its carbon footprint.Discover how wind energy is shaping the future of New Zealand's energy sector by visiting our site today!\n"
     ]
    },
    {
     "name": "stdin",
     "output_type": "stream",
     "text": [
      "Press Enter after opening the comments for the post... \n"
     ]
    },
    {
     "name": "stdout",
     "output_type": "stream",
     "text": [
      "Comments collected. You can now close the comments section.\n",
      "No comments found for this post.\n"
     ]
    },
    {
     "name": "stdin",
     "output_type": "stream",
     "text": [
      "Press Enter after closing the comments for the post... \n"
     ]
    },
    {
     "name": "stdout",
     "output_type": "stream",
     "text": [
      "Post 6: Wind Energy in New Zealand: Powering Progress with Renewed Enthusiasm - Power EfficiencyWind Energy in New Zealand In recent years, New-Zealand has been making significant strides towards a cleaner and more sustainable energy future. One of the driving forces behind this...\n"
     ]
    },
    {
     "name": "stdin",
     "output_type": "stream",
     "text": [
      "Press Enter after opening the comments for the post... \n"
     ]
    },
    {
     "name": "stdout",
     "output_type": "stream",
     "text": [
      "Comments collected. You can now close the comments section.\n",
      "No comments found for this post.\n"
     ]
    },
    {
     "name": "stdin",
     "output_type": "stream",
     "text": [
      "Press Enter after closing the comments for the post... \n"
     ]
    },
    {
     "name": "stdout",
     "output_type": "stream",
     "text": [
      "Post 7: VihanInvesting in clean energy and transitioning our economy to renewables is an opportunity – not a cost. We have a chance here to lead the world, and create thousands of new, highly-skilled jobs in the process. \n",
      "\n",
      "That’s why today’s announcement is so exciting. We are partnering with BlackRock, one of the world’s largest investors in climate infrastructure and clean technology, to launch a $2 billion climate fund. The fund will help to accelerate clean energy projects like solar, wind, green hydrogen and battery storage, and attract more investment in NZ as a climate leader. \n",
      "\n",
      "Our Government has taken more action on climate change in just the last six years than all other governments combined, but there is still more to do. Reducing our carbon emissions is no longer a ‘nice to have’ but an essential part of doing global business and having the goods to back up our clean, green image – and we’re here for the challenge.\n"
     ]
    },
    {
     "name": "stdin",
     "output_type": "stream",
     "text": [
      "Press Enter after opening the comments for the post... \n"
     ]
    },
    {
     "name": "stdout",
     "output_type": "stream",
     "text": [
      "Comments collected. You can now close the comments section.\n",
      "Comments:\n",
      "Just so long as it doesn't cost the earth to consumers..... and right now it does!!! $400 a month to keep a home warm in winter! Ludicrous.\n",
      "What is it about this government that thinks it’s so important to lead the world. We little old N Z produce 0.17% of the world’s emissions, even if we weren’t here it would have NO impact  or bring NO change.\n",
      "Insanity a bloody globalist power play ...we see who the victims of the shift in environmental paradigm are going to be this dysfunction is is going to look like a picnic compared to the next 5 year chunk of net zero agenda 2030\n",
      "SOLD . Congratulations Blackrock NZ new owners\n",
      "Do you love Imposters. ?\n",
      "https://amp.abc.net.au/article/101949284\n",
      "More folly from this Gov't as NZ becomes the Guinea Pig of WEF for so called green renewables. They are not as green as advertised do your research people. We have more capacity for hydro but the greens won't allow it.\n",
      "Lets hope the said \"\"terms and conditions\"\" are favourable, however knowing Blackrock they will see it as an opportunity to leverage billions from the government and the people of New Zealand, through naievity, ignorance and deception......the question that should be asked of the government is that if they thought the concept was such a good idea, why didnt they just fund it through government appropraiations - Jacinda magically pulled $100 billion out of her arse to fund the covid initiatives, so whats $2 Billion. Sorry but i think we have been sold up shit creek without a paddle\n",
      "There goes NZ. Down the toilet.\n",
      "Oh no!\n",
      "oh look they've got their best impression of an intelligent person face on - still look  like a bunch of dumb fuckers though\n",
      "You sold us out for headlines  and a mere $2 billion - Blackrock grabbed and squeezed tight.Oil Gas Coal still remain Blackrock investments!\n",
      "I'm going to burn some tyres to celebrate \n",
      "This is bullshit there is no deal it’s this Labour Party doing dodgy shit behind closed doors\n",
      "Can’t wait till they voted out\n",
      "Rage conspiratards. Rage.\n",
      "All  our rescues are gone.\n",
      "That explains Ms Ardern's cosy little drop-in visit in past months....BlackRock are reputedly using the same approach as the CCP....own 10-12% of a project, corporation or entity and gain access to all strategy, financial details, policy direction and influence over directorship boards...\n",
      "BlackRock holds investments worth $85bn in coal companies. They don’t give a flying crap about renewables, only control and money. We’d be nuts to give them either!\n",
      "Fuck black rock.\n",
      "Ffs labour why do a deal with Blackrock !!! Stop getting our country into more debt\n",
      "The Govt's latest PR is just hot air and no wind.  The promise based on the BIG IF.  https://www.msn.com/.../worthy-of-an.../ar-AA1eT294...\n",
      "You have just sold out Nz to black rock!!, when the shit hits the fan a bet u will follow Cindy offshore too!!, it will be the only way you are safe\n",
      "Chance to try and get a vote or 2 give it s rest your party   has already  lost the election  .gone 2023 October.\n",
      "Lisa Owen - ‘Fair and Frank Chinese Propaganda’ - What was her price?\n",
      "The bogus Chinese real estate agent kidnapping story is hilarious. I thought big communist dictators are supposed to be smart haha\n",
      "THE BIG DECEMBER CRASH..http://www.donmurrayastrologer.com/news.html\n",
      "And what is a $2b loan from Blackrock going to cost NZ. Our Democracy?  Have a good look at their shareholders/ investors.\n",
      "Whatever Guyon Espiner, Lisa Owen, Corin Dan, or Susie Ferguson say - Do the opposite.\n",
      "They are a complete dead beat joke merv wake up.\n",
      "Your a joke labour resign and stop selling us off to black rock evilness, totally disgraceful\n",
      "Stock up supplies and prepare to work at home. I think the next pandemic may be coming soon. And DON’T get a dog.\n",
      "I think there’s a real chance that the next pandemic may enter NZ by infected dogs. If you’re considering a pet right now… do NOT get a dog \n",
      "Why has labour engaged our country with blackstone a company who is right now under congressional investigation into their investment into blacklisted arms and weapons manufacturers run by the PRC. There can be no ignorance claimed this is all over international news. Im all for investing in the future but with blackrock are you serious!!\n",
      "Haha here they are again with more PR spin as the scripted word web is spread out to trap voters. \"Investing in clean energy and transitioning our economy to renewables is an opportunity – not a cost\". Baloney as we note the lack of detail again and a reluctance to offer any costings just unicorns and rainbows as usual. This last ditch effort to do something after marking time for 6 years is quite bazaar and is more a broadcast of their desperation than anything of benefit to New Zealanders.\n",
      "Fantastic Labour goverment keep up the good work \n",
      "Blackrock using up their covid doe\n",
      "What Muppets\n",
      "Disgusting... selling your mother's and children next....\n",
      "More lies, it is a massive cost, just look at the cost blowout on the Taranaki windfarm, then you still need a power station to back it all up.\n",
      "https://m.youtube.com/watch?v=YT9xqABcQaA&feature=youtu.be\n",
      "Time to policy burn 3 waters and Co governance. Failure to do so will see you gone\n",
      "Yet Ardern denied she was having meetings with this corrupt company. More Lies from Liebour\n",
      "Good way to ruin our core industries too\n",
      "Traitors!https://medium.com/.../blackrock-the-secret-company-that...\n",
      "You have sold NZ out to BlackRock. No longer a conspiracy theory! You are all traitors to your country! https://www.msn.com/.../pm-hipkins-hails-2b.../ar-AA1eVzcI\n",
      "Yet you still import dirty coal when we could be using our own\n",
      "Put your hands in your pockets and don't touch ANYTHING for the next 68 days\n",
      "Sustainable is a contradiction in terms as it usually leads to businesses that are very often unsustainable.\n",
      "The same corrupt Blackrock that lost several Trillion dollars last year?\n",
      "Good labour,Greens \n"
     ]
    },
    {
     "name": "stdin",
     "output_type": "stream",
     "text": [
      "Press Enter after closing the comments for the post... \n"
     ]
    },
    {
     "name": "stdout",
     "output_type": "stream",
     "text": [
      "Post 8: New Zealand is facing a potential shortfall of electricity supply between 7am and 9am tomorrow morning because of an unseasonal cold snap and low wind generatio… See more\n"
     ]
    },
    {
     "name": "stdin",
     "output_type": "stream",
     "text": [
      "Press Enter after opening the comments for the post... \n"
     ]
    },
    {
     "name": "stdout",
     "output_type": "stream",
     "text": [
      "Comments collected. You can now close the comments section.\n",
      "Comments:\n",
      "Do power companies make millions in profits each year…. Can that not be put into the infrastructure\n",
      "Too bad if you need to charge your Electric Car to get to work in the morning Buy an electric car they said, it’ll be great they said \n",
      "So parents and children should go cold as this is a time both are getting ready to go to school/work  , stop pushing electricity when you can't supply it ..\n",
      "And they want more EVs. Can't even charge the ones they've got \n",
      "If you’re happy to change the export rate to say 25c instead of 7c for that period of time, then I’ll set my battery to export 9kWh to the grid between 7am and 9am tomorrow…\n",
      "Fine, will be careful !\n",
      "Nicola Tempelman bet we don't get discount of some sort. They'll still want their money\n",
      "Be nice for cintact to advise if yiur turning off piwer to hot cylinders as having no hot water for over 12 hours is not what I signed up for\n",
      "Looks like it mite be cold Showers In The morning... I wonder if my work place will lose power\n",
      "Hi I wish to join Contact Energy but unable to enroll online, tried to contact but wait time is more that 1 hour, can I get some assistance ?\n",
      "Bit of a late question, but which Cities will generally be affected, by power rationing between 7am - 9am?  Is is mainly the big Cities like Auckland, Hamilton etc....due to sheer household numbers?And is any power company making provisions to meet their customers power requirements, when things like this happen?Lots of households rely on a consistent supply of power.....\n",
      "New customer here trying to find out when my broadband will be switched across - have been on hold for over an hour now. Not a great first impression - is this normal?\n",
      "No problem \n",
      "Hi ,how I do to ring phone number for cut power before I move?\n",
      "Contact Energy what’s going on with your contact app ?\n",
      "Melissa Garlick\n",
      "Leanne Anderson\n",
      "Caitlin Louise\n"
     ]
    },
    {
     "name": "stdin",
     "output_type": "stream",
     "text": [
      "Press Enter after closing the comments for the post... \n"
     ]
    },
    {
     "name": "stdout",
     "output_type": "stream",
     "text": [
      "Post 9: Some say the wind isn’t a reliable source of energy in New Zealand. The wind:\n"
     ]
    },
    {
     "name": "stdin",
     "output_type": "stream",
     "text": [
      "Press Enter after opening the comments for the post... \n"
     ]
    },
    {
     "name": "stdout",
     "output_type": "stream",
     "text": [
      "Comments collected. You can now close the comments section.\n",
      "No comments found for this post.\n"
     ]
    },
    {
     "name": "stdin",
     "output_type": "stream",
     "text": [
      "Press Enter after closing the comments for the post... \n"
     ]
    },
    {
     "name": "stdout",
     "output_type": "stream",
     "text": [
      "Post 10: VihanSome say the wind isn’t a reliable source of energy in New Zealand. \n",
      "\n",
      "The wind:\n"
     ]
    },
    {
     "name": "stdin",
     "output_type": "stream",
     "text": [
      "Press Enter after opening the comments for the post... \n"
     ]
    },
    {
     "name": "stdout",
     "output_type": "stream",
     "text": [
      "Comments collected. You can now close the comments section.\n",
      "No comments found for this post.\n"
     ]
    },
    {
     "name": "stdin",
     "output_type": "stream",
     "text": [
      "Press Enter after closing the comments for the post... \n"
     ]
    },
    {
     "name": "stdout",
     "output_type": "stream",
     "text": [
      "Data has been saved to nz_wind.csv\n"
     ]
    }
   ],
   "source": [
    "# Navigate to the desired page or group\n",
    "driver.get('https://www.facebook.com/search/posts/?q=wind%20energy%20new%20zealand')\n",
    "\n",
    "# Allow some time for the page to load\n",
    "time.sleep(5)\n",
    "\n",
    "# Initialize empty lists to store the extracted posts and comments\n",
    "posts = []\n",
    "comments = []\n",
    "\n",
    "# Loop to scroll the page and collect posts\n",
    "for _ in range(50):\n",
    "    # Scroll the page\n",
    "    driver.execute_script('window.scrollTo(0, document.body.scrollHeight);')\n",
    "    time.sleep(2)  # Adjust sleep time as necessary to allow for page load\n",
    "\n",
    "    # Get the page source\n",
    "    resp = driver.page_source\n",
    "\n",
    "    # Parse the page source with BeautifulSoup\n",
    "    soup = BeautifulSoup(resp, 'html.parser')\n",
    "\n",
    "    # Find the specific divs containing the required information\n",
    "    items = soup.find_all('div', {'class': 'x78zum5 xdt5ytf xz62fqu x16ldp7u'})\n",
    "\n",
    "    # Iterate through each item and extract the desired information\n",
    "    for item in items:\n",
    "        post_content = item.get_text()\n",
    "        if \"wind\" in post_content.lower() and post_content not in posts:\n",
    "            posts.append(post_content)\n",
    "            if len(posts) == 10:\n",
    "                break\n",
    "    if len(posts) >= 10:\n",
    "        break\n",
    "\n",
    "# Function to scroll and scrape comments for a specific post\n",
    "def scrape_comments():\n",
    "    # Get the page source\n",
    "    resp = driver.page_source\n",
    "\n",
    "    # Parse the page source with BeautifulSoup\n",
    "    soup = BeautifulSoup(resp, 'html.parser')\n",
    "\n",
    "    # Find the specific divs containing the comments\n",
    "    comments_section = soup.find_all('div', {'class': 'xdj266r x11i5rnm xat24cr x1mh8g0r x1vvkbs'})\n",
    "    post_comments = []\n",
    "    for comment in comments_section:\n",
    "        comment_text = comment.get_text()\n",
    "        if comment_text:\n",
    "            post_comments.append(comment_text)\n",
    "\n",
    "    return post_comments\n",
    "\n",
    "# Loop through the collected posts to scrape comments\n",
    "for idx, post in enumerate(posts):\n",
    "    print(f\"Post {idx + 1}: {post}\")\n",
    "    \n",
    "    # Pause the script to allow manual opening of comments\n",
    "    input(\"Press Enter after opening the comments for the post...\")\n",
    "\n",
    "    # Scroll and wait for comments to load\n",
    "    for _ in range(10):\n",
    "        driver.execute_script('window.scrollTo(0, document.body.scrollHeight);')\n",
    "        time.sleep(2)  # Adjust sleep time as necessary to allow for comments to load\n",
    "\n",
    "    # Scrape comments for the current post\n",
    "    post_comments = scrape_comments()\n",
    "    comments.append(post_comments)\n",
    "    print(\"Comments collected. You can now close the comments section.\")\n",
    "\n",
    "    # Print comments for the current post\n",
    "    if post_comments:  # Check if there are comments\n",
    "        print(\"Comments:\")\n",
    "        for comment in post_comments:\n",
    "            print(comment)\n",
    "    else:\n",
    "        print(\"No comments found for this post.\")\n",
    "    \n",
    "    # Print a message to let you know to close the comments\n",
    "    input(\"Press Enter after closing the comments for the post...\")\n",
    "\n",
    "# Prepare data for CSV export\n",
    "data = []\n",
    "for idx, content in enumerate(posts):\n",
    "    if idx < len(comments):  # Ensure there's a comment entry\n",
    "        for comment in comments[idx]:\n",
    "            data.append([content, comment])\n",
    "    else:\n",
    "        data.append([content, None])\n",
    "\n",
    "# Create a DataFrame and save it to CSV\n",
    "df = pd.DataFrame(data, columns=['Post', 'Comment'])\n",
    "df.to_csv('nz_wind.csv', index=False)\n",
    "\n",
    "print(\"Data has been saved to nz_wind.csv\")"
   ]
  },
  {
   "cell_type": "code",
   "execution_count": null,
   "id": "903c24e4-31b6-42fd-97e8-bc1cab6127bc",
   "metadata": {},
   "outputs": [],
   "source": [
    "from bs4 import BeautifulSoup\n",
    "from selenium import webdriver\n",
    "from selenium.webdriver.common.by import By\n",
    "from selenium.webdriver.common.keys import Keys\n",
    "import time\n",
    "import pandas as pd\n",
    "\n",
    "# URL of the target Facebook page\n",
    "target_url = \"https://www.facebook.com\"\n",
    "\n",
    "# Initialize the Chrome WebDriver\n",
    "driver = webdriver.Chrome()\n",
    "\n",
    "# Navigate to Facebook and log in\n",
    "driver.get(target_url)\n",
    "username = driver.find_element(By.ID, 'email')\n",
    "password = driver.find_element(By.ID, 'pass')\n",
    "username.send_keys('EMAIL')\n",
    "password.send_keys('PASSWORD')\n",
    "password.send_keys(Keys.RETURN)\n",
    "\n",
    "# Allow some time for the login to complete and CAPTCHA to appear\n",
    "time.sleep(5)\n",
    "\n",
    "# Wait for manual CAPTCHA solving\n",
    "input(\"Press Enter after solving the CAPTCHA...\")\n",
    "\n",
    "# Navigate to the desired page or group\n",
    "driver.get('https://www.facebook.com/search/posts/?q=solar%20energy%20australia')\n",
    "\n",
    "# Allow some time for the page to load\n",
    "time.sleep(5)\n",
    "\n",
    "# Initialize empty lists to store the extracted posts and comments\n",
    "posts = []\n",
    "comments = []\n",
    "\n",
    "# Loop to scroll the page and collect posts\n",
    "for _ in range(50):\n",
    "    # Scroll the page\n",
    "    driver.execute_script('window.scrollTo(0, document.body.scrollHeight);')\n",
    "    time.sleep(2)  # Adjust sleep time as necessary to allow for page load\n",
    "\n",
    "    # Get the page source\n",
    "    resp = driver.page_source\n",
    "\n",
    "    # Parse the page source with BeautifulSoup\n",
    "    soup = BeautifulSoup(resp, 'html.parser')\n",
    "\n",
    "    # Find the specific divs containing the required information\n",
    "    items = soup.find_all('div', {'class': 'x78zum5 xdt5ytf xz62fqu x16ldp7u'})\n",
    "\n",
    "    # Iterate through each item and extract the desired information\n",
    "    for item in items:\n",
    "        post_content = item.get_text()\n",
    "        if \"solar energy\" in post_content.lower() and post_content not in posts:\n",
    "            posts.append(post_content)\n",
    "            if len(posts) == 20:\n",
    "                break\n",
    "    if len(posts) >= 20:\n",
    "        break\n",
    "\n",
    "# Function to scroll and scrape comments for a specific post\n",
    "def scrape_comments():\n",
    "    # Get the page source\n",
    "    resp = driver.page_source\n",
    "\n",
    "    # Parse the page source with BeautifulSoup\n",
    "    soup = BeautifulSoup(resp, 'html.parser')\n",
    "\n",
    "    # Find the specific divs containing the comments\n",
    "    comments_section = soup.find_all('div', {'class': 'xdj266r x11i5rnm xat24cr x1mh8g0r x1vvkbs'})\n",
    "    post_comments = []\n",
    "    for comment in comments_section:\n",
    "        comment_text = comment.get_text()\n",
    "        if comment_text:\n",
    "            post_comments.append(comment_text)\n",
    "\n",
    "    return post_comments\n",
    "\n",
    "# Loop through the collected posts to scrape comments\n",
    "for idx, post in enumerate(posts):\n",
    "    print(f\"Post {idx + 1}: {post}\")\n",
    "    \n",
    "    # Pause the script to allow manual opening of comments\n",
    "    input(\"Press Enter after opening the comments for the post...\")\n",
    "\n",
    "    # Scroll and wait for comments to load\n",
    "    for _ in range(10):\n",
    "        driver.execute_script('window.scrollTo(0, document.body.scrollHeight);')\n",
    "        time.sleep(2)  # Adjust sleep time as necessary to allow for comments to load\n",
    "\n",
    "    # Scrape comments for the current post\n",
    "    post_comments = scrape_comments()\n",
    "    comments.append(post_comments)\n",
    "    print(\"Comments collected. You can now close the comments section.\")\n",
    "\n",
    "    # Print comments for the current post\n",
    "    if post_comments:  # Check if there are comments\n",
    "        print(\"Comments:\")\n",
    "        for comment in post_comments:\n",
    "            print(comment)\n",
    "    else:\n",
    "        print(\"No comments found for this post.\")\n",
    "    \n",
    "    # Print a message to let you know to close the comments\n",
    "    input(\"Press Enter after closing the comments for the post...\")\n",
    "\n",
    "# Prepare data for CSV export\n",
    "data = []\n",
    "for idx, content in enumerate(posts):\n",
    "    if idx < len(comments):  # Ensure there's a comment entry\n",
    "        for comment in comments[idx]:\n",
    "            data.append([content, comment])\n",
    "    else:\n",
    "        data.append([content, None])\n",
    "\n",
    "# Create a DataFrame and save it to CSV\n",
    "df = pd.DataFrame(data, columns=['Post', 'Comment'])\n",
    "df.to_csv('australia_solar.csv', index=False)\n",
    "\n",
    "print(\"Data has been saved to newzealand_solar.csv\")\n"
   ]
  },
  {
   "cell_type": "code",
   "execution_count": null,
   "id": "d9f8851f-45e2-4da0-823d-88d8e9f20b4a",
   "metadata": {},
   "outputs": [],
   "source": []
  }
 ],
 "metadata": {
  "kernelspec": {
   "display_name": "Python 3 (ipykernel)",
   "language": "python",
   "name": "python3"
  },
  "language_info": {
   "codemirror_mode": {
    "name": "ipython",
    "version": 3
   },
   "file_extension": ".py",
   "mimetype": "text/x-python",
   "name": "python",
   "nbconvert_exporter": "python",
   "pygments_lexer": "ipython3",
   "version": "3.11.5"
  }
 },
 "nbformat": 4,
 "nbformat_minor": 5
}
