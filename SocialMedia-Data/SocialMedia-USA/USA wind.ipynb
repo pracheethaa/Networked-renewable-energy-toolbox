{
 "cells": [
  {
   "cell_type": "code",
   "execution_count": 1,
   "id": "4f5240d3-05a7-4b6d-971e-7e4bd6a08825",
   "metadata": {
    "tags": []
   },
   "outputs": [
    {
     "name": "stdout",
     "output_type": "stream",
     "text": [
      "Press Enter after solving the CAPTCHA... \n"
     ]
    },
    {
     "name": "stdout",
     "output_type": "stream",
     "text": [
      "Post 1: The renewable energy sector is now a significant source of jobs, with rapid growth in solar and wind energy employment. In 2022, the United States is North America's largest producer of renewable energy. Germany remains a leader in European renewable energy production, strongly emphasizing wind and solar power.\n"
     ]
    },
    {
     "name": "stdout",
     "output_type": "stream",
     "text": [
      "Press Enter after opening the comments for the post... \n"
     ]
    },
    {
     "name": "stdout",
     "output_type": "stream",
     "text": [
      "Comments collected. You can now close the comments section.\n",
      "Comments:\n",
      "Renewable energy is based on gross generation from wind, geothermal, solar, biomass, and waste, excluding cross-border electricity supply.\n",
      "Where did you get those numbers from... Can tell you I have been working in the energy sector for 25 years and for those countries I know they are completly wrong!\n",
      "Yes oil is renewable and we have 1000s of years of oil\n",
      "Imagine the trillions wasted on this delusion\n",
      "biggest producer in America and Europe.... is not the biggest producer in the world....\n",
      "I guess nuclear power is included for the US?\n",
      "No China strange that.\n",
      "Remember 90 percent of all power from Newfoundland & Labrador Canada, Quebec sells to the states, without our hydroelectric power resources they would have very little and would have to rely on nuclear power or other resources. Canada is the biggest resource in the entire world if there were no contracts involved.\n",
      "Renewable but not sustainable if one company cuts down trees to build wind energy turbines.\n",
      "Now do Asia and show us that all this progress is for nothing until China and India decide to play along.\n",
      "Makes no sense at all. \n",
      "Norway is #1 in europe in waterpower plants, is that not included in this? 90% of the energy used in Norway is Waterpowerplants?\n",
      "No China?  China, today, produces one third of all the renewable energy on the planet.  That didn't happen in the last 2 years!!!!\n",
      "So where is Norway? the so called mass EV country…guess the use fossil fuels\n",
      "Is this rated output or actual output, which is usually around 25% of rated?\n",
      "Hydropower not defined as renewable?\n",
      "US 21.5 % of electricity generation from \"renewables\" in 2023.  Wind alone was over 10%.   Solar in the US will probably pass hydroelectric late this year or sometime in 2025.  It's basically 60% coal+ng, and 40% renewables+nuclear - more NG as coal drops.\n",
      "OK, USA is 2 1/2 laps ahead of every one.  Give it a break so the earth can catch up!\n",
      "If only the US and Europe were doing their fair share\n",
      "How can you renew energy? Did I not pay attention in physics?\n"
     ]
    },
    {
     "name": "stdout",
     "output_type": "stream",
     "text": [
      "Press Enter after closing the comments for the post... \n"
     ]
    },
    {
     "name": "stdout",
     "output_type": "stream",
     "text": [
      "Post 2: We all know wind energy is a win-win-win, but here’s a fact you might not know. Just four states account for more than half of the wind electricity generation in the United States.\n"
     ]
    },
    {
     "name": "stdout",
     "output_type": "stream",
     "text": [
      "Press Enter after opening the comments for the post... \n"
     ]
    },
    {
     "name": "stdout",
     "output_type": "stream",
     "text": [
      "Comments collected. You can now close the comments section.\n",
      "Comments:\n",
      "Good to see progress being made in switching to alternative methods of energy production. The article demonstrates that wind power is not just theory but is very effective replacement for fossil fuels. Not only does wind power generates electricity but the economy as well. The jobs created by this technology are growing and come with higher wages.\n",
      "Wow!  I thought Wyoming and Colorado would have been in this list but way to go Texas, Iowa, Oklahoma and Kansas.\n",
      "Great, but what's the % of total !!!!!!!!!!!And state the variability of supply !!!!!!!\n",
      "Tell me after there life span    how are you going to recycle them\n",
      "Kudos to the good people of Texas, Iowa, Oklahoma and Kansas. Ya Done Real Good Keep Going, Keep Going! \n",
      "A win-win? Not really. https://www.bloomberg.com/.../wind-turbine-blades-can-t...\n",
      "rather a wind-wind-wind\n"
     ]
    },
    {
     "name": "stdout",
     "output_type": "stream",
     "text": [
      "Press Enter after closing the comments for the post... \n"
     ]
    },
    {
     "name": "stdout",
     "output_type": "stream",
     "text": [
      "Post 3: Top 4 States for Wind EnergyJust four states account for more than half of the wind electricity generation in the United States.\n"
     ]
    },
    {
     "name": "stdout",
     "output_type": "stream",
     "text": [
      "Press Enter after opening the comments for the post... \n"
     ]
    },
    {
     "name": "stdout",
     "output_type": "stream",
     "text": [
      "Comments collected. You can now close the comments section.\n",
      "No comments found for this post.\n"
     ]
    },
    {
     "name": "stdout",
     "output_type": "stream",
     "text": [
      "Press Enter after closing the comments for the post... \n"
     ]
    },
    {
     "name": "stdout",
     "output_type": "stream",
     "text": [
      "Post 4: In a gust of good news, a new National Renewable Energy Laboratory study found that U.S. distributed wind energy:   Could profitably provide nearly 1,400 gigawatts of electric generating capacity if deployed  Has the potential to provide millions of electric consumers with clean power. That means distributed wind energy can play an important role in achieving the federal government’s goals of 100% clean electricity by 2035 and a net-zero-carbon-emission economy by 2050! … See more\n"
     ]
    },
    {
     "name": "stdout",
     "output_type": "stream",
     "text": [
      "Press Enter after opening the comments for the post... \n"
     ]
    },
    {
     "name": "stdout",
     "output_type": "stream",
     "text": [
      "Comments collected. You can now close the comments section.\n",
      "Comments:\n",
      "Wind energy is more than capable of supplying most of the US's electricity needs.  It's cheap, extremely green, quick to build, and they can even be placed offshore and take advantage of technology developed by the oil and gas industry.\n",
      "Great..Start with Kalifornia and New York.Prove you can do it in liberal states that drink the koolaide.They want it.Give it to them..We'll watch and learn.\n",
      "Until they can make windmills grow out of the ground it will never be close to 100% carbon free! More fake news!\n",
      "Windmills are not renewable.  They get buried in the ground when they are no longer useful\n",
      "This green energy push is alot of hogwash. We here in the United States arent  ready to go 100%  green . When we are great but until then we should have kept our energy independence  and sold the crap out of it to help pay for this technology.  Instead our energy bills are though the roof with no sign of going down.\n",
      "Look what happened in Texas when there turbines suffered in the cold weather and thousands went without power.\n",
      "What would you expect from a gov study.  If it's not in favor of the govt. they will not get anymore funding!\n",
      "Just remember that both solar and wind installations are required to be backed up by Natural Gas Power Plants running at nearly full capacity, so that when it becomes dark or the wind is outside the safe range and the solar power and wind power shut down, there are no blackouts.\n",
      "Wind energy can also cause desertification due the changes of wind patterns drying the land and it is still not economical without subsidies.\n",
      "Meanwhile airlines who emit 1.4 billion tons of Co2 annually will continue to add routes and flights increasing the emissions by 20% in 2035.\n",
      "If we want to take the top off the climate catastrophe barreling towards us we need to renew tax credits for renewables, but expand those tax credits. Tragically my fellow Republicans have completely abandoned conserving the environment like Republican President Teddy Roosevelt. If we want to pass on an inheritance to our children let’s strongly support those that will vote for renewing tax credits for wind, solar and geothermal energy.\n",
      "Why is it that these these media outlets always use the words could, may etc.Why do you not use the words Shall, will etc.The reason is they are not telling you the real facts about the story.\n",
      "Remember you guys want to go all electric which means using todays demand your calculations will be way off. Also the midwest is seeing increased tornados which will play hell with windmills\n",
      "Is this 1/2 of the US demand today? What will the demand be once we are forced to switch to EV?\n",
      "Theories and practicals are not the same\n",
      "Except one windmill at max capacity is 3 MW. A nuclear plant will generate a gigawatt so it will take 333 windmills running at max capacity 24/7 to equal 1 nuclear plant at normal capacity. Given the fact that windmills do not even come close to running at max capacity this is a pipe dream.\n",
      "'Potential'....Ever look at the carbon footprint of manufacturing a wind turbine? 700 tons of coal are required to 'coke' the steel for the tower...so start doing the math. You know what happens to the bladed when they're worn out?\n",
      "A couple years ago Wind power provided 2.5% of the grid power, using just over 50 thousand Wind Turbines.  So, by doing the math that means we will need 20 times more or 1 Million Wind Turbines to get to 50%.  Good luck with that.\n",
      "It’s NOT profitable. It’s subsidized and incentivized by governments of states. Otherwise there would be no massive wind power stations. And…. when the wind is calm ?\n",
      "Can I expect my electric bill to drop by half???\n",
      "---Clean Power---Anyone ever think about all the pollution created in just building this so-called clean energy???  What about the hazardous waste disposing of old batteries???  What about the taxes they ain't told you about yet???  Thought about just who controls the power grids???  Ever thought about you ain't doing squat  or gettng squat unless those who wll be ruling says so???  Better think about what you support!!!\n",
      "\"Could\" and \"has potential\". Read: no real cost estimate based on even a hypothetical engineering design.\n",
      "According to what I have read, they are noisy eyesores. A big company in Australia failed and residents have been in court over the noise pollution.\n",
      "these things kill more birds and insects and only work on windy days useless   They just gives the impression that  we care about the  enviroment\n",
      "People will support new technologies that are providing and not just hoping.\n",
      "That is not 24-7 energy as the wind doesn't blow all the time. Better stay with proven natural gas and coal.\n",
      "So I actually read the relevant parts. Their model of \"economic\" assumes that 1400 GW will do precisely nothing to the temporal and locational value of electricity. Also, transmission is completely ignored, mentioned 9 times in a 109 page report, 6 times in the same sentence repeated across the various summaries.\n",
      "No it won’t. Do you know how much oil is in one of those things somethings Gotta keep it cool. When they leak they get oil everywhere and it’s also it makes them catch on fire. They’re an eyesore they take up a lot of land I’ve been to Europe I see what it they clear a lot of trees and put those stupid things up￼\n",
      "Awesome! Let's just be sure we don't suffer from Texas-style regulatory laziness. We want working grids like we have in OR, CA, etc. to support this game-changing green energy tech.\n",
      "Wind is free, so why is electricity expensive?\n",
      "Renewable energy ! The science of could of would have , should have.\n",
      "To bad the grid still needs a baseline power supply to keep the lights on when the wind doesn’t blow so what value does wind add.. none.  May as well run on the old reliable baseline sources and paying double.\n",
      "DO RENEWABLE PPAS PROVIDE THE SAME SUPPORT TOWARD MEETING NIPSCO’S PEAK SYSTEM DEMAND AS NIPSCO’S TRANSMISSION AND CONVENTIONAL GENERATION FACILITIES?To an extent, yes. However, the issue is that renewable facilities cannot be counted on to the same extent as transmission facilities and conventional generation facilities to support NIPSCO’s peak system demand. Transmission facilities, since they are passive in nature and typically have a very low forced outage rate, have a very high availability of nearly 100% at the time of peak system demand. Conventionalgeneration facilities, due to their fuel arrangements and having equivalent forcedoutage rates typically in the range of 5 to 25%,have an availability 75 to 95% of theirsummer rated MW capability at the time of peak system demand. In contrast, the most recent studies by NIPSCO’s Regional Transmission Organization (“RTO”) show that, on a MISO-wide basis, wind generation facilities on average can be expected to have an availability of approximately 15.2% of their nameplate MW rating at the time of peak system demand and solar generation facilities can be expected to have an availability of approximately 50% of their nameplate capability at the time of peak system demand. Therefore, with respect to supporting peak system demand, a nameplate MW of wind generation capacity on average provides approximately 16 to 20% of the same support that would be provided by a summer rated capability MW of conventional generation. Similarly, a nameplate MW of solar generation capacity on average provides approximately 53 to 67% of the same support toward meeting peak demand that would be provided by a summer rated capability MW of conventional generation. Given this, a minimum of 16% of the total cost of wind PPAs and a minimum 53% of the total cost of solar PPAs should be allocated to customer classes on the same basis as the fixedcosts of conventional generating facilities.Testimony from Indiana Utility Regulatory Commission hearing for cause #45194 NIPSCO,Rosewater wind in 2019.\n",
      "The government fixed affordable health care for us. Let them fix efficient and renewable energy too.\n",
      "Except….people don’t want them near to where they live.   They want them somewhere else.\n",
      "The Texas wind turbines failure was because owners decided not to invest in the weatherizing needed to deal with temperatures below 10 deg. F which Texas experienced in February 2021.   As with most facilities, you don't invest to protect against rare events.   Having said that, the main problem with wind power is on average the capacity factor of U.S. wind turbines is only 35% (see EIA data) and wind power produced in the U.S. is lowest in August when electricity demand is the highest.   So back up generation capacity is needed which these days usually comes from coal and natural gas.   Iowa is a good example since they have a significant amount of wind turbines.  Check out this EIA data on Iowa for 2018 - 2019.   Do you see a relationship between wind and coal? https://www.eia.gov/electricity/data/browser/...\n",
      "So when will this happen?  This idea has been kicked around for years and nothing has happened.  Where is Bezos?  Where is Elon Musk?  They both could do better than going into space to prove they have money to spend.  Buying Twitter does nothing compared to improving green energy.  NASA going to Mars has its benefits but green energy will save the planet.\n",
      "Sadly the massive fossil fuels increases in US  both planned and underway render this good news almost irrelevant..https://www.sciencedirect.com/science/article/pii/S0301421522001756?via%3Dihub=\n",
      "The key word is \"capacity\"\"Could profitably provide nearly 1,400 gigawatts of electric generating capacity if deployed \"\n",
      "Not sure what \"distributed\" wind energy means.  How much will National Electricity Demand be when EVs become dominant? What is the Demand now, being produced with fossil fuels (and nuclear) with the associated Carnot inefficiency? (Just google Sadi Carnot).\n",
      "So why are they predicting, and asking us to be prepared for, massive power shortages this summer?\n",
      "At what price? The wind mills kill birds, they require a lot of expensive maintenance, the blades are not recyclable, and the end cost of the electricity costs more than other forms of generation..\n",
      "I hear the price of wind is up with 33% as well!\n",
      "So, if solar and wind can be a cheap alternative to natual gas, why do we have to provide massive grants to them.\n",
      "Nothing is clean if you add manufacturing and disposal to usage, all your doing is causing new problems in different places, nothing beneficial\n",
      "Good luck with building hundreds of thousands of turbines because they only produce 5-20MW peak. And not guaranteed power and not applicable everywhere in the country. And leaking oil like crazy. And killing hundreds of thousands of birds per year. And wind turbine syndrome. And taking up more farmland. I can go on.\n",
      "At 7 MW each I think we need a better mousetrap.  Could, potential, deployment?  New words for an old grid.\n",
      "David just think about HOW DUMB THIS new administration is they dont want tp spend 5 billion to fix the Nuclear plants, want to spend it on bike trails LMAO, how about Nuke Plats or Gas or Baby Formula or yeah doesn't fit their agenda but, they will count on the uneducated to believe them. I work in Electronics great assessment Nuclear Power is so efficient but, again doesn't fit their agenda so they will spend 5 billion on bike trials and take 3 billion in their pockets.\n",
      "When there is no wind we have no power. Let’s take DC off the power grid and use only solar and wind.\n",
      "Could is the key word. No wind, no power\n",
      "Fossil fuels is the only way to go screw windmills\n",
      "Low density intermittent energy sources - wind and solar - are no way to power an electrical grid. High density on demand - 24/7/365 - energy sources are what is needed. Think fossil fuels and nuclear!\n",
      "They predict it will supply that much power what are the facts of how much it will produce\n",
      "And wind mills requires no oil to lubricants\n",
      "Its a lie...look what happened in Texas 2 years ago when temps went down lower than usual\n",
      "What's the hold up? You have been saying this for about 2-3 decades Why has it not already been done? And what about new nuclear plants? I'll guess all these new wonderful things are 20-30 years off into the future, even if you start building today. Again, what's the hold up? And what do we do in the meantime? Study it some more, maybe?\n",
      "NIPSCO Now Agrees It Overstated The Capacity Value for Indiana Wind Resources in Its IRPHOW DOES NIPSCO VALUE CAPACITY FROM POTENTIAL WIND RESOURCES IN ITS IRP?It uses an estimate that the UCAP (ELCC) of wind resources from PPAs of approximately 13.5%-15% of the installed capacity of those resources.IS THIS CONSISTENT WITH MISO’S CALCULATION OF WIND UCAP?It is consistent with the average across the MISO system in 2017 of 15.2%, but the assigned UCAP for wind varies across the zones in the MISO system based on how likely the wind resource is to operate during MISO’s peak demand hours. Further, MISO projects that, as wind penetration increases, the ELCC of wind resources will fall from the current 15.2% towards 12.5%.WHAT UCAP DOES WIND IN INDIANA RECEIVE?As shown in Figure 1 below, wind in Indiana only received 7.4%. That is less than one-half of the ~15% used in NIPSCO’s IRP. The spread of ELCC and UCAP across MISO is shown in Figure 1 below. The higher ELCCs are in the Plains states, while the lowest is in Indiana. \n",
      "So we need to install 1400 times as much as is currently used.\n",
      "And when the wind don't blow what then,it's only 100%when the wind continues  to blow\n",
      "In other news - unspoiled views of nature are exinct.\n",
      "generating near or at the point of use will give us the greatest efficiency\n",
      "But what do you do with the windmill blades when they become no good how do you recycle them ....everything has a life cycle  nothing lasts forever\n",
      "So many lies!!!\n",
      "Still need fossil fuel to run them. SMH.\n",
      "studies will \"find\" whatever their funders want or need\n",
      "Wind generation is evolving in2 devices w/o big propellers.  So we don't kill all the Eagles which R evidently,. according 2 \"energy trolls\",. must B dumber than all other birds. Few will remember a sail boat driven by large \"smoke stack\" looking cylinders 30 yrs ago that has been developing all this time.And,. unless something happens 2 the moon,. tidal powered generation is free &,. virtually perpetual!\n",
      "if it's to windy they shut the wind mills down. They do not work in snow and freezing rain, They are not recyclable when broken they have to be buried, Wind mills do not take care of a city with electricity, So many lies on wind mills that kill more birds,\n",
      "That's great who is going to pay for it!?\n",
      "Most absurd thing I've read all day.\n",
      "there good for 10 years then there no good how is going to pay to put up new ones look at the biger pic\n",
      "Are the solar panels needed to power the turbines when the wind is not blowing?\n",
      "They screwed up a gas can\n",
      "And cost the people a fortune over time like everything else\n",
      "To many Amish on here, Electricity is tha Debel! \n",
      "Only when the wind blows what is your backup plan\n",
      "Yet one more \"study\" in support of the Democrat/leftist agenda. What are the odds?\n",
      "A real wind farm would not look like this. Please stop lying.\n",
      "Know what each wind tower costs and how much power to produce?\n",
      "On paper if they all are running.If, if, if...\n",
      "The magical word is \"potential\".\n",
      "If the wind is blowing\n",
      "how did it work for texas .\n",
      "Yep but only when the wind blows!!!!\n",
      "But the envirowackos won't allow high lines (the distribution needed here) to be built.\n",
      "Omg this is hilarious!!!\n",
      "windmills on everyone’s roof!\n",
      "I do not believe it.\n",
      "junk science\n",
      "When the wind blows...\n",
      "Cool bird choppers .. sure do use the word “potential” a lot  in these falsely green government promotion articles..\n",
      "You need to study the health effects of wind turbines on humans and animals before considering to build more wind turbines. We already know about the infrasound, stray voltage and electromagneitc fields these monsters produce. Stop harming us with your BS!\n",
      "The key word is potentials\n",
      "And kill over a Million Birds a year!\n",
      "This is hogwash.\n",
      "And how many eagles get chopped up?\n",
      "Key word is potential.  Potential gale force winds everyday?\n",
      "Who will save the eagles?\n",
      "...and the other half? Plus all the needed extra power for all those EVs?\n",
      "And how many birds will be turned into chop suey?\n",
      "And of course...now there's THIS.Nothing is as simple as it seems...https://apnews.com/.../climate-storms-science-air...\n",
      "What a joke!!\n",
      "Do you really think anyone is going to publish negative news about green energy?\n",
      "How much will this cost to get to that level? Germany went wind/solar, the bills their citizens paid tripled and now, before the equipment is paid for, its breaking down.....\n",
      "Let me guess.....this study was done by 'experts' right?  \n",
      "And no cancer, win win\n",
      "There are two states that have enough wind potential for the entire country with 2009 technology. It is even more with today's technology.\n",
      "How much oil does each windmill take and how often does it need changing?\n",
      "I love \"electric generating capacity.\" Actual electrical energy generation is a whole different thing when talking of Solar and Wind. Don't get confused. Those plants will NEVER generate their capacity. Sorry, science.\n",
      "Potential not actual.. huge difference. And the storage technology would have to improve over current thousands fold.. it's not there yet. And production is still a narrow range. To slow no power possible. To fast it shakes the mill to pieces.\n",
      "AND - rolling blackouts when the grid is too dependent on the wind. Oops! It's not very windy today - you will have to shut off your A/C and stop charging your car... !\n",
      "Wind energy has been around for decades.  How is it now that \"distributed wind energy\" is changing the world.  It is the exact same thing we have in place.  This is a repackaging by the government to rename something that already exists. Green New Deal propaganda.\n",
      "the biggest economy in the world can not run with green energy alone it would crush\n",
      "Only dumb people and those investing a lot of money into wind and solar power think this is a good idea or even a practical one. To power 760,000 homes with these Windmills you would need to build 810-950 of these, possibly more because the wind turbine only generates about 42% of its capacity in optimal conditions. The number 760,000 is significant because ONE (1) Nuclear power plant can power 760,000 homes. Nuclear power plants produce energy constantly at 100% of their capacity. Just for reference, there are approximately 150 million homes (150,000,000) currently in the US.\n",
      "Wind is funded by government, it don’t make one penny profit, tax payers pay for it them pay more for electricity\n",
      "The future in Thorium reactors cannot melt down and currently Thorium a waste product in rare earth mining and it waste is .06  of our first gen nuclear reactors and the waste is uranium 233 which near useless in make a bomb and will break down in just 300 years but was more dangerous nuclear plant during the 1940s and and the cold war as the first gen uranium 235 was can in nuclear weapon's and waste has storge problem as radioactive for 3000 years but all the funds to research died in the 1940s  and only in the past 5 years has been there any real research but past 3 years majors players are now racing to get them developed. but we at 5-10 years away depending on funding of course\n",
      "All we need is 2 million more wind turbines to mar the landscape!\n",
      "Oh great. More wind turbines to kill our endangered birds and then fill up our landfills.\n",
      "not bad 13 years of high gas and inflation the country will be a 4th world nation by then so the demand will equal the supply\n",
      "None of it will ever happen. But lots of people will get rich getting you to buy it.\n",
      "I am automatically suspicious of any government study.\n",
      "I highly doubt all these claims that are suddenly being tossed around. Why would they start telling the truth now?\n",
      "Lets see now 1gwh = 0.001twh . Multipy that by 1400 gigs and you get 1.4 twh. The US in 2021 used some 3930 twh of power . Seems a might short to me .\n",
      "I'll believe it when I see it!\n",
      "Of course it can\n",
      "And what happens when wind stops and snow covers everything?\n",
      "What happens if there's no wind?\n",
      "Sure it does..\n",
      "They are lying.  The technology is not there and are just hawking for whatever interest groups they are trying to get you to support.  There is probably a good chance that Chinese companies, who will make this stuff (while they build a coal plant/day) are behind this.\n",
      "The country was born through wind ...\n",
      "Bob Carney idiot of the week award. Bob didnt know it take huge amounts of electricity to transport oil and refine it into petrol. What a numpty\n",
      "Potentially?\n",
      "In theory.. wind (and solar) are incapable of providing reliable baseload power.\n",
      "Too bad it requires 100% conventional backup, which means it it is worthless.\n",
      "https://media.firstcoastnews.com/.../7220bc3d-831d-48cc...\n",
      "And kill every bird and bee in this country.  You need to redesign these things!\n",
      "https://www.powermag.com/ercot-miso-warn-of-potential.../\n",
      "Joe Biden and the Dept of Energy are leading us down a dark cold hole. They are bragging when different parts of the country are experiencing brownouts and in summer have rolling black outs.  Green energy is another Democrat failure.\n",
      "So what about millions of birds getting killed  by the wind mills perhaps nuclear would be a better choice\n",
      "45195 REDACTED Petitioner’s Confidential Exhibit No. 1 Northern Indiana Public Service Company LLC Page 1\n",
      "Wind power emits more carbon emissions than coal powered plants... The emissions just come before the unit is installed and after the unit wears out... Wind Power just hides it's emissions better than coal...\n",
      "Only if you count in the wind produced by Green-leaning politicians...\n",
      "What about the piles of dead birds that they kill\n",
      "Just a thought dose Washington D.C. put out anough hot air to make enough wind.\n",
      "Something must be wrong because everytime I drive by a \"WIND FARM\" about half of them are stopped\n",
      "LOL only when the wind is blowing LOL\n",
      "So, it's really about 10%?\n",
      "Who cares if it kills thousands of birds.\n",
      "They on crack\n",
      "When will you people start telling the truth? The pollution and energy used in mining of Lithium and Cobalt for batteries is far worse than burning gas in cars to the planet. And wind mills are not efficient, by the time you gain the energy back it took to manufacture them they are almost obsolete and in need of replacement. Plus all the birds they kill and all the waste they create. Go Green \"Just figure out multiple ways to kill the planet\".\n",
      "AND THE COW JUMPED OVER THE MOON\n",
      "Every sense the economics turned renewables cheaper. It’s not a contest anymore. Lead follow or get out of the way.￼￼\n",
      "How much oil does each windmill take and how often does it need changing?\n",
      "Some more points should be taken care of to improve our renewables. These points are found in the book PUBLICLY SPEAK ECOLOGY. \n",
      "climate killing  massive algorithm controlled wind energy extraction complexes.  what are we doing to Mother Earth.\n",
      "And how many Eagles and Raptors and Waterfowl are going to Die for this\n",
      "Keep spreading that lie of it being clean energy\n",
      "Maybe, possibly, potentially.   More BS hype.\n",
      "T\n",
      "Fantasy land!!\n",
      "nice lie\n",
      "https://www.facebook.com/100007931221419/posts/3107713616169649/\n",
      "Another useless department\n",
      "Hilarious\n",
      "The Pernetic Generator Group LLC is working to bring its design of an alternative energy device that uses solar, wind and or precipitation to generate electricity from drawing board to reality so that we can have pollution free energy relatively pollution free energy!!!!   I can be contacted by email is jkristy546@aol.com send me a message\n",
      "test your climate knowlwdge https://co2coalition.org/climate-quiz/\n",
      "Bull,all lies.\n",
      "https://fb.watch/ccr9eVa923/\n",
      "Fake news!\n",
      "\"the Board of Health in Brown County, Wisconsin, where Green Bay is located, has declared a local industrial wind plant to be a human health hazard. The specific facility consists of eight 500-foot high, 2.5 megawatt industrial wind turbines.\" https://www.michigancapitolconfidential.com/20690\n",
      "Not very good for people/animals. \"Results: All 67 participants associated occurrences of adverse health effects, or the potential for such effects when living within 10 km of a wind energy facility. Some temporarily left during the day and/or night to alleviate effects. Discussion: This article presents an overview of results with additional details pending in future peer-reviewed articles.\" https://m.scirp.org/papers/101098\n",
      "Glad I'll be dead by then\n",
      "WOFTAM\n",
      "More liars!!!\n",
      "BS\n",
      "very much!!\n",
      "Burying the remnants of the giant blades is so \"green\". Open pits for coal, lithium, and hiding windmill blades!!! Look at the articles about Casper Wyoming being a graveyard for them nothing like making land completely useless!!!\n",
      "Liars\n",
      "That is BS, pure and simple.  It will be at LEAST 70 years until we can stop using oil, coal and gas.  The government cannot MANDATE success of anything...it's up to the free market  to WANT it, and BUY it, and make it profitable to whomever invents it.\n",
      "BS\n",
      "Nuclear\n",
      "Wonder who done that study ?\n",
      "Clean\n",
      "How much oil will they need for lube? Are fins recyclable yet? Have they overcome killing our  eagles yet?\n",
      "Uncle Sam has plenty of \"hot air\" . Talk big....done nothing.\n",
      "What happens when the wind don’t blow and we have gotten rid of the gas and coal power plants.  We would all look like California\n",
      "Bs\n",
      "balderdash\n",
      "More computer modeled fraud. Patently nonsense.\n",
      "LMAO.\n",
      "Aaaaaand.  No birds\n",
      "Study by whom ?\n",
      "BS\n",
      "What a joke.\n",
      "Study finds that all articles claiming unreliable renewables are doing good have been paid by very very corrupt organisations  \n"
     ]
    },
    {
     "name": "stdout",
     "output_type": "stream",
     "text": [
      "Press Enter after closing the comments for the post... \n"
     ]
    },
    {
     "name": "stdout",
     "output_type": "stream",
     "text": [
      "Post 5: Study Finds Distributed Wind Energy Potential Equivalent to Half of National Electricity DemandNREL released the Distributed Wind Energy Futures Study, which details the high potential to profitably deploy nearly 1,400 gigawatts (GW) of distributed wind capacity across the United States.\n"
     ]
    },
    {
     "name": "stdout",
     "output_type": "stream",
     "text": [
      "Press Enter after opening the comments for the post... \n"
     ]
    },
    {
     "name": "stdout",
     "output_type": "stream",
     "text": [
      "Comments collected. You can now close the comments section.\n",
      "No comments found for this post.\n"
     ]
    },
    {
     "name": "stdout",
     "output_type": "stream",
     "text": [
      "Press Enter after closing the comments for the post... \n"
     ]
    },
    {
     "name": "stdout",
     "output_type": "stream",
     "text": [
      "Post 6:  #BTS in collaboration with @nbcucatalyst at one of one of @ClearwayEnergy's wind farms in the great state of Idaho. In 2022, @TotalEnergies acquired 50 percent of #Clearway, the th largest #solar and #wind energy player in the United States, to further accelerate its activity in the fast-growing U.S. #renewable electricity market. ⁣Stay tuned for an upcoming episode of The Roads to Carbon Neutral featuring one of our employees explaining how successful #partnership… See more\n"
     ]
    },
    {
     "name": "stdout",
     "output_type": "stream",
     "text": [
      "Press Enter after opening the comments for the post... \n"
     ]
    },
    {
     "name": "stdout",
     "output_type": "stream",
     "text": [
      "Comments collected. You can now close the comments section.\n",
      "No comments found for this post.\n"
     ]
    },
    {
     "name": "stdout",
     "output_type": "stream",
     "text": [
      "Press Enter after closing the comments for the post... \n"
     ]
    },
    {
     "name": "stdout",
     "output_type": "stream",
     "text": [
      "Post 7: ACEN Corp., the Ayala Group’s listed energy platform, is adding yet another renewable energy asset to its portfolio by investing in a wind energy project in the United States.\n"
     ]
    },
    {
     "name": "stdout",
     "output_type": "stream",
     "text": [
      "Press Enter after opening the comments for the post... \n"
     ]
    },
    {
     "name": "stdout",
     "output_type": "stream",
     "text": [
      "Comments collected. You can now close the comments section.\n",
      "No comments found for this post.\n"
     ]
    },
    {
     "name": "stdout",
     "output_type": "stream",
     "text": [
      "Press Enter after closing the comments for the post... \n"
     ]
    },
    {
     "name": "stdout",
     "output_type": "stream",
     "text": [
      "Post 8: ACEN to acquire another asset in the USMANILA, Philippines — ACEN Corp., the Ayala Group’s listed energy platform, is adding yet another renewable energy asset to its portfolio by investing in a wind energy project in the United\n"
     ]
    },
    {
     "name": "stdout",
     "output_type": "stream",
     "text": [
      "Press Enter after opening the comments for the post... \n"
     ]
    },
    {
     "name": "stdout",
     "output_type": "stream",
     "text": [
      "Comments collected. You can now close the comments section.\n",
      "No comments found for this post.\n"
     ]
    },
    {
     "name": "stdout",
     "output_type": "stream",
     "text": [
      "Press Enter after closing the comments for the post... \n"
     ]
    },
    {
     "name": "stdout",
     "output_type": "stream",
     "text": [
      "Post 9: The U.S. Department of Interior announced it is seeking public comment on two draft wind energy areas, one around 56 nautical miles off the coast of Cameron.\n"
     ]
    },
    {
     "name": "stdout",
     "output_type": "stream",
     "text": [
      "Press Enter after opening the comments for the post... \n"
     ]
    },
    {
     "name": "stdout",
     "output_type": "stream",
     "text": [
      "Comments collected. You can now close the comments section.\n",
      "Comments:\n",
      "Where exactly is the coast of lake charles\n",
      "They won't last threw a hurricane. It'll be a waste of money. Not to mention It'll destroy alot of birds.\n",
      "Yea I wanna see them holdup to Laura Delta and Ida just to name a few\n",
      "Where will you bury the blades.  Plus all the oil used in them will keep some plant supply going.\n",
      "First off don't leave it up to the government to make the right choice or to have a sensible budget\n",
      "Hurricanes will tear them up\n",
      "Bring it on. We can build a couple of new substations!!\n",
      "Hurricanes would destroy.  What a stupid idea\n",
      "Yea, China can just drop them off from their new joint Russian base in South America\n"
     ]
    },
    {
     "name": "stdout",
     "output_type": "stream",
     "text": [
      "Press Enter after closing the comments for the post... \n"
     ]
    },
    {
     "name": "stdout",
     "output_type": "stream",
     "text": [
      "Post 10: Wind energy could be coming to the coast of Southwest LouisianaAn effort to reduce our carbon footprint is making its way to Southwest Louisiana.\n"
     ]
    },
    {
     "name": "stdout",
     "output_type": "stream",
     "text": [
      "Press Enter after opening the comments for the post... \n"
     ]
    },
    {
     "name": "stdout",
     "output_type": "stream",
     "text": [
      "Comments collected. You can now close the comments section.\n",
      "No comments found for this post.\n"
     ]
    },
    {
     "name": "stdout",
     "output_type": "stream",
     "text": [
      "Press Enter after closing the comments for the post... \n"
     ]
    },
    {
     "name": "stdout",
     "output_type": "stream",
     "text": [
      "Post 11: Wind power is an underused source of electricity. Click to see Arizona's untapped wind energy potential compared to other states.\n"
     ]
    },
    {
     "name": "stdout",
     "output_type": "stream",
     "text": [
      "Press Enter after opening the comments for the post... \n"
     ]
    },
    {
     "name": "stdout",
     "output_type": "stream",
     "text": [
      "Comments collected. You can now close the comments section.\n",
      "No comments found for this post.\n"
     ]
    },
    {
     "name": "stdout",
     "output_type": "stream",
     "text": [
      "Press Enter after closing the comments for the post... \n"
     ]
    },
    {
     "name": "stdout",
     "output_type": "stream",
     "text": [
      "Post 12: States with the most untapped wind energy potentialStacker compared installed wind energy capacity in the continental U.S. to potential wind energy capacity and explored how wind power is being implemented.\n"
     ]
    },
    {
     "name": "stdout",
     "output_type": "stream",
     "text": [
      "Press Enter after opening the comments for the post... \n"
     ]
    },
    {
     "name": "stdout",
     "output_type": "stream",
     "text": [
      "Comments collected. You can now close the comments section.\n",
      "No comments found for this post.\n"
     ]
    },
    {
     "name": "stdout",
     "output_type": "stream",
     "text": [
      "Press Enter after closing the comments for the post... \n"
     ]
    },
    {
     "name": "stdout",
     "output_type": "stream",
     "text": [
      "Post 13: “IEA has given us every opportunity to provide for our families,” said T. “There’s a place for everybody with opportunity at IEA.” Born and raised in Samoa, Nepukanesa Iele, known as “T\" on-site, came to the United States for a better future. He found a place at IEA and recruited a Samoan crew - one that is highly requested on our wind energy projects. #opportunityatieaRead the full story here: https://iea.net/.../general-foreman-recruits-entire-crew...\n"
     ]
    },
    {
     "name": "stdout",
     "output_type": "stream",
     "text": [
      "Press Enter after opening the comments for the post... \n"
     ]
    },
    {
     "name": "stdout",
     "output_type": "stream",
     "text": [
      "Comments collected. You can now close the comments section.\n",
      "No comments found for this post.\n"
     ]
    },
    {
     "name": "stdout",
     "output_type": "stream",
     "text": [
      "Press Enter after closing the comments for the post... \n"
     ]
    },
    {
     "name": "stdout",
     "output_type": "stream",
     "text": [
      "Post 14: Largest offshore wind energy auction underwayBk0183It1KyeP5DyDNn2pd5OCq\n"
     ]
    },
    {
     "name": "stdout",
     "output_type": "stream",
     "text": [
      "Press Enter after opening the comments for the post... \n"
     ]
    },
    {
     "name": "stdout",
     "output_type": "stream",
     "text": [
      "Comments collected. You can now close the comments section.\n",
      "No comments found for this post.\n"
     ]
    },
    {
     "name": "stdout",
     "output_type": "stream",
     "text": [
      "Press Enter after closing the comments for the post... \n"
     ]
    },
    {
     "name": "stdout",
     "output_type": "stream",
     "text": [
      "Post 15: Wind Energy is one of the fastest growing industries in the United States and Virginia is on the leading edge. The recent launch of the Mid-Atlantic Wind Training Alliance positions New College Institute as a leader in wind industry training. — with New College Institute.All the training you need to start your career in Wind Energy is right here in Virginia at New College Institute. Wind Energy is the future, and it can be your future too.— with New College Institute.http://www.newcollegeinstitute.org/— with New College Institute.\n"
     ]
    },
    {
     "name": "stdout",
     "output_type": "stream",
     "text": [
      "Press Enter after opening the comments for the post... \n"
     ]
    },
    {
     "name": "stdout",
     "output_type": "stream",
     "text": [
      "Comments collected. You can now close the comments section.\n",
      "No comments found for this post.\n"
     ]
    },
    {
     "name": "stdout",
     "output_type": "stream",
     "text": [
      "Press Enter after closing the comments for the post... \n"
     ]
    },
    {
     "name": "stdout",
     "output_type": "stream",
     "text": [
      "Post 16: PriyaWind Energy is one of the fastest growing industries in the United States and Virginia is on the leading edge. The recent launch of the Mid-Atlantic Wind Training Alliance positions New College Institute as a leader in wind industry training. \n",
      "All the training you need to start your career in Wind Energy is right here in Virginia at New College Institute. Wind Energy is the future, and it can be your future too.\n",
      "\n",
      "http://www.newcollegeinstitute.org/\n"
     ]
    },
    {
     "name": "stdout",
     "output_type": "stream",
     "text": [
      "Press Enter after opening the comments for the post... \n"
     ]
    },
    {
     "name": "stdout",
     "output_type": "stream",
     "text": [
      "Comments collected. You can now close the comments section.\n",
      "No comments found for this post.\n"
     ]
    },
    {
     "name": "stdout",
     "output_type": "stream",
     "text": [
      "Press Enter after closing the comments for the post... \n"
     ]
    },
    {
     "name": "stdout",
     "output_type": "stream",
     "text": [
      "Post 17: NOAA’s Seamless System for Prediction and EArth System Research (SPEAR) shows great skill at predicting year-to-year variability in wind energy, especially in spring over the Southern Great Plains, where more than half of the total U.S. wind capacity is located.\n"
     ]
    },
    {
     "name": "stdout",
     "output_type": "stream",
     "text": [
      "Press Enter after opening the comments for the post... \n"
     ]
    },
    {
     "name": "stdout",
     "output_type": "stream",
     "text": [
      "Comments collected. You can now close the comments section.\n",
      "No comments found for this post.\n"
     ]
    },
    {
     "name": "stdout",
     "output_type": "stream",
     "text": [
      "Press Enter after closing the comments for the post... \n"
     ]
    },
    {
     "name": "stdout",
     "output_type": "stream",
     "text": [
      "Post 18: Skillful seasonal prediction of wind energy resources in the contiguous United StatesNOAA’s Seamless System for Prediction and EArth System Research (SPEAR) shows great skill at predicting year-to-year variability in wind energy, especially in spring over the Southern Great Plains, where more than half of the total U.S. wind capacity is located.\n"
     ]
    },
    {
     "name": "stdout",
     "output_type": "stream",
     "text": [
      "Press Enter after opening the comments for the post... \n"
     ]
    },
    {
     "name": "stdout",
     "output_type": "stream",
     "text": [
      "Comments collected. You can now close the comments section.\n",
      "No comments found for this post.\n"
     ]
    },
    {
     "name": "stdout",
     "output_type": "stream",
     "text": [
      "Press Enter after closing the comments for the post... \n"
     ]
    },
    {
     "name": "stdout",
     "output_type": "stream",
     "text": [
      "Post 19: Denmark is constructing the world’s first wind energy island – with the potential of supplying electricity for up to 10 million European households! #LeadersClimateSummit #DenmarkinUSA #SusDANEability\n"
     ]
    },
    {
     "name": "stdout",
     "output_type": "stream",
     "text": [
      "Press Enter after opening the comments for the post... \n"
     ]
    },
    {
     "name": "stdout",
     "output_type": "stream",
     "text": [
      "Comments collected. You can now close the comments section.\n",
      "No comments found for this post.\n"
     ]
    },
    {
     "name": "stdout",
     "output_type": "stream",
     "text": [
      "Press Enter after closing the comments for the post... \n"
     ]
    },
    {
     "name": "stdout",
     "output_type": "stream",
     "text": [
      "Post 20: PriyaDenmark is constructing the world’s first wind energy island – with the potential of supplying electricity for up to 10 million European households! \n",
      "\n",
      "#LeadersClimateSummit #DenmarkinUSA #SusDANEability\n"
     ]
    },
    {
     "name": "stdout",
     "output_type": "stream",
     "text": [
      "Press Enter after opening the comments for the post... \n"
     ]
    },
    {
     "name": "stdout",
     "output_type": "stream",
     "text": [
      "Comments collected. You can now close the comments section.\n",
      "No comments found for this post.\n"
     ]
    },
    {
     "name": "stdout",
     "output_type": "stream",
     "text": [
      "Press Enter after closing the comments for the post... \n"
     ]
    },
    {
     "name": "stdout",
     "output_type": "stream",
     "text": [
      "Data has been saved to wind_energy_usa.csv\n"
     ]
    }
   ],
   "source": [
    "from bs4 import BeautifulSoup\n",
    "from selenium import webdriver\n",
    "from selenium.webdriver.common.by import By\n",
    "from selenium.webdriver.common.keys import Keys\n",
    "import time\n",
    "import pandas as pd\n",
    "\n",
    "# URL of the target Facebook page\n",
    "target_url = \"https://www.facebook.com\"\n",
    "\n",
    "# Initialize the Chrome WebDriver\n",
    "driver = webdriver.Chrome()\n",
    "\n",
    "# Navigate to Facebook and log in\n",
    "driver.get(target_url)\n",
    "username = driver.find_element(By.ID, 'email')\n",
    "password = driver.find_element(By.ID, 'pass')\n",
    "username.send_keys('email')  # Replace with your Facebook email\n",
    "password.send_keys('Password')  # Replace with your Facebook password\n",
    "password.send_keys(Keys.RETURN)\n",
    "\n",
    "# Allow some time for the login to complete and CAPTCHA to appear\n",
    "time.sleep(5)\n",
    "\n",
    "# Wait for manual CAPTCHA solving\n",
    "input(\"Press Enter after solving the CAPTCHA...\")\n",
    "\n",
    "# Navigate to the desired Facebook search page for wind energy in the USA\n",
    "driver.get('https://www.facebook.com/search/posts/?q=wind%20energy%20in%20United%20States')\n",
    "\n",
    "# Allow some time for the page to load\n",
    "time.sleep(5)\n",
    "\n",
    "# Initialize empty lists to store the extracted posts and comments\n",
    "posts = []\n",
    "comments = []\n",
    "\n",
    "# Loop to scroll the page and collect posts about wind energy in the USA\n",
    "for _ in range(50):  # Adjust the range as necessary to collect more or fewer posts\n",
    "    # Scroll the page\n",
    "    driver.execute_script('window.scrollTo(0, document.body.scrollHeight);')\n",
    "    time.sleep(2)  # Adjust sleep time as necessary to allow the page to load\n",
    "\n",
    "    # Get the page source\n",
    "    resp = driver.page_source\n",
    "\n",
    "    # Parse the page source with BeautifulSoup\n",
    "    soup = BeautifulSoup(resp, 'html.parser')\n",
    "\n",
    "    # Find the specific divs containing the required post information\n",
    "    items = soup.find_all('div', {'class': 'x78zum5 xdt5ytf xz62fqu x16ldp7u'})\n",
    "\n",
    "    # Iterate through each item and extract the desired information\n",
    "    for item in items:\n",
    "        post_content = item.get_text()\n",
    "        if \"wind energy\" in post_content.lower() and post_content not in posts:\n",
    "            posts.append(post_content)\n",
    "            if len(posts) == 20:  # Stop after collecting 20 posts\n",
    "                break\n",
    "    if len(posts) >= 20:\n",
    "        break\n",
    "\n",
    "# Function to scroll and scrape comments for a specific post\n",
    "def scrape_comments():\n",
    "    # Get the page source\n",
    "    resp = driver.page_source\n",
    "\n",
    "    # Parse the page source with BeautifulSoup\n",
    "    soup = BeautifulSoup(resp, 'html.parser')\n",
    "\n",
    "    # Find the specific divs containing the comments\n",
    "    comments_section = soup.find_all('div', {'class': 'xdj266r x11i5rnm xat24cr x1mh8g0r x1vvkbs'})\n",
    "    post_comments = []\n",
    "    for comment in comments_section:\n",
    "        comment_text = comment.get_text()\n",
    "        if comment_text:\n",
    "            post_comments.append(comment_text)\n",
    "\n",
    "    return post_comments\n",
    "\n",
    "# Loop through the collected posts to scrape comments\n",
    "for idx, post in enumerate(posts):\n",
    "    print(f\"Post {idx + 1}: {post}\")\n",
    "    \n",
    "    # Pause the script to allow manual opening of comments\n",
    "    input(\"Press Enter after opening the comments for the post...\")\n",
    "\n",
    "    # Scroll and wait for comments to load\n",
    "    for _ in range(10):\n",
    "        driver.execute_script('window.scrollTo(0, document.body.scrollHeight);')\n",
    "        time.sleep(2)  # Adjust sleep time as necessary to allow comments to load\n",
    "\n",
    "    # Scrape comments for the current post\n",
    "    post_comments = scrape_comments()\n",
    "    comments.append(post_comments)\n",
    "    print(\"Comments collected. You can now close the comments section.\")\n",
    "\n",
    "    # Print comments for the current post\n",
    "    if post_comments:  # Check if there are comments\n",
    "        print(\"Comments:\")\n",
    "        for comment in post_comments:\n",
    "            print(comment)\n",
    "    else:\n",
    "        print(\"No comments found for this post.\")\n",
    "    \n",
    "    # Print a message to let you know to close the comments\n",
    "    input(\"Press Enter after closing the comments for the post...\")\n",
    "\n",
    "# Prepare data for CSV export\n",
    "data = []\n",
    "for idx, content in enumerate(posts):\n",
    "    if idx < len(comments):  # Ensure there's a comment entry\n",
    "        for comment in comments[idx]:\n",
    "            data.append([content, comment])\n",
    "    else:\n",
    "        data.append([content, None])\n",
    "\n",
    "# Create a DataFrame and save it to CSV\n",
    "df = pd.DataFrame(data, columns=['Post', 'Comment'])\n",
    "df.to_csv('wind_energy_usa.csv', index=False)\n",
    "\n",
    "print(\"Data has been saved to wind_energy_usa.csv\")\n"
   ]
  },
  {
   "cell_type": "code",
   "execution_count": null,
   "id": "89021550-a017-4591-80fb-9eeab23820a6",
   "metadata": {},
   "outputs": [],
   "source": []
  }
 ],
 "metadata": {
  "kernelspec": {
   "display_name": "Python 3 (ipykernel)",
   "language": "python",
   "name": "python3"
  },
  "language_info": {
   "codemirror_mode": {
    "name": "ipython",
    "version": 3
   },
   "file_extension": ".py",
   "mimetype": "text/x-python",
   "name": "python",
   "nbconvert_exporter": "python",
   "pygments_lexer": "ipython3",
   "version": "3.11.5"
  }
 },
 "nbformat": 4,
 "nbformat_minor": 5
}
