{
 "cells": [
  {
   "cell_type": "code",
   "execution_count": 1,
   "id": "89a88a4f-ca61-4d1a-a8d5-65cb18bb3565",
   "metadata": {
    "tags": []
   },
   "outputs": [
    {
     "name": "stdout",
     "output_type": "stream",
     "text": [
      "Press Enter after solving the CAPTCHA... \n"
     ]
    },
    {
     "name": "stdout",
     "output_type": "stream",
     "text": [
      "Post 1: Solar Energy Industries Association  · Shared with Public\n"
     ]
    },
    {
     "name": "stdout",
     "output_type": "stream",
     "text": [
      "Press Enter after opening the comments for the post... \n"
     ]
    },
    {
     "name": "stdout",
     "output_type": "stream",
     "text": [
      "Comments collected. You can now close the comments section.\n",
      "Comments:\n",
      "Wow that’s a lot!  Do you have estimates for commercial installs?\n",
      "For a country with that many people the number is surprisingly tiny! Australia is 1/12th the population and we have 3.76 million residential systems (35.6 Gw) already. In peak insolation times renewables have hit 80% of some states generation capacity. I think its because we pay around $1 per watt installed. https://pv-map.apvi.org.au/analyses\n",
      "I'm still betting on COAL!People say they that government shouldn't pick winners, well, I'm picking a *LOSER*!Tremendous!\n",
      "10 Million!?!?!?!?!\n",
      "As long as they're without unconstitutional federal subsidies, to arbitrarily buy reelection votes and crony kickbacks, at the forced make-up-for expense of all other taxpayers, great!\n",
      "The U.S. should be installing solar at a rate of 1,000 square miles of solar panels per year.\n",
      "Every SP mounting point on your shingles is a failure point. Good luck.\n",
      "Love helping homeowners every day!\n",
      "DON'T DO IT! Australia has a much higher percentage of houses with solar, and it's proving to be a nightmare for the grid.\n",
      "And all will fail with payments still required\n",
      "Germany 81GW, 357.592 km² -- USA 170GW, 9.834.000 km²\n"
     ]
    },
    {
     "name": "stdout",
     "output_type": "stream",
     "text": [
      "Press Enter after closing the comments for the post... \n"
     ]
    },
    {
     "name": "stdout",
     "output_type": "stream",
     "text": [
      "Post 2: \"A robust solar energy industry in the United States is crucial to the nation’s goal of a low-carbon future. But the prospects for solar energy are not looking bright these days, because the United States has allowed China to dominate the industry,\" writes  Robert Holleyman, who served as the deputy U.S. trade representative during the Obama administration.\n"
     ]
    },
    {
     "name": "stdout",
     "output_type": "stream",
     "text": [
      "Press Enter after opening the comments for the post... \n"
     ]
    },
    {
     "name": "stdout",
     "output_type": "stream",
     "text": [
      "Comments collected. You can now close the comments section.\n",
      "Comments:\n",
      "Private corporations seem to have no issues going to China for goods and manufacture because it is cheaper and allows greater profits to shareholders. They have chosen to close domestic plants, lay off domestic workers and pay fewer taxes. Now, who is responsible, again?\n",
      "China is definitely a problem. Their low labor costs and government subsidies make them very attractive to international manufacturing corporations and, as a nation, they refuse to play nice in the world of global trade. However, robust international trade, economies of scale, and recognizing the reality of comparative advantage not only keep prices lower they also are an excellent hedge against future military conflicts. Quite the conundrum.\n",
      "Agreed. Arguments about the environment aside, when has it benefited a nation to NOT be at the forefront of New technology?\n",
      "No to solar energy and the amount of territory it needs! No to it!\n"
     ]
    },
    {
     "name": "stdout",
     "output_type": "stream",
     "text": [
      "Press Enter after closing the comments for the post... \n"
     ]
    },
    {
     "name": "stdout",
     "output_type": "stream",
     "text": [
      "Post 3: Opinion | America Can’t Allow China to Keep Crushing Our Solar Energy IndustryThe Biden administration is taking a gamble that furthers our reliance on China without providing the essential elements to build our domestic solar industry.\n"
     ]
    },
    {
     "name": "stdout",
     "output_type": "stream",
     "text": [
      "Press Enter after opening the comments for the post... \n"
     ]
    },
    {
     "name": "stdout",
     "output_type": "stream",
     "text": [
      "Comments collected. You can now close the comments section.\n",
      "Comments:\n",
      "Private corporations seem to have no issues going to China for goods and manufacture because it is cheaper and allows greater profits to shareholders. They have chosen to close domestic plants, lay off domestic workers and pay fewer taxes. Now, who is responsible, again?\n",
      "China is definitely a problem. Their low labor costs and government subsidies make them very attractive to international manufacturing corporations and, as a nation, they refuse to play nice in the world of global trade. However, robust international trade, economies of scale, and recognizing the reality of comparative advantage not only keep prices lower they also are an excellent hedge against future military conflicts. Quite the conundrum.\n",
      "Agreed. Arguments about the environment aside, when has it benefited a nation to NOT be at the forefront of New technology?\n",
      "No to solar energy and the amount of territory it needs! No to it!\n"
     ]
    },
    {
     "name": "stdout",
     "output_type": "stream",
     "text": [
      "Press Enter after closing the comments for the post... \n"
     ]
    },
    {
     "name": "stdout",
     "output_type": "stream",
     "text": [
      "Post 4: United States (US)-based solar energy firm Maxeon plans to make a $900 million solar energy investment in the Philippines that would create an estimated 3,000 jobs.#ManilaBulletin\n"
     ]
    },
    {
     "name": "stdout",
     "output_type": "stream",
     "text": [
      "Press Enter after opening the comments for the post... \n"
     ]
    },
    {
     "name": "stdout",
     "output_type": "stream",
     "text": [
      "Comments collected. You can now close the comments section.\n",
      "Comments:\n",
      "USA should invest in civil infrastructures like expressways, railways, dams, and bridges to prove they are not planning to destroy the Philippines via a proxy war.\n",
      "The best President Marcos\n",
      "Iba tlga ang me alam kesa laging lutang ����� Kung Yung isa Yan bka magkalat lng ���\n",
      "Iba tlga ang me alam kesa laging lutang ����� Kung Yung isa Yan bka magkalat lng ���\n"
     ]
    },
    {
     "name": "stdout",
     "output_type": "stream",
     "text": [
      "Press Enter after closing the comments for the post... \n"
     ]
    },
    {
     "name": "stdout",
     "output_type": "stream",
     "text": [
      "Post 5: US solar firm seeks PH expansion: $900M investment, 3k jobsUnited States (US)-based solar energy firm Maxeon plans to make a $900 million solar energy investment in the Philippines that would create an estimated 3,000 jobs.\n"
     ]
    },
    {
     "name": "stdout",
     "output_type": "stream",
     "text": [
      "Press Enter after opening the comments for the post... \n"
     ]
    },
    {
     "name": "stdout",
     "output_type": "stream",
     "text": [
      "Comments collected. You can now close the comments section.\n",
      "No comments found for this post.\n"
     ]
    },
    {
     "name": "stdout",
     "output_type": "stream",
     "text": [
      "Press Enter after closing the comments for the post... \n"
     ]
    },
    {
     "name": "stdout",
     "output_type": "stream",
     "text": [
      "Post 6: The largest solar energy and storage project in the U.S. came online in California last week. \n"
     ]
    },
    {
     "name": "stdout",
     "output_type": "stream",
     "text": [
      "Press Enter after opening the comments for the post... \n"
     ]
    },
    {
     "name": "stdout",
     "output_type": "stream",
     "text": [
      "Comments collected. You can now close the comments section.\n",
      "Comments:\n",
      "How many Congo kids will suffer for life after digging up the Colbalt by slave labor? More then the # of kilowatts you'll get daily from thos hunk of junk\n"
     ]
    },
    {
     "name": "stdout",
     "output_type": "stream",
     "text": [
      "Press Enter after closing the comments for the post... \n"
     ]
    },
    {
     "name": "stdout",
     "output_type": "stream",
     "text": [
      "Post 7: More solar panels were manufactured in the United States in the first quarter of 2024 than during the entire year of 2018, according to a new report from the Solar Energy Industries Assn.\n"
     ]
    },
    {
     "name": "stdout",
     "output_type": "stream",
     "text": [
      "Press Enter after opening the comments for the post... \n"
     ]
    },
    {
     "name": "stdout",
     "output_type": "stream",
     "text": [
      "Comments collected. You can now close the comments section.\n",
      "Comments:\n",
      "Good paying American jobs. And a way to help with the energy issues we have as a nation.  This is a great win for America\n",
      "We are being blessed with one across the road\n",
      "Still cheaper to pay the electric company.\n",
      "Would be nice if they didn't cost $50k to outfit your house \n",
      "Great job...\n",
      "More  wasted time and money\n",
      "Keeping jobs here. Not sending them overseas.\n",
      "Oh no, woke energy\n",
      "Subsidies \n",
      "am so delighted to be completely cured ofDiabetes . After having it since March 4th of 2022. I did some online research when I came Across doctor sambola. I was amazed when I Came across some of his Works And those he has helped, I decided to Contact him For help, Which He Kindly did Wholeheartedly, I received his herbal medicine through DHL and I am glad To be finally healed Of diabetes. You can collect his WHATSapp number in his page .. to testify too Dr sambola herbal home\n"
     ]
    },
    {
     "name": "stdout",
     "output_type": "stream",
     "text": [
      "Press Enter after closing the comments for the post... \n"
     ]
    },
    {
     "name": "stdout",
     "output_type": "stream",
     "text": [
      "Post 8: Solar Energy Industries Association  · Follow  · Shared with Public\n"
     ]
    },
    {
     "name": "stdout",
     "output_type": "stream",
     "text": [
      "Press Enter after opening the comments for the post... \n"
     ]
    },
    {
     "name": "stdout",
     "output_type": "stream",
     "text": [
      "Comments collected. You can now close the comments section.\n",
      "Comments:\n",
      "Independence Renewable Energy has been installing QCell products for years. Great to see more domestic production!\n",
      "Norman Johnson If you are Looking for Qualified Solar Leads join our group,Join and be a part of our Family,https://www.facebook.com/groups/qualifiedsolarmarketing\n",
      "I will provide solarCold callingSet your opointments\n",
      "It would be better if an American company built a $2.5 billion dollar plant in Georgia.  Its called GDP and GDD\n"
     ]
    },
    {
     "name": "stdout",
     "output_type": "stream",
     "text": [
      "Press Enter after closing the comments for the post... \n"
     ]
    },
    {
     "name": "stdout",
     "output_type": "stream",
     "text": [
      "Post 9: Congratulations to the Solar Energy Industries Association (SEIA) on their 50th anniversary! It was an honor for ACORE team members to attend the #GoldenGala and commemorate this significant milestone.We commend President and CEO Abby Hopper and the entire SEIA team for their unwavering commitment and visionary leadership in advancing #SolarPower in the United States.Here's to SEIA and working together to build America's #CleanEnergy future! \n"
     ]
    },
    {
     "name": "stdout",
     "output_type": "stream",
     "text": [
      "Press Enter after opening the comments for the post... \n"
     ]
    },
    {
     "name": "stdout",
     "output_type": "stream",
     "text": [
      "Comments collected. You can now close the comments section.\n",
      "No comments found for this post.\n"
     ]
    },
    {
     "name": "stdout",
     "output_type": "stream",
     "text": [
      "Press Enter after closing the comments for the post... \n"
     ]
    },
    {
     "name": "stdout",
     "output_type": "stream",
     "text": [
      "Post 10: PriyaCongratulations to the Solar Energy Industries Association (SEIA) on their 50th anniversary! It was an honor for ACORE team members to attend the #GoldenGala and commemorate this significant milestone.\n",
      "\n",
      "We commend President and CEO Abby Hopper and the entire SEIA team for their unwavering commitment and visionary leadership in advancing #SolarPower in the United States.\n",
      "\n",
      "Here's to SEIA and working together to build America's #CleanEnergy future! \n"
     ]
    },
    {
     "name": "stdout",
     "output_type": "stream",
     "text": [
      "Press Enter after opening the comments for the post... \n"
     ]
    },
    {
     "name": "stdout",
     "output_type": "stream",
     "text": [
      "Comments collected. You can now close the comments section.\n",
      "No comments found for this post.\n"
     ]
    },
    {
     "name": "stdout",
     "output_type": "stream",
     "text": [
      "Press Enter after closing the comments for the post... \n"
     ]
    },
    {
     "name": "stdout",
     "output_type": "stream",
     "text": [
      "Data has been saved to solar_energy_usa.csv\n"
     ]
    }
   ],
   "source": [
    "from bs4 import BeautifulSoup\n",
    "from selenium import webdriver\n",
    "from selenium.webdriver.common.by import By\n",
    "from selenium.webdriver.common.keys import Keys\n",
    "import time\n",
    "import pandas as pd\n",
    "\n",
    "# URL of the target Facebook page\n",
    "target_url = \"https://www.facebook.com\"\n",
    "\n",
    "# Initialize the Chrome WebDriver\n",
    "driver = webdriver.Chrome()\n",
    "\n",
    "# Navigate to Facebook and log in\n",
    "driver.get(target_url)\n",
    "username = driver.find_element(By.ID, 'email')\n",
    "password = driver.find_element(By.ID, 'pass')\n",
    "username.send_keys('email')  # Replace with your Facebook email\n",
    "password.send_keys('Password')  # Replace with your Facebook password\n",
    "password.send_keys(Keys.RETURN)\n",
    "\n",
    "# Allow some time for the login to complete and CAPTCHA to appear\n",
    "time.sleep(5)\n",
    "\n",
    "# Wait for manual CAPTCHA solving\n",
    "input(\"Press Enter after solving the CAPTCHA...\")\n",
    "\n",
    "# Navigate to the desired Facebook search page for solar energy in the USA\n",
    "driver.get('https://www.facebook.com/search/posts/?q=solar%20energy%20in%20United%20States')\n",
    "\n",
    "# Allow some time for the page to load\n",
    "time.sleep(5)\n",
    "\n",
    "# Initialize empty lists to store the extracted posts and comments\n",
    "posts = []\n",
    "comments = []\n",
    "\n",
    "# Loop to scroll the page and collect posts about solar energy in the USA\n",
    "for _ in range(50):  # Adjust the range as necessary to collect more or fewer posts\n",
    "    # Scroll the page\n",
    "    driver.execute_script('window.scrollTo(0, document.body.scrollHeight);')\n",
    "    time.sleep(2)  # Adjust sleep time as necessary to allow the page to load\n",
    "\n",
    "    # Get the page source\n",
    "    resp = driver.page_source\n",
    "\n",
    "    # Parse the page source with BeautifulSoup\n",
    "    soup = BeautifulSoup(resp, 'html.parser')\n",
    "\n",
    "    # Find the specific divs containing the required post information\n",
    "    items = soup.find_all('div', {'class': 'x78zum5 xdt5ytf xz62fqu x16ldp7u'})\n",
    "\n",
    "    # Iterate through each item and extract the desired information\n",
    "    for item in items:\n",
    "        post_content = item.get_text()\n",
    "        if \"solar energy\" in post_content.lower() and post_content not in posts:\n",
    "            posts.append(post_content)\n",
    "            if len(posts) == 20:  # Stop after collecting 20 posts\n",
    "                break\n",
    "    if len(posts) >= 20:\n",
    "        break\n",
    "\n",
    "# Function to scroll and scrape comments for a specific post\n",
    "def scrape_comments():\n",
    "    # Get the page source\n",
    "    resp = driver.page_source\n",
    "\n",
    "    # Parse the page source with BeautifulSoup\n",
    "    soup = BeautifulSoup(resp, 'html.parser')\n",
    "\n",
    "    # Find the specific divs containing the comments\n",
    "    comments_section = soup.find_all('div', {'class': 'xdj266r x11i5rnm xat24cr x1mh8g0r x1vvkbs'})\n",
    "    post_comments = []\n",
    "    for comment in comments_section:\n",
    "        comment_text = comment.get_text()\n",
    "        if comment_text:\n",
    "            post_comments.append(comment_text)\n",
    "\n",
    "    return post_comments\n",
    "\n",
    "# Loop through the collected posts to scrape comments\n",
    "for idx, post in enumerate(posts):\n",
    "    print(f\"Post {idx + 1}: {post}\")\n",
    "    \n",
    "    # Pause the script to allow manual opening of comments\n",
    "    input(\"Press Enter after opening the comments for the post...\")\n",
    "\n",
    "    # Scroll and wait for comments to load\n",
    "    for _ in range(10):\n",
    "        driver.execute_script('window.scrollTo(0, document.body.scrollHeight);')\n",
    "        time.sleep(2)  # Adjust sleep time as necessary to allow comments to load\n",
    "\n",
    "    # Scrape comments for the current post\n",
    "    post_comments = scrape_comments()\n",
    "    comments.append(post_comments)\n",
    "    print(\"Comments collected. You can now close the comments section.\")\n",
    "\n",
    "    # Print comments for the current post\n",
    "    if post_comments:  # Check if there are comments\n",
    "        print(\"Comments:\")\n",
    "        for comment in post_comments:\n",
    "            print(comment)\n",
    "    else:\n",
    "        print(\"No comments found for this post.\")\n",
    "    \n",
    "    # Print a message to let you know to close the comments\n",
    "    input(\"Press Enter after closing the comments for the post...\")\n",
    "\n",
    "# Prepare data for CSV export\n",
    "data = []\n",
    "for idx, content in enumerate(posts):\n",
    "    if idx < len(comments):  # Ensure there's a comment entry\n",
    "        for comment in comments[idx]:\n",
    "            data.append([content, comment])\n",
    "    else:\n",
    "        data.append([content, None])\n",
    "\n",
    "# Create a DataFrame and save it to CSV\n",
    "df = pd.DataFrame(data, columns=['Post', 'Comment'])\n",
    "df.to_csv('solar_energy_usa.csv', index=False)\n",
    "\n",
    "print(\"Data has been saved to solar_energy_usa.csv\")\n"
   ]
  },
  {
   "cell_type": "code",
   "execution_count": null,
   "id": "c6a7e87d-0e04-4bce-b6da-33c5ad48ade2",
   "metadata": {},
   "outputs": [],
   "source": []
  }
 ],
 "metadata": {
  "kernelspec": {
   "display_name": "Python 3 (ipykernel)",
   "language": "python",
   "name": "python3"
  },
  "language_info": {
   "codemirror_mode": {
    "name": "ipython",
    "version": 3
   },
   "file_extension": ".py",
   "mimetype": "text/x-python",
   "name": "python",
   "nbconvert_exporter": "python",
   "pygments_lexer": "ipython3",
   "version": "3.11.5"
  }
 },
 "nbformat": 4,
 "nbformat_minor": 5
}
