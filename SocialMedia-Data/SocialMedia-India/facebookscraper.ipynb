{
 "cells": [
  {
   "cell_type": "code",
   "execution_count": 28,
   "id": "fd017e31-6233-4f17-890f-a4c1eb42daae",
   "metadata": {},
   "outputs": [
    {
     "name": "stdin",
     "output_type": "stream",
     "text": [
      "Press Enter after solving the CAPTCHA... \n"
     ]
    },
    {
     "name": "stdout",
     "output_type": "stream",
     "text": [
      "Post 1: 1,000 years ago, worshippers built a Sun Temple in Modhera. Today, the sun provides all its energy  Learn how other countries can accelerate their solar energy transitions: http://ow.ly/pqGq50LmS4RUnited Nations\n"
     ]
    },
    {
     "name": "stdin",
     "output_type": "stream",
     "text": [
      "Press Enter after opening the comments for the post... \n"
     ]
    },
    {
     "name": "stdout",
     "output_type": "stream",
     "text": [
      "Comments collected. You can now close the comments section.\n",
      "Comments:\n",
      "Looks like the solar panels have covered up all the fields where food could be grown.\n",
      "please explain how the solar panels generate electricity 24 hours a day ? that’s a new one.\n",
      "How many people could be living in this valuable real estate? Or how many crops could be grown?  Where are they diposing of the old cells?  If they are running even when dark, what type batteries, where are they mined and where disposed of.\n",
      "That's over 30 acres for a small  village.  A community like Santa Paula, with about 30,000 residents would need about 125 acres of solar panels, and a significant number of rooftop installations.  A city the size of Ventura, with about 120,000 residents would need considerably more that 500 acres of solar panels!  If we aren't going to eliminate all household electricity so we can  divert that power to EVs, we need to start concentrating on nuclear power plants.\n",
      "More and more places should be self reliant by implementing the same Solar Power projects.\n",
      "How does this help the Untouchables, who make $2/day?\n",
      "It's okay to have rooftops with solar panels but to put solar panels on the ground where you can grow food is foolish... put them in sahara or odter deserts.. near the equator there is aproximately 1 kw sunlight per square meter almost perpendicular  ...\n",
      "Hope they get paid more for the energy they put back into the grid than we do here in New Zealand!!!\n",
      "Yes... solar power. The most important part of the video is that with all those solar panels they managed to satisfy the need of 7000, yes ONLY SEVEN THOUSAND people. Do the math how many acres of solar power they need for a town of 100000 let alone cities of millions.\n",
      "Our rulers are too busy collecting wealth\n",
      "The challenge is to find large opened emptied lands to install the panels which is hard to find in my country nowadays\n",
      "Very futuristic.\n",
      "There are alternatives to solar panels that be more efficient and not cover farmland.\n",
      "I can go for rooftop. But not arid or desert land!\n",
      "Nice. Now add wind energy for the night and cloudy weather.\n",
      "It would be great if they made it affordable but that will never happen\n",
      "Why waste money on such venture, instead of that, distribute freebees worth 20,000 per household and make them waste bodies. Give power, bus, rations, gas, 1000, 3000 etc etc \n",
      "I will just wait for the planet to get worse and then they will have to automatically change to a safer way to generate electricity. Though I won’t be here when the time comes.\n",
      "What an opportunity for other Towns in South Africa, instead of locking into power ships which do not give local populations the opportunity for employment.\n",
      "24 hrs a day. Really unique place.\n",
      "world economic forum should work on cost reduction\n",
      "We need to use some of this information more than we do !\n",
      "India has over 300 days a year with sun makes a big differance\n",
      "Don't be greedy for Delhi model,that will creeple you. India to follow you.\n",
      "Great work!\n",
      "They think they are smart, this is deep.\n",
      "World economic forum iam one day income from any country 1000 year what.\n",
      "USA fighting it especially in Florida.\n",
      "This is what India should be\n",
      "Amazing\n",
      "...and the \"developed countries\" are still running on gas?\n",
      "arrrre, पहले green प्लांट्स के pattay, इस सोलर energy use कर के, oxygen detay थे, ab iss solar panel से oxygen plant chalega....oxygen plant replaces green plant...human wisdom!!\n",
      "Is it true.\n",
      "The power of india\n",
      "Great imitative for providing  lighting through solar electricity  to   ancient hindus temples. Our hindu civilization is oldest and temple are haritage  not only for hindus but also for the whole world . This temple was attacked by muslim invadered and destroyed some parts .\n",
      "Jai bhole baba\n",
      "How many acres?\n",
      "For someone who's cool, the sun shines 24 hours a day!\n",
      "Waste of perfectly good land suited for agricultural purposes.\n",
      "Kit Evens\n",
      "Michael Schmidt\n",
      "Maneesh Ahooja\n",
      "Any real industry in this town.  OOPS - not enough power.\n",
      "Amazing - the sun shines 24 hours a day in Gujarat!\n",
      "Future landfill pollution!\n",
      "One word: Volcano . . .\n",
      "That’s 1.5 hectares of solar panels per household. \n",
      "Roofs ok, panels on land disgusting\n",
      "Awesome\n",
      "They should invest more into nuclear power.\n",
      "Nice to see some natural growth between the toxicology.\n",
      "What a waste of land\n",
      "Worst use of land possible...\n",
      "Albert Alvarez Servan \n",
      "24 hours per day?\n",
      "10 years behind us\n",
      "Solar panels take way to much land up . I'd  rather see herds of cattle or crops to feed people.\n",
      "This is only part of the story\n",
      "I would rather see corn and bean fields in my state than solar panels\n",
      "The Solar Panels cover over 29 Acres of land.\n",
      "NOT GOOD for the Planet ... IDIOTS ...!\n",
      "So! Hope there ready when needed to replace old ones so selfish for poor people there\n",
      "How much Precious Land did those  Idiotic Solar panels take up ,You could have put 10 Coal fired power Stations there \n",
      "Around the clock?Space taken from arable land?Manufacture, installation,  maintenance?Mining for raw materials?Recycling?\n",
      "one hail strom & your screwd\n",
      "This is indeed the new religion. The pope and other 'worldreligions'  cal out the 10 climate-comandments!!!! Look out, Jesus is coming soon.\n",
      "Not economic\n",
      "Wankers\n",
      "good for them, saves them money and that is the only reason for doing so. wonder how long it will take or get back the 9.7 million investment.\n",
      "and still riding elephants\n",
      "And where are they growing their food ?\n",
      "The reflected heat from these is part of the \"so called\" global warming.\n",
      "Where are the farms?\n",
      "Wow very intelligent engineers\n",
      "What a waste of valuable land for farming.\n",
      "Are we still sending money over to India from the UK?\n",
      "Beautiful.  Absolutely beautiful.\n",
      "The solar panels are still a pollutants after their expiry\n",
      "you've jsut proven solar is not a solution, 12ha solar + houseroofs for 7000 people, that means for the 70 million brits it would mean 900000 ha solar or 9000km2 solar that would cost 100billion even with indian prices, and this if we would have sun like india has, but we have only 1/4 the sunshine here so it would be 36000km2 and 400billion or more. we would literally have to cover 1/6 of the uk in solar panels, and we dont have electric cars yet... it would push it to cover 1/4 of the uk in solar panels     way to go\n",
      "All free\n",
      "Martin Jendrischik\n",
      "Ulrike Schwarz\n",
      "Fantastic achievement.\n",
      "You know you can keep burning coal and natural gas it’s way cheaper and more affordable ￼￼￼￼and way cleaner in the end\n",
      "All that land  used just to serve 7,000 people what a waste. We are going to have to paint the world black to power it.\n",
      "Congratulations  to All start ups..Govt of India n Local State Govt as well..!! I was reading somewhere tht..why India can't make Airplanes ..Jets..!! The Ans is Big Investments n Know how ..bt those days gone..now it's New India..Progressive India..future is bright..only we hv to support our Industry leaders..Tata..RIL..i red in USA 57%  public are Invest in their industry leaders...corporations etc...etc..bt In India only 7% invested in stocks mkt...all due to Fear..n blamed the stock mkt Satta Bazzar...i mean if U want to see india among da 2nd- 3rd Economy in da World..we must hv v v high target..at least 1 person from every 10 must open Damat act n get invested in our Make India start ups..our Industries..Dnt trade only invest..minm amt..after 10 yrs as those co grows thrw ur money invested in them..u will get..20..50..100 times more money get  return back...( Defense Sector, Fmcg Sec..Retail sec..Green Energy sec..Medical n Insurance sec..IT n Electronic sec..etc etc..n obviously in new Start ups..we can make it in a while..let's spread positivity..be cheerful n Salute to our growing mother India..\n",
      "Such a shame to cover the good earth with this. Power can be got in other ways.\n",
      "In a few years their will be asking us for money to feed them because they have no food because they covered the farmland with solar panels great Idea\n",
      "A Brilliant idea!\n",
      "Seems good work \n",
      "Thats a lot of wasted land\n",
      "IN LATÍN AMÉRICA THE BEST COUNTRY FOR TO LIVE AND TO VISIT ITS URUGUAY FOR HIS GEOGRAPHY HISTORY AIR WEATHER TIME NATURE SECURITY PEOPLE FOODS SPORTS CULTURES AND BEACHES.... MONTEVIDEO AND PUNTA DEL ESTE ARE THE PLACES MOST FAMOUS ABOUT URUGUAY..... THESE WEB SITES ARE FANTASTICS FOR TO SEE :   www.viajeauruguay.com www.turismo.gub.uy\n",
      "Solar panel made in China lol.\n",
      "All I see is the humongous area that is covered with those panels. In many areas in India people starve and they use the land for those panels. SMH\n",
      "Hmmm, I wonder what used to live on the land now covered with panels? And what happens when the cells run out of electrons to transfer?\n",
      "Who paid for it?\n",
      "theft\n",
      "And they now are eating Ucraine weat that didn't come...\n",
      "So nothong on how the energy gets stored or about the cost/kwh in the video. You must think we are all idiots.\n",
      "Moon wobble causes floods & drought. Sun activity / evolution is the cause of climate change.HUMANS CAN NOT STOP IT.\n",
      "Solar panels raise the earths temperature.Yes, solar panels are hot to the touch. Generally speaking, solar panels are 36 degrees Fahrenheit warmer than the ambient external air temperature. When solar panels get hot, the operating cell temperature is what increases and reduces the ability for panels to generate electricity.\n",
      "And we send them aid ?   Why ?\n",
      "The toxic chemicals in solar panels include cadmium telluride, copper indium selenide, cadmium gallium (di)selenide, copper indium gallium (di)selenide, hexafluoroethane, lead, and polyvinyl fluoride. Additionally, silicon tetrachloride, a byproduct of producing crystalline silicon, is highly toxic.\n",
      "Did I miss somethin\"?? $9.7MIL for 7000 people is $1385/person....The gov't paying for it doesn't make it free.\n",
      "I presume that those people did not need any food from that land now covered by solar panels.\n",
      "Great  nice  next generation\n",
      "Could power that with 5acres with nuclear and grow a lot more food!\n",
      "Nobody trusts you!\n",
      "Looks like to me in a lot of countries this is done where they have no natural oil or gas of their own................\n",
      "Anyone with common sense sees the fallacy of solar power for 24-hour per day use.  Wind power is likewise subject to so many variables that it is totally useless except to charge batteries for backup power.  The government forces local utilities to buy \"excess electricity\" from solar panels to make the panels more affordable, but that drives up the price of electricity because the solar power is generated during the lowest power window.  We need natural gas generators for the time being, and build nuclear generators for the future. That won't happen as long as the president is suffering from dementia!\n",
      "And no trees. No oxygen.\n",
      "Can solar panels get recycled or do they go into a land fill after use?\n",
      "And exactly HOW do the solar panels provide electricity at night?? Some might think this is a LIE.\n",
      "They now have electricity 24/7 and breathing problems.  Deforestation of acres and acres of trees will have regrettable consequences.\n",
      "Yusuf Joe Allie imagine wat cyril couldve done with the 500 billion\n",
      "we have to many gopers for anything good to happen\n",
      "What happens at night when more than a few villages convert to grid tied solar power, say 25%, and there is no backup conventional power plants to supply the demand for power?\n"
     ]
    },
    {
     "name": "stdin",
     "output_type": "stream",
     "text": [
      "Press Enter after closing the comments for the post... \n"
     ]
    },
    {
     "name": "stdout",
     "output_type": "stream",
     "text": [
      "Post 2: Solar Energy Corp. of India (SECI) has concluded a 1.2 GW solar and storage tender at an average price of $0.041/kWh, with Acme Solar Holdings, Hero Solar Energy, JSW Neo Energy, and Pace Digitek Infra emerging as winners. #Renewables #Energy #Technology\n"
     ]
    },
    {
     "name": "stdin",
     "output_type": "stream",
     "text": [
      "Press Enter after opening the comments for the post... \n"
     ]
    },
    {
     "name": "stdout",
     "output_type": "stream",
     "text": [
      "Comments collected. You can now close the comments section.\n",
      "Comments:\n",
      "Seems a lot of countries are building massive solar and wind farms as its the cheapest and cleanest form of power..keep them coming\n",
      "Tambora, 1815. A volcano in Indonesia blocked the sky around Earth for 2 years, forcing farmers in the USA to quit farming as nothing would grow in reduced sunlight hours. \n",
      "Great job but the people are starving to death as they have nowhere to grow crops\n",
      "By the time the consumer gets this renewable energy it will be a lot more expensive once delivered. Renewable energy the biggest con in human history.\n",
      "All that green energy crap just waste taxpayer dollars that could be used for something better\n",
      "us4c per kwh isnt cheap when here in NSW Australia we get au3c  per kwr for rooftop solar uploads.\n",
      "Harry Jay\n",
      "https://youtu.be/sSjXNBfOi40?si=l-1dm835qHgvrJSf\n",
      "Look up nuetrino energy cube government doesn’t want you to know about new technologies\n"
     ]
    },
    {
     "name": "stdin",
     "output_type": "stream",
     "text": [
      "Press Enter after closing the comments for the post... \n"
     ]
    },
    {
     "name": "stdout",
     "output_type": "stream",
     "text": [
      "Data has been saved to india_solar.csv\n"
     ]
    }
   ],
   "source": [
    "from bs4 import BeautifulSoup\n",
    "from selenium import webdriver\n",
    "from selenium.webdriver.common.by import By\n",
    "from selenium.webdriver.common.keys import Keys\n",
    "import time\n",
    "import pandas as pd\n",
    "\n",
    "# URL of the target Facebook page\n",
    "target_url = \"https://www.facebook.com\"\n",
    "\n",
    "# Initialize the Chrome WebDriver\n",
    "driver = webdriver.Chrome()\n",
    "\n",
    "# Navigate to Facebook and log in\n",
    "driver.get(target_url)\n",
    "username = driver.find_element(By.ID, 'email')\n",
    "password = driver.find_element(By.ID, 'pass')\n",
    "username.send_keys('EMAIL')\n",
    "password.send_keys('PASSWORD')\n",
    "password.send_keys(Keys.RETURN)\n",
    "\n",
    "# Allow some time for the login to complete and CAPTCHA to appear\n",
    "time.sleep(5)\n",
    "\n",
    "# Wait for manual CAPTCHA solving\n",
    "input(\"Press Enter after solving the CAPTCHA...\")\n",
    "\n",
    "# Navigate to the desired page or group\n",
    "driver.get('https://www.facebook.com/search/posts?q=Solar%20Energy%20India')\n",
    "\n",
    "# Allow some time for the page to load\n",
    "time.sleep(5)\n",
    "\n",
    "# Initialize empty lists to store the extracted posts and comments\n",
    "posts = []\n",
    "comments = []\n",
    "\n",
    "# Loop to scroll the page and collect posts\n",
    "for _ in range(50):\n",
    "    # Scroll the page\n",
    "    driver.execute_script('window.scrollTo(0, document.body.scrollHeight);')\n",
    "    time.sleep(2)  # Adjust sleep time as necessary to allow for page load\n",
    "\n",
    "    # Get the page source\n",
    "    resp = driver.page_source\n",
    "\n",
    "    # Parse the page source with BeautifulSoup\n",
    "    soup = BeautifulSoup(resp, 'html.parser')\n",
    "\n",
    "    # Find the specific divs containing the required information\n",
    "    items = soup.find_all('div', {'class': 'x78zum5 xdt5ytf xz62fqu x16ldp7u'})\n",
    "\n",
    "    # Iterate through each item and extract the desired information\n",
    "    for item in items:\n",
    "        post_content = item.get_text()\n",
    "        if (\"solar and storage\" in post_content.lower() or \"modhera\" in post_content.lower()) and post_content not in posts:\n",
    "            posts.append(post_content)\n",
    "            if len(posts) == 2:\n",
    "                break\n",
    "    if len(posts) >= 2:\n",
    "        break\n",
    "\n",
    "# Function to scroll and scrape comments for a specific post\n",
    "def scrape_comments():\n",
    "    # Get the page source\n",
    "    resp = driver.page_source\n",
    "\n",
    "    # Parse the page source with BeautifulSoup\n",
    "    soup = BeautifulSoup(resp, 'html.parser')\n",
    "\n",
    "    # Find the specific divs containing the comments\n",
    "    comments_section = soup.find_all('div', {'class': 'xdj266r x11i5rnm xat24cr x1mh8g0r x1vvkbs'})\n",
    "    post_comments = []\n",
    "    for comment in comments_section:\n",
    "        comment_text = comment.get_text()\n",
    "        if comment_text:\n",
    "            post_comments.append(comment_text)\n",
    "\n",
    "    return post_comments\n",
    "\n",
    "# Loop through the collected posts to scrape comments\n",
    "for idx, post in enumerate(posts):\n",
    "    print(f\"Post {idx + 1}: {post}\")\n",
    "    \n",
    "    # Pause the script to allow manual opening of comments\n",
    "    input(\"Press Enter after opening the comments for the post...\")\n",
    "\n",
    "    # Scroll and wait for comments to load\n",
    "    for _ in range(10):\n",
    "        driver.execute_script('window.scrollTo(0, document.body.scrollHeight);')\n",
    "        time.sleep(2)  # Adjust sleep time as necessary to allow for comments to load\n",
    "\n",
    "    # Scrape comments for the current post\n",
    "    post_comments = scrape_comments()\n",
    "    comments.append(post_comments)\n",
    "    print(\"Comments collected. You can now close the comments section.\")\n",
    "\n",
    "    # Print comments for the current post\n",
    "    if post_comments:  # Check if there are comments\n",
    "        print(\"Comments:\")\n",
    "        for comment in post_comments:\n",
    "            print(comment)\n",
    "    else:\n",
    "        print(\"No comments found for this post.\")\n",
    "    \n",
    "    # Print a message to let you know to close the comments\n",
    "    input(\"Press Enter after closing the comments for the post...\")\n",
    "\n",
    "\n",
    "# Prepare data for CSV export\n",
    "data = []\n",
    "for idx, content in enumerate(posts):\n",
    "    if idx < len(comments):  # Ensure there's a comment entry\n",
    "        for comment in comments[idx]:\n",
    "            data.append([content, comment])\n",
    "    else:\n",
    "        data.append([content, None])\n",
    "\n",
    "# Create a DataFrame and save it to CSV\n",
    "df = pd.DataFrame(data, columns=['Post', 'Comment'])\n",
    "df.to_csv('india_solar.csv', index=False)\n",
    "\n",
    "print(\"Data has been saved to india_solar.csv\")\n"
   ]
  },
  {
   "cell_type": "code",
   "execution_count": 49,
   "id": "a0812642-ca7c-4b91-a6c3-5f5ffbafe1f0",
   "metadata": {},
   "outputs": [
    {
     "name": "stdout",
     "output_type": "stream",
     "text": [
      "Post 1: Nuclear Power Corporation of India Limited - NPCIL has commenced the Initial Fuel Loading (IFL) in Unit-7 of the Rajasthan Atomic Power Project. This significant milestone brings us a step closer to enhancing our nuclear power capabilities and contributing to a cleaner, sustainable future.\n"
     ]
    },
    {
     "name": "stdin",
     "output_type": "stream",
     "text": [
      "Press Enter after opening the comments for the post... \n"
     ]
    },
    {
     "name": "stdout",
     "output_type": "stream",
     "text": [
      "Comments collected. You can now close the comments section.\n",
      "Comments:\n",
      "Very nice, proud moment to witness the historical act .\n",
      "Congratulations team NPCIL\n",
      "Congratulations \n",
      "Congratulations\n",
      "Congratulations.\n",
      "Congrats\n",
      "Cool\n",
      "Hearty congratulations. \n",
      "Congratulations\n"
     ]
    },
    {
     "name": "stdin",
     "output_type": "stream",
     "text": [
      "Press Enter after closing the comments for the post... \n"
     ]
    },
    {
     "name": "stdout",
     "output_type": "stream",
     "text": [
      "Post 2: Big congratulation to the Indian Nuclear ScientistsNarora Atomic Power Station Unit-2 continuous operation for two yearsReach us @ nuclearfriendsfoundation.com #NuclearPower #NuclearEnergy #Evergreen #NuclearFacts #AatmanirbharBharat … See more\n"
     ]
    },
    {
     "name": "stdin",
     "output_type": "stream",
     "text": [
      "Press Enter after opening the comments for the post... \n"
     ]
    },
    {
     "name": "stdout",
     "output_type": "stream",
     "text": [
      "Comments collected. You can now close the comments section.\n",
      "Comments:\n",
      "Congratulations\n",
      "Congratulations!\n",
      "congrats\n",
      "BIG CONGRATULATIONS \n",
      "Congratulations\n",
      "Congratulations\n",
      "Big Congratulations \n",
      "Congratulations \n",
      "Congratulations\n",
      "Congratulations\n",
      "Congratulations\n",
      "Congratulations\n",
      "Congrats\n",
      "Congratulations\n",
      "Congratulations\n",
      "BIG Congratulations\n",
      "Congrats\n",
      "Congrats\n",
      "Congratulations \n",
      "Congo Team\n",
      "Congratulations\n",
      "Congratulations\n",
      "Congratulations\n",
      "Congratulations\n",
      "Congrats\n",
      "Congratulations\n",
      "Congratulations\n",
      "Congrats\n",
      "Congrats\n"
     ]
    },
    {
     "name": "stdin",
     "output_type": "stream",
     "text": [
      "Press Enter after closing the comments for the post... \n"
     ]
    },
    {
     "name": "stdout",
     "output_type": "stream",
     "text": [
      "Post 3: Narora Atomic Power Station Unit-2 continuous operation for two yearsNarora Atomic Power Station Unit-2 continuous operation for two years\n"
     ]
    },
    {
     "name": "stdin",
     "output_type": "stream",
     "text": [
      "Press Enter after opening the comments for the post... \n"
     ]
    },
    {
     "name": "stdout",
     "output_type": "stream",
     "text": [
      "Comments collected. You can now close the comments section.\n",
      "Comments:\n",
      "Congratulations\n",
      "Congratulations!\n",
      "congrats\n",
      "BIG CONGRATULATIONS \n",
      "Congratulations\n",
      "Congratulations\n",
      "Big Congratulations \n",
      "Congratulations \n",
      "Congratulations\n",
      "Congratulations\n",
      "Congratulations\n",
      "Congratulations\n",
      "Congrats\n",
      "Congratulations\n",
      "Congratulations\n",
      "BIG Congratulations\n",
      "Congrats\n",
      "Congrats\n",
      "Congratulations \n",
      "Congo Team\n",
      "Congratulations\n",
      "Congratulations\n",
      "Congratulations\n",
      "Congratulations\n",
      "Congrats\n",
      "Congratulations\n",
      "Congratulations\n",
      "Congrats\n",
      "Congrats\n"
     ]
    },
    {
     "name": "stdin",
     "output_type": "stream",
     "text": [
      "Press Enter after closing the comments for the post... \n"
     ]
    },
    {
     "name": "stdout",
     "output_type": "stream",
     "text": [
      "Post 4: Kakrapar Atomic Power Station Unit-4 (KAPP-4) Achieves Full Power OperationKAPP-4 has successfully commenced operation at its full capacity of 700 MWe today. This marks a significant milestone following the reactor's first criticality on December 17 last year and the start of its commercial operations on March 31 this year.The twin units, KAPP-3 and KAPP-4, of the Nuclear Power Corporation of India Limited - NPCIL at Kakrapar in Gujarat are the largest indigenously built … See more\n"
     ]
    },
    {
     "name": "stdin",
     "output_type": "stream",
     "text": [
      "Press Enter after opening the comments for the post... \n"
     ]
    },
    {
     "name": "stdout",
     "output_type": "stream",
     "text": [
      "Comments collected. You can now close the comments section.\n",
      "Comments:\n",
      "Congratulations to the team\n",
      "Congratulations to Npcil & DAE team\n",
      "Hearty Congratulations to the NPCIL Team from a retired person, who had occasion to work both at NAPP and in PPED for three years each.\n",
      "Congrats\n",
      "Congratulations NPCIL & DAE.\n",
      "Congratulations to all in NPC AND DAE Units!!!\n",
      "Congrats NPCIL\n",
      "But the CSR money is not given in the development work in the affected village.\n",
      "Congratulations NPCIL team!!\n",
      "Congratulations!\n",
      "Congratulations\n",
      "Congratulations, keep it up, Team KAPP.\n",
      "Congratulations KAPP-3&4 team \n",
      "Congratulations\n",
      "Why e is added in MW?\n",
      "Congratulations\n",
      "Congratulations \n"
     ]
    },
    {
     "name": "stdin",
     "output_type": "stream",
     "text": [
      "Press Enter after closing the comments for the post... \n"
     ]
    },
    {
     "name": "stdout",
     "output_type": "stream",
     "text": [
      "Data has been saved to india_nuclear.csv\n"
     ]
    }
   ],
   "source": [
    "# Navigate to the desired page or group\n",
    "driver.get('https://www.facebook.com/search/posts/?q=Nuclear%20Energy%20India')\n",
    "\n",
    "# Allow some time for the page to load\n",
    "time.sleep(5)\n",
    "\n",
    "# Initialize empty lists to store the extracted posts and comments\n",
    "posts = []\n",
    "comments = []\n",
    "\n",
    "# Loop to scroll the page and collect posts\n",
    "for _ in range(50):\n",
    "    # Scroll the page\n",
    "    driver.execute_script('window.scrollTo(0, document.body.scrollHeight);')\n",
    "    time.sleep(2)  # Adjust sleep time as necessary to allow for page load\n",
    "\n",
    "    # Get the page source\n",
    "    resp = driver.page_source\n",
    "\n",
    "    # Parse the page source with BeautifulSoup\n",
    "    soup = BeautifulSoup(resp, 'html.parser')\n",
    "\n",
    "    # Find the specific divs containing the required information\n",
    "    items = soup.find_all('div', {'class': 'x78zum5 xdt5ytf xz62fqu x16ldp7u'})\n",
    "\n",
    "    # Iterate through each item and extract the desired information\n",
    "    for item in items:\n",
    "        post_content = item.get_text()\n",
    "        if (\"continuous operation\" in post_content.lower() or \"Narora\" in post_content.lower() or \"Full Power\" in post_content.lower() or \"kakrapar\" in post_content.lower() or \"twin units\" in post_content.lower() or \"significant milestone\" in post_content.lower() or \"KAPP-4\" in post_content.lower() or \"Big congratulation\" in post_content.lower()) and post_content not in posts:\n",
    "            posts.append(post_content)\n",
    "            if len(posts) == 4:\n",
    "                break\n",
    "    if len(posts) >= 4:\n",
    "        break\n",
    "\n",
    "# Function to scroll and scrape comments for a specific post\n",
    "def scrape_comments():\n",
    "    # Get the page source\n",
    "    resp = driver.page_source\n",
    "\n",
    "    # Parse the page source with BeautifulSoup\n",
    "    soup = BeautifulSoup(resp, 'html.parser')\n",
    "\n",
    "    # Find the specific divs containing the comments\n",
    "    comments_section = soup.find_all('div', {'class': 'xdj266r x11i5rnm xat24cr x1mh8g0r x1vvkbs'})\n",
    "    post_comments = []\n",
    "    for comment in comments_section:\n",
    "        comment_text = comment.get_text()\n",
    "        if comment_text:\n",
    "            post_comments.append(comment_text)\n",
    "\n",
    "    return post_comments\n",
    "\n",
    "# Loop through the collected posts to scrape comments\n",
    "for idx, post in enumerate(posts):\n",
    "    print(f\"Post {idx + 1}: {post}\")\n",
    "    \n",
    "    # Pause the script to allow manual opening of comments\n",
    "    input(\"Press Enter after opening the comments for the post...\")\n",
    "\n",
    "    # Scroll and wait for comments to load\n",
    "    for _ in range(10):\n",
    "        driver.execute_script('window.scrollTo(0, document.body.scrollHeight);')\n",
    "        time.sleep(2)  # Adjust sleep time as necessary to allow for comments to load\n",
    "\n",
    "    # Scrape comments for the current post\n",
    "    post_comments = scrape_comments()\n",
    "    comments.append(post_comments)\n",
    "    print(\"Comments collected. You can now close the comments section.\")\n",
    "\n",
    "    # Print comments for the current post\n",
    "    if post_comments:  # Check if there are comments\n",
    "        print(\"Comments:\")\n",
    "        for comment in post_comments:\n",
    "            print(comment)\n",
    "    else:\n",
    "        print(\"No comments found for this post.\")\n",
    "    \n",
    "    # Print a message to let you know to close the comments\n",
    "    input(\"Press Enter after closing the comments for the post...\")\n",
    "\n",
    "# Prepare data for CSV export\n",
    "data = []\n",
    "for idx, content in enumerate(posts):\n",
    "    if idx < len(comments):  # Ensure there's a comment entry\n",
    "        for comment in comments[idx]:\n",
    "            data.append([content, comment])\n",
    "    else:\n",
    "        data.append([content, None])\n",
    "\n",
    "# Create a DataFrame and save it to CSV\n",
    "df = pd.DataFrame(data, columns=['Post', 'Comment'])\n",
    "df.to_csv('india_nuclear.csv', index=False)\n",
    "\n",
    "print(\"Data has been saved to india_nuclear.csv\")\n"
   ]
  },
  {
   "cell_type": "code",
   "execution_count": 51,
   "id": "3fe012a7-e63b-4661-bbe6-9c6b531fceb7",
   "metadata": {},
   "outputs": [
    {
     "name": "stdout",
     "output_type": "stream",
     "text": [
      "Post 1: The sprawling solar and wind energy plant will generate enough electricity to power 16 million homes in India.\n"
     ]
    },
    {
     "name": "stdin",
     "output_type": "stream",
     "text": [
      "Press Enter after opening the comments for the post... \n"
     ]
    },
    {
     "name": "stdout",
     "output_type": "stream",
     "text": [
      "Comments collected. You can now close the comments section.\n",
      "Comments:\n",
      "If there is no Sun for a day or two, what to do? At night time?Intermittent energy supply? Fridge is working, fridge is not working? So, there must be a secondary, main source of electricity, constant supply. Solar is just additional, not a major source of energy. It is to add, not to substitute.\n",
      "Wow!\n",
      "How long until every panel is replaced and what happens to them then\n",
      "Rump gonna be mad because we’re making sustainable clean energy for health and more reliable energy. \n",
      "That's great news  Renewable ernergy is the future\n",
      "The brain-dead trolls on this article are truly something to behold\n",
      "Solar panels are contributing to global warming. Same as asphalt parking lots\n",
      "How much more obvious this should be in a country with Indian climate. This should be a no brainer.\n",
      "Look at all the extra heat created by the solar panels \n",
      "Connect with Mr Calder Barron , he's running a program that you will surely thank me later for referring you https://www.facebook.com/Calderbarron6467?mibextid=ZbWKwL\n",
      "Thank you so much Mr Theodore Mason  for the huge successful profit withdrawal. I invested and I get my returns of investment from your company and this is my first time withdraw am so glad it's the best decision I have made so far. I really can't appreciate you enough for your good work of helping and changing people lives through trading. God bless you   \n",
      "The crypto market crash was a great opportunity for those who believe in crypto. Currently the bull market is on a rage and  crypto is pumping good at a rapid rate. So, if you really believe in crypto, you should be excited for the recent signs in the bear market because it'll give you a head start above others and that's why I invest with Mr Theodore Mason a crypto trade expert.\n"
     ]
    },
    {
     "name": "stdin",
     "output_type": "stream",
     "text": [
      "Press Enter after closing the comments for the post... \n"
     ]
    },
    {
     "name": "stdout",
     "output_type": "stream",
     "text": [
      "Post 2: Billionaire Gautam Adani got rich off coal. Now his company is building a green energy plant the size of Chicago.The sprawling solar and wind energy plant will generate enough electricity to power 16 million homes in India.\n"
     ]
    },
    {
     "name": "stdin",
     "output_type": "stream",
     "text": [
      "Press Enter after opening the comments for the post... \n"
     ]
    },
    {
     "name": "stdout",
     "output_type": "stream",
     "text": [
      "Comments collected. You can now close the comments section.\n",
      "Comments:\n",
      "If there is no Sun for a day or two, what to do? At night time?Intermittent energy supply? Fridge is working, fridge is not working? So, there must be a secondary, main source of electricity, constant supply. Solar is just additional, not a major source of energy. It is to add, not to substitute.\n",
      "How long until every panel is replaced and what happens to them then\n",
      "Rump gonna be mad because we’re making sustainable clean energy for health and more reliable energy. \n",
      "That's great news  Renewable ernergy is the future\n",
      "The brain-dead trolls on this article are truly something to behold\n",
      "Solar panels are contributing to global warming. Same as asphalt parking lots\n",
      "How much more obvious this should be in a country with Indian climate. This should be a no brainer.\n",
      "Look at all the extra heat created by the solar panels \n"
     ]
    },
    {
     "name": "stdin",
     "output_type": "stream",
     "text": [
      "Press Enter after closing the comments for the post... \n"
     ]
    },
    {
     "name": "stdout",
     "output_type": "stream",
     "text": [
      "Post 3: India plans to set up 30,000 megawatts (MW) of offshore wind power capacity alongside 50,000 MW of solar capacity, the country's power minister said.\n"
     ]
    },
    {
     "name": "stdin",
     "output_type": "stream",
     "text": [
      "Press Enter after opening the comments for the post... \n"
     ]
    },
    {
     "name": "stdout",
     "output_type": "stream",
     "text": [
      "Comments collected. You can now close the comments section.\n",
      "Comments:\n",
      "India has enough solar energy to extract and wind energy can also be tapped.However Indian river water which china is obstructing by blocking the flow of Bramhaputra river and other rivers must be taken into consideration and talks must be held to secure the release of water from these rivers as this water is not china's alone.More hydro electric projects must be constructed to create additional power keeping in mind the future power requirements of the country.\n",
      "Adani has already set this up and the minister is only certifying it that too after a couple of years. Indians must be ready to have extended dark nights! Monopoly is always a dignified name for extortion!\n",
      "That will be enough power to turn the lights on for one Pardesh(County-state) in India for 4 minutes a year.\n",
      "To be lost in the ancient distribution system.\n",
      "Glad to see India turning towards renewables. They are currently the second largest consumer of coal for power generation (932 million tons of coal burned in coal fired power plants in 2020). To take the top off the climate crisis barreling towards us, we all need to significantly ramp up installation of renewables of all types.\n",
      "But the problem is all the benefits are probably being taken away by few parties leaving public .  25% of Karnataka capacity is served by just solar alone and around 10-15% by wind, hydro etc.\n",
      "Gujrat is getting wind power and solar power.\n",
      "Thousands and thousands.  But when  ?\n",
      "Hope  all these wind power turbines are installed in States which are power deficit .\n",
      "Individual houses in small cities and villages can have solar power panels in terrace of the houses.\n",
      "Something like  offshore windfarms in line of Nordic nations can be considered\n",
      "India should also merge excessively generated solar and wind power to pumped water power generation system\n",
      "Finally some clean Indian energy\n",
      "Bekarar topics, no business income, only interest income ,\n",
      "INVEST HEAVILY IN RESEARCH WORK\n",
      "Only plans....dreams.....expectations.....desires.....ambitions....\n",
      "India needs more for its masses and some common sense to use them.\n",
      "Jay Shriram/Jay Hind Vandematram/Bharat Maata ki Jay\n",
      "Until when? Without a date, this information is pretty useless \n",
      "Plans....key word\n"
     ]
    },
    {
     "name": "stdin",
     "output_type": "stream",
     "text": [
      "Press Enter after closing the comments for the post... \n"
     ]
    },
    {
     "name": "stdout",
     "output_type": "stream",
     "text": [
      "Post 4: 'A total switch to solar and wind energy is impossible since these are produced only intermittently when the sun shines and wind blows, maybe 25% of the year on an average. For the rest of the time, India needs coal-based electricity.'\n"
     ]
    },
    {
     "name": "stdin",
     "output_type": "stream",
     "text": [
      "Press Enter after opening the comments for the post... \n"
     ]
    },
    {
     "name": "stdout",
     "output_type": "stream",
     "text": [
      "Comments collected. You can now close the comments section.\n",
      "Comments:\n",
      "Ignore her, I can also send my son to protest provided monetary funding available. Now a day speaking negative and  blaming others has become a fashion. Really what matters is what you do to improve what has gone wrong. I can also write lectures, blog, on environment. But planting trees will be more useful\n",
      "There  r other renewable sources like water current, tidal wave, geothermal, etc which are available round the year & per unit cost is also low. Only problem is first time investment is high. So we should harvest the energies from these too.\n",
      "Well, it is not Greta you should apologise to or condescend, is it. The woman you are thinking of is named nature. Renewable energy has advanced more than ever. But yes, coal is still important until we fix our policies, technology and willingness.\n",
      "Total crap ! Renewable energy is very much a possibility. While the North and East have abundant water which can be tapped for hydro electric power, South has abundant sun shine for solar. West has a combo of wind and solar. All it needs is a change in mindset of the Government !\n",
      "Will she feed the billions of people if there's no employment due to lack of growth....can she stay empty stomach for only one day ?\n",
      "Her only activity is to go to parliament building every Friday and have a protesting photoshoot\n",
      "Yes, it's great. Such a great news, proud moment for us Indians to behold. As predicted, after 2050 we will be in the point of no return, much more interesting fact is no need to dig more oil or coal. The reserves all the countries hold now currently is enough to pave way for catastrophic events. The current teenagers, child and infants will bear the brunt of this condescending attitude. Development with no future to exist is a great milestone for us to achieve. Atleast, nature will wash, burn,blow and swallow the crap we call humans in due time. We plan to terraform mars while we can't even reduce our carbon footprint.\n",
      "Solar / wind power is expensive. If govt adopts this policy and in turn shifts the burden by increasing the per unit cost of electricity then the same people who are telling that wind or solar power should be used will be the first raising their voice against the government.This is the mindset of indians\n",
      "India is building hydro and more nuclear power stations\n",
      "India established ISA And developed countries harm environment since 18th century\n",
      "Instead of trolling someone, people should think it's the matter of shifting to renewable in the way to save the earth, bla bla bla problems will always be there but its time to liquid this bla bla bla problem and finding answers to them,Not only for IndiaBut for whole world\n",
      "What about geothermal, nuclear, tidal renewable energy resources? We're taught about all these in our middle school. India should and will look towards these alternatives. Columnist should read more into energy and resources.\n",
      "Why is she only after India? Who is paying her? Why not other countries, which are already developed but still contributes to the maximum percentage of world's pollution.....\n",
      "then what nuclear govt is going for?? what about water energy.... India has built so many dams for what\n",
      "I hope the Greta Thunberg the prop at the adults table & more importantly her handlers read the piece. The argument holds good for all developing economies.\n",
      "Why don't we switch to nuclear power? More cleaner than coal. Can produce significant amount of energy. No amount of waste/ pollution generated.\n",
      "Why are you talking of solar and wind energy only? Have you forgotten good old hydroelectricity? The world has abundant water resources which can tapped as an effective source of renewable energy. The tirade against Greta has been funded partially by the big oil and energy companies who dont want their bottomlines affected\n",
      "Or nuclear energy?\n",
      "Is it growth or development that India should seek? Having oversize feet can be a problem.\n",
      "Shame on TOI, why are you sorry for her?\n",
      "Why the heck she is being made  sensational.\n",
      "Who knows the Mike she is using is powered by coal  based electric ,and the Mike itself mettal or plastic manufactured in smoke omitting company .\n",
      "Shes  noble contender now i know why normal minds dnt gt enough medals these days....be mad,be loud enough and be wild..thts all it takes to be known for being special.\n",
      "Do your economical growth when there is no Earth to live.\n",
      "For Australia  coal is total wastes and they don’t use coal for producing energy because it creates too much air pollution so Indian Adani industrialist importing coal from Australia in very cheap price and government has given the permission for making energy from coal not worried about air pollution ,making industrialists reach and this energy will be sold to Bangladesh because even in Bangladesh  there is ban on producing energy from coal because it creates huge air pollution.           Source: Times of India \n",
      "Actually,there is battery storage now and because of that many places are now on 100% renewable. Adelaide, ran on 80% renewable last week. We need to be suspicious of misinformation put out by the fossil fuel industry and their lobyists and, consequently, government officials who are likely to be in their pay.\n",
      "Tell her to stop using AC, freeze,car and live life like common people only lecturing is not enough she needs to give example of simple life.\n",
      "She looks like from some heavy metal bands in Sweden\n",
      "Looks like Greta is invested in coal India....\n",
      "Anyone still listens to this dramebaz girl?\n",
      "Hydel can run synchronous generators but its extremely expensive to start and affects the eco system.\n",
      "Its not for her...its for our children and grandchildren...foolish...\n",
      "All is possible, need efforts. Don't think for survival of coal mining industries, thermal power industries...\n",
      "Has this girl stop using ac car and fridge the answer is a big NO, kahli pili lecture dete hain western countries wale\n",
      "Lol...its not about greta, or any particular person in general\n",
      "But she can try movies in hollywood. There is lot of money and she can act well\n",
      "there are hydro electric plants too........\n",
      "You are crying for your master, who paid you for them.\n",
      "How dare you? \n",
      "Cry to NSG members Greta, they ain't allowing us to buy nuclear fuels\n",
      "Hybrid solar system is reality now, it works on sunny and rainy days both... update yourself dear The Times of India\n",
      "Little learning is a dangerous thing Greeta\n",
      "Why not build Nuclear power plants instead of using Coal?\n",
      "she know nothing but how dare you\n",
      "How dare you?\n",
      "Who is she?\n",
      "No, no you don’t, here’s one solution I’d like to see some media get behind www.carbonengineering.com\n",
      "Shame on her parents to use the illness of their child for fame & money..\n",
      "Sometimes it's better to gain knowledge then acting\n",
      "Iska 50₹ kaat .....\n",
      "THE TRUTH\n",
      "Interesting read.\n",
      "What is the minimum age for getting Nobel Prize in Peace? If she is admissible give her immediately, so that next can come\n",
      "How dare you\n",
      "Btw she is drama queen. \n",
      "How dare you \n",
      "How dare you \n",
      "LPC\n",
      "How dare you \n",
      "How dare you \n",
      "Really stupid article\n",
      "Yeah and you continue licking BJP The Times of India \n",
      "Subhankar Mazumdar What say?\n",
      "Gayathri Mayilsamy\n",
      "I am surprised why Indian media gives to much importance to this girls, once you check you will find nothing in her contribution in climate change. We have lots of heroes in India they did far better than her, really whenever i see this girl face feeling angry.\n",
      "The initiative that the United Nations has taken is absolutely unwarranted.One should take logical words or beautiful sound or realistic projects.Those of you who are taking videos or different types of offers to kids or different ways.All of you in the world will have to go back to the primitive age when your project is settled.All technology technologies have to be shut down.Power generation has to be stopped.You have to close the factories only if you have to implement them.An unrealistic project or proposal.Ask those who have been agitating to sleep away on the street, away from everything else.And my suggestions are the simplest realistic human welfare.In the present age, all is needed and this age is the economic age.How to create economic development and employment, grow the industry, plant more fruit trees.Some forests in the summer are already in the forests.And to reduce the amount of fruit trees is needed.The fruit will be taken care of all the time.Summer will also reduce the incidence of fire.People will get the benefit or benefit of billions of hectares of land.It was through accepting my project.By planting millions of hectares of fruit on the vacant land in the japan with the emphasis on neighborhoods, you will create employment for many people there.That's it.The following are some of the points:It is high time to change the world just your one good disitions.Climate Action!Climate change is a big issue.It is not a matter of crying to any young child.Anyone who cries will be solved.In this economic age everyone wants to take his business forward.Climate change affects everyone.Not just the poor.Everyone can benefit if they take the right initiative.Good initiative must be taken by all.So that the market place in the world is growing.Because in the present age, everyone wants a share of the profits.Industries such as Industries for Sounds that will accelerate business growth.The middle class will find a path to action.The lower ones will also work in that place.People will benefit from it.Example:1. The oxygen levels will rise.2. The amount of carbon will be reduced.3. The temperature will be minus 1.5% Celsius.4. The sea pressure will be low. Slowly will remain normal.5. The poor people will get food. So that people get nutrition.6. Business will grow in a social way.7. The elites will benefit from the environment and business.8. There will be employment for the middle and lower classes.9. The poor will have vitamin-rich foods.10. That food will continue to be more in the market.11. Ice melts.12. Its usefulness cannot be eliminated.The world will benefit from this for ages.For example, the fruit of the vine will be traded through the fruit. Increasing production will reduce costs and increase income. Prices will decrease. The dried grapes are also sold as food.How many trees, fruits, employment, nutrients will be eliminated, business, etc. only once.Planting only fruit trees has many benefits.Imagine that there are many benefits to such an environment as well as to human beings and nature.Implement.Let the world move forward.From~ Bangladesh............Edit or delete thisLike · Reply · 1m\n",
      "She need not be! We should be sorry for stealing from our children their future!\n",
      "It's our duty to save the future not based on Greta speech. World is full stupid peoples who don't want to save the future. If there is Greta or not , world is totally changed , climate is totally changed. We have to save the planet for future generations\n",
      "Greta beta jab pet bhara rahega aur basic need full fill honge tabhi environmental vichar aayenge ...India me bahuto k pet khali hai ....\n",
      "How dare u \n",
      "Nuclear Power plant?\n",
      "Also less reproductive power for growth. Stop population explosion. Control population!!!\n",
      "Death bodies of my enemies will go P.S. Soul will go punishment place, for take punishment and for give compensation.আমার শত্রুদের দেহ ধ্বংস হবে পৃথিবীতে, আত্মা যাবে সাজা লোকে, ক্ষতি পূরণ দেওয়ার জন্য ও সাজা ভোগ করার জন্য।मेरे शत्रुओं के शरीर पृथ्वी पर नष्ट हो जाएंगे, आत्माओं को दंडित किया जाएगा, लोगों को मुआवजा दिया जाएगा और पीड़ित होगा।I hate anand Margis (progoti sangha, amara bangali), I hate clans (gusthi) of sarkar, roychoudhuri, sen etc. clans.আমি ঘৃণা করি আনান্দ মার্গীদের ও সমর্থকদের (প্রগতি সংঘ, আমরা বাঙালি) এবং ঘৃণা করি সরকার, রায় চৌধুরী, সেন ইত্যাদি গোষ্ঠীগুলিকে।আপন  পিতা-মেয়ে-ছেলের বৌ, দাদা- ভাই-বোন-মামাতো বোন, দাদু-নাতনি, কাকা-ভাইঝি, মামা-ভাগিনী, সঙ্গে যখন চোদাচুদি করে জন্ম দিছিস, বিবাহ কেন করছিস না ?  চোদাচুদির বিবাহের সমতুল, প্রকাশ্যে বিবাহের মত করছিস না কেন ?My enemies are lairs, cheaters, illegal earners, broker of illegal money printers, illegal sexual activities with given to born illegal bad children.Till now I did not find out among them any true speakers, virgin, chaste, real legal earners, good characters, not illegal sexual activities, not cheater aged from 5 to 75 years and will get heaven and can give to  anyone. My enemies prevented, harmed me from my childhood, spoiled education, physical and mental, economic, passport, prevented every way, taken my religious, political and lotteries etc money by with illegally and anonymously.I did not harm anyone from my childhood.Have not contribution improved of country and world of my enemies.My enemies did not done any social works, helped others by with own legal income money.Dishonest, hypocrite, my enemies and their illegal bad children are symbol or icon of devil or evil.I will not do any supports and  I shall not joint with them in future and till now did not need, shall not be need in future in religion and political fields. I am not and was not disciples, not devotee, not support, not worker etc of Anada Marg (with sarkar dynasty), Ramakrishna mission, Bharat Sebashram Songha etc\n",
      "https://www.youtube.com/watch?v=afxWRCWHfiQ\n",
      " How dare You Toilet paper\n",
      "howdareyou\n",
      "This chutiya girl\n",
      "https://www.youtube.com/watch?v=AiDdpjs7ufo\n",
      "Spoil brat\n",
      "https://youtu.be/AN5wNFlwiag\n",
      "Bhakts nowadays r against of environmentalist too\n",
      "Esako khana khilao varana ye mar var kaegi bc roti bohot h esaki sadi krao\n",
      " why are you trying to educate India.... India is a illetrate country ... They can't improve...!!\n",
      "Who the hell she's...\n"
     ]
    },
    {
     "name": "stdin",
     "output_type": "stream",
     "text": [
      "Press Enter after closing the comments for the post... \n"
     ]
    },
    {
     "name": "stdout",
     "output_type": "stream",
     "text": [
      "Data has been saved to india_wind.csv\n"
     ]
    }
   ],
   "source": [
    "# Navigate to the desired page or group\n",
    "driver.get('https://www.facebook.com/search/posts/?q=wind%20power%20India')\n",
    "\n",
    "\n",
    "# Allow some time for the page to load\n",
    "time.sleep(5)\n",
    "\n",
    "# Initialize empty lists to store the extracted posts and comments\n",
    "posts = []\n",
    "comments = []\n",
    "\n",
    "# Loop to scroll the page and collect posts\n",
    "for _ in range(50):\n",
    "    # Scroll the page\n",
    "    driver.execute_script('window.scrollTo(0, document.body.scrollHeight);')\n",
    "    time.sleep(2)  # Adjust sleep time as necessary to allow for page load\n",
    "\n",
    "    # Get the page source\n",
    "    resp = driver.page_source\n",
    "\n",
    "    # Parse the page source with BeautifulSoup\n",
    "    soup = BeautifulSoup(resp, 'html.parser')\n",
    "\n",
    "    # Find the specific divs containing the required information\n",
    "    items = soup.find_all('div', {'class': 'x78zum5 xdt5ytf xz62fqu x16ldp7u'})\n",
    "\n",
    "    # Iterate through each item and extract the desired information\n",
    "    for item in items:\n",
    "        post_content = item.get_text()\n",
    "        if (\"sprawling solar and wind energy\" in post_content.lower() or \"sun shines and wind\" in post_content.lower() or \"30,000 megawatts\" in post_content.lower()) and post_content not in posts:\n",
    "            posts.append(post_content)\n",
    "            if len(posts) == 6:\n",
    "                break\n",
    "    if len(posts) >= 6:\n",
    "        break\n",
    "\n",
    "# Function to scroll and scrape comments for a specific post\n",
    "def scrape_comments():\n",
    "    # Get the page source\n",
    "    resp = driver.page_source\n",
    "\n",
    "    # Parse the page source with BeautifulSoup\n",
    "    soup = BeautifulSoup(resp, 'html.parser')\n",
    "\n",
    "    # Find the specific divs containing the comments\n",
    "    comments_section = soup.find_all('div', {'class': 'xdj266r x11i5rnm xat24cr x1mh8g0r x1vvkbs'})\n",
    "    post_comments = []\n",
    "    for comment in comments_section:\n",
    "        comment_text = comment.get_text()\n",
    "        if comment_text:\n",
    "            post_comments.append(comment_text)\n",
    "\n",
    "    return post_comments\n",
    "\n",
    "# Loop through the collected posts to scrape comments\n",
    "for idx, post in enumerate(posts):\n",
    "    print(f\"Post {idx + 1}: {post}\")\n",
    "    \n",
    "    # Pause the script to allow manual opening of comments\n",
    "    input(\"Press Enter after opening the comments for the post...\")\n",
    "\n",
    "    # Scroll and wait for comments to load\n",
    "    for _ in range(10):\n",
    "        driver.execute_script('window.scrollTo(0, document.body.scrollHeight);')\n",
    "        time.sleep(2)  # Adjust sleep time as necessary to allow for comments to load\n",
    "\n",
    "    # Scrape comments for the current post\n",
    "    post_comments = scrape_comments()\n",
    "    comments.append(post_comments)\n",
    "    print(\"Comments collected. You can now close the comments section.\")\n",
    "\n",
    "    # Print comments for the current post\n",
    "    if post_comments:  # Check if there are comments\n",
    "        print(\"Comments:\")\n",
    "        for comment in post_comments:\n",
    "            print(comment)\n",
    "    else:\n",
    "        print(\"No comments found for this post.\")\n",
    "    \n",
    "    # Print a message to let you know to close the comments\n",
    "    input(\"Press Enter after closing the comments for the post...\")\n",
    "\n",
    "# Close the browser\n",
    "driver.close()\n",
    "\n",
    "# Prepare data for CSV export\n",
    "data = []\n",
    "for idx, content in enumerate(posts):\n",
    "    if idx < len(comments):  # Ensure there's a comment entry\n",
    "        for comment in comments[idx]:\n",
    "            data.append([content, comment])\n",
    "    else:\n",
    "        data.append([content, None])\n",
    "\n",
    "# Create a DataFrame and save it to CSV\n",
    "df = pd.DataFrame(data, columns=['Post', 'Comment'])\n",
    "df.to_csv('india_wind.csv', index=False)\n",
    "\n",
    "print(\"Data has been saved to india_wind.csv\")\n"
   ]
  },
  {
   "cell_type": "code",
   "execution_count": 54,
   "id": "2771c131-5512-4d73-b829-a583514e8fee",
   "metadata": {},
   "outputs": [
    {
     "name": "stdin",
     "output_type": "stream",
     "text": [
      "Press Enter after solving the CAPTCHA... \n"
     ]
    },
    {
     "name": "stdout",
     "output_type": "stream",
     "text": [
      "Post 1: India will need more than US$300 billion in investment in order to hit its target of producing 500 gigawatts of renewable energy capacity by 2030.\n"
     ]
    },
    {
     "name": "stdin",
     "output_type": "stream",
     "text": [
      "Press Enter after opening the comments for the post... \n"
     ]
    },
    {
     "name": "stdout",
     "output_type": "stream",
     "text": [
      "Comments collected. You can now close the comments section.\n",
      "Comments:\n",
      "Premium Economy Class needs more than $300 billion....to have access to greener energy...\n",
      "Coal Mining Keeps them going\n",
      "Dunning Kruger syndrome strikes again.\n",
      "ABNN spend $$ on rocket to the moon Instead of long term benefits of the population.\n",
      "spend US$300 billion on birth control better lah............less people = less problems............exporting their people (problems) abroad not sustainable ....\n",
      "Get Funding From Full the top 10 richest in India:\n"
     ]
    },
    {
     "name": "stdin",
     "output_type": "stream",
     "text": [
      "Press Enter after closing the comments for the post... \n"
     ]
    },
    {
     "name": "stdout",
     "output_type": "stream",
     "text": [
      "Post 2: The govt had set an initial target of installing 175 GW of renewable energy capacity, including wind, solar, and hydro, by 2022. It later raised this target to 450 GW by 2030.\n"
     ]
    },
    {
     "name": "stdin",
     "output_type": "stream",
     "text": [
      "Press Enter after opening the comments for the post... \n"
     ]
    },
    {
     "name": "stdout",
     "output_type": "stream",
     "text": [
      "Comments collected. You can now close the comments section.\n",
      "Comments:\n",
      "No mean task. It appeared very difficult in 2016 but PM Modi has a strong resolve.\n",
      "Government is making tall claims but don't have money to pay subsidies to EPC companies who are dying a natural death. Moreover they are killing the solar industry with the concept of gross metering which is favouring only the polluting Discom companies. Less said the better.\n",
      "Government in this country achieve all it's targets! Why the effects are not felt on the ground!!!\n",
      "Hydro is not really renewable since there is less rainfall compared to consumption.\n",
      "Is this enough for such large country\n",
      "We don’t see it in ground. I have setup a roof top solar in my resident. But cannot get a net metering to export extra power that is getting generated. \n",
      "A lot of developement work done in last few years but the Modi-haters cant see those developements .\n",
      "Great India, a couple of years again and we would be the world beater in all aspect of things, especially in cricket.\n",
      "WIND NOT TO DO ANY GOOD IT WAS DECLARED FAILURE BY MIGRANT RULERS  WHO ARE 3% IN POPULATION , BUT DROHI  JADIE IN INDIA , HATE THIS ENERGY SOURCE USED TO EMPOWER  FARMERS OF TMILAGAM !\n",
      "Ye sab karne se kya hoga... desh ka musalman dara hua hai.... uske liye kuchh karo....\n",
      "Bloody fools how much is actual generation\n",
      "Ye post to Modi ki tareef ka hai.... mudi must resign wala koi post dalo\n",
      "Government must think seriously in giving to contractors for maintenance & defects & liability period for minimum 10 years. \n",
      "One way to plan our future and that of our children is Investment, I Invest in cryptocurrency and I earn from home, I started small and ever since I started Investing, I have been receiving my profit smoothly without any problem. Don't just invest your money in anyone hands, invest with someone trusted and experience in cryptocurrency trading..click on the name and contact Mr Abraham Hartl\n",
      "Tamil Nadu is the only state to deinsentivise solar. Firstly the trouble the people thinking of solar by not giving a proper installation procedure. Then there is the payment of Rs2.08 for the surplus power fed to the grid as against their charges of Rs 5 for larger domestic consumers.\n",
      "Those who doubt the veracity of the claims by government achievements, make an application to government under right to information to provide details of the projects completed.  And compare whether they facts or not.\n",
      "Peoples electricity bills are only doubling\n",
      "Great news  \n",
      "Meanwhile Pak is installing Taliban and is reverting back to medieval sadist age \n",
      "To provide electricity and benefit for 1.3 billion citizens is not only difficult but also impossible. India is working consistently harder to develop  nation and its values. Thank you all for your hard work and contribution.\n",
      "clean energy\n",
      "Good work modi government \n",
      "Great progress on solar energy \n",
      "Good\n",
      "Gd job modi government\n",
      "World Congress on Climate Change and Ecosystem (Climate Change 2021) scheduled on October 06-07, 2021 at an on-stream event.For more information about our webinar, visit: https://climate.conferenceseries.com/For any Queries and concern what’s app us at +447481355586\n"
     ]
    },
    {
     "name": "stdin",
     "output_type": "stream",
     "text": [
      "Press Enter after closing the comments for the post... \n"
     ]
    },
    {
     "name": "stdout",
     "output_type": "stream",
     "text": [
      "Post 3: India has installed 100 GW renewable energy capacity, inching closer to target, govt announcesThe govt had set an initial target of installing 175 GW of renewable energy capacity, including wind, solar, and hydro, by 2022. It later raised this target to 450 GW by 2030.\n"
     ]
    },
    {
     "name": "stdin",
     "output_type": "stream",
     "text": [
      "Press Enter after opening the comments for the post... \n"
     ]
    },
    {
     "name": "stdout",
     "output_type": "stream",
     "text": [
      "Comments collected. You can now close the comments section.\n",
      "Comments:\n",
      "No mean task. It appeared very difficult in 2016 but PM Modi has a strong resolve.\n",
      "Government is making tall claims but don't have money to pay subsidies to EPC companies who are dying a natural death. Moreover they are killing the solar industry with the concept of gross metering which is favouring only the polluting Discom companies. Less said the better.\n",
      "Government in this country achieve all it's targets! Why the effects are not felt on the ground!!!\n",
      "Hydro is not really renewable since there is less rainfall compared to consumption.\n",
      "Is this enough for such large country\n",
      "We don’t see it in ground. I have setup a roof top solar in my resident. But cannot get a net metering to export extra power that is getting generated. \n",
      "A lot of developement work done in last few years but the Modi-haters cant see those developements .\n",
      "Great India, a couple of years again and we would be the world beater in all aspect of things, especially in cricket.\n",
      "WIND NOT TO DO ANY GOOD IT WAS DECLARED FAILURE BY MIGRANT RULERS  WHO ARE 3% IN POPULATION , BUT DROHI  JADIE IN INDIA , HATE THIS ENERGY SOURCE USED TO EMPOWER  FARMERS OF TMILAGAM !\n",
      "Bloody fools how much is actual generation\n",
      "Government must think seriously in giving to contractors for maintenance & defects & liability period for minimum 10 years. \n",
      "One way to plan our future and that of our children is Investment, I Invest in cryptocurrency and I earn from home, I started small and ever since I started Investing, I have been receiving my profit smoothly without any problem. Don't just invest your money in anyone hands, invest with someone trusted and experience in cryptocurrency trading..click on the name and contact Mr Abraham Hartl\n",
      "Tamil Nadu is the only state to deinsentivise solar. Firstly the trouble the people thinking of solar by not giving a proper installation procedure. Then there is the payment of Rs2.08 for the surplus power fed to the grid as against their charges of Rs 5 for larger domestic consumers.\n",
      "Those who doubt the veracity of the claims by government achievements, make an application to government under right to information to provide details of the projects completed.  And compare whether they facts or not.\n",
      "Peoples electricity bills are only doubling\n",
      "Great news  \n",
      "Meanwhile Pak is installing Taliban and is reverting back to medieval sadist age \n",
      "To provide electricity and benefit for 1.3 billion citizens is not only difficult but also impossible. India is working consistently harder to develop  nation and its values. Thank you all for your hard work and contribution.\n",
      "clean energy\n",
      "Good work modi government \n",
      "Great progress on solar energy \n",
      "Good\n",
      "World Congress on Climate Change and Ecosystem (Climate Change 2021) scheduled on October 06-07, 2021 at an on-stream event.For more information about our webinar, visit: https://climate.conferenceseries.com/For any Queries and concern what’s app us at +447481355586\n"
     ]
    },
    {
     "name": "stdin",
     "output_type": "stream",
     "text": [
      "Press Enter after closing the comments for the post... \n"
     ]
    },
    {
     "name": "stdout",
     "output_type": "stream",
     "text": [
      "Post 4: “No new coal-fired power stations were likely to be required to meet Indian energy needs until at least 2027, raising further doubts over the viability of Indian mining investments overseas, such as the energy company Adani’s Carmichael mine in Queensland, the largest coalmine planned to be built in Australia.\"\n"
     ]
    },
    {
     "name": "stdin",
     "output_type": "stream",
     "text": [
      "Press Enter after opening the comments for the post... \n"
     ]
    },
    {
     "name": "stdout",
     "output_type": "stream",
     "text": [
      "Comments collected. You can now close the comments section.\n",
      "Comments:\n",
      "So what the hell is Adani doing?  It just doesn't make sense, unless this sleazy and corrupt government has offered a deal too good to refuse.\n",
      "i think you Greens should start checking our Constitution, on whether The people have a right to clean air and water. because all you are doing right now is NOTHING, and our water is contaminated and our Pollution is getting worse.\n",
      "India buys 8 other minerals which we mine in Australia but you don't  have a problem with the other minerals. I think the greens have a coal phobia.  Coal and it by products is use in 17 everyday products . Greens you have a coal phobia\n",
      "Can it! any way possible. We should not be dealing with shady foreign companies.  The tax havens have already been discovered, the mine will be automated, ... just how much of a benefit will this mine be to Australians?\n",
      "They're also investing in research, development, and manufacture of the next generation of solar panels; flexible, printable, see-through; curved so they can be used as building panels, roof tiles, and vehicle panels.Meanwhile the old parties keep giving away free money & buttcheek kisses to the fossil fools.\n",
      "Excellent. So why are we considering allowing Adani to create a new mega coal mine in Queensland, Australia?\n",
      "The ABC is beating up old news to further the global anti-coal war against Indian miner Adani.Adani has yet to fund the ­Carmichael project but it is getting closer, with conditional approval for $1 billion in government assistance for its needed rail line. If it goes ahead, the line will open the Galilee Basin and with it a big new minerals province in Queensland.The environmental and political stakes are high, as shown by a series of ABC reports this week that prosecute the moral case against Adani.Information in the latest ABC “exclusive” revelations is neither new nor confirmed.India’s Customs Department has been investigating price-­rigging allegations against 40 companies for more than two years. News that Adani was asked to ­explain itself was widely reported in India more than three months ago. Adani’s use of tax havens has been a topic of intense interest and speculation for more than two years.The Greens have called previously for a Senate investigation and the issue has been raised in earlier Environment Department deliberations.As Federal Resources Minister Matt Canavan has said, Australian authorities have long been satisfied the corporate structures are legal. As for the price-rigging claims, a presumption of innocence prevails.The allegation is that Adani manipulated the declared price of imported coal to the detriment of Indian power consumers. No findings have been made against Adani, which denies the claims.Canavan says the issue of whether Adani will get financial assistance for the rail infrastructure from the Northern Australia Infrastructure Facility remains a matter for the independent board.Green groups claim the board is stacked by mining interests, and Greens spokesman Adam Bandt has accused Canavan of becoming “minister for Adani”. Bandt’s main objective for doing so was to ­defend the ABC.\n",
      "They're not going to open - they're just going to offshore the funds, and walk away with 1 billion from the Commonwealth, and another from Queensland.  Where is the ICAC?\n",
      "While Adani drags billions out of the LNP/ALP suckers....\n",
      "It makes Australia look pathetic doesn't it.\n",
      "Australia needs to bribe 1 billion to build this when it costs only $5oo million.\n",
      "Adani: Stick to solar !\n",
      "So.... why are we giving free money to adani?\n",
      "white polluting elephant funded by taxpayers\n",
      "Senator have a look in the mirror\n",
      "They will not need Adani coal for this.\n",
      "https://medium.com/.../trump-putin-and-the-pipelines-to...\n",
      "Diversify! Australia\n"
     ]
    },
    {
     "name": "stdin",
     "output_type": "stream",
     "text": [
      "Press Enter after closing the comments for the post... \n"
     ]
    },
    {
     "name": "stdout",
     "output_type": "stream",
     "text": [
      "Post 5: India is well on track to meet the renewable energy target of 175 GW (gigawatt) by 2022 and will raise it to 450 GW by 2030 with a view to ensuring a low carbon footprint as the world’s third largest oil consumer drives global energy demand, Prime Minister Narendra Modi said on Monday.\n"
     ]
    },
    {
     "name": "stdin",
     "output_type": "stream",
     "text": [
      "Press Enter after opening the comments for the post... \n"
     ]
    },
    {
     "name": "stdout",
     "output_type": "stream",
     "text": [
      "Comments collected. You can now close the comments section.\n",
      "Comments:\n",
      "You could no more fool people, you failed India in every aspects, govt policies are anti-farmer and anti-people. No mention of MSP in new bill, tacitly they promoting their corporate friends who gave so much donation to BJP through electoral bond. Modi betrayed us all. Sold out all profit making PSUs.  Destroyed economy completely, 12 crores lost jobs, no new jobs, business houses shut down, dividing us to Hindu Muslim and winning election looting citizen, poor farmers, labours.\n",
      "Mr. PM please stop this gyan. Look at our economy condition which is worst ever. Middle class life is hit very badly. We lost our job and facing severe financial crises. It's almost 6 months since the lock-down. Your Govt has no revival plan or address financial issues faced by lower class people. Overall you have failed in all departments. Please shut the shop.\n",
      "Very good. We need to be 100 percent renewable before electric cars start making sense. \n",
      "2020 he said India will be super power and we are now super down. We are below our neighbours and they are using India super power \n",
      "What about economic goals?What about rape victim justice goals?\n",
      "Sir your age is not permitting you to take tough decisions. Better take retirement and install some young men in that post. When you can't tackle a police commissioner in Mumbai , should we believe you can confront XI . Kindly dont destroy the hindu wave.\n",
      "Your Government Economy GDP is going low day by day and unemployment youth is increasing day by day .....\n",
      "All his plans and proposals are always in future tense. He still believes he can fool us.\n",
      "Yes, ur vision is amazing. Sure it will be\n",
      "Now, time has came to do some explosion(Great work), TOI can check the net worth of PM and expose him ....\n",
      "Not possible by 2022. At present we are 90GW..\n",
      "But why is the air so polluted?\n",
      "India was on track for 5 trillion economy, 20 lakh crore aatmanirbhar bharat and many more such things also... Look where we have landed... Bhashan dene main aur kaam karne main farakh hota hain... \n",
      "Matlab target he 2-3 saal baad ke ya 10 saal baad ke set kar do taki janta bhul jaye\n",
      "Ab to aisa ho gya hai ki agar sach bhi bolra hona to bhi jhoot hi lagega\n",
      "Bhakts can accept your words.. In 2014, to save foreign exchange, you said that we should reduce the import of crude oil by half of requirements in the previous years.. But the fact.. We are unable to reduce and increased now.. After six years, new tasks now.. OK. OK.. try your best.\n",
      "Jhoot is a secrets of my energy... \n",
      "Petrol diesel price,gas subsidy,rice onion,oil price essential good price,fair of passengers etc....many are left\n",
      "Jo b hai toda #Dombivli bhj do.\n",
      "By 2050 .... India will be energy supplier to world  \n",
      "lies and lies what one can expect from this original lier\n",
      "\"From 5trillion economy to 175 GW Green Energy Goal\" Modi Hai To Mumkin Hai\n",
      "You can fool some of the people all the time but you cannot fool all the people all the time! Abraham Lincoln\n",
      "Facebook. I'm not able to find unlike button.. I want it thousand times\n",
      "Keep throwing long way, longer way...\n",
      "Long leave for IT cell i guess \n",
      "Received 15 lakhs?\n",
      "लालटेन में पढ़ने वाले आफीसर बन गए,\n",
      "20 to survive karle pehle...\n",
      "You took india on this track !! Modi hai toh mumkin haii !! Make more fool to Blind bhakt \n",
      "mitrooooooooooooooooooooooooo..naya leader  dhund loooooooooooooooo...ye satyagaya hai....jaldi nikalo  nahi tho bjp ko leke  dubega   \n",
      "Like your smart city, bullet train and 5 trillion economy....\n",
      "Another day.. another  Hindu girl  become victim of love Jihad... #NikitaTomar\n",
      "Yeh jhattu sirf UP wala ko ch**ya bana sakta hai.\n",
      "The Times of Indiahow much did they pay you to promote good things about Modi? \n",
      "Good\n",
      "Patanjali Ghee\n",
      "Turbine theory\n",
      "INDIA is well on track ... but INDIANS aren’t ... modi govt is doing well , INDIANS might soon go extinct   . \n",
      "Congratulations Modi ji....\n",
      "Nitish Ek aur Jumla \n",
      "Good Job Modiji... !! Love you 3000\n",
      "It's huge\n",
      "https://thewire.in/.../india-democracy-shrinking-media-v...\n",
      "Yeh kitna fenkta hai bro. M\n",
      "#BREAKING attack once again on children in #Pakistan's Peshawar City.\n",
      "https://youtu.be/2WPXLcMfjwY\n"
     ]
    },
    {
     "name": "stdin",
     "output_type": "stream",
     "text": [
      "Press Enter after closing the comments for the post... \n"
     ]
    },
    {
     "name": "stdout",
     "output_type": "stream",
     "text": [
      "Post 6: India on track to meet 175GW green energy goal by 2022: PMIndia News: NEW DELHI: India is well on track to meet the renewable energy target of 175 GW (gigawatt) by 2022 and will raise it to 450 GW by 2030 with a view to .\n"
     ]
    },
    {
     "name": "stdin",
     "output_type": "stream",
     "text": [
      "Press Enter after opening the comments for the post... \n"
     ]
    },
    {
     "name": "stdout",
     "output_type": "stream",
     "text": [
      "Comments collected. You can now close the comments section.\n",
      "Comments:\n",
      "You could no more fool people, you failed India in every aspects, govt policies are anti-farmer and anti-people. No mention of MSP in new bill, tacitly they promoting their corporate friends who gave so much donation to BJP through electoral bond. Modi betrayed us all. Sold out all profit making PSUs.  Destroyed economy completely, 12 crores lost jobs, no new jobs, business houses shut down, dividing us to Hindu Muslim and winning election looting citizen, poor farmers, labours.\n",
      "Mr. PM please stop this gyan. Look at our economy condition which is worst ever. Middle class life is hit very badly. We lost our job and facing severe financial crises. It's almost 6 months since the lock-down. Your Govt has no revival plan or address financial issues faced by lower class people. Overall you have failed in all departments. Please shut the shop.\n",
      "Very good. We need to be 100 percent renewable before electric cars start making sense. \n",
      "2020 he said India will be super power and we are now super down. We are below our neighbours and they are using India super power \n",
      "What about economic goals?What about rape victim justice goals?\n",
      "Sir your age is not permitting you to take tough decisions. Better take retirement and install some young men in that post. When you can't tackle a police commissioner in Mumbai , should we believe you can confront XI . Kindly dont destroy the hindu wave.\n",
      "Your Government Economy GDP is going low day by day and unemployment youth is increasing day by day .....\n",
      "All his plans and proposals are always in future tense. He still believes he can fool us.\n",
      "Yes, ur vision is amazing. Sure it will be\n",
      "Now, time has came to do some explosion(Great work), TOI can check the net worth of PM and expose him ....\n",
      "Not possible by 2022. At present we are 90GW..\n",
      "But why is the air so polluted?\n",
      "India was on track for 5 trillion economy, 20 lakh crore aatmanirbhar bharat and many more such things also... Look where we have landed... Bhashan dene main aur kaam karne main farakh hota hain... \n",
      "Matlab target he 2-3 saal baad ke ya 10 saal baad ke set kar do taki janta bhul jaye\n",
      "Ab to aisa ho gya hai ki agar sach bhi bolra hona to bhi jhoot hi lagega\n",
      "Bhakts can accept your words.. In 2014, to save foreign exchange, you said that we should reduce the import of crude oil by half of requirements in the previous years.. But the fact.. We are unable to reduce and increased now.. After six years, new tasks now.. OK. OK.. try your best.\n",
      "Jhoot is a secrets of my energy... \n",
      "Petrol diesel price,gas subsidy,rice onion,oil price essential good price,fair of passengers etc....many are left\n",
      "Jo b hai toda #Dombivli bhj do.\n",
      "By 2050 .... India will be energy supplier to world  \n",
      "lies and lies what one can expect from this original lier\n",
      "\"From 5trillion economy to 175 GW Green Energy Goal\" Modi Hai To Mumkin Hai\n",
      "You can fool some of the people all the time but you cannot fool all the people all the time! Abraham Lincoln\n",
      "Facebook. I'm not able to find unlike button.. I want it thousand times\n",
      "Keep throwing long way, longer way...\n",
      "Long leave for IT cell i guess \n",
      "Received 15 lakhs?\n",
      "लालटेन में पढ़ने वाले आफीसर बन गए,\n",
      "20 to survive karle pehle...\n",
      "You took india on this track !! Modi hai toh mumkin haii !! Make more fool to Blind bhakt \n",
      "mitrooooooooooooooooooooooooo..naya leader  dhund loooooooooooooooo...ye satyagaya hai....jaldi nikalo  nahi tho bjp ko leke  dubega   \n",
      "Like your smart city, bullet train and 5 trillion economy....\n",
      "Another day.. another  Hindu girl  become victim of love Jihad... #NikitaTomar\n",
      "Yeh jhattu sirf UP wala ko ch**ya bana sakta hai.\n",
      "The Times of Indiahow much did they pay you to promote good things about Modi? \n",
      "Good\n",
      "Patanjali Ghee\n",
      "Turbine theory\n",
      "INDIA is well on track ... but INDIANS aren’t ... modi govt is doing well , INDIANS might soon go extinct   . \n",
      "Congratulations Modi ji....\n",
      "Nitish Ek aur Jumla \n",
      "Good Job Modiji... !! Love you 3000\n",
      "It's huge\n",
      "https://thewire.in/.../india-democracy-shrinking-media-v...\n",
      "Yeh kitna fenkta hai bro. M\n",
      "#BREAKING attack once again on children in #Pakistan's Peshawar City.\n",
      "https://youtu.be/2WPXLcMfjwY\n"
     ]
    },
    {
     "name": "stdin",
     "output_type": "stream",
     "text": [
      "Press Enter after closing the comments for the post... \n"
     ]
    },
    {
     "name": "stdout",
     "output_type": "stream",
     "text": [
      "Data has been saved to india_renewable.csv\n"
     ]
    }
   ],
   "source": [
    "# URL of the target Facebook page\n",
    "target_url = \"https://www.facebook.com\"\n",
    "\n",
    "# Initialize the Chrome WebDriver\n",
    "driver = webdriver.Chrome()\n",
    "\n",
    "# Navigate to Facebook and log in\n",
    "driver.get(target_url)\n",
    "username = driver.find_element(By.ID, 'email')\n",
    "password = driver.find_element(By.ID, 'pass')\n",
    "username.send_keys('vihan.v68@gmail.com')\n",
    "password.send_keys('0772889994')\n",
    "password.send_keys(Keys.RETURN)\n",
    "\n",
    "# Allow some time for the login to complete and CAPTCHA to appear\n",
    "time.sleep(5)\n",
    "\n",
    "# Wait for manual CAPTCHA solving\n",
    "input(\"Press Enter after solving the CAPTCHA...\")\n",
    "\n",
    "# Navigate to the desired page or group\n",
    "driver.get('https://www.facebook.com/search/posts/?q=renewable%20energy%20target%20india')\n",
    "\n",
    "# Allow some time for the page to load\n",
    "time.sleep(5)\n",
    "\n",
    "# Initialize empty lists to store the extracted posts and comments\n",
    "posts = []\n",
    "comments = []\n",
    "\n",
    "# Loop to scroll the page and collect posts\n",
    "for _ in range(50):\n",
    "    # Scroll the page\n",
    "    driver.execute_script('window.scrollTo(0, document.body.scrollHeight);')\n",
    "    time.sleep(2)  # Adjust sleep time as necessary to allow for page load\n",
    "\n",
    "    # Get the page source\n",
    "    resp = driver.page_source\n",
    "\n",
    "    # Parse the page source with BeautifulSoup\n",
    "    soup = BeautifulSoup(resp, 'html.parser')\n",
    "\n",
    "    # Find the specific divs containing the required information\n",
    "    items = soup.find_all('div', {'class': 'x78zum5 xdt5ytf xz62fqu x16ldp7u'})\n",
    "\n",
    "    # Iterate through each item and extract the desired information\n",
    "    for item in items:\n",
    "        post_content = item.get_text()\n",
    "        if (\"on track to meet\" in post_content.lower() or \"power stations were\" in post_content.lower() or \"initial target\" in post_content.lower() or \"need more than\" in post_content.lower()) and post_content not in posts:\n",
    "            posts.append(post_content)\n",
    "            if len(posts) == 6:\n",
    "                break\n",
    "    if len(posts) >= 6:\n",
    "        break\n",
    "\n",
    "# Function to scroll and scrape comments for a specific post\n",
    "def scrape_comments():\n",
    "    # Get the page source\n",
    "    resp = driver.page_source\n",
    "\n",
    "    # Parse the page source with BeautifulSoup\n",
    "    soup = BeautifulSoup(resp, 'html.parser')\n",
    "\n",
    "    # Find the specific divs containing the comments\n",
    "    comments_section = soup.find_all('div', {'class': 'xdj266r x11i5rnm xat24cr x1mh8g0r x1vvkbs'})\n",
    "    post_comments = []\n",
    "    for comment in comments_section:\n",
    "        comment_text = comment.get_text()\n",
    "        if comment_text:\n",
    "            post_comments.append(comment_text)\n",
    "\n",
    "    return post_comments\n",
    "\n",
    "# Loop through the collected posts to scrape comments\n",
    "for idx, post in enumerate(posts):\n",
    "    print(f\"Post {idx + 1}: {post}\")\n",
    "    \n",
    "    # Pause the script to allow manual opening of comments\n",
    "    input(\"Press Enter after opening the comments for the post...\")\n",
    "\n",
    "    # Scroll and wait for comments to load\n",
    "    for _ in range(10):\n",
    "        driver.execute_script('window.scrollTo(0, document.body.scrollHeight);')\n",
    "        time.sleep(2)  # Adjust sleep time as necessary to allow for comments to load\n",
    "\n",
    "    # Scrape comments for the current post\n",
    "    post_comments = scrape_comments()\n",
    "    comments.append(post_comments)\n",
    "    print(\"Comments collected. You can now close the comments section.\")\n",
    "\n",
    "    # Print comments for the current post\n",
    "    if post_comments:  # Check if there are comments\n",
    "        print(\"Comments:\")\n",
    "        for comment in post_comments:\n",
    "            print(comment)\n",
    "    else:\n",
    "        print(\"No comments found for this post.\")\n",
    "    \n",
    "    # Print a message to let you know to close the comments\n",
    "    input(\"Press Enter after closing the comments for the post...\")\n",
    "\n",
    "# Close the browser\n",
    "driver.close()\n",
    "\n",
    "# Prepare data for CSV export\n",
    "data = []\n",
    "for idx, content in enumerate(posts):\n",
    "    if idx < len(comments):  # Ensure there's a comment entry\n",
    "        for comment in comments[idx]:\n",
    "            data.append([content, comment])\n",
    "    else:\n",
    "        data.append([content, None])\n",
    "\n",
    "# Create a DataFrame and save it to CSV\n",
    "df = pd.DataFrame(data, columns=['Post', 'Comment'])\n",
    "df.to_csv('india_renewable.csv', index=False)\n",
    "\n",
    "print(\"Data has been saved to india_renewable.csv\")\n"
   ]
  },
  {
   "cell_type": "code",
   "execution_count": null,
   "id": "903c24e4-31b6-42fd-97e8-bc1cab6127bc",
   "metadata": {},
   "outputs": [],
   "source": []
  }
 ],
 "metadata": {
  "kernelspec": {
   "display_name": "Python 3 (ipykernel)",
   "language": "python",
   "name": "python3"
  },
  "language_info": {
   "codemirror_mode": {
    "name": "ipython",
    "version": 3
   },
   "file_extension": ".py",
   "mimetype": "text/x-python",
   "name": "python",
   "nbconvert_exporter": "python",
   "pygments_lexer": "ipython3",
   "version": "3.11.5"
  }
 },
 "nbformat": 4,
 "nbformat_minor": 5
}
